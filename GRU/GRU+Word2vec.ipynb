{
  "nbformat": 4,
  "nbformat_minor": 0,
  "metadata": {
    "colab": {
      "name": "GRU+Word2vec.ipynb",
      "provenance": [],
      "collapsed_sections": [],
      "authorship_tag": "ABX9TyN5mkJ7Iyimh2giEiSHHujJ",
      "include_colab_link": true
    },
    "kernelspec": {
      "name": "python3",
      "display_name": "Python 3"
    },
    "language_info": {
      "name": "python"
    }
  },
  "cells": [
    {
      "cell_type": "markdown",
      "metadata": {
        "id": "view-in-github",
        "colab_type": "text"
      },
      "source": [
        "<a href=\"https://colab.research.google.com/github/swardiantara/fp-dm-2021/blob/main/GRU%2BWord2vec.ipynb\" target=\"_parent\"><img src=\"https://colab.research.google.com/assets/colab-badge.svg\" alt=\"Open In Colab\"/></a>"
      ]
    },
    {
      "cell_type": "code",
      "metadata": {
        "colab": {
          "base_uri": "https://localhost:8080/"
        },
        "id": "bf4q85Ay3Pu0",
        "outputId": "2b664299-deb3-4957-9a0e-0ab8c6e90fc4"
      },
      "source": [
        "from google.colab import drive\n",
        "drive._mount('/content/drive')"
      ],
      "execution_count": null,
      "outputs": [
        {
          "output_type": "stream",
          "name": "stdout",
          "text": [
            "Mounted at /content/drive\n"
          ]
        }
      ]
    },
    {
      "cell_type": "code",
      "metadata": {
        "id": "nEt-Rwmh6lEK"
      },
      "source": [
        "import pandas as pd"
      ],
      "execution_count": null,
      "outputs": []
    },
    {
      "cell_type": "code",
      "metadata": {
        "id": "nWMmJQ6_7VTX"
      },
      "source": [
        "data_traindf = pd.read_csv('/content/drive/MyDrive/Colab Notebooks/DATMIN/FP/train.csv')\n",
        "data_testdf = pd.read_csv('/content/drive/MyDrive/Colab Notebooks/DATMIN/FP/test.csv')\n",
        "data_merged = pd.read_csv('/content/drive/MyDrive/Colab Notebooks/DATMIN/FP/merged.csv')"
      ],
      "execution_count": null,
      "outputs": []
    },
    {
      "cell_type": "code",
      "metadata": {
        "colab": {
          "base_uri": "https://localhost:8080/",
          "height": 206
        },
        "id": "SdVoYO-a8Es_",
        "outputId": "7720c2af-020a-4ff3-ed60-cfa4193b360c"
      },
      "source": [
        "data_traindf.head()"
      ],
      "execution_count": null,
      "outputs": [
        {
          "output_type": "execute_result",
          "data": {
            "text/html": [
              "<div>\n",
              "<style scoped>\n",
              "    .dataframe tbody tr th:only-of-type {\n",
              "        vertical-align: middle;\n",
              "    }\n",
              "\n",
              "    .dataframe tbody tr th {\n",
              "        vertical-align: top;\n",
              "    }\n",
              "\n",
              "    .dataframe thead th {\n",
              "        text-align: right;\n",
              "    }\n",
              "</style>\n",
              "<table border=\"1\" class=\"dataframe\">\n",
              "  <thead>\n",
              "    <tr style=\"text-align: right;\">\n",
              "      <th></th>\n",
              "      <th>sentence #</th>\n",
              "      <th>word</th>\n",
              "      <th>pos</th>\n",
              "      <th>tag</th>\n",
              "      <th>word_idx</th>\n",
              "      <th>tag_idx</th>\n",
              "    </tr>\n",
              "  </thead>\n",
              "  <tbody>\n",
              "    <tr>\n",
              "      <th>0</th>\n",
              "      <td>1</td>\n",
              "      <td>Berikut</td>\n",
              "      <td>PROPN</td>\n",
              "      <td>O</td>\n",
              "      <td>805</td>\n",
              "      <td>4</td>\n",
              "    </tr>\n",
              "    <tr>\n",
              "      <th>1</th>\n",
              "      <td>1</td>\n",
              "      <td>adalah</td>\n",
              "      <td>AUX</td>\n",
              "      <td>O</td>\n",
              "      <td>5456</td>\n",
              "      <td>4</td>\n",
              "    </tr>\n",
              "    <tr>\n",
              "      <th>2</th>\n",
              "      <td>1</td>\n",
              "      <td>tujuh</td>\n",
              "      <td>NUM</td>\n",
              "      <td>O</td>\n",
              "      <td>3291</td>\n",
              "      <td>4</td>\n",
              "    </tr>\n",
              "    <tr>\n",
              "      <th>3</th>\n",
              "      <td>1</td>\n",
              "      <td>kota</td>\n",
              "      <td>NOUN</td>\n",
              "      <td>O</td>\n",
              "      <td>7522</td>\n",
              "      <td>4</td>\n",
              "    </tr>\n",
              "    <tr>\n",
              "      <th>4</th>\n",
              "      <td>1</td>\n",
              "      <td>di</td>\n",
              "      <td>ADP</td>\n",
              "      <td>O</td>\n",
              "      <td>2096</td>\n",
              "      <td>4</td>\n",
              "    </tr>\n",
              "  </tbody>\n",
              "</table>\n",
              "</div>"
            ],
            "text/plain": [
              "   sentence #     word    pos tag  word_idx  tag_idx\n",
              "0           1  Berikut  PROPN   O       805        4\n",
              "1           1   adalah    AUX   O      5456        4\n",
              "2           1    tujuh    NUM   O      3291        4\n",
              "3           1     kota   NOUN   O      7522        4\n",
              "4           1       di    ADP   O      2096        4"
            ]
          },
          "metadata": {},
          "execution_count": 4
        }
      ]
    },
    {
      "cell_type": "code",
      "metadata": {
        "colab": {
          "base_uri": "https://localhost:8080/",
          "height": 206
        },
        "id": "O3ArmiFq8HxX",
        "outputId": "6681f83c-c7b8-491d-c796-80bf5fccd346"
      },
      "source": [
        "data_testdf.head()"
      ],
      "execution_count": null,
      "outputs": [
        {
          "output_type": "execute_result",
          "data": {
            "text/html": [
              "<div>\n",
              "<style scoped>\n",
              "    .dataframe tbody tr th:only-of-type {\n",
              "        vertical-align: middle;\n",
              "    }\n",
              "\n",
              "    .dataframe tbody tr th {\n",
              "        vertical-align: top;\n",
              "    }\n",
              "\n",
              "    .dataframe thead th {\n",
              "        text-align: right;\n",
              "    }\n",
              "</style>\n",
              "<table border=\"1\" class=\"dataframe\">\n",
              "  <thead>\n",
              "    <tr style=\"text-align: right;\">\n",
              "      <th></th>\n",
              "      <th>sentence #</th>\n",
              "      <th>word</th>\n",
              "      <th>pos</th>\n",
              "      <th>tag</th>\n",
              "      <th>word_idx</th>\n",
              "      <th>tag_idx</th>\n",
              "    </tr>\n",
              "  </thead>\n",
              "  <tbody>\n",
              "    <tr>\n",
              "      <th>0</th>\n",
              "      <td>1</td>\n",
              "      <td>Presiden</td>\n",
              "      <td>PROPN</td>\n",
              "      <td>O</td>\n",
              "      <td>79</td>\n",
              "      <td>4</td>\n",
              "    </tr>\n",
              "    <tr>\n",
              "      <th>1</th>\n",
              "      <td>1</td>\n",
              "      <td>terpilih</td>\n",
              "      <td>VERB</td>\n",
              "      <td>O</td>\n",
              "      <td>7980</td>\n",
              "      <td>4</td>\n",
              "    </tr>\n",
              "    <tr>\n",
              "      <th>2</th>\n",
              "      <td>1</td>\n",
              "      <td>Joko</td>\n",
              "      <td>PROPN</td>\n",
              "      <td>B-PER</td>\n",
              "      <td>2526</td>\n",
              "      <td>2</td>\n",
              "    </tr>\n",
              "    <tr>\n",
              "      <th>3</th>\n",
              "      <td>1</td>\n",
              "      <td>Widodo</td>\n",
              "      <td>PROPN</td>\n",
              "      <td>I-PER</td>\n",
              "      <td>7595</td>\n",
              "      <td>5</td>\n",
              "    </tr>\n",
              "    <tr>\n",
              "      <th>4</th>\n",
              "      <td>1</td>\n",
              "      <td>mengungkapkan</td>\n",
              "      <td>VERB</td>\n",
              "      <td>O</td>\n",
              "      <td>3199</td>\n",
              "      <td>4</td>\n",
              "    </tr>\n",
              "  </tbody>\n",
              "</table>\n",
              "</div>"
            ],
            "text/plain": [
              "   sentence #           word    pos    tag  word_idx  tag_idx\n",
              "0           1       Presiden  PROPN      O        79        4\n",
              "1           1       terpilih   VERB      O      7980        4\n",
              "2           1           Joko  PROPN  B-PER      2526        2\n",
              "3           1         Widodo  PROPN  I-PER      7595        5\n",
              "4           1  mengungkapkan   VERB      O      3199        4"
            ]
          },
          "metadata": {},
          "execution_count": 5
        }
      ]
    },
    {
      "cell_type": "code",
      "metadata": {
        "colab": {
          "base_uri": "https://localhost:8080/",
          "height": 206
        },
        "id": "l2CmTt038J2A",
        "outputId": "db7fa5a9-5c63-4d36-9d2b-c054211f67c9"
      },
      "source": [
        "data_merged.head()"
      ],
      "execution_count": null,
      "outputs": [
        {
          "output_type": "execute_result",
          "data": {
            "text/html": [
              "<div>\n",
              "<style scoped>\n",
              "    .dataframe tbody tr th:only-of-type {\n",
              "        vertical-align: middle;\n",
              "    }\n",
              "\n",
              "    .dataframe tbody tr th {\n",
              "        vertical-align: top;\n",
              "    }\n",
              "\n",
              "    .dataframe thead th {\n",
              "        text-align: right;\n",
              "    }\n",
              "</style>\n",
              "<table border=\"1\" class=\"dataframe\">\n",
              "  <thead>\n",
              "    <tr style=\"text-align: right;\">\n",
              "      <th></th>\n",
              "      <th>sentence #</th>\n",
              "      <th>word</th>\n",
              "      <th>pos</th>\n",
              "      <th>tag</th>\n",
              "      <th>word_idx</th>\n",
              "      <th>tag_idx</th>\n",
              "    </tr>\n",
              "  </thead>\n",
              "  <tbody>\n",
              "    <tr>\n",
              "      <th>0</th>\n",
              "      <td>1</td>\n",
              "      <td>Berikut</td>\n",
              "      <td>PROPN</td>\n",
              "      <td>O</td>\n",
              "      <td>805</td>\n",
              "      <td>4</td>\n",
              "    </tr>\n",
              "    <tr>\n",
              "      <th>1</th>\n",
              "      <td>1</td>\n",
              "      <td>adalah</td>\n",
              "      <td>AUX</td>\n",
              "      <td>O</td>\n",
              "      <td>5456</td>\n",
              "      <td>4</td>\n",
              "    </tr>\n",
              "    <tr>\n",
              "      <th>2</th>\n",
              "      <td>1</td>\n",
              "      <td>tujuh</td>\n",
              "      <td>NUM</td>\n",
              "      <td>O</td>\n",
              "      <td>3291</td>\n",
              "      <td>4</td>\n",
              "    </tr>\n",
              "    <tr>\n",
              "      <th>3</th>\n",
              "      <td>1</td>\n",
              "      <td>kota</td>\n",
              "      <td>NOUN</td>\n",
              "      <td>O</td>\n",
              "      <td>7522</td>\n",
              "      <td>4</td>\n",
              "    </tr>\n",
              "    <tr>\n",
              "      <th>4</th>\n",
              "      <td>1</td>\n",
              "      <td>di</td>\n",
              "      <td>ADP</td>\n",
              "      <td>O</td>\n",
              "      <td>2096</td>\n",
              "      <td>4</td>\n",
              "    </tr>\n",
              "  </tbody>\n",
              "</table>\n",
              "</div>"
            ],
            "text/plain": [
              "   sentence #     word    pos tag  word_idx  tag_idx\n",
              "0           1  Berikut  PROPN   O       805        4\n",
              "1           1   adalah    AUX   O      5456        4\n",
              "2           1    tujuh    NUM   O      3291        4\n",
              "3           1     kota   NOUN   O      7522        4\n",
              "4           1       di    ADP   O      2096        4"
            ]
          },
          "metadata": {},
          "execution_count": 6
        }
      ]
    },
    {
      "cell_type": "code",
      "metadata": {
        "colab": {
          "base_uri": "https://localhost:8080/"
        },
        "id": "j_6vkLPj8Mdm",
        "outputId": "e86b0022-9015-45f8-8cc5-ff829cf9dd87"
      },
      "source": [
        "print(\"Train Shape : \", data_traindf.shape)\n",
        "print(\"Test Shape : \", data_testdf.shape)\n",
        "print(\"Merged Shape : \", data_merged.shape)"
      ],
      "execution_count": null,
      "outputs": [
        {
          "output_type": "stream",
          "name": "stdout",
          "text": [
            "Train Shape :  (30248, 6)\n",
            "Test Shape :  (18451, 6)\n",
            "Merged Shape :  (48699, 6)\n"
          ]
        }
      ]
    },
    {
      "cell_type": "code",
      "source": [
        "data_traindf[\"tag\"].value_counts()"
      ],
      "metadata": {
        "colab": {
          "base_uri": "https://localhost:8080/"
        },
        "id": "Nz5UDadR_RTP",
        "outputId": "48e53b4a-9b94-4e1b-ae45-248c862c0036"
      },
      "execution_count": null,
      "outputs": [
        {
          "output_type": "execute_result",
          "data": {
            "text/plain": [
              "O        26728\n",
              "B-PER      896\n",
              "B-ORG      721\n",
              "B-LOC      579\n",
              "I-ORG      577\n",
              "I-PER      486\n",
              "I-LOC      261\n",
              "Name: tag, dtype: int64"
            ]
          },
          "metadata": {},
          "execution_count": 8
        }
      ]
    },
    {
      "cell_type": "code",
      "source": [
        "import matplotlib.pyplot as plt\n",
        "import seaborn as sns\n",
        "\n",
        "plt.figure(figsize = (16,8))\n",
        "sns.set_style('darkgrid')\n",
        "sns.histplot(data_traindf['tag'])\n",
        "plt.tight_layout(pad=2)\n",
        "plt.show()"
      ],
      "metadata": {
        "colab": {
          "base_uri": "https://localhost:8080/",
          "height": 567
        },
        "id": "LnYXF5c1_XWd",
        "outputId": "89ed6026-5457-4313-b4a2-13d6fdfdfd70"
      },
      "execution_count": null,
      "outputs": [
        {
          "output_type": "display_data",
          "data": {
            "image/png": "[encoded data removed]",
            "text/plain": [
              "<Figure size 1152x576 with 1 Axes>"
            ]
          },
          "metadata": {
            "needs_background": "light"
          }
        }
      ]
    },
    {
      "cell_type": "code",
      "source": [
        "from itertools import chain\n",
        "def get_dict_map(data, token_or_tag):\n",
        "    tok2idx = {}\n",
        "    idx2tok = {}\n",
        "    \n",
        "    if token_or_tag == 'token':\n",
        "        vocab = list(set(data['word'].to_list()))\n",
        "    else:\n",
        "        vocab = list(set(data['tag'].to_list()))\n",
        "    \n",
        "    idx2tok = {idx:tok for  idx, tok in enumerate(vocab)}\n",
        "    tok2idx = {tok:idx for  idx, tok in enumerate(vocab)}\n",
        "    return tok2idx, idx2tok, vocab"
      ],
      "metadata": {
        "id": "drcK1wDUbVuw"
      },
      "execution_count": null,
      "outputs": []
    },
    {
      "cell_type": "code",
      "source": [
        "token2idx, idx2token, word_vocab = get_dict_map(data_merged, 'token')\n",
        "tag2idx, idx2tag, tag_vocab = get_dict_map(data_merged, 'tag')\n",
        "word_vocab.append(\"ENDPAD\")"
      ],
      "metadata": {
        "id": "1qDOeA4ifb5c"
      },
      "execution_count": null,
      "outputs": []
    },
    {
      "cell_type": "code",
      "source": [
        "data_traindf_fillna = data_traindf.fillna(method='ffill', axis=0)\n",
        "data_testdf_fillna = data_testdf.fillna(method='ffill', axis=0)\n",
        "data_merged_fillna = data_merged.fillna(method='ffill', axis=0)"
      ],
      "metadata": {
        "id": "vMtNVmgMAMBm"
      },
      "execution_count": null,
      "outputs": []
    },
    {
      "cell_type": "code",
      "metadata": {
        "colab": {
          "base_uri": "https://localhost:8080/"
        },
        "id": "hvazDrYoC52O",
        "outputId": "3bad0b4e-917f-4569-b295-5f56a4c2f12d"
      },
      "source": [
        "data_traindf_group = data_traindf_fillna.groupby([\"sentence #\"], as_index=False)['word','tag','word_idx','tag_idx'].agg(lambda x:list(x))\n",
        "data_testdf_group = data_testdf_fillna.groupby([\"sentence #\"], as_index=False)['word','tag','word_idx','tag_idx'].agg(lambda x:list(x))\n",
        "data_merged_group = data_merged_fillna.groupby([\"sentence #\"], as_index=False)['word','tag','word_idx','tag_idx'].agg(lambda x:list(x))"
      ],
      "execution_count": null,
      "outputs": [
        {
          "output_type": "stream",
          "name": "stderr",
          "text": [
            "/usr/local/lib/python3.7/dist-packages/ipykernel_launcher.py:1: FutureWarning: Indexing with multiple keys (implicitly converted to a tuple of keys) will be deprecated, use a list instead.\n",
            "  \"\"\"Entry point for launching an IPython kernel.\n",
            "/usr/local/lib/python3.7/dist-packages/ipykernel_launcher.py:2: FutureWarning: Indexing with multiple keys (implicitly converted to a tuple of keys) will be deprecated, use a list instead.\n",
            "  \n",
            "/usr/local/lib/python3.7/dist-packages/ipykernel_launcher.py:3: FutureWarning: Indexing with multiple keys (implicitly converted to a tuple of keys) will be deprecated, use a list instead.\n",
            "  This is separate from the ipykernel package so we can avoid doing imports until\n"
          ]
        }
      ]
    },
    {
      "cell_type": "code",
      "metadata": {
        "colab": {
          "base_uri": "https://localhost:8080/",
          "height": 310
        },
        "id": "95Xg45EWDsad",
        "outputId": "55cbe6d8-f95d-4782-83d9-eb592d8acd28"
      },
      "source": [
        "data_traindf_group.head()"
      ],
      "execution_count": null,
      "outputs": [
        {
          "output_type": "execute_result",
          "data": {
            "text/html": [
              "<div>\n",
              "<style scoped>\n",
              "    .dataframe tbody tr th:only-of-type {\n",
              "        vertical-align: middle;\n",
              "    }\n",
              "\n",
              "    .dataframe tbody tr th {\n",
              "        vertical-align: top;\n",
              "    }\n",
              "\n",
              "    .dataframe thead th {\n",
              "        text-align: right;\n",
              "    }\n",
              "</style>\n",
              "<table border=\"1\" class=\"dataframe\">\n",
              "  <thead>\n",
              "    <tr style=\"text-align: right;\">\n",
              "      <th></th>\n",
              "      <th>sentence #</th>\n",
              "      <th>word</th>\n",
              "      <th>tag</th>\n",
              "      <th>word_idx</th>\n",
              "      <th>tag_idx</th>\n",
              "    </tr>\n",
              "  </thead>\n",
              "  <tbody>\n",
              "    <tr>\n",
              "      <th>0</th>\n",
              "      <td>1</td>\n",
              "      <td>[Berikut, adalah, tujuh, kota, di, Indonesia, ...</td>\n",
              "      <td>[O, O, O, O, O, B-LOC, O, O, O, O, O, O, O]</td>\n",
              "      <td>[805, 5456, 3291, 7522, 2096, 3518, 4477, 5271...</td>\n",
              "      <td>[4, 4, 4, 4, 4, 1, 4, 4, 4, 4, 4, 4, 4]</td>\n",
              "    </tr>\n",
              "    <tr>\n",
              "      <th>1</th>\n",
              "      <td>2</td>\n",
              "      <td>[Soal, calon, presiden, itu, urusan, nanti, ,,...</td>\n",
              "      <td>[O, O, O, O, O, O, O, O, O, O, O, O, O, O, B-P...</td>\n",
              "      <td>[528, 7255, 4628, 7226, 2653, 2768, 3948, 4477...</td>\n",
              "      <td>[4, 4, 4, 4, 4, 4, 4, 4, 4, 4, 4, 4, 4, 4, 2, ...</td>\n",
              "    </tr>\n",
              "    <tr>\n",
              "      <th>2</th>\n",
              "      <td>3</td>\n",
              "      <td>[Kalau, itu, tanya, PPP, saja, ,, ujar, Nasir,...</td>\n",
              "      <td>[O, O, O, B-ORG, O, O, O, B-PER, O, O, O, O, O...</td>\n",
              "      <td>[4780, 7226, 7466, 827, 3799, 3948, 5916, 2756...</td>\n",
              "      <td>[4, 4, 4, 0, 4, 4, 4, 2, 4, 4, 4, 4, 4, 4, 4, ...</td>\n",
              "    </tr>\n",
              "    <tr>\n",
              "      <th>3</th>\n",
              "      <td>4</td>\n",
              "      <td>[Jokowi, bisa, mengatakan, mencabut, pengaduan...</td>\n",
              "      <td>[B-PER, O, O, O, O, O, O, O, O, O, O]</td>\n",
              "      <td>[8070, 1388, 2557, 3049, 8366, 418, 7443, 3898...</td>\n",
              "      <td>[2, 4, 4, 4, 4, 4, 4, 4, 4, 4, 4]</td>\n",
              "    </tr>\n",
              "    <tr>\n",
              "      <th>4</th>\n",
              "      <td>5</td>\n",
              "      <td>[Akbar, menyebutkan, pemerintahan, Jokowi-JK, ...</td>\n",
              "      <td>[B-PER, O, O, O, O, O, O, O, O, O, O, O, O, O,...</td>\n",
              "      <td>[5096, 2156, 1826, 2562, 7625, 4386, 4784, 200...</td>\n",
              "      <td>[2, 4, 4, 4, 4, 4, 4, 4, 4, 4, 4, 4, 4, 4, 4, ...</td>\n",
              "    </tr>\n",
              "  </tbody>\n",
              "</table>\n",
              "</div>"
            ],
            "text/plain": [
              "   sentence #  ...                                            tag_idx\n",
              "0           1  ...            [4, 4, 4, 4, 4, 1, 4, 4, 4, 4, 4, 4, 4]\n",
              "1           2  ...  [4, 4, 4, 4, 4, 4, 4, 4, 4, 4, 4, 4, 4, 4, 2, ...\n",
              "2           3  ...  [4, 4, 4, 0, 4, 4, 4, 2, 4, 4, 4, 4, 4, 4, 4, ...\n",
              "3           4  ...                  [2, 4, 4, 4, 4, 4, 4, 4, 4, 4, 4]\n",
              "4           5  ...  [2, 4, 4, 4, 4, 4, 4, 4, 4, 4, 4, 4, 4, 4, 4, ...\n",
              "\n",
              "[5 rows x 5 columns]"
            ]
          },
          "metadata": {},
          "execution_count": 14
        }
      ]
    },
    {
      "cell_type": "code",
      "metadata": {
        "id": "jUsJ_5pIFkUP"
      },
      "source": [
        "maxlen_merged = max([len(s) for s in data_merged_group['word_idx'].tolist()])\n",
        "maxlen_train = max([len(s) for s in data_traindf_group['word_idx'].tolist()])\n",
        "maxlen_test = max([len(s) for s in data_testdf_group['word_idx'].tolist()])"
      ],
      "execution_count": null,
      "outputs": []
    },
    {
      "cell_type": "code",
      "metadata": {
        "colab": {
          "base_uri": "https://localhost:8080/"
        },
        "id": "osAzpUOqGHpt",
        "outputId": "cbb6d5f0-8392-43e8-ef72-b4bd86fa71ff"
      },
      "source": [
        "print(\"Merged :\", maxlen_merged)\n",
        "print(\"Train :\", maxlen_train)\n",
        "print(\"Test :\", maxlen_test)"
      ],
      "execution_count": null,
      "outputs": [
        {
          "output_type": "stream",
          "name": "stdout",
          "text": [
            "Merged : 112\n",
            "Train : 69\n",
            "Test : 94\n"
          ]
        }
      ]
    },
    {
      "cell_type": "code",
      "metadata": {
        "id": "b8ipXbb-GVJ8"
      },
      "source": [
        "import numpy as np \n",
        "from sklearn.model_selection import train_test_split\n",
        "from tensorflow.keras.preprocessing.sequence import pad_sequences\n",
        "from tensorflow.keras.utils import to_categorical\n",
        "\n",
        "def get_pad(dataset_grouped, word_vocab, tag_vocab, maxlen):\n",
        "\n",
        "    #get max token and tag length\n",
        "    n_token = len(word_vocab)\n",
        "    n_tag = len(tag_vocab)\n",
        "\n",
        "    #Pad tokens (X var)    \n",
        "    tokens = dataset_grouped['word_idx'].tolist()\n",
        "    # maxlen = max([len(s) for s in tokens])\n",
        "    pad_tokens = pad_sequences(tokens, maxlen=maxlen, dtype='int32', padding='post', value= n_token - 1)\n",
        "\n",
        "    #Pad Tags (y var) and convert it into one hot encoding\n",
        "    tags = dataset_grouped['tag_idx'].tolist()\n",
        "    pad_tags = pad_sequences(tags, maxlen=maxlen, dtype='int32', padding='post', value= tag2idx[\"O\"])\n",
        "    n_tags = len(tag2idx)\n",
        "    pad_tags = [to_categorical(i, num_classes=n_tags) for i in pad_tags]\n",
        "    \n",
        "    # #Split train, test and validation set\n",
        "    # tokens_, test_tokens, tags_, test_tags = train_test_split(pad_tokens, pad_tags, test_size=0.1, train_size=0.9, random_state=2020)\n",
        "    # train_tokens, val_tokens, train_tags, val_tags = train_test_split(tokens_,tags_,test_size = 0.25,train_size =0.75, random_state=2020)\n",
        "\n",
        "    # print(\n",
        "    #     'train_tokens length:', len(train_tokens),\n",
        "    #     '\\ntrain_tags length:', len(train_tags),\n",
        "    #     '\\ntest_tokens length:', len(test_tokens),\n",
        "    #     '\\ntest_tags:', len(test_tags),\n",
        "    #     '\\nval_tokens:', len(val_tokens),\n",
        "    #     '\\nval_tags:', len(val_tags),\n",
        "    # )\n",
        "    \n",
        "    return pad_tokens, pad_tags"
      ],
      "execution_count": null,
      "outputs": []
    },
    {
      "cell_type": "code",
      "source": [
        "train_tokens, train_tags = get_pad(data_traindf_group, word_vocab, tag_vocab, maxlen_merged)\n",
        "test_tokens,  test_tags = get_pad(data_testdf_group, word_vocab, tag_vocab, maxlen_merged)\n",
        "train_tags = np.array(train_tags)\n",
        "test_tags = np.array(test_tags)\n",
        "print('train_tags: ',train_tags.shape,'test_tags: ',test_tags.shape)"
      ],
      "metadata": {
        "colab": {
          "base_uri": "https://localhost:8080/"
        },
        "id": "QSLjOoVuUMbe",
        "outputId": "3a900a98-c402-4267-f789-f76726684998"
      },
      "execution_count": null,
      "outputs": [
        {
          "output_type": "stream",
          "name": "stdout",
          "text": [
            "train_tags:  (1464, 112, 7) test_tags:  (509, 112, 7)\n"
          ]
        }
      ]
    },
    {
      "cell_type": "code",
      "source": [
        "train_tags"
      ],
      "metadata": {
        "colab": {
          "base_uri": "https://localhost:8080/"
        },
        "id": "0t5UfVEESDxk",
        "outputId": "9d0a50b9-a674-4f09-f8d9-099b9a206889"
      },
      "execution_count": null,
      "outputs": [
        {
          "output_type": "execute_result",
          "data": {
            "text/plain": [
              "array([[[0., 0., 0., ..., 1., 0., 0.],\n",
              "        [0., 0., 0., ..., 1., 0., 0.],\n",
              "        [0., 0., 0., ..., 1., 0., 0.],\n",
              "        ...,\n",
              "        [0., 0., 0., ..., 0., 1., 0.],\n",
              "        [0., 0., 0., ..., 0., 1., 0.],\n",
              "        [0., 0., 0., ..., 0., 1., 0.]],\n",
              "\n",
              "       [[0., 0., 0., ..., 1., 0., 0.],\n",
              "        [0., 0., 0., ..., 1., 0., 0.],\n",
              "        [0., 0., 0., ..., 1., 0., 0.],\n",
              "        ...,\n",
              "        [0., 0., 0., ..., 0., 1., 0.],\n",
              "        [0., 0., 0., ..., 0., 1., 0.],\n",
              "        [0., 0., 0., ..., 0., 1., 0.]],\n",
              "\n",
              "       [[0., 0., 0., ..., 1., 0., 0.],\n",
              "        [0., 0., 0., ..., 1., 0., 0.],\n",
              "        [0., 0., 0., ..., 1., 0., 0.],\n",
              "        ...,\n",
              "        [0., 0., 0., ..., 0., 1., 0.],\n",
              "        [0., 0., 0., ..., 0., 1., 0.],\n",
              "        [0., 0., 0., ..., 0., 1., 0.]],\n",
              "\n",
              "       ...,\n",
              "\n",
              "       [[0., 0., 0., ..., 1., 0., 0.],\n",
              "        [0., 0., 0., ..., 1., 0., 0.],\n",
              "        [1., 0., 0., ..., 0., 0., 0.],\n",
              "        ...,\n",
              "        [0., 0., 0., ..., 0., 1., 0.],\n",
              "        [0., 0., 0., ..., 0., 1., 0.],\n",
              "        [0., 0., 0., ..., 0., 1., 0.]],\n",
              "\n",
              "       [[0., 0., 0., ..., 1., 0., 0.],\n",
              "        [0., 0., 0., ..., 1., 0., 0.],\n",
              "        [0., 0., 0., ..., 1., 0., 0.],\n",
              "        ...,\n",
              "        [0., 0., 0., ..., 0., 1., 0.],\n",
              "        [0., 0., 0., ..., 0., 1., 0.],\n",
              "        [0., 0., 0., ..., 0., 1., 0.]],\n",
              "\n",
              "       [[0., 0., 0., ..., 1., 0., 0.],\n",
              "        [0., 0., 0., ..., 1., 0., 0.],\n",
              "        [0., 0., 0., ..., 1., 0., 0.],\n",
              "        ...,\n",
              "        [0., 0., 0., ..., 0., 1., 0.],\n",
              "        [0., 0., 0., ..., 0., 1., 0.],\n",
              "        [0., 0., 0., ..., 0., 1., 0.]]], dtype=float32)"
            ]
          },
          "metadata": {},
          "execution_count": 19
        }
      ]
    },
    {
      "cell_type": "code",
      "source": [
        "from sklearn.utils import class_weight\n",
        "\n",
        "train_temp_tags = np.ravel(np.argmax(train_tags, axis=-1))\n",
        "print(len(train_temp_tags))"
      ],
      "metadata": {
        "colab": {
          "base_uri": "https://localhost:8080/"
        },
        "id": "phJ_zqWXhJGs",
        "outputId": "4c434b9c-9f58-46de-f239-47b3132df559"
      },
      "execution_count": null,
      "outputs": [
        {
          "output_type": "stream",
          "name": "stdout",
          "text": [
            "163968\n"
          ]
        }
      ]
    },
    {
      "cell_type": "code",
      "source": [
        "class_weights = class_weight.compute_class_weight(\n",
        "    class_weight ='balanced', \n",
        "    classes = np.unique(train_temp_tags), \n",
        "    y = train_temp_tags\n",
        "    )\n",
        "class_weight_dict = dict(enumerate(class_weights))\n",
        "print(class_weight_dict)\n",
        "\n",
        "train_label = np.argmax(train_tags, axis=-1)\n",
        "print(train_tokens.shape)\n",
        "print(train_label.shape)"
      ],
      "metadata": {
        "colab": {
          "base_uri": "https://localhost:8080/"
        },
        "id": "AN5Up1xfj1o0",
        "outputId": "9116bfae-0ab2-4d69-bd08-10278bd4f301"
      },
      "execution_count": null,
      "outputs": [
        {
          "output_type": "stream",
          "name": "stdout",
          "text": [
            "{0: 32.488210818307905, 1: 40.4559585492228, 2: 26.142857142857142, 3: 40.596187175043326, 4: 0.876384316073032, 5: 0.1745376510737225, 6: 89.74712643678161}\n",
            "(1464, 112)\n",
            "(1464, 112)\n"
          ]
        }
      ]
    },
    {
      "cell_type": "code",
      "source": [
        "from tensorflow import keras\n",
        "from keras.layers import LSTM, GRU, Dense, Embedding, Dropout\n",
        "from keras.models import Sequential\n",
        "\n",
        "input_dim = len(word_vocab)+1\n",
        "output_dim = 64\n",
        "input_length = maxlen_merged\n",
        "n_tags = len(tag2idx)\n",
        "input_we = len(token2idx)+1"
      ],
      "metadata": {
        "id": "bNie20BFj34_"
      },
      "execution_count": null,
      "outputs": []
    },
    {
      "cell_type": "markdown",
      "source": [
        "Word2Vec Embedding"
      ],
      "metadata": {
        "id": "0MYKOi6JBh6v"
      }
    },
    {
      "cell_type": "code",
      "source": [
        "from gensim.models import Word2Vec\n",
        "import os\n",
        "\n",
        "word_list = data_merged_group['word'].to_list()\n",
        "model = Word2Vec(word_list, size=100, window=5, min_count=1, workers=3, iter=100, sg=1)\n",
        "os.makedirs(\"models/word_embeddings/w2v\", exist_ok=True)\n",
        "model.save(\"models/word_embeddings/w2v/w2v\")"
      ],
      "metadata": {
        "id": "kQrG0yo8odqG"
      },
      "execution_count": null,
      "outputs": []
    },
    {
      "cell_type": "code",
      "source": [
        "w2v = model.wv\n",
        "w2v.similar_by_word('presiden', topn=5)"
      ],
      "metadata": {
        "colab": {
          "base_uri": "https://localhost:8080/"
        },
        "id": "Q0CDJM4Kq7T7",
        "outputId": "0c57f9e3-164b-4e51-fedc-f34d16a31a9d"
      },
      "execution_count": null,
      "outputs": [
        {
          "output_type": "execute_result",
          "data": {
            "text/plain": [
              "[('wakil', 0.6009534001350403),\n",
              " ('non-kader', 0.5901608467102051),\n",
              " ('berlaga', 0.5777568817138672),\n",
              " ('mengsung', 0.5743512511253357),\n",
              " ('rencanannya', 0.5727461576461792)]"
            ]
          },
          "metadata": {},
          "execution_count": 271
        }
      ]
    },
    {
      "cell_type": "code",
      "source": [
        "w2v.wv['presiden']"
      ],
      "metadata": {
        "colab": {
          "base_uri": "https://localhost:8080/"
        },
        "id": "rdfS39Uhux4y",
        "outputId": "5b79291f-2323-42e7-f5f9-0b2246396852"
      },
      "execution_count": null,
      "outputs": [
        {
          "output_type": "stream",
          "name": "stderr",
          "text": [
            "/usr/local/lib/python3.7/dist-packages/ipykernel_launcher.py:1: DeprecationWarning: Call to deprecated `wv` (Attribute will be removed in 4.0.0, use self instead).\n",
            "  \"\"\"Entry point for launching an IPython kernel.\n"
          ]
        },
        {
          "output_type": "execute_result",
          "data": {
            "text/plain": [
              "array([-0.33861017, -0.15919772, -0.5085625 ,  0.28679127, -0.08748044,\n",
              "        0.28951097,  0.10694607, -0.24558802, -0.3221832 ,  0.6610796 ,\n",
              "        0.40634963,  0.6204648 , -0.1524966 ,  1.2640271 , -0.08992121,\n",
              "       -0.20622197,  2.1101155 ,  0.01704656, -0.9256883 ,  0.5832205 ,\n",
              "       -0.17678824,  0.30364504,  0.14498433,  0.65229034, -0.5460941 ,\n",
              "        0.17273049,  0.5453805 , -0.217207  , -0.5695073 ,  0.47615537,\n",
              "       -0.15498929,  1.1996154 ,  0.85513   , -0.22525482,  0.13937701,\n",
              "        0.7673196 , -0.18618937,  0.6772297 , -1.1902612 , -1.077435  ,\n",
              "        0.07565299, -0.53449255,  0.11000205, -0.4539212 ,  0.28334236,\n",
              "       -1.8656824 , -0.19900034, -0.38184524, -0.02024153, -0.3969251 ,\n",
              "        0.71881413, -0.13420558, -1.1197802 ,  0.98762304, -0.30707747,\n",
              "       -0.7388363 ,  0.09478496, -0.2057116 , -1.1685028 ,  1.0042707 ,\n",
              "        0.6303559 ,  0.5815512 ,  0.7313241 , -0.46611935, -0.6121647 ,\n",
              "        0.18493123, -0.2815457 ,  0.25172365, -0.5304889 ,  0.16725305,\n",
              "       -0.38366613, -0.34167373,  0.06909647,  0.00845602, -0.5288605 ,\n",
              "       -0.12954515,  0.5906578 ,  0.8156418 , -0.15567854,  0.32396117,\n",
              "       -0.27474383,  0.15786058, -0.15936692, -1.6344726 ,  0.73278224,\n",
              "        0.1451609 ,  0.26544526, -0.95089835, -0.07962417, -0.49857455,\n",
              "       -0.4889278 , -0.7467802 ,  0.04436004, -1.0346473 ,  0.02409936,\n",
              "        0.12442068,  0.2692031 ,  0.52024496,  0.13804746,  0.9650896 ],\n",
              "      dtype=float32)"
            ]
          },
          "metadata": {},
          "execution_count": 272
        }
      ]
    },
    {
      "cell_type": "code",
      "source": [
        "from gensim.models import KeyedVectors\n",
        "\n",
        "embeddings_dictionary = KeyedVectors.load('models/word_embeddings/w2v/w2v')"
      ],
      "metadata": {
        "id": "hKJ1erYIsH_Y"
      },
      "execution_count": null,
      "outputs": []
    },
    {
      "cell_type": "code",
      "source": [
        "embedding_matrix = np.zeros((len(token2idx) + 1, 100))\n",
        "for word, i in token2idx.items():\n",
        "  # try:\n",
        "  #   embedding_vector = embeddings_dictionary[word]\n",
        "  # except:\n",
        "  #   embedding_vector = np.random.normal(0, np.sqrt(0.25), 100)\n",
        "  if embedding_vector is not None:\n",
        "    embedding_matrix[i] = embedding_vector"
      ],
      "metadata": {
        "id": "_F4VPMrVs9wR"
      },
      "execution_count": null,
      "outputs": []
    },
    {
      "cell_type": "code",
      "source": [
        "embedding_matrix.shape"
      ],
      "metadata": {
        "colab": {
          "base_uri": "https://localhost:8080/"
        },
        "id": "uJ9VIMJRwgY1",
        "outputId": "f9392f9c-ae1e-4d63-eb17-7146bd85d022"
      },
      "execution_count": null,
      "outputs": [
        {
          "output_type": "execute_result",
          "data": {
            "text/plain": [
              "(8543, 100)"
            ]
          },
          "metadata": {},
          "execution_count": 281
        }
      ]
    },
    {
      "cell_type": "code",
      "source": [
        "embedding_layer = Embedding(input_we,\n",
        "                            embedding_matrix.shape[1],\n",
        "                            weights=[embedding_matrix],\n",
        "                            input_length=maxlen_merged,\n",
        "                            trainable=False)"
      ],
      "metadata": {
        "id": "r3Zu2aMIxRwS"
      },
      "execution_count": null,
      "outputs": []
    },
    {
      "cell_type": "code",
      "source": [
        "def get_gru_model():\n",
        "    model = Sequential()\n",
        "    model.add(embedding_layer)\n",
        "    # model.add(Embedding(input_we, embedding_matrix.shape[1], input_length=maxlen_merged))\n",
        "    model.add(GRU(128, return_sequences=True))\n",
        "    model.add(Dropout(0.5))\n",
        "    model.add(Dense(n_tags, activation = \"softmax\"))\n",
        "    opt = keras.optimizers.Adam(learning_rate=0.01)\n",
        "    model.compile(loss='sparse_categorical_crossentropy', optimizer=opt, metrics=['accuracy'])\n",
        "    model.summary()\n",
        "    return model"
      ],
      "metadata": {
        "id": "1dHsEL2WxT8M"
      },
      "execution_count": null,
      "outputs": []
    },
    {
      "cell_type": "code",
      "source": [
        "maj_index = tag2idx['O']\n",
        "\n",
        "''' Change it More for Better Fine-Tuning '''\n",
        "\n",
        "# class_weight_dict[maj_index] = 28.5277954105731576 \n",
        "print(class_weight_dict)\n",
        "sample_weights = np.ones(shape=(len(train_label), train_label.shape[-1]))\n",
        "for i in range(17):\n",
        "    sample_weights[train_label == i] = class_weight_dict.get(i)\n",
        "print(sample_weights.shape)"
      ],
      "metadata": {
        "id": "36QdRVpL3iea",
        "outputId": "21d5751a-a18f-4ccc-c47b-a7ed726f11c1",
        "colab": {
          "base_uri": "https://localhost:8080/"
        }
      },
      "execution_count": null,
      "outputs": [
        {
          "output_type": "stream",
          "name": "stdout",
          "text": [
            "{0: 32.488210818307905, 1: 40.4559585492228, 2: 26.142857142857142, 3: 40.596187175043326, 4: 0.876384316073032, 5: 0.1745376510737225, 6: 89.74712643678161}\n",
            "(1464, 112)\n"
          ]
        }
      ]
    },
    {
      "cell_type": "code",
      "source": [
        "import tensorflow as tf\n",
        "from tensorflow.keras.utils import plot_model\n",
        "\n",
        "nlp_model = get_gru_model()\n",
        "plot_model(nlp_model)\n",
        "his = nlp_model.fit(train_tokens, train_label , batch_size = 64, epochs=25, validation_split=0.2, sample_weight = sample_weights) "
      ],
      "metadata": {
        "colab": {
          "base_uri": "https://localhost:8080/"
        },
        "id": "RnFb-e0i1J37",
        "outputId": "febc7684-511a-4f76-ff48-cafc9b7cc932"
      },
      "execution_count": null,
      "outputs": [
        {
          "output_type": "stream",
          "name": "stdout",
          "text": [
            "Model: \"sequential_25\"\n",
            "_________________________________________________________________\n",
            " Layer (type)                Output Shape              Param #   \n",
            "=================================================================\n",
            " embedding_20 (Embedding)    (None, 112, 100)          854300    \n",
            "                                                                 \n",
            " gru_25 (GRU)                (None, 112, 128)          88320     \n",
            "                                                                 \n",
            " dropout_25 (Dropout)        (None, 112, 128)          0         \n",
            "                                                                 \n",
            " dense_26 (Dense)            (None, 112, 7)            903       \n",
            "                                                                 \n",
            "=================================================================\n",
            "Total params: 943,523\n",
            "Trainable params: 89,223\n",
            "Non-trainable params: 854,300\n",
            "_________________________________________________________________\n",
            "Epoch 1/25\n",
            "19/19 [==============================] - 6s 236ms/step - loss: 1.8127 - accuracy: 0.7211 - val_loss: 1.5118 - val_accuracy: 0.9195\n",
            "Epoch 2/25\n",
            "19/19 [==============================] - 4s 204ms/step - loss: 1.5564 - accuracy: 0.8497 - val_loss: 1.5203 - val_accuracy: 0.8462\n",
            "Epoch 3/25\n",
            "19/19 [==============================] - 4s 202ms/step - loss: 1.5524 - accuracy: 0.8265 - val_loss: 1.4895 - val_accuracy: 0.8156\n",
            "Epoch 4/25\n",
            "19/19 [==============================] - 4s 204ms/step - loss: 1.5227 - accuracy: 0.8315 - val_loss: 1.4882 - val_accuracy: 0.8151\n",
            "Epoch 5/25\n",
            "19/19 [==============================] - 4s 200ms/step - loss: 1.5308 - accuracy: 0.8344 - val_loss: 1.4966 - val_accuracy: 0.8682\n",
            "Epoch 6/25\n",
            "19/19 [==============================] - 4s 204ms/step - loss: 1.5152 - accuracy: 0.8279 - val_loss: 1.5259 - val_accuracy: 0.8133\n",
            "Epoch 7/25\n",
            "19/19 [==============================] - 4s 201ms/step - loss: 1.5223 - accuracy: 0.8265 - val_loss: 1.4807 - val_accuracy: 0.8157\n",
            "Epoch 8/25\n",
            "19/19 [==============================] - 4s 201ms/step - loss: 1.5212 - accuracy: 0.8294 - val_loss: 1.5053 - val_accuracy: 0.8151\n",
            "Epoch 9/25\n",
            "19/19 [==============================] - 4s 204ms/step - loss: 1.5182 - accuracy: 0.8333 - val_loss: 1.5320 - val_accuracy: 0.8130\n",
            "Epoch 10/25\n",
            "19/19 [==============================] - 4s 202ms/step - loss: 1.5152 - accuracy: 0.8399 - val_loss: 1.4916 - val_accuracy: 0.8139\n",
            "Epoch 11/25\n",
            "19/19 [==============================] - 4s 201ms/step - loss: 1.5116 - accuracy: 0.8339 - val_loss: 1.5254 - val_accuracy: 0.8138\n",
            "Epoch 12/25\n",
            "19/19 [==============================] - 4s 202ms/step - loss: 1.5247 - accuracy: 0.8272 - val_loss: 1.5154 - val_accuracy: 0.8139\n",
            "Epoch 13/25\n",
            "19/19 [==============================] - 4s 202ms/step - loss: 1.5142 - accuracy: 0.8341 - val_loss: 1.5008 - val_accuracy: 0.8142\n",
            "Epoch 14/25\n",
            "19/19 [==============================] - 4s 203ms/step - loss: 1.5122 - accuracy: 0.8316 - val_loss: 1.4922 - val_accuracy: 0.8141\n",
            "Epoch 15/25\n",
            "19/19 [==============================] - 4s 202ms/step - loss: 1.5231 - accuracy: 0.8228 - val_loss: 1.4834 - val_accuracy: 0.8149\n",
            "Epoch 16/25\n",
            "19/19 [==============================] - 4s 201ms/step - loss: 1.5134 - accuracy: 0.8317 - val_loss: 1.5657 - val_accuracy: 0.8134\n",
            "Epoch 17/25\n",
            "19/19 [==============================] - 4s 203ms/step - loss: 1.5178 - accuracy: 0.8228 - val_loss: 1.4785 - val_accuracy: 0.8159\n",
            "Epoch 18/25\n",
            "19/19 [==============================] - 4s 204ms/step - loss: 1.5308 - accuracy: 0.8246 - val_loss: 1.4770 - val_accuracy: 0.8346\n",
            "Epoch 19/25\n",
            "19/19 [==============================] - 4s 200ms/step - loss: 1.5156 - accuracy: 0.8283 - val_loss: 1.5042 - val_accuracy: 0.8135\n",
            "Epoch 20/25\n",
            "19/19 [==============================] - 4s 206ms/step - loss: 1.5090 - accuracy: 0.8237 - val_loss: 1.5103 - val_accuracy: 0.8211\n",
            "Epoch 21/25\n",
            "19/19 [==============================] - 4s 204ms/step - loss: 1.5186 - accuracy: 0.8252 - val_loss: 1.4791 - val_accuracy: 0.8442\n",
            "Epoch 22/25\n",
            "19/19 [==============================] - 4s 204ms/step - loss: 1.5253 - accuracy: 0.8329 - val_loss: 1.4797 - val_accuracy: 0.8153\n",
            "Epoch 23/25\n",
            "19/19 [==============================] - 4s 204ms/step - loss: 1.5093 - accuracy: 0.8244 - val_loss: 1.4909 - val_accuracy: 0.8137\n",
            "Epoch 24/25\n",
            "19/19 [==============================] - 4s 203ms/step - loss: 1.5057 - accuracy: 0.8342 - val_loss: 1.5144 - val_accuracy: 0.8140\n",
            "Epoch 25/25\n",
            "19/19 [==============================] - 4s 204ms/step - loss: 1.5168 - accuracy: 0.8241 - val_loss: 1.4904 - val_accuracy: 0.8224\n"
          ]
        }
      ]
    },
    {
      "cell_type": "code",
      "source": [
        " # Plot results\n",
        "import matplotlib.pyplot as plt\n",
        "\n",
        "accuracy = his.history['accuracy']\n",
        "val_acc = his.history['val_accuracy']\n",
        "loss = his.history['loss']\n",
        "val_loss = his.history['val_loss']\n",
        "\n",
        "epochs = range(1, len(accuracy)+1)\n",
        "\n",
        "plt.plot(epochs, accuracy, 'g', label='Training accuracy')\n",
        "plt.plot(epochs, val_acc, 'r', label='Validation accuracy')\n",
        "plt.title('Training and validation accuracy')\n",
        "plt.legend()\n",
        "\n",
        "plt.figure()\n",
        "\n",
        "plt.plot(epochs, loss, 'g', label='Training loss')\n",
        "plt.plot(epochs, val_loss, 'r', label='Validation loss')\n",
        "plt.title('Training and validation loss')\n",
        "plt.legend()\n",
        "\n",
        "plt.show()"
      ],
      "metadata": {
        "id": "mqNX6YXi1vZc",
        "colab": {
          "base_uri": "https://localhost:8080/",
          "height": 545
        },
        "outputId": "e5d6db63-0d2d-4f03-ae50-7b8a7ad5b6dc"
      },
      "execution_count": null,
      "outputs": [
        {
          "output_type": "display_data",
          "data": {
            "image/png": "[encoded data removed]",
            "text/plain": [
              "<Figure size 432x288 with 1 Axes>"
            ]
          },
          "metadata": {}
        },
        {
          "output_type": "display_data",
          "data": {
            "image/png": "[encoded data removed]",
            "text/plain": [
              "<Figure size 432x288 with 1 Axes>"
            ]
          },
          "metadata": {}
        }
      ]
    },
    {
      "cell_type": "code",
      "source": [
        "y_pred = nlp_model.predict(test_tokens)\n",
        "y_pred = np.argmax(y_pred, axis=-1)"
      ],
      "metadata": {
        "id": "kIzqrC6z42vn"
      },
      "execution_count": null,
      "outputs": []
    },
    {
      "cell_type": "code",
      "source": [
        "y_test = np.argmax(test_tags, axis=-1)\n",
        "print(test_tokens.shape,y_test.shape)\n",
        "nlp_model.evaluate(test_tokens, y_test)"
      ],
      "metadata": {
        "colab": {
          "base_uri": "https://localhost:8080/"
        },
        "id": "6ILkvrAa5KJw",
        "outputId": "a88483f5-619f-4a09-fe30-0179e2b0af65"
      },
      "execution_count": null,
      "outputs": [
        {
          "output_type": "stream",
          "name": "stdout",
          "text": [
            "(509, 112) (509, 112)\n",
            "16/16 [==============================] - 1s 32ms/step - loss: 0.2582 - accuracy: 0.9305\n"
          ]
        },
        {
          "output_type": "execute_result",
          "data": {
            "text/plain": [
              "[0.25815173983573914, 0.9305360913276672]"
            ]
          },
          "metadata": {},
          "execution_count": 255
        }
      ]
    },
    {
      "cell_type": "code",
      "source": [
        "y_test_list = []\n",
        "y_pred_list = []\n",
        "for row in range(0, y_test.shape[0]):\n",
        "  y_pred_list = np.concatenate((y_pred_list, y_pred[row]), axis=0)\n",
        "  y_test_list = np.concatenate((y_test_list, y_test[row]), axis=0)\n",
        "  # y_test_list = y_test_list + y_test[row]"
      ],
      "metadata": {
        "id": "dYqT4Edm49P_"
      },
      "execution_count": null,
      "outputs": []
    },
    {
      "cell_type": "code",
      "source": [
        "data_prediction = pd.DataFrame({'actual_class': y_test_list, 'predicted_class': y_pred_list})\n",
        "data_prediction['actual_class'] = data_prediction['actual_class'].map(idx2tag)\n",
        "data_prediction['predicted_class'] = data_prediction['predicted_class'].map(idx2tag)"
      ],
      "metadata": {
        "id": "4p9vTLF45BUf"
      },
      "execution_count": null,
      "outputs": []
    },
    {
      "cell_type": "code",
      "source": [
        "data_prediction"
      ],
      "metadata": {
        "colab": {
          "base_uri": "https://localhost:8080/",
          "height": 424
        },
        "id": "CXSHxyVs5PNe",
        "outputId": "5e7ba9b1-f56e-476d-add1-65a12831fe6a"
      },
      "execution_count": null,
      "outputs": [
        {
          "output_type": "execute_result",
          "data": {
            "text/html": [
              "<div>\n",
              "<style scoped>\n",
              "    .dataframe tbody tr th:only-of-type {\n",
              "        vertical-align: middle;\n",
              "    }\n",
              "\n",
              "    .dataframe tbody tr th {\n",
              "        vertical-align: top;\n",
              "    }\n",
              "\n",
              "    .dataframe thead th {\n",
              "        text-align: right;\n",
              "    }\n",
              "</style>\n",
              "<table border=\"1\" class=\"dataframe\">\n",
              "  <thead>\n",
              "    <tr style=\"text-align: right;\">\n",
              "      <th></th>\n",
              "      <th>actual_class</th>\n",
              "      <th>predicted_class</th>\n",
              "    </tr>\n",
              "  </thead>\n",
              "  <tbody>\n",
              "    <tr>\n",
              "      <th>0</th>\n",
              "      <td>B-ORG</td>\n",
              "      <td>B-ORG</td>\n",
              "    </tr>\n",
              "    <tr>\n",
              "      <th>1</th>\n",
              "      <td>B-ORG</td>\n",
              "      <td>B-PER</td>\n",
              "    </tr>\n",
              "    <tr>\n",
              "      <th>2</th>\n",
              "      <td>B-PER</td>\n",
              "      <td>B-PER</td>\n",
              "    </tr>\n",
              "    <tr>\n",
              "      <th>3</th>\n",
              "      <td>O</td>\n",
              "      <td>B-PER</td>\n",
              "    </tr>\n",
              "    <tr>\n",
              "      <th>4</th>\n",
              "      <td>B-ORG</td>\n",
              "      <td>B-PER</td>\n",
              "    </tr>\n",
              "    <tr>\n",
              "      <th>...</th>\n",
              "      <td>...</td>\n",
              "      <td>...</td>\n",
              "    </tr>\n",
              "    <tr>\n",
              "      <th>57003</th>\n",
              "      <td>O</td>\n",
              "      <td>O</td>\n",
              "    </tr>\n",
              "    <tr>\n",
              "      <th>57004</th>\n",
              "      <td>O</td>\n",
              "      <td>O</td>\n",
              "    </tr>\n",
              "    <tr>\n",
              "      <th>57005</th>\n",
              "      <td>O</td>\n",
              "      <td>O</td>\n",
              "    </tr>\n",
              "    <tr>\n",
              "      <th>57006</th>\n",
              "      <td>O</td>\n",
              "      <td>O</td>\n",
              "    </tr>\n",
              "    <tr>\n",
              "      <th>57007</th>\n",
              "      <td>O</td>\n",
              "      <td>O</td>\n",
              "    </tr>\n",
              "  </tbody>\n",
              "</table>\n",
              "<p>57008 rows × 2 columns</p>\n",
              "</div>"
            ],
            "text/plain": [
              "      actual_class predicted_class\n",
              "0            B-ORG           B-ORG\n",
              "1            B-ORG           B-PER\n",
              "2            B-PER           B-PER\n",
              "3                O           B-PER\n",
              "4            B-ORG           B-PER\n",
              "...            ...             ...\n",
              "57003            O               O\n",
              "57004            O               O\n",
              "57005            O               O\n",
              "57006            O               O\n",
              "57007            O               O\n",
              "\n",
              "[57008 rows x 2 columns]"
            ]
          },
          "metadata": {},
          "execution_count": 258
        }
      ]
    },
    {
      "cell_type": "code",
      "source": [
        "confusion_matrix = pd.crosstab(data_prediction['predicted_class'], data_prediction['actual_class'])\n",
        "confusion_matrix"
      ],
      "metadata": {
        "colab": {
          "base_uri": "https://localhost:8080/",
          "height": 300
        },
        "id": "WsRUnd225QZ_",
        "outputId": "2f29623d-5c01-4ab6-eaee-3fbf063bda0d"
      },
      "execution_count": null,
      "outputs": [
        {
          "output_type": "execute_result",
          "data": {
            "text/html": [
              "<div>\n",
              "<style scoped>\n",
              "    .dataframe tbody tr th:only-of-type {\n",
              "        vertical-align: middle;\n",
              "    }\n",
              "\n",
              "    .dataframe tbody tr th {\n",
              "        vertical-align: top;\n",
              "    }\n",
              "\n",
              "    .dataframe thead th {\n",
              "        text-align: right;\n",
              "    }\n",
              "</style>\n",
              "<table border=\"1\" class=\"dataframe\">\n",
              "  <thead>\n",
              "    <tr style=\"text-align: right;\">\n",
              "      <th>actual_class</th>\n",
              "      <th>B-LOC</th>\n",
              "      <th>B-ORG</th>\n",
              "      <th>B-PER</th>\n",
              "      <th>I-LOC</th>\n",
              "      <th>I-ORG</th>\n",
              "      <th>I-PER</th>\n",
              "      <th>O</th>\n",
              "    </tr>\n",
              "    <tr>\n",
              "      <th>predicted_class</th>\n",
              "      <th></th>\n",
              "      <th></th>\n",
              "      <th></th>\n",
              "      <th></th>\n",
              "      <th></th>\n",
              "      <th></th>\n",
              "      <th></th>\n",
              "    </tr>\n",
              "  </thead>\n",
              "  <tbody>\n",
              "    <tr>\n",
              "      <th>B-LOC</th>\n",
              "      <td>370</td>\n",
              "      <td>443</td>\n",
              "      <td>39</td>\n",
              "      <td>15</td>\n",
              "      <td>3</td>\n",
              "      <td>3</td>\n",
              "      <td>16</td>\n",
              "    </tr>\n",
              "    <tr>\n",
              "      <th>B-ORG</th>\n",
              "      <td>122</td>\n",
              "      <td>13125</td>\n",
              "      <td>214</td>\n",
              "      <td>79</td>\n",
              "      <td>19</td>\n",
              "      <td>31</td>\n",
              "      <td>185</td>\n",
              "    </tr>\n",
              "    <tr>\n",
              "      <th>B-PER</th>\n",
              "      <td>27</td>\n",
              "      <td>849</td>\n",
              "      <td>406</td>\n",
              "      <td>20</td>\n",
              "      <td>5</td>\n",
              "      <td>6</td>\n",
              "      <td>99</td>\n",
              "    </tr>\n",
              "    <tr>\n",
              "      <th>I-LOC</th>\n",
              "      <td>11</td>\n",
              "      <td>183</td>\n",
              "      <td>18</td>\n",
              "      <td>259</td>\n",
              "      <td>4</td>\n",
              "      <td>2</td>\n",
              "      <td>14</td>\n",
              "    </tr>\n",
              "    <tr>\n",
              "      <th>I-ORG</th>\n",
              "      <td>11</td>\n",
              "      <td>247</td>\n",
              "      <td>7</td>\n",
              "      <td>13</td>\n",
              "      <td>124</td>\n",
              "      <td>12</td>\n",
              "      <td>9</td>\n",
              "    </tr>\n",
              "    <tr>\n",
              "      <th>I-PER</th>\n",
              "      <td>21</td>\n",
              "      <td>331</td>\n",
              "      <td>13</td>\n",
              "      <td>5</td>\n",
              "      <td>4</td>\n",
              "      <td>200</td>\n",
              "      <td>2</td>\n",
              "    </tr>\n",
              "    <tr>\n",
              "      <th>O</th>\n",
              "      <td>28</td>\n",
              "      <td>790</td>\n",
              "      <td>39</td>\n",
              "      <td>20</td>\n",
              "      <td>0</td>\n",
              "      <td>1</td>\n",
              "      <td>38564</td>\n",
              "    </tr>\n",
              "  </tbody>\n",
              "</table>\n",
              "</div>"
            ],
            "text/plain": [
              "actual_class     B-LOC  B-ORG  B-PER  I-LOC  I-ORG  I-PER      O\n",
              "predicted_class                                                 \n",
              "B-LOC              370    443     39     15      3      3     16\n",
              "B-ORG              122  13125    214     79     19     31    185\n",
              "B-PER               27    849    406     20      5      6     99\n",
              "I-LOC               11    183     18    259      4      2     14\n",
              "I-ORG               11    247      7     13    124     12      9\n",
              "I-PER               21    331     13      5      4    200      2\n",
              "O                   28    790     39     20      0      1  38564"
            ]
          },
          "metadata": {},
          "execution_count": 259
        }
      ]
    },
    {
      "cell_type": "code",
      "source": [
        "from sklearn.metrics import classification_report\n",
        "pd.DataFrame(classification_report(data_prediction['actual_class'], data_prediction['predicted_class'], output_dict=True)).T"
      ],
      "metadata": {
        "colab": {
          "base_uri": "https://localhost:8080/",
          "height": 363
        },
        "id": "2NQCkytZ5W9f",
        "outputId": "306b38b1-5e4d-4fe2-9b30-373dd3c5c30f"
      },
      "execution_count": null,
      "outputs": [
        {
          "output_type": "execute_result",
          "data": {
            "text/html": [
              "<div>\n",
              "<style scoped>\n",
              "    .dataframe tbody tr th:only-of-type {\n",
              "        vertical-align: middle;\n",
              "    }\n",
              "\n",
              "    .dataframe tbody tr th {\n",
              "        vertical-align: top;\n",
              "    }\n",
              "\n",
              "    .dataframe thead th {\n",
              "        text-align: right;\n",
              "    }\n",
              "</style>\n",
              "<table border=\"1\" class=\"dataframe\">\n",
              "  <thead>\n",
              "    <tr style=\"text-align: right;\">\n",
              "      <th></th>\n",
              "      <th>precision</th>\n",
              "      <th>recall</th>\n",
              "      <th>f1-score</th>\n",
              "      <th>support</th>\n",
              "    </tr>\n",
              "  </thead>\n",
              "  <tbody>\n",
              "    <tr>\n",
              "      <th>B-LOC</th>\n",
              "      <td>0.416198</td>\n",
              "      <td>0.627119</td>\n",
              "      <td>0.500338</td>\n",
              "      <td>590.000000</td>\n",
              "    </tr>\n",
              "    <tr>\n",
              "      <th>B-ORG</th>\n",
              "      <td>0.952813</td>\n",
              "      <td>0.821956</td>\n",
              "      <td>0.882561</td>\n",
              "      <td>15968.000000</td>\n",
              "    </tr>\n",
              "    <tr>\n",
              "      <th>B-PER</th>\n",
              "      <td>0.287535</td>\n",
              "      <td>0.551630</td>\n",
              "      <td>0.378026</td>\n",
              "      <td>736.000000</td>\n",
              "    </tr>\n",
              "    <tr>\n",
              "      <th>I-LOC</th>\n",
              "      <td>0.527495</td>\n",
              "      <td>0.630170</td>\n",
              "      <td>0.574279</td>\n",
              "      <td>411.000000</td>\n",
              "    </tr>\n",
              "    <tr>\n",
              "      <th>I-ORG</th>\n",
              "      <td>0.293144</td>\n",
              "      <td>0.779874</td>\n",
              "      <td>0.426117</td>\n",
              "      <td>159.000000</td>\n",
              "    </tr>\n",
              "    <tr>\n",
              "      <th>I-PER</th>\n",
              "      <td>0.347222</td>\n",
              "      <td>0.784314</td>\n",
              "      <td>0.481348</td>\n",
              "      <td>255.000000</td>\n",
              "    </tr>\n",
              "    <tr>\n",
              "      <th>O</th>\n",
              "      <td>0.977739</td>\n",
              "      <td>0.991643</td>\n",
              "      <td>0.984642</td>\n",
              "      <td>38889.000000</td>\n",
              "    </tr>\n",
              "    <tr>\n",
              "      <th>accuracy</th>\n",
              "      <td>0.930536</td>\n",
              "      <td>0.930536</td>\n",
              "      <td>0.930536</td>\n",
              "      <td>0.930536</td>\n",
              "    </tr>\n",
              "    <tr>\n",
              "      <th>macro avg</th>\n",
              "      <td>0.543164</td>\n",
              "      <td>0.740958</td>\n",
              "      <td>0.603902</td>\n",
              "      <td>57008.000000</td>\n",
              "    </tr>\n",
              "    <tr>\n",
              "      <th>weighted avg</th>\n",
              "      <td>0.948059</td>\n",
              "      <td>0.930536</td>\n",
              "      <td>0.936437</td>\n",
              "      <td>57008.000000</td>\n",
              "    </tr>\n",
              "  </tbody>\n",
              "</table>\n",
              "</div>"
            ],
            "text/plain": [
              "              precision    recall  f1-score       support\n",
              "B-LOC          0.416198  0.627119  0.500338    590.000000\n",
              "B-ORG          0.952813  0.821956  0.882561  15968.000000\n",
              "B-PER          0.287535  0.551630  0.378026    736.000000\n",
              "I-LOC          0.527495  0.630170  0.574279    411.000000\n",
              "I-ORG          0.293144  0.779874  0.426117    159.000000\n",
              "I-PER          0.347222  0.784314  0.481348    255.000000\n",
              "O              0.977739  0.991643  0.984642  38889.000000\n",
              "accuracy       0.930536  0.930536  0.930536      0.930536\n",
              "macro avg      0.543164  0.740958  0.603902  57008.000000\n",
              "weighted avg   0.948059  0.930536  0.936437  57008.000000"
            ]
          },
          "metadata": {},
          "execution_count": 260
        }
      ]
    },
    {
      "cell_type": "code",
      "source": [
        ""
      ],
      "metadata": {
        "id": "DkM5dLio1nj4"
      },
      "execution_count": null,
      "outputs": []
    }
  ]
}