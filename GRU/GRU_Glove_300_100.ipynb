{
  "nbformat": 4,
  "nbformat_minor": 0,
  "metadata": {
    "colab": {
      "name": "GRU_Glove_300_100.ipynb",
      "provenance": [],
      "collapsed_sections": []
    },
    "kernelspec": {
      "name": "python3",
      "display_name": "Python 3"
    },
    "language_info": {
      "name": "python"
    }
  },
  "cells": [
    {
      "cell_type": "code",
      "execution_count": 1,
      "metadata": {
        "id": "VpIurlx3Z7tE"
      },
      "outputs": [],
      "source": [
        "import numpy as np\n",
        "import pandas as pd"
      ]
    },
    {
      "cell_type": "code",
      "source": [
        "#Mount the G Drive to access the data set\n",
        "from google.colab import drive\n",
        "drive.mount('/content/drive', force_remount=True)"
      ],
      "metadata": {
        "colab": {
          "base_uri": "https://localhost:8080/"
        },
        "id": "jzE0y3-7qeIh",
        "outputId": "b70d37e3-a515-4ac4-92fd-78203fee53a7"
      },
      "execution_count": 2,
      "outputs": [
        {
          "output_type": "stream",
          "name": "stdout",
          "text": [
            "Mounted at /content/drive\n"
          ]
        }
      ]
    },
    {
      "cell_type": "code",
      "source": [
        "train_path = '/content/drive/MyDrive/Colab Notebooks/FP-DM/dataset/train_baseline_fix_index.csv'\n",
        "test_path = '/content/drive/MyDrive/Colab Notebooks/FP-DM/dataset/test_baseline_fix_index.csv'\n",
        "train_df = pd.read_csv(train_path, encoding= 'unicode_escape')\n",
        "test_df = pd.read_csv(test_path, encoding= 'unicode_escape')\n",
        "merged_df = train_df.append([test_df])"
      ],
      "metadata": {
        "id": "DlFSVQRTq1Fh"
      },
      "execution_count": 3,
      "outputs": []
    },
    {
      "cell_type": "code",
      "source": [
        "train_df.drop(['Unnamed: 0'], inplace=True, axis=1)\n",
        "train_df"
      ],
      "metadata": {
        "colab": {
          "base_uri": "https://localhost:8080/",
          "height": 424
        },
        "id": "0BaKyIlmrRO4",
        "outputId": "e8830463-db74-4c8c-bb24-4d2929e2356b"
      },
      "execution_count": 4,
      "outputs": [
        {
          "output_type": "execute_result",
          "data": {
            "text/html": [
              "<div>\n",
              "<style scoped>\n",
              "    .dataframe tbody tr th:only-of-type {\n",
              "        vertical-align: middle;\n",
              "    }\n",
              "\n",
              "    .dataframe tbody tr th {\n",
              "        vertical-align: top;\n",
              "    }\n",
              "\n",
              "    .dataframe thead th {\n",
              "        text-align: right;\n",
              "    }\n",
              "</style>\n",
              "<table border=\"1\" class=\"dataframe\">\n",
              "  <thead>\n",
              "    <tr style=\"text-align: right;\">\n",
              "      <th></th>\n",
              "      <th>sentence #</th>\n",
              "      <th>word</th>\n",
              "      <th>tag</th>\n",
              "      <th>word_idx</th>\n",
              "      <th>tag_idx</th>\n",
              "    </tr>\n",
              "  </thead>\n",
              "  <tbody>\n",
              "    <tr>\n",
              "      <th>0</th>\n",
              "      <td>1</td>\n",
              "      <td>Berikut</td>\n",
              "      <td>O</td>\n",
              "      <td>7983</td>\n",
              "      <td>0</td>\n",
              "    </tr>\n",
              "    <tr>\n",
              "      <th>1</th>\n",
              "      <td>1</td>\n",
              "      <td>adalah</td>\n",
              "      <td>O</td>\n",
              "      <td>2039</td>\n",
              "      <td>0</td>\n",
              "    </tr>\n",
              "    <tr>\n",
              "      <th>2</th>\n",
              "      <td>1</td>\n",
              "      <td>tujuh</td>\n",
              "      <td>O</td>\n",
              "      <td>4980</td>\n",
              "      <td>0</td>\n",
              "    </tr>\n",
              "    <tr>\n",
              "      <th>3</th>\n",
              "      <td>1</td>\n",
              "      <td>kota</td>\n",
              "      <td>O</td>\n",
              "      <td>41</td>\n",
              "      <td>0</td>\n",
              "    </tr>\n",
              "    <tr>\n",
              "      <th>4</th>\n",
              "      <td>1</td>\n",
              "      <td>di</td>\n",
              "      <td>O</td>\n",
              "      <td>4961</td>\n",
              "      <td>0</td>\n",
              "    </tr>\n",
              "    <tr>\n",
              "      <th>...</th>\n",
              "      <td>...</td>\n",
              "      <td>...</td>\n",
              "      <td>...</td>\n",
              "      <td>...</td>\n",
              "      <td>...</td>\n",
              "    </tr>\n",
              "    <tr>\n",
              "      <th>30243</th>\n",
              "      <td>1464</td>\n",
              "      <td>kita</td>\n",
              "      <td>O</td>\n",
              "      <td>4705</td>\n",
              "      <td>0</td>\n",
              "    </tr>\n",
              "    <tr>\n",
              "      <th>30244</th>\n",
              "      <td>1464</td>\n",
              "      <td>,</td>\n",
              "      <td>O</td>\n",
              "      <td>7275</td>\n",
              "      <td>0</td>\n",
              "    </tr>\n",
              "    <tr>\n",
              "      <th>30245</th>\n",
              "      <td>1464</td>\n",
              "      <td>ucap</td>\n",
              "      <td>O</td>\n",
              "      <td>7791</td>\n",
              "      <td>0</td>\n",
              "    </tr>\n",
              "    <tr>\n",
              "      <th>30246</th>\n",
              "      <td>1464</td>\n",
              "      <td>Fadli</td>\n",
              "      <td>B-PER</td>\n",
              "      <td>855</td>\n",
              "      <td>4</td>\n",
              "    </tr>\n",
              "    <tr>\n",
              "      <th>30247</th>\n",
              "      <td>1464</td>\n",
              "      <td>.</td>\n",
              "      <td>O</td>\n",
              "      <td>6215</td>\n",
              "      <td>0</td>\n",
              "    </tr>\n",
              "  </tbody>\n",
              "</table>\n",
              "<p>30248 rows × 5 columns</p>\n",
              "</div>"
            ],
            "text/plain": [
              "       sentence #     word    tag  word_idx  tag_idx\n",
              "0               1  Berikut      O      7983        0\n",
              "1               1   adalah      O      2039        0\n",
              "2               1    tujuh      O      4980        0\n",
              "3               1     kota      O        41        0\n",
              "4               1       di      O      4961        0\n",
              "...           ...      ...    ...       ...      ...\n",
              "30243        1464     kita      O      4705        0\n",
              "30244        1464        ,      O      7275        0\n",
              "30245        1464     ucap      O      7791        0\n",
              "30246        1464    Fadli  B-PER       855        4\n",
              "30247        1464        .      O      6215        0\n",
              "\n",
              "[30248 rows x 5 columns]"
            ]
          },
          "metadata": {},
          "execution_count": 4
        }
      ]
    },
    {
      "cell_type": "code",
      "source": [
        "test_df.drop(['Unnamed: 0'], inplace=True, axis=1)\n",
        "test_df"
      ],
      "metadata": {
        "colab": {
          "base_uri": "https://localhost:8080/",
          "height": 424
        },
        "id": "bing0rhHraWE",
        "outputId": "8df94cfd-ae39-44f5-d010-76adc89ad029"
      },
      "execution_count": 5,
      "outputs": [
        {
          "output_type": "execute_result",
          "data": {
            "text/html": [
              "<div>\n",
              "<style scoped>\n",
              "    .dataframe tbody tr th:only-of-type {\n",
              "        vertical-align: middle;\n",
              "    }\n",
              "\n",
              "    .dataframe tbody tr th {\n",
              "        vertical-align: top;\n",
              "    }\n",
              "\n",
              "    .dataframe thead th {\n",
              "        text-align: right;\n",
              "    }\n",
              "</style>\n",
              "<table border=\"1\" class=\"dataframe\">\n",
              "  <thead>\n",
              "    <tr style=\"text-align: right;\">\n",
              "      <th></th>\n",
              "      <th>sentence #</th>\n",
              "      <th>word</th>\n",
              "      <th>tag</th>\n",
              "      <th>word_idx</th>\n",
              "      <th>tag_idx</th>\n",
              "    </tr>\n",
              "  </thead>\n",
              "  <tbody>\n",
              "    <tr>\n",
              "      <th>0</th>\n",
              "      <td>1</td>\n",
              "      <td>Meski</td>\n",
              "      <td>O</td>\n",
              "      <td>4549</td>\n",
              "      <td>0</td>\n",
              "    </tr>\n",
              "    <tr>\n",
              "      <th>1</th>\n",
              "      <td>1</td>\n",
              "      <td>demikian</td>\n",
              "      <td>O</td>\n",
              "      <td>4487</td>\n",
              "      <td>0</td>\n",
              "    </tr>\n",
              "    <tr>\n",
              "      <th>2</th>\n",
              "      <td>1</td>\n",
              "      <td>,</td>\n",
              "      <td>O</td>\n",
              "      <td>7275</td>\n",
              "      <td>0</td>\n",
              "    </tr>\n",
              "    <tr>\n",
              "      <th>3</th>\n",
              "      <td>1</td>\n",
              "      <td>ia</td>\n",
              "      <td>O</td>\n",
              "      <td>5670</td>\n",
              "      <td>0</td>\n",
              "    </tr>\n",
              "    <tr>\n",
              "      <th>4</th>\n",
              "      <td>1</td>\n",
              "      <td>menegaskan</td>\n",
              "      <td>O</td>\n",
              "      <td>5148</td>\n",
              "      <td>0</td>\n",
              "    </tr>\n",
              "    <tr>\n",
              "      <th>...</th>\n",
              "      <td>...</td>\n",
              "      <td>...</td>\n",
              "      <td>...</td>\n",
              "      <td>...</td>\n",
              "      <td>...</td>\n",
              "    </tr>\n",
              "    <tr>\n",
              "      <th>18446</th>\n",
              "      <td>509</td>\n",
              "      <td>keluarga</td>\n",
              "      <td>O</td>\n",
              "      <td>3747</td>\n",
              "      <td>0</td>\n",
              "    </tr>\n",
              "    <tr>\n",
              "      <th>18447</th>\n",
              "      <td>509</td>\n",
              "      <td>-lah</td>\n",
              "      <td>O</td>\n",
              "      <td>2169</td>\n",
              "      <td>0</td>\n",
              "    </tr>\n",
              "    <tr>\n",
              "      <th>18448</th>\n",
              "      <td>509</td>\n",
              "      <td>,</td>\n",
              "      <td>O</td>\n",
              "      <td>7275</td>\n",
              "      <td>0</td>\n",
              "    </tr>\n",
              "    <tr>\n",
              "      <th>18449</th>\n",
              "      <td>509</td>\n",
              "      <td>ujarnya</td>\n",
              "      <td>O</td>\n",
              "      <td>3526</td>\n",
              "      <td>0</td>\n",
              "    </tr>\n",
              "    <tr>\n",
              "      <th>18450</th>\n",
              "      <td>509</td>\n",
              "      <td>.</td>\n",
              "      <td>O</td>\n",
              "      <td>6215</td>\n",
              "      <td>0</td>\n",
              "    </tr>\n",
              "  </tbody>\n",
              "</table>\n",
              "<p>18451 rows × 5 columns</p>\n",
              "</div>"
            ],
            "text/plain": [
              "       sentence #        word tag  word_idx  tag_idx\n",
              "0               1       Meski   O      4549        0\n",
              "1               1    demikian   O      4487        0\n",
              "2               1           ,   O      7275        0\n",
              "3               1          ia   O      5670        0\n",
              "4               1  menegaskan   O      5148        0\n",
              "...           ...         ...  ..       ...      ...\n",
              "18446         509    keluarga   O      3747        0\n",
              "18447         509        -lah   O      2169        0\n",
              "18448         509           ,   O      7275        0\n",
              "18449         509     ujarnya   O      3526        0\n",
              "18450         509           .   O      6215        0\n",
              "\n",
              "[18451 rows x 5 columns]"
            ]
          },
          "metadata": {},
          "execution_count": 5
        }
      ]
    },
    {
      "cell_type": "code",
      "source": [
        "merged_df.drop(['Unnamed: 0'], inplace=True, axis=1)\n",
        "merged_df"
      ],
      "metadata": {
        "colab": {
          "base_uri": "https://localhost:8080/",
          "height": 424
        },
        "id": "wGzDcpkCrcl8",
        "outputId": "bcbd64ba-5bf5-4948-87aa-d6d8a4b4806d"
      },
      "execution_count": 6,
      "outputs": [
        {
          "output_type": "execute_result",
          "data": {
            "text/html": [
              "<div>\n",
              "<style scoped>\n",
              "    .dataframe tbody tr th:only-of-type {\n",
              "        vertical-align: middle;\n",
              "    }\n",
              "\n",
              "    .dataframe tbody tr th {\n",
              "        vertical-align: top;\n",
              "    }\n",
              "\n",
              "    .dataframe thead th {\n",
              "        text-align: right;\n",
              "    }\n",
              "</style>\n",
              "<table border=\"1\" class=\"dataframe\">\n",
              "  <thead>\n",
              "    <tr style=\"text-align: right;\">\n",
              "      <th></th>\n",
              "      <th>sentence #</th>\n",
              "      <th>word</th>\n",
              "      <th>tag</th>\n",
              "      <th>word_idx</th>\n",
              "      <th>tag_idx</th>\n",
              "    </tr>\n",
              "  </thead>\n",
              "  <tbody>\n",
              "    <tr>\n",
              "      <th>0</th>\n",
              "      <td>1</td>\n",
              "      <td>Berikut</td>\n",
              "      <td>O</td>\n",
              "      <td>7983</td>\n",
              "      <td>0</td>\n",
              "    </tr>\n",
              "    <tr>\n",
              "      <th>1</th>\n",
              "      <td>1</td>\n",
              "      <td>adalah</td>\n",
              "      <td>O</td>\n",
              "      <td>2039</td>\n",
              "      <td>0</td>\n",
              "    </tr>\n",
              "    <tr>\n",
              "      <th>2</th>\n",
              "      <td>1</td>\n",
              "      <td>tujuh</td>\n",
              "      <td>O</td>\n",
              "      <td>4980</td>\n",
              "      <td>0</td>\n",
              "    </tr>\n",
              "    <tr>\n",
              "      <th>3</th>\n",
              "      <td>1</td>\n",
              "      <td>kota</td>\n",
              "      <td>O</td>\n",
              "      <td>41</td>\n",
              "      <td>0</td>\n",
              "    </tr>\n",
              "    <tr>\n",
              "      <th>4</th>\n",
              "      <td>1</td>\n",
              "      <td>di</td>\n",
              "      <td>O</td>\n",
              "      <td>4961</td>\n",
              "      <td>0</td>\n",
              "    </tr>\n",
              "    <tr>\n",
              "      <th>...</th>\n",
              "      <td>...</td>\n",
              "      <td>...</td>\n",
              "      <td>...</td>\n",
              "      <td>...</td>\n",
              "      <td>...</td>\n",
              "    </tr>\n",
              "    <tr>\n",
              "      <th>18446</th>\n",
              "      <td>509</td>\n",
              "      <td>keluarga</td>\n",
              "      <td>O</td>\n",
              "      <td>3747</td>\n",
              "      <td>0</td>\n",
              "    </tr>\n",
              "    <tr>\n",
              "      <th>18447</th>\n",
              "      <td>509</td>\n",
              "      <td>-lah</td>\n",
              "      <td>O</td>\n",
              "      <td>2169</td>\n",
              "      <td>0</td>\n",
              "    </tr>\n",
              "    <tr>\n",
              "      <th>18448</th>\n",
              "      <td>509</td>\n",
              "      <td>,</td>\n",
              "      <td>O</td>\n",
              "      <td>7275</td>\n",
              "      <td>0</td>\n",
              "    </tr>\n",
              "    <tr>\n",
              "      <th>18449</th>\n",
              "      <td>509</td>\n",
              "      <td>ujarnya</td>\n",
              "      <td>O</td>\n",
              "      <td>3526</td>\n",
              "      <td>0</td>\n",
              "    </tr>\n",
              "    <tr>\n",
              "      <th>18450</th>\n",
              "      <td>509</td>\n",
              "      <td>.</td>\n",
              "      <td>O</td>\n",
              "      <td>6215</td>\n",
              "      <td>0</td>\n",
              "    </tr>\n",
              "  </tbody>\n",
              "</table>\n",
              "<p>48699 rows × 5 columns</p>\n",
              "</div>"
            ],
            "text/plain": [
              "       sentence #      word tag  word_idx  tag_idx\n",
              "0               1   Berikut   O      7983        0\n",
              "1               1    adalah   O      2039        0\n",
              "2               1     tujuh   O      4980        0\n",
              "3               1      kota   O        41        0\n",
              "4               1        di   O      4961        0\n",
              "...           ...       ...  ..       ...      ...\n",
              "18446         509  keluarga   O      3747        0\n",
              "18447         509      -lah   O      2169        0\n",
              "18448         509         ,   O      7275        0\n",
              "18449         509   ujarnya   O      3526        0\n",
              "18450         509         .   O      6215        0\n",
              "\n",
              "[48699 rows x 5 columns]"
            ]
          },
          "metadata": {},
          "execution_count": 6
        }
      ]
    },
    {
      "cell_type": "code",
      "source": [
        "# importing the module\n",
        "import json\n",
        " \n",
        "# Opening JSON file\n",
        "def loadJSON(filename):\n",
        "  data = {}\n",
        "  with open(filename) as json_file:\n",
        "      data = json.load(json_file)\n",
        "  return data"
      ],
      "metadata": {
        "id": "tKhofdHjrf6C"
      },
      "execution_count": 7,
      "outputs": []
    },
    {
      "cell_type": "code",
      "source": [
        "idx2tag = loadJSON('/content/drive/MyDrive/Colab Notebooks/FP-DM/output/idx2tag.json')\n",
        "tag2idx = loadJSON('/content/drive/MyDrive/Colab Notebooks/FP-DM/output/tag2idx.json')\n",
        "token2idx = loadJSON('/content/drive/MyDrive/Colab Notebooks/FP-DM/output/token2idx.json')\n",
        "idx2token = loadJSON('/content/drive/MyDrive/Colab Notebooks/FP-DM/output/idx2token.json')\n",
        "print(idx2tag)"
      ],
      "metadata": {
        "colab": {
          "base_uri": "https://localhost:8080/"
        },
        "id": "wuwScbIkrhyg",
        "outputId": "a437fe07-d829-452a-8428-dae6e59af062"
      },
      "execution_count": 8,
      "outputs": [
        {
          "output_type": "stream",
          "name": "stdout",
          "text": [
            "{'0': 'O', '1': 'I-LOC', '2': 'B-ORG', '3': 'I-PER', '4': 'B-PER', '5': 'I-ORG', '6': 'B-LOC'}\n"
          ]
        }
      ]
    },
    {
      "cell_type": "code",
      "source": [
        "tag2idx = dict([key, int(value)] for key, value in tag2idx.items())\n",
        "token2idx = dict([key, int(value)] for key, value in token2idx.items())\n",
        "idx2tag = dict([int(key), value] for key, value in idx2tag.items())\n",
        "idx2token = dict([int(key), value] for key, value in idx2token.items())\n",
        "tag2idx"
      ],
      "metadata": {
        "colab": {
          "base_uri": "https://localhost:8080/"
        },
        "id": "qqKYGgJSrpSM",
        "outputId": "4d1a31cf-bdcc-4a23-f9ac-b965feedbd2f"
      },
      "execution_count": 9,
      "outputs": [
        {
          "output_type": "execute_result",
          "data": {
            "text/plain": [
              "{'B-LOC': 6,\n",
              " 'B-ORG': 2,\n",
              " 'B-PER': 4,\n",
              " 'I-LOC': 1,\n",
              " 'I-ORG': 5,\n",
              " 'I-PER': 3,\n",
              " 'O': 0}"
            ]
          },
          "metadata": {},
          "execution_count": 9
        }
      ]
    },
    {
      "cell_type": "code",
      "source": [
        "# Groupby and collect columns\n",
        "train_group = train_df.groupby(['sentence #'], as_index=False)['word', 'tag', 'word_idx', 'tag_idx'].agg(lambda x: list(x))\n",
        "test_group = test_df.groupby(['sentence #'], as_index=False)['word', 'tag', 'word_idx', 'tag_idx'].agg(lambda x: list(x))\n",
        "merged_group = merged_df.groupby(['sentence #'], as_index=False)['word', 'tag', 'word_idx', 'tag_idx'].agg(lambda x: list(x))"
      ],
      "metadata": {
        "colab": {
          "base_uri": "https://localhost:8080/"
        },
        "id": "NvjCgwIyrsas",
        "outputId": "d9657d47-0f76-4b14-ec0f-9a0ab2a750eb"
      },
      "execution_count": 10,
      "outputs": [
        {
          "output_type": "stream",
          "name": "stderr",
          "text": [
            "/usr/local/lib/python3.7/dist-packages/ipykernel_launcher.py:2: FutureWarning: Indexing with multiple keys (implicitly converted to a tuple of keys) will be deprecated, use a list instead.\n",
            "  \n",
            "/usr/local/lib/python3.7/dist-packages/ipykernel_launcher.py:3: FutureWarning: Indexing with multiple keys (implicitly converted to a tuple of keys) will be deprecated, use a list instead.\n",
            "  This is separate from the ipykernel package so we can avoid doing imports until\n",
            "/usr/local/lib/python3.7/dist-packages/ipykernel_launcher.py:4: FutureWarning: Indexing with multiple keys (implicitly converted to a tuple of keys) will be deprecated, use a list instead.\n",
            "  after removing the cwd from sys.path.\n"
          ]
        }
      ]
    },
    {
      "cell_type": "code",
      "source": [
        "train_group"
      ],
      "metadata": {
        "colab": {
          "base_uri": "https://localhost:8080/",
          "height": 424
        },
        "id": "ilkCdUU8r6DC",
        "outputId": "dd15bfda-ab39-4756-c6cd-7e8f1d921b00"
      },
      "execution_count": 11,
      "outputs": [
        {
          "output_type": "execute_result",
          "data": {
            "text/html": [
              "<div>\n",
              "<style scoped>\n",
              "    .dataframe tbody tr th:only-of-type {\n",
              "        vertical-align: middle;\n",
              "    }\n",
              "\n",
              "    .dataframe tbody tr th {\n",
              "        vertical-align: top;\n",
              "    }\n",
              "\n",
              "    .dataframe thead th {\n",
              "        text-align: right;\n",
              "    }\n",
              "</style>\n",
              "<table border=\"1\" class=\"dataframe\">\n",
              "  <thead>\n",
              "    <tr style=\"text-align: right;\">\n",
              "      <th></th>\n",
              "      <th>sentence #</th>\n",
              "      <th>word</th>\n",
              "      <th>tag</th>\n",
              "      <th>word_idx</th>\n",
              "      <th>tag_idx</th>\n",
              "    </tr>\n",
              "  </thead>\n",
              "  <tbody>\n",
              "    <tr>\n",
              "      <th>0</th>\n",
              "      <td>1</td>\n",
              "      <td>[Berikut, adalah, tujuh, kota, di, Indonesia, ...</td>\n",
              "      <td>[O, O, O, O, O, B-LOC, O, O, O, O, O, O, O]</td>\n",
              "      <td>[7983, 2039, 4980, 41, 4961, 1745, 5214, 5262,...</td>\n",
              "      <td>[0, 0, 0, 0, 0, 6, 0, 0, 0, 0, 0, 0, 0]</td>\n",
              "    </tr>\n",
              "    <tr>\n",
              "      <th>1</th>\n",
              "      <td>2</td>\n",
              "      <td>[Soal, calon, presiden, itu, urusan, nanti, ,,...</td>\n",
              "      <td>[O, O, O, O, O, O, O, O, O, O, O, O, O, O, B-P...</td>\n",
              "      <td>[3711, 8327, 3000, 5216, 4847, 865, 7275, 5214...</td>\n",
              "      <td>[0, 0, 0, 0, 0, 0, 0, 0, 0, 0, 0, 0, 0, 0, 4, ...</td>\n",
              "    </tr>\n",
              "    <tr>\n",
              "      <th>2</th>\n",
              "      <td>3</td>\n",
              "      <td>[Kalau, itu, tanya, PPP, saja, ,, ujar, Nasir,...</td>\n",
              "      <td>[O, O, O, B-ORG, O, O, O, B-PER, O, O, O, O, O...</td>\n",
              "      <td>[5035, 5216, 5722, 7446, 5829, 7275, 5990, 108...</td>\n",
              "      <td>[0, 0, 0, 2, 0, 0, 0, 4, 0, 0, 0, 0, 0, 0, 0, ...</td>\n",
              "    </tr>\n",
              "    <tr>\n",
              "      <th>3</th>\n",
              "      <td>4</td>\n",
              "      <td>[Jokowi, bisa, mengatakan, mencabut, pengaduan...</td>\n",
              "      <td>[B-PER, O, O, O, O, O, O, O, O, O, O]</td>\n",
              "      <td>[8234, 3106, 3220, 2834, 4775, 652, 3257, 2096...</td>\n",
              "      <td>[4, 0, 0, 0, 0, 0, 0, 0, 0, 0, 0]</td>\n",
              "    </tr>\n",
              "    <tr>\n",
              "      <th>4</th>\n",
              "      <td>5</td>\n",
              "      <td>[Akbar, menyebutkan, pemerintahan, Jokowi-JK, ...</td>\n",
              "      <td>[B-PER, O, O, O, O, O, O, O, O, O, O, O, O, O,...</td>\n",
              "      <td>[4662, 5284, 5706, 3052, 6288, 2366, 7513, 268...</td>\n",
              "      <td>[4, 0, 0, 0, 0, 0, 0, 0, 0, 0, 0, 0, 0, 0, 0, ...</td>\n",
              "    </tr>\n",
              "    <tr>\n",
              "      <th>...</th>\n",
              "      <td>...</td>\n",
              "      <td>...</td>\n",
              "      <td>...</td>\n",
              "      <td>...</td>\n",
              "      <td>...</td>\n",
              "    </tr>\n",
              "    <tr>\n",
              "      <th>1459</th>\n",
              "      <td>1460</td>\n",
              "      <td>[Dia, menggantikan, Ian, Campbell, ,, yang, di...</td>\n",
              "      <td>[O, O, B-PER, I-PER, O, O, O, O, O, O, O, O, O...</td>\n",
              "      <td>[7122, 3901, 2733, 1094, 7275, 5214, 5571, 445...</td>\n",
              "      <td>[0, 0, 4, 3, 0, 0, 0, 0, 0, 0, 0, 0, 0, 0, 0, ...</td>\n",
              "    </tr>\n",
              "    <tr>\n",
              "      <th>1460</th>\n",
              "      <td>1461</td>\n",
              "      <td>[Kita, siapkan, strategi, baru, ,, bukan, gant...</td>\n",
              "      <td>[O, O, O, O, O, O, O, O, O, O, O]</td>\n",
              "      <td>[5581, 5206, 2338, 7187, 7275, 3022, 7872, 527...</td>\n",
              "      <td>[0, 0, 0, 0, 0, 0, 0, 0, 0, 0, 0]</td>\n",
              "    </tr>\n",
              "    <tr>\n",
              "      <th>1461</th>\n",
              "      <td>1462</td>\n",
              "      <td>[September, 2007, PTBA, akan, mensosialisasika...</td>\n",
              "      <td>[O, O, B-ORG, O, O, O, O, O, O, O, O, O, O, O,...</td>\n",
              "      <td>[1820, 9, 8170, 607, 1804, 5973, 1372, 2594, 4...</td>\n",
              "      <td>[0, 0, 2, 0, 0, 0, 0, 0, 0, 0, 0, 0, 0, 0, 0, ...</td>\n",
              "    </tr>\n",
              "    <tr>\n",
              "      <th>1462</th>\n",
              "      <td>1463</td>\n",
              "      <td>[Sedang, infeksi, virus, ebola, ini, berlangsu...</td>\n",
              "      <td>[O, O, O, O, O, O, O, O, O, O, O, O, O]</td>\n",
              "      <td>[2118, 8069, 1844, 4255, 452, 3596, 7595, 652,...</td>\n",
              "      <td>[0, 0, 0, 0, 0, 0, 0, 0, 0, 0, 0, 0, 0]</td>\n",
              "    </tr>\n",
              "    <tr>\n",
              "      <th>1463</th>\n",
              "      <td>1464</td>\n",
              "      <td>[Kita, melihat, negara, yang, selama, ini, ber...</td>\n",
              "      <td>[O, O, O, O, O, O, O, O, O, O, O, O, O, O, O, ...</td>\n",
              "      <td>[5581, 5690, 6491, 5214, 6582, 452, 1417, 7275...</td>\n",
              "      <td>[0, 0, 0, 0, 0, 0, 0, 0, 0, 0, 0, 0, 0, 0, 0, ...</td>\n",
              "    </tr>\n",
              "  </tbody>\n",
              "</table>\n",
              "<p>1464 rows × 5 columns</p>\n",
              "</div>"
            ],
            "text/plain": [
              "      sentence #  ...                                            tag_idx\n",
              "0              1  ...            [0, 0, 0, 0, 0, 6, 0, 0, 0, 0, 0, 0, 0]\n",
              "1              2  ...  [0, 0, 0, 0, 0, 0, 0, 0, 0, 0, 0, 0, 0, 0, 4, ...\n",
              "2              3  ...  [0, 0, 0, 2, 0, 0, 0, 4, 0, 0, 0, 0, 0, 0, 0, ...\n",
              "3              4  ...                  [4, 0, 0, 0, 0, 0, 0, 0, 0, 0, 0]\n",
              "4              5  ...  [4, 0, 0, 0, 0, 0, 0, 0, 0, 0, 0, 0, 0, 0, 0, ...\n",
              "...          ...  ...                                                ...\n",
              "1459        1460  ...  [0, 0, 4, 3, 0, 0, 0, 0, 0, 0, 0, 0, 0, 0, 0, ...\n",
              "1460        1461  ...                  [0, 0, 0, 0, 0, 0, 0, 0, 0, 0, 0]\n",
              "1461        1462  ...  [0, 0, 2, 0, 0, 0, 0, 0, 0, 0, 0, 0, 0, 0, 0, ...\n",
              "1462        1463  ...            [0, 0, 0, 0, 0, 0, 0, 0, 0, 0, 0, 0, 0]\n",
              "1463        1464  ...  [0, 0, 0, 0, 0, 0, 0, 0, 0, 0, 0, 0, 0, 0, 0, ...\n",
              "\n",
              "[1464 rows x 5 columns]"
            ]
          },
          "metadata": {},
          "execution_count": 11
        }
      ]
    },
    {
      "cell_type": "code",
      "source": [
        "import numpy as np\n",
        "from sklearn.model_selection import train_test_split\n",
        "from tensorflow.keras.preprocessing.sequence import pad_sequences\n",
        "from tensorflow.keras.utils import to_categorical"
      ],
      "metadata": {
        "id": "fgQH_JYNsEId"
      },
      "execution_count": 12,
      "outputs": []
    },
    {
      "cell_type": "code",
      "source": [
        "def get_pad(dataset_grouped, merged_data, maxlen):\n",
        "\n",
        "    #get max token and tag length\n",
        "    n_token = len(list(set(merged_data['word'].to_list())))\n",
        "    n_tags = len(list(set(merged_data['tag'].to_list())))\n",
        "\n",
        "    #Pad tokens (X var)    \n",
        "    tokens = dataset_grouped['word_idx'].tolist()\n",
        "    # maxlen = max([len(s) for s in tokens])\n",
        "    pad_tokens = pad_sequences(tokens, maxlen=maxlen, dtype='int32', padding='post', value= token2idx[\"ENDPAD\"])\n",
        "\n",
        "    #Pad Tags (y var) and convert it into one hot encoding\n",
        "    tags = dataset_grouped['tag_idx'].tolist()\n",
        "    pad_tags = pad_sequences(tags, maxlen=maxlen, dtype='int32', padding='post', value= tag2idx[\"O\"])\n",
        "    pad_tags = [to_categorical(i, num_classes=n_tags) for i in pad_tags]\n",
        "\n",
        "    return pad_tokens, pad_tags, n_token"
      ],
      "metadata": {
        "id": "YG5P8YnfsI_c"
      },
      "execution_count": 13,
      "outputs": []
    },
    {
      "cell_type": "code",
      "source": [
        "train_tokens, train_tags, n_token = get_pad(train_group, merged_df, 60)\n",
        "test_tokens,  test_tags, _ = get_pad(test_group, merged_df, 60)\n",
        "train_tags = np.array(train_tags)\n",
        "test_tags = np.array(test_tags)\n",
        "print('train_tags: ',train_tags.shape,'test_tags: ',test_tags.shape)"
      ],
      "metadata": {
        "colab": {
          "base_uri": "https://localhost:8080/"
        },
        "id": "VZj3gdKWsTRB",
        "outputId": "2faab033-b60d-4d77-8327-59ed29d267f3"
      },
      "execution_count": 14,
      "outputs": [
        {
          "output_type": "stream",
          "name": "stdout",
          "text": [
            "train_tags:  (1464, 60, 7) test_tags:  (509, 60, 7)\n"
          ]
        }
      ]
    },
    {
      "cell_type": "code",
      "source": [
        "from sklearn.utils import class_weight\n",
        "\n",
        "train_temp_tags = np.ravel(np.argmax(train_tags, axis=-1))\n",
        "print(len(train_temp_tags))"
      ],
      "metadata": {
        "colab": {
          "base_uri": "https://localhost:8080/"
        },
        "id": "qB5QWhibsaZL",
        "outputId": "c70b6646-2476-4a5e-ae31-e2f27126ec65"
      },
      "execution_count": 15,
      "outputs": [
        {
          "output_type": "stream",
          "name": "stdout",
          "text": [
            "87840\n"
          ]
        }
      ]
    },
    {
      "cell_type": "code",
      "source": [
        "class_weights = class_weight.compute_class_weight(\n",
        "    class_weight ='balanced', \n",
        "    classes = np.unique(train_temp_tags), \n",
        "    y = train_temp_tags\n",
        "    )\n",
        "class_weight_dict = dict(enumerate(class_weights))\n",
        "print(class_weight_dict)\n",
        "\n",
        "train_label = np.argmax(train_tags, axis=-1)\n",
        "print(train_tokens.shape)\n",
        "print(train_label.shape)"
      ],
      "metadata": {
        "colab": {
          "base_uri": "https://localhost:8080/"
        },
        "id": "CxdB0FKasezK",
        "outputId": "2c0630fc-5909-4d76-efa5-38b763086cae"
      },
      "execution_count": 16,
      "outputs": [
        {
          "output_type": "stream",
          "name": "stdout",
          "text": [
            "{0: 0.1488172888281994, 1: 48.07881773399015, 2: 17.428571428571427, 3: 25.82010582010582, 4: 14.005102040816327, 5: 21.785714285714285, 6: 21.672834937083643}\n",
            "(1464, 60)\n",
            "(1464, 60)\n"
          ]
        }
      ]
    },
    {
      "cell_type": "code",
      "source": [
        "import numpy as np\n",
        "import tensorflow as tf\n",
        "from tensorflow.keras.models import Sequential, Model\n",
        "from tensorflow.keras.layers import LSTM, Embedding, Dense, TimeDistributed, Dropout, Bidirectional, Input, SpatialDropout1D, SimpleRNN, GRU\n",
        "from tensorflow.keras.utils import plot_model\n",
        "from tensorflow import keras"
      ],
      "metadata": {
        "id": "MNRPqB1sshlO"
      },
      "execution_count": 17,
      "outputs": []
    },
    {
      "cell_type": "code",
      "source": [
        "input_dim = len(token2idx) + 1\n",
        "output_dim = 300\n",
        "input_length = 60\n",
        "n_tags = 7"
      ],
      "metadata": {
        "id": "LifBKL1BskNd"
      },
      "execution_count": 18,
      "outputs": []
    },
    {
      "cell_type": "markdown",
      "source": [
        "Import LSTM Model yang sudah dilatih sebelumnya untuk mendapatkan bobot embedding matrix dari layer Embedding"
      ],
      "metadata": {
        "id": "744ARazxE4Py"
      }
    },
    {
      "cell_type": "code",
      "source": [
        "! pip install glove-python-binary"
      ],
      "metadata": {
        "colab": {
          "base_uri": "https://localhost:8080/"
        },
        "id": "WanySAO5E7pa",
        "outputId": "9cae5333-0305-489a-d0be-1b9b30ae143c"
      },
      "execution_count": 19,
      "outputs": [
        {
          "output_type": "stream",
          "name": "stdout",
          "text": [
            "Requirement already satisfied: glove-python-binary in /usr/local/lib/python3.7/dist-packages (0.2.0)\n",
            "Requirement already satisfied: scipy in /usr/local/lib/python3.7/dist-packages (from glove-python-binary) (1.4.1)\n",
            "Requirement already satisfied: numpy in /usr/local/lib/python3.7/dist-packages (from glove-python-binary) (1.19.5)\n"
          ]
        }
      ]
    },
    {
      "cell_type": "code",
      "source": [
        "from glove import Corpus, Glove\n",
        "glove_model = Glove.load('/content/drive/MyDrive/Colab Notebooks/FP-DM/models/word_embeddings/glove5_300_100.txt')"
      ],
      "metadata": {
        "id": "vlR4-v7QE-3c"
      },
      "execution_count": 20,
      "outputs": []
    },
    {
      "cell_type": "code",
      "source": [
        "# Get the embedding matrix from Glove Model\n",
        "embedding_matrix = np.zeros((len(token2idx) + 1, 300))\n",
        "for word, i in token2idx.items():\n",
        "  embedding_vector = glove_model.word_vectors[glove_model.dictionary[word]]\n",
        "  if embedding_vector is not None:\n",
        "    embedding_matrix[i] = embedding_vector"
      ],
      "metadata": {
        "id": "CTsVFPsrFPsr"
      },
      "execution_count": 21,
      "outputs": []
    },
    {
      "cell_type": "code",
      "source": [
        "embedding_matrix.shape"
      ],
      "metadata": {
        "colab": {
          "base_uri": "https://localhost:8080/"
        },
        "id": "97OIvqAdFfDE",
        "outputId": "74617f3c-ca8d-4196-ece6-c0e025b09175"
      },
      "execution_count": 22,
      "outputs": [
        {
          "output_type": "execute_result",
          "data": {
            "text/plain": [
              "(8544, 300)"
            ]
          },
          "metadata": {},
          "execution_count": 22
        }
      ]
    },
    {
      "cell_type": "code",
      "source": [
        "embedding_layer = Embedding(input_dim=input_dim,\n",
        "                            output_dim=output_dim,\n",
        "                            input_length=input_length,\n",
        "                            weights=[embedding_matrix],\n",
        "                            trainable=False)"
      ],
      "metadata": {
        "id": "xbyXwIGAFhMj"
      },
      "execution_count": 23,
      "outputs": []
    },
    {
      "cell_type": "code",
      "source": [
        "def get_lstm_model():\n",
        "    model = Sequential()\n",
        "    model.add(embedding_layer)\n",
        "    model.add(GRU(units=output_dim, return_sequences=True, dropout=0.5, recurrent_dropout=0.5))\n",
        "    model.add(Dropout(0.5))\n",
        "    model.add(Dense(n_tags, activation=\"softmax\"))\n",
        "\n",
        "    opt = keras.optimizers.Adam(learning_rate=0.01)\n",
        "    model.compile(loss='sparse_categorical_crossentropy', optimizer=opt, metrics=['accuracy'])\n",
        "    model.summary()\n",
        "    \n",
        "    return model"
      ],
      "metadata": {
        "id": "7i7hQTXGsotQ"
      },
      "execution_count": 24,
      "outputs": []
    },
    {
      "cell_type": "code",
      "source": [
        "print(class_weight_dict)\n",
        "sample_weights = np.ones(shape=(len(train_label), train_label.shape[-1]))\n",
        "for i in range(17):\n",
        "    sample_weights[train_label == i] = class_weight_dict.get(i)\n",
        "print(sample_weights.shape)"
      ],
      "metadata": {
        "colab": {
          "base_uri": "https://localhost:8080/"
        },
        "id": "sj4xM5axwlJJ",
        "outputId": "14d10a61-488c-4759-da45-f8ead9e3b521"
      },
      "execution_count": 25,
      "outputs": [
        {
          "output_type": "stream",
          "name": "stdout",
          "text": [
            "{0: 0.1488172888281994, 1: 48.07881773399015, 2: 17.428571428571427, 3: 25.82010582010582, 4: 14.005102040816327, 5: 21.785714285714285, 6: 21.672834937083643}\n",
            "(1464, 60)\n"
          ]
        }
      ]
    },
    {
      "cell_type": "code",
      "source": [
        "nlp_model = get_lstm_model()\n",
        "plot_model(nlp_model)\n",
        "his = nlp_model.fit(train_tokens, train_label , batch_size = 64, epochs=25, validation_split=0.2, sample_weight = sample_weights)\n",
        "tf.keras.models.save_model(nlp_model, filepath  = '/content/drive/MyDrive/Colab Notebooks/FP-DM/model/GRU_glove_300_100.h5')"
      ],
      "metadata": {
        "colab": {
          "base_uri": "https://localhost:8080/"
        },
        "id": "WAFbCjaNwoDL",
        "outputId": "53734d11-a53e-4668-b478-594e7ece9dc5"
      },
      "execution_count": 26,
      "outputs": [
        {
          "output_type": "stream",
          "name": "stdout",
          "text": [
            "Model: \"sequential\"\n",
            "_________________________________________________________________\n",
            " Layer (type)                Output Shape              Param #   \n",
            "=================================================================\n",
            " embedding (Embedding)       (None, 60, 300)           2563200   \n",
            "                                                                 \n",
            " gru (GRU)                   (None, 60, 300)           541800    \n",
            "                                                                 \n",
            " dropout (Dropout)           (None, 60, 300)           0         \n",
            "                                                                 \n",
            " dense (Dense)               (None, 60, 7)             2107      \n",
            "                                                                 \n",
            "=================================================================\n",
            "Total params: 3,107,107\n",
            "Trainable params: 543,907\n",
            "Non-trainable params: 2,563,200\n",
            "_________________________________________________________________\n",
            "Epoch 1/25\n",
            "19/19 [==============================] - 19s 861ms/step - loss: 1.3681 - accuracy: 0.6298 - val_loss: 1.0656 - val_accuracy: 0.7647\n",
            "Epoch 2/25\n",
            "19/19 [==============================] - 16s 828ms/step - loss: 1.0082 - accuracy: 0.7872 - val_loss: 0.8902 - val_accuracy: 0.8016\n",
            "Epoch 3/25\n",
            "19/19 [==============================] - 16s 820ms/step - loss: 0.9158 - accuracy: 0.8018 - val_loss: 0.8482 - val_accuracy: 0.8128\n",
            "Epoch 4/25\n",
            "19/19 [==============================] - 16s 818ms/step - loss: 0.8288 - accuracy: 0.8029 - val_loss: 0.8387 - val_accuracy: 0.8085\n",
            "Epoch 5/25\n",
            "19/19 [==============================] - 16s 822ms/step - loss: 0.7878 - accuracy: 0.8092 - val_loss: 0.8069 - val_accuracy: 0.8061\n",
            "Epoch 6/25\n",
            "19/19 [==============================] - 15s 815ms/step - loss: 0.7885 - accuracy: 0.8131 - val_loss: 0.7911 - val_accuracy: 0.8052\n",
            "Epoch 7/25\n",
            "19/19 [==============================] - 16s 821ms/step - loss: 0.7525 - accuracy: 0.8114 - val_loss: 0.7711 - val_accuracy: 0.8132\n",
            "Epoch 8/25\n",
            "19/19 [==============================] - 16s 820ms/step - loss: 0.7311 - accuracy: 0.8131 - val_loss: 0.7778 - val_accuracy: 0.8092\n",
            "Epoch 9/25\n",
            "19/19 [==============================] - 16s 825ms/step - loss: 0.7103 - accuracy: 0.8224 - val_loss: 0.7728 - val_accuracy: 0.8039\n",
            "Epoch 10/25\n",
            "19/19 [==============================] - 16s 829ms/step - loss: 0.6927 - accuracy: 0.8183 - val_loss: 0.8309 - val_accuracy: 0.7957\n",
            "Epoch 11/25\n",
            "19/19 [==============================] - 16s 821ms/step - loss: 0.6675 - accuracy: 0.8146 - val_loss: 0.7853 - val_accuracy: 0.7897\n",
            "Epoch 12/25\n",
            "19/19 [==============================] - 16s 823ms/step - loss: 0.6827 - accuracy: 0.8136 - val_loss: 0.7507 - val_accuracy: 0.7907\n",
            "Epoch 13/25\n",
            "19/19 [==============================] - 15s 811ms/step - loss: 0.6576 - accuracy: 0.8185 - val_loss: 0.7808 - val_accuracy: 0.8058\n",
            "Epoch 14/25\n",
            "19/19 [==============================] - 16s 821ms/step - loss: 0.6541 - accuracy: 0.8185 - val_loss: 0.7620 - val_accuracy: 0.8124\n",
            "Epoch 15/25\n",
            "19/19 [==============================] - 15s 815ms/step - loss: 0.6479 - accuracy: 0.8170 - val_loss: 0.7412 - val_accuracy: 0.8126\n",
            "Epoch 16/25\n",
            "19/19 [==============================] - 16s 822ms/step - loss: 0.6392 - accuracy: 0.8215 - val_loss: 0.7516 - val_accuracy: 0.8102\n",
            "Epoch 17/25\n",
            "19/19 [==============================] - 16s 824ms/step - loss: 0.6571 - accuracy: 0.8132 - val_loss: 0.7611 - val_accuracy: 0.8185\n",
            "Epoch 18/25\n",
            "19/19 [==============================] - 16s 824ms/step - loss: 0.6689 - accuracy: 0.8163 - val_loss: 0.8301 - val_accuracy: 0.8225\n",
            "Epoch 19/25\n",
            "19/19 [==============================] - 16s 820ms/step - loss: 0.7016 - accuracy: 0.8143 - val_loss: 0.8327 - val_accuracy: 0.8128\n",
            "Epoch 20/25\n",
            "19/19 [==============================] - 15s 807ms/step - loss: 0.8336 - accuracy: 0.8025 - val_loss: 0.8481 - val_accuracy: 0.8284\n",
            "Epoch 21/25\n",
            "19/19 [==============================] - 15s 802ms/step - loss: 0.8409 - accuracy: 0.7960 - val_loss: 0.8389 - val_accuracy: 0.8208\n",
            "Epoch 22/25\n",
            "19/19 [==============================] - 15s 807ms/step - loss: 0.8902 - accuracy: 0.7892 - val_loss: 0.8297 - val_accuracy: 0.8155\n",
            "Epoch 23/25\n",
            "19/19 [==============================] - 15s 814ms/step - loss: 1.0513 - accuracy: 0.7404 - val_loss: 0.8546 - val_accuracy: 0.8578\n",
            "Epoch 24/25\n",
            "19/19 [==============================] - 15s 807ms/step - loss: 1.2777 - accuracy: 0.6968 - val_loss: 1.0039 - val_accuracy: 0.8345\n",
            "Epoch 25/25\n",
            "19/19 [==============================] - 15s 810ms/step - loss: 1.4460 - accuracy: 0.6371 - val_loss: 1.2428 - val_accuracy: 0.7855\n"
          ]
        }
      ]
    },
    {
      "cell_type": "code",
      "source": [
        "# Plot results\n",
        "import matplotlib.pyplot as plt\n",
        "\n",
        "accuracy = his.history['accuracy']\n",
        "val_acc = his.history['val_accuracy']\n",
        "loss = his.history['loss']\n",
        "val_loss = his.history['val_loss']\n",
        "\n",
        "epochs = range(1, len(accuracy)+1)\n",
        "\n",
        "plt.plot(epochs, accuracy, 'g', label='Training accuracy')\n",
        "plt.plot(epochs, val_acc, 'r', label='Validation accuracy')\n",
        "plt.title('Training and validation accuracy')\n",
        "plt.legend()\n",
        "\n",
        "plt.figure()\n",
        "\n",
        "plt.plot(epochs, loss, 'g', label='Training loss')\n",
        "plt.plot(epochs, val_loss, 'r', label='Validation loss')\n",
        "plt.title('Training and validation loss')\n",
        "plt.legend()\n",
        "\n",
        "plt.show()"
      ],
      "metadata": {
        "colab": {
          "base_uri": "https://localhost:8080/",
          "height": 545
        },
        "id": "c8-oIbSp81Tu",
        "outputId": "9a58be5d-cbd3-4696-d9e0-6da28508a9e7"
      },
      "execution_count": 27,
      "outputs": [
        {
          "output_type": "display_data",
          "data": {
            "image/png": "[encoded data removed]",
            "text/plain": [
              "<Figure size 432x288 with 1 Axes>"
            ]
          },
          "metadata": {
            "needs_background": "light"
          }
        },
        {
          "output_type": "display_data",
          "data": {
            "image/png": "[encoded data removed]",
            "text/plain": [
              "<Figure size 432x288 with 1 Axes>"
            ]
          },
          "metadata": {
            "needs_background": "light"
          }
        }
      ]
    },
    {
      "cell_type": "code",
      "source": [
        "nlp_model = tf.keras.models.load_model('/content/drive/MyDrive/Colab Notebooks/FP-DM/model/GRU_glove_300_100.h5')\n",
        "\n",
        "y_test = np.argmax(test_tags, axis=-1)\n",
        "print(test_tokens.shape,y_test.shape)\n",
        "nlp_model.evaluate(test_tokens, y_test)"
      ],
      "metadata": {
        "colab": {
          "base_uri": "https://localhost:8080/"
        },
        "id": "F0bXVaVk8-vd",
        "outputId": "7a52ec05-6d89-4251-dda9-4f1df30772fa"
      },
      "execution_count": 28,
      "outputs": [
        {
          "output_type": "stream",
          "name": "stdout",
          "text": [
            "(509, 60) (509, 60)\n",
            "16/16 [==============================] - 2s 78ms/step - loss: 1.0382 - accuracy: 0.6937\n"
          ]
        },
        {
          "output_type": "execute_result",
          "data": {
            "text/plain": [
              "[1.038211464881897, 0.6936804056167603]"
            ]
          },
          "metadata": {},
          "execution_count": 28
        }
      ]
    },
    {
      "cell_type": "code",
      "source": [
        "y_pred = nlp_model.predict(test_tokens)\n",
        "y_pred = np.argmax(y_pred, axis= -1)"
      ],
      "metadata": {
        "id": "Uc7T56Tw9NH5"
      },
      "execution_count": 29,
      "outputs": []
    },
    {
      "cell_type": "code",
      "source": [
        "y_test_list = []\n",
        "y_pred_list = []\n",
        "for row in range(0, y_test.shape[0]):\n",
        "  y_pred_list = np.concatenate((y_pred_list, y_pred[row]), axis=0)\n",
        "  y_test_list = np.concatenate((y_test_list, y_test[row]), axis=0)"
      ],
      "metadata": {
        "id": "LsZZp8T19YZ6"
      },
      "execution_count": 30,
      "outputs": []
    },
    {
      "cell_type": "code",
      "source": [
        "data_prediction = pd.DataFrame({'actual_class': y_test_list, 'predicted_class': y_pred_list})\n",
        "data_prediction['actual_class'] = data_prediction['actual_class'].map(idx2tag)\n",
        "data_prediction['predicted_class'] = data_prediction['predicted_class'].map(idx2tag)\n",
        "data_prediction"
      ],
      "metadata": {
        "colab": {
          "base_uri": "https://localhost:8080/",
          "height": 424
        },
        "id": "-fckwrKJ9a5l",
        "outputId": "0cf296ba-6704-42da-d7a3-1e2dd65383cb"
      },
      "execution_count": 31,
      "outputs": [
        {
          "output_type": "execute_result",
          "data": {
            "text/html": [
              "<div>\n",
              "<style scoped>\n",
              "    .dataframe tbody tr th:only-of-type {\n",
              "        vertical-align: middle;\n",
              "    }\n",
              "\n",
              "    .dataframe tbody tr th {\n",
              "        vertical-align: top;\n",
              "    }\n",
              "\n",
              "    .dataframe thead th {\n",
              "        text-align: right;\n",
              "    }\n",
              "</style>\n",
              "<table border=\"1\" class=\"dataframe\">\n",
              "  <thead>\n",
              "    <tr style=\"text-align: right;\">\n",
              "      <th></th>\n",
              "      <th>actual_class</th>\n",
              "      <th>predicted_class</th>\n",
              "    </tr>\n",
              "  </thead>\n",
              "  <tbody>\n",
              "    <tr>\n",
              "      <th>0</th>\n",
              "      <td>O</td>\n",
              "      <td>B-PER</td>\n",
              "    </tr>\n",
              "    <tr>\n",
              "      <th>1</th>\n",
              "      <td>O</td>\n",
              "      <td>B-PER</td>\n",
              "    </tr>\n",
              "    <tr>\n",
              "      <th>2</th>\n",
              "      <td>O</td>\n",
              "      <td>O</td>\n",
              "    </tr>\n",
              "    <tr>\n",
              "      <th>3</th>\n",
              "      <td>O</td>\n",
              "      <td>B-PER</td>\n",
              "    </tr>\n",
              "    <tr>\n",
              "      <th>4</th>\n",
              "      <td>O</td>\n",
              "      <td>O</td>\n",
              "    </tr>\n",
              "    <tr>\n",
              "      <th>...</th>\n",
              "      <td>...</td>\n",
              "      <td>...</td>\n",
              "    </tr>\n",
              "    <tr>\n",
              "      <th>30535</th>\n",
              "      <td>O</td>\n",
              "      <td>O</td>\n",
              "    </tr>\n",
              "    <tr>\n",
              "      <th>30536</th>\n",
              "      <td>O</td>\n",
              "      <td>O</td>\n",
              "    </tr>\n",
              "    <tr>\n",
              "      <th>30537</th>\n",
              "      <td>O</td>\n",
              "      <td>O</td>\n",
              "    </tr>\n",
              "    <tr>\n",
              "      <th>30538</th>\n",
              "      <td>O</td>\n",
              "      <td>O</td>\n",
              "    </tr>\n",
              "    <tr>\n",
              "      <th>30539</th>\n",
              "      <td>O</td>\n",
              "      <td>O</td>\n",
              "    </tr>\n",
              "  </tbody>\n",
              "</table>\n",
              "<p>30540 rows × 2 columns</p>\n",
              "</div>"
            ],
            "text/plain": [
              "      actual_class predicted_class\n",
              "0                O           B-PER\n",
              "1                O           B-PER\n",
              "2                O               O\n",
              "3                O           B-PER\n",
              "4                O               O\n",
              "...            ...             ...\n",
              "30535            O               O\n",
              "30536            O               O\n",
              "30537            O               O\n",
              "30538            O               O\n",
              "30539            O               O\n",
              "\n",
              "[30540 rows x 2 columns]"
            ]
          },
          "metadata": {},
          "execution_count": 31
        }
      ]
    },
    {
      "cell_type": "code",
      "source": [
        "confusion_matrix = pd.crosstab(data_prediction['predicted_class'], data_prediction['actual_class'])\n",
        "confusion_matrix"
      ],
      "metadata": {
        "colab": {
          "base_uri": "https://localhost:8080/",
          "height": 300
        },
        "id": "51Elzni_9fKT",
        "outputId": "6f6ee16f-6523-4e38-8d8a-a87bba0d5148"
      },
      "execution_count": 32,
      "outputs": [
        {
          "output_type": "execute_result",
          "data": {
            "text/html": [
              "<div>\n",
              "<style scoped>\n",
              "    .dataframe tbody tr th:only-of-type {\n",
              "        vertical-align: middle;\n",
              "    }\n",
              "\n",
              "    .dataframe tbody tr th {\n",
              "        vertical-align: top;\n",
              "    }\n",
              "\n",
              "    .dataframe thead th {\n",
              "        text-align: right;\n",
              "    }\n",
              "</style>\n",
              "<table border=\"1\" class=\"dataframe\">\n",
              "  <thead>\n",
              "    <tr style=\"text-align: right;\">\n",
              "      <th>actual_class</th>\n",
              "      <th>B-LOC</th>\n",
              "      <th>B-ORG</th>\n",
              "      <th>B-PER</th>\n",
              "      <th>I-LOC</th>\n",
              "      <th>I-ORG</th>\n",
              "      <th>I-PER</th>\n",
              "      <th>O</th>\n",
              "    </tr>\n",
              "    <tr>\n",
              "      <th>predicted_class</th>\n",
              "      <th></th>\n",
              "      <th></th>\n",
              "      <th></th>\n",
              "      <th></th>\n",
              "      <th></th>\n",
              "      <th></th>\n",
              "      <th></th>\n",
              "    </tr>\n",
              "  </thead>\n",
              "  <tbody>\n",
              "    <tr>\n",
              "      <th>B-LOC</th>\n",
              "      <td>195</td>\n",
              "      <td>55</td>\n",
              "      <td>27</td>\n",
              "      <td>9</td>\n",
              "      <td>25</td>\n",
              "      <td>1</td>\n",
              "      <td>2275</td>\n",
              "    </tr>\n",
              "    <tr>\n",
              "      <th>B-ORG</th>\n",
              "      <td>3</td>\n",
              "      <td>339</td>\n",
              "      <td>39</td>\n",
              "      <td>6</td>\n",
              "      <td>100</td>\n",
              "      <td>4</td>\n",
              "      <td>1480</td>\n",
              "    </tr>\n",
              "    <tr>\n",
              "      <th>B-PER</th>\n",
              "      <td>26</td>\n",
              "      <td>46</td>\n",
              "      <td>426</td>\n",
              "      <td>2</td>\n",
              "      <td>17</td>\n",
              "      <td>67</td>\n",
              "      <td>2072</td>\n",
              "    </tr>\n",
              "    <tr>\n",
              "      <th>I-LOC</th>\n",
              "      <td>27</td>\n",
              "      <td>49</td>\n",
              "      <td>64</td>\n",
              "      <td>137</td>\n",
              "      <td>72</td>\n",
              "      <td>89</td>\n",
              "      <td>2090</td>\n",
              "    </tr>\n",
              "    <tr>\n",
              "      <th>I-ORG</th>\n",
              "      <td>0</td>\n",
              "      <td>20</td>\n",
              "      <td>6</td>\n",
              "      <td>0</td>\n",
              "      <td>139</td>\n",
              "      <td>11</td>\n",
              "      <td>132</td>\n",
              "    </tr>\n",
              "    <tr>\n",
              "      <th>I-PER</th>\n",
              "      <td>1</td>\n",
              "      <td>3</td>\n",
              "      <td>31</td>\n",
              "      <td>4</td>\n",
              "      <td>23</td>\n",
              "      <td>100</td>\n",
              "      <td>196</td>\n",
              "    </tr>\n",
              "    <tr>\n",
              "      <th>O</th>\n",
              "      <td>1</td>\n",
              "      <td>68</td>\n",
              "      <td>127</td>\n",
              "      <td>1</td>\n",
              "      <td>32</td>\n",
              "      <td>54</td>\n",
              "      <td>19849</td>\n",
              "    </tr>\n",
              "  </tbody>\n",
              "</table>\n",
              "</div>"
            ],
            "text/plain": [
              "actual_class     B-LOC  B-ORG  B-PER  I-LOC  I-ORG  I-PER      O\n",
              "predicted_class                                                 \n",
              "B-LOC              195     55     27      9     25      1   2275\n",
              "B-ORG                3    339     39      6    100      4   1480\n",
              "B-PER               26     46    426      2     17     67   2072\n",
              "I-LOC               27     49     64    137     72     89   2090\n",
              "I-ORG                0     20      6      0    139     11    132\n",
              "I-PER                1      3     31      4     23    100    196\n",
              "O                    1     68    127      1     32     54  19849"
            ]
          },
          "metadata": {},
          "execution_count": 32
        }
      ]
    },
    {
      "cell_type": "code",
      "source": [
        "from sklearn.metrics import classification_report\n",
        "pd.DataFrame(classification_report(data_prediction['actual_class'], data_prediction['predicted_class'], labels=['O', 'I-LOC', 'B-ORG', 'I-PER', 'B-PER', 'I-ORG', 'B-LOC'], output_dict=True)).T"
      ],
      "metadata": {
        "colab": {
          "base_uri": "https://localhost:8080/",
          "height": 363
        },
        "id": "txg37RkYBMq9",
        "outputId": "13861985-1cba-4fdf-cb26-c8eb92852689"
      },
      "execution_count": 33,
      "outputs": [
        {
          "output_type": "execute_result",
          "data": {
            "text/html": [
              "<div>\n",
              "<style scoped>\n",
              "    .dataframe tbody tr th:only-of-type {\n",
              "        vertical-align: middle;\n",
              "    }\n",
              "\n",
              "    .dataframe tbody tr th {\n",
              "        vertical-align: top;\n",
              "    }\n",
              "\n",
              "    .dataframe thead th {\n",
              "        text-align: right;\n",
              "    }\n",
              "</style>\n",
              "<table border=\"1\" class=\"dataframe\">\n",
              "  <thead>\n",
              "    <tr style=\"text-align: right;\">\n",
              "      <th></th>\n",
              "      <th>precision</th>\n",
              "      <th>recall</th>\n",
              "      <th>f1-score</th>\n",
              "      <th>support</th>\n",
              "    </tr>\n",
              "  </thead>\n",
              "  <tbody>\n",
              "    <tr>\n",
              "      <th>O</th>\n",
              "      <td>0.985943</td>\n",
              "      <td>0.706521</td>\n",
              "      <td>0.823166</td>\n",
              "      <td>28094.00000</td>\n",
              "    </tr>\n",
              "    <tr>\n",
              "      <th>I-LOC</th>\n",
              "      <td>0.054193</td>\n",
              "      <td>0.861635</td>\n",
              "      <td>0.101972</td>\n",
              "      <td>159.00000</td>\n",
              "    </tr>\n",
              "    <tr>\n",
              "      <th>B-ORG</th>\n",
              "      <td>0.171994</td>\n",
              "      <td>0.584483</td>\n",
              "      <td>0.265778</td>\n",
              "      <td>580.00000</td>\n",
              "    </tr>\n",
              "    <tr>\n",
              "      <th>I-PER</th>\n",
              "      <td>0.279330</td>\n",
              "      <td>0.306748</td>\n",
              "      <td>0.292398</td>\n",
              "      <td>326.00000</td>\n",
              "    </tr>\n",
              "    <tr>\n",
              "      <th>B-PER</th>\n",
              "      <td>0.160392</td>\n",
              "      <td>0.591667</td>\n",
              "      <td>0.252370</td>\n",
              "      <td>720.00000</td>\n",
              "    </tr>\n",
              "    <tr>\n",
              "      <th>I-ORG</th>\n",
              "      <td>0.451299</td>\n",
              "      <td>0.340686</td>\n",
              "      <td>0.388268</td>\n",
              "      <td>408.00000</td>\n",
              "    </tr>\n",
              "    <tr>\n",
              "      <th>B-LOC</th>\n",
              "      <td>0.075377</td>\n",
              "      <td>0.770751</td>\n",
              "      <td>0.137324</td>\n",
              "      <td>253.00000</td>\n",
              "    </tr>\n",
              "    <tr>\n",
              "      <th>accuracy</th>\n",
              "      <td>0.693680</td>\n",
              "      <td>0.693680</td>\n",
              "      <td>0.693680</td>\n",
              "      <td>0.69368</td>\n",
              "    </tr>\n",
              "    <tr>\n",
              "      <th>macro avg</th>\n",
              "      <td>0.311218</td>\n",
              "      <td>0.594642</td>\n",
              "      <td>0.323039</td>\n",
              "      <td>30540.00000</td>\n",
              "    </tr>\n",
              "    <tr>\n",
              "      <th>weighted avg</th>\n",
              "      <td>0.923942</td>\n",
              "      <td>0.693680</td>\n",
              "      <td>0.778211</td>\n",
              "      <td>30540.00000</td>\n",
              "    </tr>\n",
              "  </tbody>\n",
              "</table>\n",
              "</div>"
            ],
            "text/plain": [
              "              precision    recall  f1-score      support\n",
              "O              0.985943  0.706521  0.823166  28094.00000\n",
              "I-LOC          0.054193  0.861635  0.101972    159.00000\n",
              "B-ORG          0.171994  0.584483  0.265778    580.00000\n",
              "I-PER          0.279330  0.306748  0.292398    326.00000\n",
              "B-PER          0.160392  0.591667  0.252370    720.00000\n",
              "I-ORG          0.451299  0.340686  0.388268    408.00000\n",
              "B-LOC          0.075377  0.770751  0.137324    253.00000\n",
              "accuracy       0.693680  0.693680  0.693680      0.69368\n",
              "macro avg      0.311218  0.594642  0.323039  30540.00000\n",
              "weighted avg   0.923942  0.693680  0.778211  30540.00000"
            ]
          },
          "metadata": {},
          "execution_count": 33
        }
      ]
    },
    {
      "cell_type": "markdown",
      "source": [
        "Bagaimana jika data padding diabaikan saat menghitung confusion matrix?"
      ],
      "metadata": {
        "id": "cmFbwc6z-gEk"
      }
    },
    {
      "cell_type": "code",
      "source": [
        "y_pred_list = y_pred.tolist()\n",
        "y_test_list = y_test.tolist()"
      ],
      "metadata": {
        "id": "ZtKm2GgZ-wRz"
      },
      "execution_count": 34,
      "outputs": []
    },
    {
      "cell_type": "code",
      "source": [
        "# Clean the test and pred data from padding data\n",
        "clean_pred = []\n",
        "clean_test = []\n",
        "for row in range(0, test_tokens.shape[0]):\n",
        "  # print(row, test_tokens[row])\n",
        "  pad_list = []\n",
        "  for i in range(0, len(test_tokens[row])):\n",
        "    if(test_tokens[row][i] == token2idx['ENDPAD']):\n",
        "      pad_list.append(i)\n",
        "\n",
        "  pad_list.sort(reverse=True)\n",
        "  for idx in pad_list:\n",
        "  #   clean_pred[row] = clean_pred[row] + np.delete(y_pred[row], idx)\n",
        "  #   clean_test[row] = clean_test[row] + np.delete(y_test[row], idx)\n",
        "    y_pred_list[row].pop(idx)\n",
        "    y_test_list[row].pop(idx)"
      ],
      "metadata": {
        "id": "Ceei5lBx-6l7"
      },
      "execution_count": 35,
      "outputs": []
    },
    {
      "cell_type": "code",
      "source": [
        "y_test_rows = []\n",
        "y_pred_rows = []\n",
        "for row in range(0, y_test.shape[0]):\n",
        "  # y_pred_list = y_pred_list + y_pred[row]\n",
        "  y_test_rows = np.concatenate((y_test_rows, y_test_list[row]), axis=0)\n",
        "  y_pred_rows = np.concatenate((y_pred_rows, y_pred_list[row]), axis=0)"
      ],
      "metadata": {
        "id": "gCZ5QaxW---v"
      },
      "execution_count": 36,
      "outputs": []
    },
    {
      "cell_type": "code",
      "source": [
        "data_prediction = pd.DataFrame({'actual_class': y_test_rows, 'predicted_class': y_pred_rows})\n",
        "data_prediction['actual_class'] = data_prediction['actual_class'].map(idx2tag)\n",
        "data_prediction['predicted_class'] = data_prediction['predicted_class'].map(idx2tag)\n",
        "data_prediction"
      ],
      "metadata": {
        "colab": {
          "base_uri": "https://localhost:8080/",
          "height": 424
        },
        "id": "YiRWeaZX_KMN",
        "outputId": "250deeac-33a8-41c5-ac8b-a6a9ff3add6c"
      },
      "execution_count": 37,
      "outputs": [
        {
          "output_type": "execute_result",
          "data": {
            "text/html": [
              "<div>\n",
              "<style scoped>\n",
              "    .dataframe tbody tr th:only-of-type {\n",
              "        vertical-align: middle;\n",
              "    }\n",
              "\n",
              "    .dataframe tbody tr th {\n",
              "        vertical-align: top;\n",
              "    }\n",
              "\n",
              "    .dataframe thead th {\n",
              "        text-align: right;\n",
              "    }\n",
              "</style>\n",
              "<table border=\"1\" class=\"dataframe\">\n",
              "  <thead>\n",
              "    <tr style=\"text-align: right;\">\n",
              "      <th></th>\n",
              "      <th>actual_class</th>\n",
              "      <th>predicted_class</th>\n",
              "    </tr>\n",
              "  </thead>\n",
              "  <tbody>\n",
              "    <tr>\n",
              "      <th>0</th>\n",
              "      <td>O</td>\n",
              "      <td>B-PER</td>\n",
              "    </tr>\n",
              "    <tr>\n",
              "      <th>1</th>\n",
              "      <td>O</td>\n",
              "      <td>B-PER</td>\n",
              "    </tr>\n",
              "    <tr>\n",
              "      <th>2</th>\n",
              "      <td>O</td>\n",
              "      <td>O</td>\n",
              "    </tr>\n",
              "    <tr>\n",
              "      <th>3</th>\n",
              "      <td>O</td>\n",
              "      <td>B-PER</td>\n",
              "    </tr>\n",
              "    <tr>\n",
              "      <th>4</th>\n",
              "      <td>O</td>\n",
              "      <td>O</td>\n",
              "    </tr>\n",
              "    <tr>\n",
              "      <th>...</th>\n",
              "      <td>...</td>\n",
              "      <td>...</td>\n",
              "    </tr>\n",
              "    <tr>\n",
              "      <th>17985</th>\n",
              "      <td>O</td>\n",
              "      <td>B-ORG</td>\n",
              "    </tr>\n",
              "    <tr>\n",
              "      <th>17986</th>\n",
              "      <td>O</td>\n",
              "      <td>B-PER</td>\n",
              "    </tr>\n",
              "    <tr>\n",
              "      <th>17987</th>\n",
              "      <td>O</td>\n",
              "      <td>O</td>\n",
              "    </tr>\n",
              "    <tr>\n",
              "      <th>17988</th>\n",
              "      <td>O</td>\n",
              "      <td>O</td>\n",
              "    </tr>\n",
              "    <tr>\n",
              "      <th>17989</th>\n",
              "      <td>O</td>\n",
              "      <td>O</td>\n",
              "    </tr>\n",
              "  </tbody>\n",
              "</table>\n",
              "<p>17990 rows × 2 columns</p>\n",
              "</div>"
            ],
            "text/plain": [
              "      actual_class predicted_class\n",
              "0                O           B-PER\n",
              "1                O           B-PER\n",
              "2                O               O\n",
              "3                O           B-PER\n",
              "4                O               O\n",
              "...            ...             ...\n",
              "17985            O           B-ORG\n",
              "17986            O           B-PER\n",
              "17987            O               O\n",
              "17988            O               O\n",
              "17989            O               O\n",
              "\n",
              "[17990 rows x 2 columns]"
            ]
          },
          "metadata": {},
          "execution_count": 37
        }
      ]
    },
    {
      "cell_type": "code",
      "source": [
        "confusion_matrix = pd.crosstab(data_prediction['predicted_class'], data_prediction['actual_class'])\n",
        "confusion_matrix"
      ],
      "metadata": {
        "colab": {
          "base_uri": "https://localhost:8080/",
          "height": 300
        },
        "id": "4dhCSILe_Pbj",
        "outputId": "1ed6f6b1-eae3-4815-ac52-03f8dac2e2f7"
      },
      "execution_count": 38,
      "outputs": [
        {
          "output_type": "execute_result",
          "data": {
            "text/html": [
              "<div>\n",
              "<style scoped>\n",
              "    .dataframe tbody tr th:only-of-type {\n",
              "        vertical-align: middle;\n",
              "    }\n",
              "\n",
              "    .dataframe tbody tr th {\n",
              "        vertical-align: top;\n",
              "    }\n",
              "\n",
              "    .dataframe thead th {\n",
              "        text-align: right;\n",
              "    }\n",
              "</style>\n",
              "<table border=\"1\" class=\"dataframe\">\n",
              "  <thead>\n",
              "    <tr style=\"text-align: right;\">\n",
              "      <th>actual_class</th>\n",
              "      <th>B-LOC</th>\n",
              "      <th>B-ORG</th>\n",
              "      <th>B-PER</th>\n",
              "      <th>I-LOC</th>\n",
              "      <th>I-ORG</th>\n",
              "      <th>I-PER</th>\n",
              "      <th>O</th>\n",
              "    </tr>\n",
              "    <tr>\n",
              "      <th>predicted_class</th>\n",
              "      <th></th>\n",
              "      <th></th>\n",
              "      <th></th>\n",
              "      <th></th>\n",
              "      <th></th>\n",
              "      <th></th>\n",
              "      <th></th>\n",
              "    </tr>\n",
              "  </thead>\n",
              "  <tbody>\n",
              "    <tr>\n",
              "      <th>B-LOC</th>\n",
              "      <td>195</td>\n",
              "      <td>55</td>\n",
              "      <td>27</td>\n",
              "      <td>9</td>\n",
              "      <td>25</td>\n",
              "      <td>1</td>\n",
              "      <td>2237</td>\n",
              "    </tr>\n",
              "    <tr>\n",
              "      <th>B-ORG</th>\n",
              "      <td>3</td>\n",
              "      <td>339</td>\n",
              "      <td>39</td>\n",
              "      <td>6</td>\n",
              "      <td>100</td>\n",
              "      <td>4</td>\n",
              "      <td>1479</td>\n",
              "    </tr>\n",
              "    <tr>\n",
              "      <th>B-PER</th>\n",
              "      <td>26</td>\n",
              "      <td>46</td>\n",
              "      <td>426</td>\n",
              "      <td>2</td>\n",
              "      <td>17</td>\n",
              "      <td>67</td>\n",
              "      <td>1981</td>\n",
              "    </tr>\n",
              "    <tr>\n",
              "      <th>I-LOC</th>\n",
              "      <td>27</td>\n",
              "      <td>49</td>\n",
              "      <td>64</td>\n",
              "      <td>137</td>\n",
              "      <td>72</td>\n",
              "      <td>89</td>\n",
              "      <td>1857</td>\n",
              "    </tr>\n",
              "    <tr>\n",
              "      <th>I-ORG</th>\n",
              "      <td>0</td>\n",
              "      <td>20</td>\n",
              "      <td>6</td>\n",
              "      <td>0</td>\n",
              "      <td>139</td>\n",
              "      <td>11</td>\n",
              "      <td>132</td>\n",
              "    </tr>\n",
              "    <tr>\n",
              "      <th>I-PER</th>\n",
              "      <td>1</td>\n",
              "      <td>3</td>\n",
              "      <td>31</td>\n",
              "      <td>4</td>\n",
              "      <td>23</td>\n",
              "      <td>100</td>\n",
              "      <td>196</td>\n",
              "    </tr>\n",
              "    <tr>\n",
              "      <th>O</th>\n",
              "      <td>1</td>\n",
              "      <td>68</td>\n",
              "      <td>127</td>\n",
              "      <td>1</td>\n",
              "      <td>32</td>\n",
              "      <td>54</td>\n",
              "      <td>7662</td>\n",
              "    </tr>\n",
              "  </tbody>\n",
              "</table>\n",
              "</div>"
            ],
            "text/plain": [
              "actual_class     B-LOC  B-ORG  B-PER  I-LOC  I-ORG  I-PER     O\n",
              "predicted_class                                                \n",
              "B-LOC              195     55     27      9     25      1  2237\n",
              "B-ORG                3    339     39      6    100      4  1479\n",
              "B-PER               26     46    426      2     17     67  1981\n",
              "I-LOC               27     49     64    137     72     89  1857\n",
              "I-ORG                0     20      6      0    139     11   132\n",
              "I-PER                1      3     31      4     23    100   196\n",
              "O                    1     68    127      1     32     54  7662"
            ]
          },
          "metadata": {},
          "execution_count": 38
        }
      ]
    },
    {
      "cell_type": "code",
      "source": [
        "pd.DataFrame(classification_report(data_prediction['actual_class'], data_prediction['predicted_class'], labels=['O', 'I-LOC', 'B-ORG', 'I-PER', 'B-PER', 'I-ORG', 'B-LOC'], output_dict=True)).T"
      ],
      "metadata": {
        "colab": {
          "base_uri": "https://localhost:8080/",
          "height": 363
        },
        "id": "bFITKrHM_TBV",
        "outputId": "82351b95-7927-460a-c170-a4cceb5c0be1"
      },
      "execution_count": 39,
      "outputs": [
        {
          "output_type": "execute_result",
          "data": {
            "text/html": [
              "<div>\n",
              "<style scoped>\n",
              "    .dataframe tbody tr th:only-of-type {\n",
              "        vertical-align: middle;\n",
              "    }\n",
              "\n",
              "    .dataframe tbody tr th {\n",
              "        vertical-align: top;\n",
              "    }\n",
              "\n",
              "    .dataframe thead th {\n",
              "        text-align: right;\n",
              "    }\n",
              "</style>\n",
              "<table border=\"1\" class=\"dataframe\">\n",
              "  <thead>\n",
              "    <tr style=\"text-align: right;\">\n",
              "      <th></th>\n",
              "      <th>precision</th>\n",
              "      <th>recall</th>\n",
              "      <th>f1-score</th>\n",
              "      <th>support</th>\n",
              "    </tr>\n",
              "  </thead>\n",
              "  <tbody>\n",
              "    <tr>\n",
              "      <th>O</th>\n",
              "      <td>0.964380</td>\n",
              "      <td>0.492923</td>\n",
              "      <td>0.652390</td>\n",
              "      <td>15544.000000</td>\n",
              "    </tr>\n",
              "    <tr>\n",
              "      <th>I-LOC</th>\n",
              "      <td>0.059695</td>\n",
              "      <td>0.861635</td>\n",
              "      <td>0.111654</td>\n",
              "      <td>159.000000</td>\n",
              "    </tr>\n",
              "    <tr>\n",
              "      <th>B-ORG</th>\n",
              "      <td>0.172081</td>\n",
              "      <td>0.584483</td>\n",
              "      <td>0.265882</td>\n",
              "      <td>580.000000</td>\n",
              "    </tr>\n",
              "    <tr>\n",
              "      <th>I-PER</th>\n",
              "      <td>0.279330</td>\n",
              "      <td>0.306748</td>\n",
              "      <td>0.292398</td>\n",
              "      <td>326.000000</td>\n",
              "    </tr>\n",
              "    <tr>\n",
              "      <th>B-PER</th>\n",
              "      <td>0.166082</td>\n",
              "      <td>0.591667</td>\n",
              "      <td>0.259361</td>\n",
              "      <td>720.000000</td>\n",
              "    </tr>\n",
              "    <tr>\n",
              "      <th>I-ORG</th>\n",
              "      <td>0.451299</td>\n",
              "      <td>0.340686</td>\n",
              "      <td>0.388268</td>\n",
              "      <td>408.000000</td>\n",
              "    </tr>\n",
              "    <tr>\n",
              "      <th>B-LOC</th>\n",
              "      <td>0.076501</td>\n",
              "      <td>0.770751</td>\n",
              "      <td>0.139186</td>\n",
              "      <td>253.000000</td>\n",
              "    </tr>\n",
              "    <tr>\n",
              "      <th>accuracy</th>\n",
              "      <td>0.500167</td>\n",
              "      <td>0.500167</td>\n",
              "      <td>0.500167</td>\n",
              "      <td>0.500167</td>\n",
              "    </tr>\n",
              "    <tr>\n",
              "      <th>macro avg</th>\n",
              "      <td>0.309910</td>\n",
              "      <td>0.564128</td>\n",
              "      <td>0.301306</td>\n",
              "      <td>17990.000000</td>\n",
              "    </tr>\n",
              "    <tr>\n",
              "      <th>weighted avg</th>\n",
              "      <td>0.862354</td>\n",
              "      <td>0.500167</td>\n",
              "      <td>0.599689</td>\n",
              "      <td>17990.000000</td>\n",
              "    </tr>\n",
              "  </tbody>\n",
              "</table>\n",
              "</div>"
            ],
            "text/plain": [
              "              precision    recall  f1-score       support\n",
              "O              0.964380  0.492923  0.652390  15544.000000\n",
              "I-LOC          0.059695  0.861635  0.111654    159.000000\n",
              "B-ORG          0.172081  0.584483  0.265882    580.000000\n",
              "I-PER          0.279330  0.306748  0.292398    326.000000\n",
              "B-PER          0.166082  0.591667  0.259361    720.000000\n",
              "I-ORG          0.451299  0.340686  0.388268    408.000000\n",
              "B-LOC          0.076501  0.770751  0.139186    253.000000\n",
              "accuracy       0.500167  0.500167  0.500167      0.500167\n",
              "macro avg      0.309910  0.564128  0.301306  17990.000000\n",
              "weighted avg   0.862354  0.500167  0.599689  17990.000000"
            ]
          },
          "metadata": {},
          "execution_count": 39
        }
      ]
    }
  ]
}