{
  "nbformat": 4,
  "nbformat_minor": 0,
  "metadata": {
    "colab": {
      "name": "CNN_Word2vec.ipynb",
      "provenance": [],
      "collapsed_sections": [],
      "authorship_tag": "ABX9TyO79WUSKb4y/hd85iepJXE4",
      "include_colab_link": true
    },
    "kernelspec": {
      "name": "python3",
      "display_name": "Python 3"
    },
    "language_info": {
      "name": "python"
    }
  },
  "cells": [
    {
      "cell_type": "markdown",
      "metadata": {
        "id": "view-in-github",
        "colab_type": "text"
      },
      "source": [
        "<a href=\"https://colab.research.google.com/github/swardiantara/fp-dm-2021/blob/main/CNN_Word2vec.ipynb\" target=\"_parent\"><img src=\"https://colab.research.google.com/assets/colab-badge.svg\" alt=\"Open In Colab\"/></a>"
      ]
    },
    {
      "cell_type": "code",
      "metadata": {
        "colab": {
          "base_uri": "https://localhost:8080/"
        },
        "id": "bf4q85Ay3Pu0",
        "outputId": "4b647758-19aa-461d-c5d0-5412a38da66c"
      },
      "source": [
        "from google.colab import drive\n",
        "drive._mount('/content/drive')"
      ],
      "execution_count": 1,
      "outputs": [
        {
          "output_type": "stream",
          "name": "stdout",
          "text": [
            "Mounted at /content/drive\n"
          ]
        }
      ]
    },
    {
      "cell_type": "code",
      "metadata": {
        "id": "nEt-Rwmh6lEK"
      },
      "source": [
        "import pandas as pd"
      ],
      "execution_count": 2,
      "outputs": []
    },
    {
      "cell_type": "code",
      "metadata": {
        "id": "nWMmJQ6_7VTX"
      },
      "source": [
        "data_traindf = pd.read_csv('/content/drive/MyDrive/Colab Notebooks/DATMIN/FP/train.csv')\n",
        "data_testdf = pd.read_csv('/content/drive/MyDrive/Colab Notebooks/DATMIN/FP/test.csv')\n",
        "data_merged = pd.read_csv('/content/drive/MyDrive/Colab Notebooks/DATMIN/FP/merged.csv')"
      ],
      "execution_count": 3,
      "outputs": []
    },
    {
      "cell_type": "code",
      "metadata": {
        "colab": {
          "base_uri": "https://localhost:8080/",
          "height": 206
        },
        "id": "SdVoYO-a8Es_",
        "outputId": "3c076a08-20c0-416c-c5a5-a32c27a5e782"
      },
      "source": [
        "data_traindf.head()"
      ],
      "execution_count": 4,
      "outputs": [
        {
          "output_type": "execute_result",
          "data": {
            "text/html": [
              "<div>\n",
              "<style scoped>\n",
              "    .dataframe tbody tr th:only-of-type {\n",
              "        vertical-align: middle;\n",
              "    }\n",
              "\n",
              "    .dataframe tbody tr th {\n",
              "        vertical-align: top;\n",
              "    }\n",
              "\n",
              "    .dataframe thead th {\n",
              "        text-align: right;\n",
              "    }\n",
              "</style>\n",
              "<table border=\"1\" class=\"dataframe\">\n",
              "  <thead>\n",
              "    <tr style=\"text-align: right;\">\n",
              "      <th></th>\n",
              "      <th>sentence #</th>\n",
              "      <th>word</th>\n",
              "      <th>pos</th>\n",
              "      <th>tag</th>\n",
              "      <th>word_idx</th>\n",
              "      <th>tag_idx</th>\n",
              "    </tr>\n",
              "  </thead>\n",
              "  <tbody>\n",
              "    <tr>\n",
              "      <th>0</th>\n",
              "      <td>1</td>\n",
              "      <td>Berikut</td>\n",
              "      <td>PROPN</td>\n",
              "      <td>O</td>\n",
              "      <td>805</td>\n",
              "      <td>4</td>\n",
              "    </tr>\n",
              "    <tr>\n",
              "      <th>1</th>\n",
              "      <td>1</td>\n",
              "      <td>adalah</td>\n",
              "      <td>AUX</td>\n",
              "      <td>O</td>\n",
              "      <td>5456</td>\n",
              "      <td>4</td>\n",
              "    </tr>\n",
              "    <tr>\n",
              "      <th>2</th>\n",
              "      <td>1</td>\n",
              "      <td>tujuh</td>\n",
              "      <td>NUM</td>\n",
              "      <td>O</td>\n",
              "      <td>3291</td>\n",
              "      <td>4</td>\n",
              "    </tr>\n",
              "    <tr>\n",
              "      <th>3</th>\n",
              "      <td>1</td>\n",
              "      <td>kota</td>\n",
              "      <td>NOUN</td>\n",
              "      <td>O</td>\n",
              "      <td>7522</td>\n",
              "      <td>4</td>\n",
              "    </tr>\n",
              "    <tr>\n",
              "      <th>4</th>\n",
              "      <td>1</td>\n",
              "      <td>di</td>\n",
              "      <td>ADP</td>\n",
              "      <td>O</td>\n",
              "      <td>2096</td>\n",
              "      <td>4</td>\n",
              "    </tr>\n",
              "  </tbody>\n",
              "</table>\n",
              "</div>"
            ],
            "text/plain": [
              "   sentence #     word    pos tag  word_idx  tag_idx\n",
              "0           1  Berikut  PROPN   O       805        4\n",
              "1           1   adalah    AUX   O      5456        4\n",
              "2           1    tujuh    NUM   O      3291        4\n",
              "3           1     kota   NOUN   O      7522        4\n",
              "4           1       di    ADP   O      2096        4"
            ]
          },
          "metadata": {},
          "execution_count": 4
        }
      ]
    },
    {
      "cell_type": "code",
      "metadata": {
        "colab": {
          "base_uri": "https://localhost:8080/",
          "height": 206
        },
        "id": "O3ArmiFq8HxX",
        "outputId": "05d9466c-939c-4a40-f919-6d7d0a559575"
      },
      "source": [
        "data_testdf.head()"
      ],
      "execution_count": 5,
      "outputs": [
        {
          "output_type": "execute_result",
          "data": {
            "text/html": [
              "<div>\n",
              "<style scoped>\n",
              "    .dataframe tbody tr th:only-of-type {\n",
              "        vertical-align: middle;\n",
              "    }\n",
              "\n",
              "    .dataframe tbody tr th {\n",
              "        vertical-align: top;\n",
              "    }\n",
              "\n",
              "    .dataframe thead th {\n",
              "        text-align: right;\n",
              "    }\n",
              "</style>\n",
              "<table border=\"1\" class=\"dataframe\">\n",
              "  <thead>\n",
              "    <tr style=\"text-align: right;\">\n",
              "      <th></th>\n",
              "      <th>sentence #</th>\n",
              "      <th>word</th>\n",
              "      <th>pos</th>\n",
              "      <th>tag</th>\n",
              "      <th>word_idx</th>\n",
              "      <th>tag_idx</th>\n",
              "    </tr>\n",
              "  </thead>\n",
              "  <tbody>\n",
              "    <tr>\n",
              "      <th>0</th>\n",
              "      <td>1</td>\n",
              "      <td>Presiden</td>\n",
              "      <td>PROPN</td>\n",
              "      <td>O</td>\n",
              "      <td>79</td>\n",
              "      <td>4</td>\n",
              "    </tr>\n",
              "    <tr>\n",
              "      <th>1</th>\n",
              "      <td>1</td>\n",
              "      <td>terpilih</td>\n",
              "      <td>VERB</td>\n",
              "      <td>O</td>\n",
              "      <td>7980</td>\n",
              "      <td>4</td>\n",
              "    </tr>\n",
              "    <tr>\n",
              "      <th>2</th>\n",
              "      <td>1</td>\n",
              "      <td>Joko</td>\n",
              "      <td>PROPN</td>\n",
              "      <td>B-PER</td>\n",
              "      <td>2526</td>\n",
              "      <td>2</td>\n",
              "    </tr>\n",
              "    <tr>\n",
              "      <th>3</th>\n",
              "      <td>1</td>\n",
              "      <td>Widodo</td>\n",
              "      <td>PROPN</td>\n",
              "      <td>I-PER</td>\n",
              "      <td>7595</td>\n",
              "      <td>5</td>\n",
              "    </tr>\n",
              "    <tr>\n",
              "      <th>4</th>\n",
              "      <td>1</td>\n",
              "      <td>mengungkapkan</td>\n",
              "      <td>VERB</td>\n",
              "      <td>O</td>\n",
              "      <td>3199</td>\n",
              "      <td>4</td>\n",
              "    </tr>\n",
              "  </tbody>\n",
              "</table>\n",
              "</div>"
            ],
            "text/plain": [
              "   sentence #           word    pos    tag  word_idx  tag_idx\n",
              "0           1       Presiden  PROPN      O        79        4\n",
              "1           1       terpilih   VERB      O      7980        4\n",
              "2           1           Joko  PROPN  B-PER      2526        2\n",
              "3           1         Widodo  PROPN  I-PER      7595        5\n",
              "4           1  mengungkapkan   VERB      O      3199        4"
            ]
          },
          "metadata": {},
          "execution_count": 5
        }
      ]
    },
    {
      "cell_type": "code",
      "metadata": {
        "colab": {
          "base_uri": "https://localhost:8080/",
          "height": 206
        },
        "id": "l2CmTt038J2A",
        "outputId": "57d462d8-4730-4c3f-df0d-010b22ffbe06"
      },
      "source": [
        "data_merged.head()"
      ],
      "execution_count": 6,
      "outputs": [
        {
          "output_type": "execute_result",
          "data": {
            "text/html": [
              "<div>\n",
              "<style scoped>\n",
              "    .dataframe tbody tr th:only-of-type {\n",
              "        vertical-align: middle;\n",
              "    }\n",
              "\n",
              "    .dataframe tbody tr th {\n",
              "        vertical-align: top;\n",
              "    }\n",
              "\n",
              "    .dataframe thead th {\n",
              "        text-align: right;\n",
              "    }\n",
              "</style>\n",
              "<table border=\"1\" class=\"dataframe\">\n",
              "  <thead>\n",
              "    <tr style=\"text-align: right;\">\n",
              "      <th></th>\n",
              "      <th>sentence #</th>\n",
              "      <th>word</th>\n",
              "      <th>pos</th>\n",
              "      <th>tag</th>\n",
              "      <th>word_idx</th>\n",
              "      <th>tag_idx</th>\n",
              "    </tr>\n",
              "  </thead>\n",
              "  <tbody>\n",
              "    <tr>\n",
              "      <th>0</th>\n",
              "      <td>1</td>\n",
              "      <td>Berikut</td>\n",
              "      <td>PROPN</td>\n",
              "      <td>O</td>\n",
              "      <td>805</td>\n",
              "      <td>4</td>\n",
              "    </tr>\n",
              "    <tr>\n",
              "      <th>1</th>\n",
              "      <td>1</td>\n",
              "      <td>adalah</td>\n",
              "      <td>AUX</td>\n",
              "      <td>O</td>\n",
              "      <td>5456</td>\n",
              "      <td>4</td>\n",
              "    </tr>\n",
              "    <tr>\n",
              "      <th>2</th>\n",
              "      <td>1</td>\n",
              "      <td>tujuh</td>\n",
              "      <td>NUM</td>\n",
              "      <td>O</td>\n",
              "      <td>3291</td>\n",
              "      <td>4</td>\n",
              "    </tr>\n",
              "    <tr>\n",
              "      <th>3</th>\n",
              "      <td>1</td>\n",
              "      <td>kota</td>\n",
              "      <td>NOUN</td>\n",
              "      <td>O</td>\n",
              "      <td>7522</td>\n",
              "      <td>4</td>\n",
              "    </tr>\n",
              "    <tr>\n",
              "      <th>4</th>\n",
              "      <td>1</td>\n",
              "      <td>di</td>\n",
              "      <td>ADP</td>\n",
              "      <td>O</td>\n",
              "      <td>2096</td>\n",
              "      <td>4</td>\n",
              "    </tr>\n",
              "  </tbody>\n",
              "</table>\n",
              "</div>"
            ],
            "text/plain": [
              "   sentence #     word    pos tag  word_idx  tag_idx\n",
              "0           1  Berikut  PROPN   O       805        4\n",
              "1           1   adalah    AUX   O      5456        4\n",
              "2           1    tujuh    NUM   O      3291        4\n",
              "3           1     kota   NOUN   O      7522        4\n",
              "4           1       di    ADP   O      2096        4"
            ]
          },
          "metadata": {},
          "execution_count": 6
        }
      ]
    },
    {
      "cell_type": "code",
      "metadata": {
        "colab": {
          "base_uri": "https://localhost:8080/"
        },
        "id": "j_6vkLPj8Mdm",
        "outputId": "7def6afa-2176-43af-8f75-057e7f2efcca"
      },
      "source": [
        "print(\"Train Shape : \", data_traindf.shape)\n",
        "print(\"Test Shape : \", data_testdf.shape)\n",
        "print(\"Merged Shape : \", data_merged.shape)"
      ],
      "execution_count": 7,
      "outputs": [
        {
          "output_type": "stream",
          "name": "stdout",
          "text": [
            "Train Shape :  (30248, 6)\n",
            "Test Shape :  (18451, 6)\n",
            "Merged Shape :  (48699, 6)\n"
          ]
        }
      ]
    },
    {
      "cell_type": "code",
      "source": [
        "data_traindf[\"tag\"].value_counts()"
      ],
      "metadata": {
        "colab": {
          "base_uri": "https://localhost:8080/"
        },
        "id": "Nz5UDadR_RTP",
        "outputId": "2178afd2-4b2c-4fdc-9973-3df4ed52374e"
      },
      "execution_count": 8,
      "outputs": [
        {
          "output_type": "execute_result",
          "data": {
            "text/plain": [
              "O        26728\n",
              "B-PER      896\n",
              "B-ORG      721\n",
              "B-LOC      579\n",
              "I-ORG      577\n",
              "I-PER      486\n",
              "I-LOC      261\n",
              "Name: tag, dtype: int64"
            ]
          },
          "metadata": {},
          "execution_count": 8
        }
      ]
    },
    {
      "cell_type": "code",
      "source": [
        "import matplotlib.pyplot as plt\n",
        "import seaborn as sns\n",
        "\n",
        "plt.figure(figsize = (16,8))\n",
        "sns.set_style('darkgrid')\n",
        "sns.histplot(data_traindf['tag'])\n",
        "plt.tight_layout(pad=2)\n",
        "plt.show()"
      ],
      "metadata": {
        "colab": {
          "base_uri": "https://localhost:8080/",
          "height": 567
        },
        "id": "LnYXF5c1_XWd",
        "outputId": "62abaf6c-b387-48b2-a78b-e141ebba9f2e"
      },
      "execution_count": 9,
      "outputs": [
        {
          "output_type": "display_data",
          "data": {
            "image/png": "[encoded data removed]",
            "text/plain": [
              "<Figure size 1152x576 with 1 Axes>"
            ]
          },
          "metadata": {
            "needs_background": "light"
          }
        }
      ]
    },
    {
      "cell_type": "code",
      "source": [
        "from itertools import chain\n",
        "def get_dict_map(data, token_or_tag):\n",
        "    tok2idx = {}\n",
        "    idx2tok = {}\n",
        "    \n",
        "    if token_or_tag == 'token':\n",
        "        vocab = list(set(data['word'].to_list()))\n",
        "    else:\n",
        "        vocab = list(set(data['tag'].to_list()))\n",
        "    \n",
        "    idx2tok = {idx:tok for  idx, tok in enumerate(vocab)}\n",
        "    tok2idx = {tok:idx for  idx, tok in enumerate(vocab)}\n",
        "    return tok2idx, idx2tok, vocab"
      ],
      "metadata": {
        "id": "drcK1wDUbVuw"
      },
      "execution_count": 10,
      "outputs": []
    },
    {
      "cell_type": "code",
      "source": [
        "token2idx, idx2token, word_vocab = get_dict_map(data_merged, 'token')\n",
        "tag2idx, idx2tag, tag_vocab = get_dict_map(data_merged, 'tag')\n",
        "word_vocab.append(\"ENDPAD\")"
      ],
      "metadata": {
        "id": "1qDOeA4ifb5c"
      },
      "execution_count": 11,
      "outputs": []
    },
    {
      "cell_type": "code",
      "source": [
        "data_traindf_fillna = data_traindf.fillna(method='ffill', axis=0)\n",
        "data_testdf_fillna = data_testdf.fillna(method='ffill', axis=0)\n",
        "data_merged_fillna = data_merged.fillna(method='ffill', axis=0)"
      ],
      "metadata": {
        "id": "vMtNVmgMAMBm"
      },
      "execution_count": 12,
      "outputs": []
    },
    {
      "cell_type": "code",
      "metadata": {
        "colab": {
          "base_uri": "https://localhost:8080/"
        },
        "id": "hvazDrYoC52O",
        "outputId": "36ae44e2-e1bf-4302-b8f4-7c246ecf99ae"
      },
      "source": [
        "data_traindf_group = data_traindf_fillna.groupby([\"sentence #\"], as_index=False)['word','tag','word_idx','tag_idx'].agg(lambda x:list(x))\n",
        "data_testdf_group = data_testdf_fillna.groupby([\"sentence #\"], as_index=False)['word','tag','word_idx','tag_idx'].agg(lambda x:list(x))\n",
        "data_merged_group = data_merged_fillna.groupby([\"sentence #\"], as_index=False)['word','tag','word_idx','tag_idx'].agg(lambda x:list(x))"
      ],
      "execution_count": 13,
      "outputs": [
        {
          "output_type": "stream",
          "name": "stderr",
          "text": [
            "/usr/local/lib/python3.7/dist-packages/ipykernel_launcher.py:1: FutureWarning: Indexing with multiple keys (implicitly converted to a tuple of keys) will be deprecated, use a list instead.\n",
            "  \"\"\"Entry point for launching an IPython kernel.\n",
            "/usr/local/lib/python3.7/dist-packages/ipykernel_launcher.py:2: FutureWarning: Indexing with multiple keys (implicitly converted to a tuple of keys) will be deprecated, use a list instead.\n",
            "  \n",
            "/usr/local/lib/python3.7/dist-packages/ipykernel_launcher.py:3: FutureWarning: Indexing with multiple keys (implicitly converted to a tuple of keys) will be deprecated, use a list instead.\n",
            "  This is separate from the ipykernel package so we can avoid doing imports until\n"
          ]
        }
      ]
    },
    {
      "cell_type": "code",
      "metadata": {
        "colab": {
          "base_uri": "https://localhost:8080/",
          "height": 310
        },
        "id": "95Xg45EWDsad",
        "outputId": "0159c816-9b64-4675-886f-249f5605c587"
      },
      "source": [
        "data_traindf_group.head()"
      ],
      "execution_count": 14,
      "outputs": [
        {
          "output_type": "execute_result",
          "data": {
            "text/html": [
              "<div>\n",
              "<style scoped>\n",
              "    .dataframe tbody tr th:only-of-type {\n",
              "        vertical-align: middle;\n",
              "    }\n",
              "\n",
              "    .dataframe tbody tr th {\n",
              "        vertical-align: top;\n",
              "    }\n",
              "\n",
              "    .dataframe thead th {\n",
              "        text-align: right;\n",
              "    }\n",
              "</style>\n",
              "<table border=\"1\" class=\"dataframe\">\n",
              "  <thead>\n",
              "    <tr style=\"text-align: right;\">\n",
              "      <th></th>\n",
              "      <th>sentence #</th>\n",
              "      <th>word</th>\n",
              "      <th>tag</th>\n",
              "      <th>word_idx</th>\n",
              "      <th>tag_idx</th>\n",
              "    </tr>\n",
              "  </thead>\n",
              "  <tbody>\n",
              "    <tr>\n",
              "      <th>0</th>\n",
              "      <td>1</td>\n",
              "      <td>[Berikut, adalah, tujuh, kota, di, Indonesia, ...</td>\n",
              "      <td>[O, O, O, O, O, B-LOC, O, O, O, O, O, O, O]</td>\n",
              "      <td>[805, 5456, 3291, 7522, 2096, 3518, 4477, 5271...</td>\n",
              "      <td>[4, 4, 4, 4, 4, 1, 4, 4, 4, 4, 4, 4, 4]</td>\n",
              "    </tr>\n",
              "    <tr>\n",
              "      <th>1</th>\n",
              "      <td>2</td>\n",
              "      <td>[Soal, calon, presiden, itu, urusan, nanti, ,,...</td>\n",
              "      <td>[O, O, O, O, O, O, O, O, O, O, O, O, O, O, B-P...</td>\n",
              "      <td>[528, 7255, 4628, 7226, 2653, 2768, 3948, 4477...</td>\n",
              "      <td>[4, 4, 4, 4, 4, 4, 4, 4, 4, 4, 4, 4, 4, 4, 2, ...</td>\n",
              "    </tr>\n",
              "    <tr>\n",
              "      <th>2</th>\n",
              "      <td>3</td>\n",
              "      <td>[Kalau, itu, tanya, PPP, saja, ,, ujar, Nasir,...</td>\n",
              "      <td>[O, O, O, B-ORG, O, O, O, B-PER, O, O, O, O, O...</td>\n",
              "      <td>[4780, 7226, 7466, 827, 3799, 3948, 5916, 2756...</td>\n",
              "      <td>[4, 4, 4, 0, 4, 4, 4, 2, 4, 4, 4, 4, 4, 4, 4, ...</td>\n",
              "    </tr>\n",
              "    <tr>\n",
              "      <th>3</th>\n",
              "      <td>4</td>\n",
              "      <td>[Jokowi, bisa, mengatakan, mencabut, pengaduan...</td>\n",
              "      <td>[B-PER, O, O, O, O, O, O, O, O, O, O]</td>\n",
              "      <td>[8070, 1388, 2557, 3049, 8366, 418, 7443, 3898...</td>\n",
              "      <td>[2, 4, 4, 4, 4, 4, 4, 4, 4, 4, 4]</td>\n",
              "    </tr>\n",
              "    <tr>\n",
              "      <th>4</th>\n",
              "      <td>5</td>\n",
              "      <td>[Akbar, menyebutkan, pemerintahan, Jokowi-JK, ...</td>\n",
              "      <td>[B-PER, O, O, O, O, O, O, O, O, O, O, O, O, O,...</td>\n",
              "      <td>[5096, 2156, 1826, 2562, 7625, 4386, 4784, 200...</td>\n",
              "      <td>[2, 4, 4, 4, 4, 4, 4, 4, 4, 4, 4, 4, 4, 4, 4, ...</td>\n",
              "    </tr>\n",
              "  </tbody>\n",
              "</table>\n",
              "</div>"
            ],
            "text/plain": [
              "   sentence #  ...                                            tag_idx\n",
              "0           1  ...            [4, 4, 4, 4, 4, 1, 4, 4, 4, 4, 4, 4, 4]\n",
              "1           2  ...  [4, 4, 4, 4, 4, 4, 4, 4, 4, 4, 4, 4, 4, 4, 2, ...\n",
              "2           3  ...  [4, 4, 4, 0, 4, 4, 4, 2, 4, 4, 4, 4, 4, 4, 4, ...\n",
              "3           4  ...                  [2, 4, 4, 4, 4, 4, 4, 4, 4, 4, 4]\n",
              "4           5  ...  [2, 4, 4, 4, 4, 4, 4, 4, 4, 4, 4, 4, 4, 4, 4, ...\n",
              "\n",
              "[5 rows x 5 columns]"
            ]
          },
          "metadata": {},
          "execution_count": 14
        }
      ]
    },
    {
      "cell_type": "code",
      "metadata": {
        "id": "jUsJ_5pIFkUP"
      },
      "source": [
        "maxlen_merged = max([len(s) for s in data_merged_group['word_idx'].tolist()])\n",
        "maxlen_train = max([len(s) for s in data_traindf_group['word_idx'].tolist()])\n",
        "maxlen_test = max([len(s) for s in data_testdf_group['word_idx'].tolist()])"
      ],
      "execution_count": 15,
      "outputs": []
    },
    {
      "cell_type": "code",
      "metadata": {
        "colab": {
          "base_uri": "https://localhost:8080/"
        },
        "id": "osAzpUOqGHpt",
        "outputId": "b58ea77f-a7a9-4c23-f7e7-abe3a6f349d5"
      },
      "source": [
        "print(\"Merged :\", maxlen_merged)\n",
        "print(\"Train :\", maxlen_train)\n",
        "print(\"Test :\", maxlen_test)"
      ],
      "execution_count": 16,
      "outputs": [
        {
          "output_type": "stream",
          "name": "stdout",
          "text": [
            "Merged : 112\n",
            "Train : 69\n",
            "Test : 94\n"
          ]
        }
      ]
    },
    {
      "cell_type": "code",
      "metadata": {
        "id": "b8ipXbb-GVJ8"
      },
      "source": [
        "import numpy as np \n",
        "from sklearn.model_selection import train_test_split\n",
        "from tensorflow.keras.preprocessing.sequence import pad_sequences\n",
        "from tensorflow.keras.utils import to_categorical\n",
        "\n",
        "def get_pad(dataset_grouped, word_vocab, tag_vocab, maxlen):\n",
        "\n",
        "    #get max token and tag length\n",
        "    n_token = len(word_vocab)\n",
        "    n_tag = len(tag_vocab)\n",
        "\n",
        "    #Pad tokens (X var)    \n",
        "    tokens = dataset_grouped['word_idx'].tolist()\n",
        "    # maxlen = max([len(s) for s in tokens])\n",
        "    pad_tokens = pad_sequences(tokens, maxlen=maxlen, dtype='int32', padding='post', value= n_token - 1)\n",
        "\n",
        "    #Pad Tags (y var) and convert it into one hot encoding\n",
        "    tags = dataset_grouped['tag_idx'].tolist()\n",
        "    pad_tags = pad_sequences(tags, maxlen=maxlen, dtype='int32', padding='post', value= tag2idx[\"O\"])\n",
        "    n_tags = len(tag2idx)\n",
        "    pad_tags = [to_categorical(i, num_classes=n_tags) for i in pad_tags]\n",
        "    \n",
        "    # #Split train, test and validation set\n",
        "    # tokens_, test_tokens, tags_, test_tags = train_test_split(pad_tokens, pad_tags, test_size=0.1, train_size=0.9, random_state=2020)\n",
        "    # train_tokens, val_tokens, train_tags, val_tags = train_test_split(tokens_,tags_,test_size = 0.25,train_size =0.75, random_state=2020)\n",
        "\n",
        "    # print(\n",
        "    #     'train_tokens length:', len(train_tokens),\n",
        "    #     '\\ntrain_tags length:', len(train_tags),\n",
        "    #     '\\ntest_tokens length:', len(test_tokens),\n",
        "    #     '\\ntest_tags:', len(test_tags),\n",
        "    #     '\\nval_tokens:', len(val_tokens),\n",
        "    #     '\\nval_tags:', len(val_tags),\n",
        "    # )\n",
        "    \n",
        "    return pad_tokens, pad_tags"
      ],
      "execution_count": 17,
      "outputs": []
    },
    {
      "cell_type": "code",
      "source": [
        "train_tokens, train_tags = get_pad(data_traindf_group, word_vocab, tag_vocab, maxlen_merged)\n",
        "test_tokens,  test_tags = get_pad(data_testdf_group, word_vocab, tag_vocab, maxlen_merged)\n",
        "train_tags = np.array(train_tags)\n",
        "test_tags = np.array(test_tags)\n",
        "print('train_tags: ',train_tags.shape,'test_tags: ',test_tags.shape)"
      ],
      "metadata": {
        "colab": {
          "base_uri": "https://localhost:8080/"
        },
        "id": "QSLjOoVuUMbe",
        "outputId": "7324ce12-00ac-4300-e2fc-0c78c79403dc"
      },
      "execution_count": 18,
      "outputs": [
        {
          "output_type": "stream",
          "name": "stdout",
          "text": [
            "train_tags:  (1464, 112, 7) test_tags:  (509, 112, 7)\n"
          ]
        }
      ]
    },
    {
      "cell_type": "code",
      "source": [
        "from sklearn.utils import class_weight\n",
        "\n",
        "train_temp_tags = np.ravel(np.argmax(train_tags, axis=-1))\n",
        "print(len(train_temp_tags))"
      ],
      "metadata": {
        "colab": {
          "base_uri": "https://localhost:8080/"
        },
        "id": "phJ_zqWXhJGs",
        "outputId": "20c9de35-f8ee-42d7-afd5-933555f929ea"
      },
      "execution_count": 19,
      "outputs": [
        {
          "output_type": "stream",
          "name": "stdout",
          "text": [
            "163968\n"
          ]
        }
      ]
    },
    {
      "cell_type": "code",
      "source": [
        "class_weights = class_weight.compute_class_weight(\n",
        "    class_weight ='balanced', \n",
        "    classes = np.unique(train_temp_tags), \n",
        "    y = train_temp_tags\n",
        "    )\n",
        "class_weight_dict = dict(enumerate(class_weights))\n",
        "print(class_weight_dict)\n",
        "\n",
        "train_label = np.argmax(train_tags, axis=-1)\n",
        "print(train_tokens.shape)\n",
        "print(train_label.shape)"
      ],
      "metadata": {
        "colab": {
          "base_uri": "https://localhost:8080/"
        },
        "id": "AN5Up1xfj1o0",
        "outputId": "b693b47f-9982-4f87-90b4-0d0e2c6f96cb"
      },
      "execution_count": 20,
      "outputs": [
        {
          "output_type": "stream",
          "name": "stdout",
          "text": [
            "{0: 32.488210818307905, 1: 0.17441678642432185, 2: 26.142857142857142, 3: 40.596187175043326, 4: 0.876384316073032, 5: 48.19753086419753, 6: 89.74712643678161}\n",
            "(1464, 112)\n",
            "(1464, 112)\n"
          ]
        }
      ]
    },
    {
      "cell_type": "code",
      "source": [
        "from tensorflow.keras.layers import Embedding, Conv1D, GlobalMaxPooling1D, Dense, MaxPooling1D, Dropout, Input, Reshape, Flatten, MaxPooling2D\n",
        "from tensorflow.keras.models import Sequential, Model\n",
        "from tensorflow import keras\n",
        "\n",
        "# import keras\n",
        "# import tensorflow as tf\n",
        "# from keras.layers import Activation, Conv2D, Embedding, Reshape, MaxPool2D, Concatenate, Flatten, Dropout, Dense, Conv1D\n",
        "# from keras.layers import MaxPool1D\n",
        "# from keras.models import Model\n",
        "\n",
        "filter_sizes = 3\n",
        "num_filter = 128\n",
        "input_dim = len(word_vocab)+1\n",
        "output_dim = 64\n",
        "input_length = maxlen_merged\n",
        "n_tags = len(tag2idx)\n",
        "input_we = len(token2idx)+1"
      ],
      "metadata": {
        "id": "bNie20BFj34_"
      },
      "execution_count": 37,
      "outputs": []
    },
    {
      "cell_type": "markdown",
      "source": [
        "Word2Vec Embedding"
      ],
      "metadata": {
        "id": "0MYKOi6JBh6v"
      }
    },
    {
      "cell_type": "code",
      "source": [
        "from gensim.models import Word2Vec\n",
        "import os\n",
        "\n",
        "word_list = data_merged_group['word'].to_list()\n",
        "model = Word2Vec(word_list, size=100, window=5, min_count=3, iter=100, sg=1)\n",
        "os.makedirs(\"models/word_embeddings/w2v\", exist_ok=True)\n",
        "model.save(\"models/word_embeddings/w2v/w2v\")"
      ],
      "metadata": {
        "id": "kQrG0yo8odqG"
      },
      "execution_count": 22,
      "outputs": []
    },
    {
      "cell_type": "code",
      "source": [
        "w2v = model.wv\n",
        "w2v.similar_by_word('presiden', topn=5)"
      ],
      "metadata": {
        "colab": {
          "base_uri": "https://localhost:8080/"
        },
        "id": "Q0CDJM4Kq7T7",
        "outputId": "8143ad33-4e3d-4a60-860d-f20796289e39"
      },
      "execution_count": 23,
      "outputs": [
        {
          "output_type": "execute_result",
          "data": {
            "text/plain": [
              "[('calon', 0.590908408164978),\n",
              " ('capres', 0.5018044710159302),\n",
              " ('pencalonannya', 0.48803213238716125),\n",
              " ('terpilih', 0.4658746123313904),\n",
              " ('wakil', 0.4634314477443695)]"
            ]
          },
          "metadata": {},
          "execution_count": 23
        }
      ]
    },
    {
      "cell_type": "code",
      "source": [
        "w2v.wv['presiden']"
      ],
      "metadata": {
        "colab": {
          "base_uri": "https://localhost:8080/"
        },
        "id": "rdfS39Uhux4y",
        "outputId": "8c5292bf-721d-4327-972a-d7ed3e266a5a"
      },
      "execution_count": 24,
      "outputs": [
        {
          "output_type": "stream",
          "name": "stderr",
          "text": [
            "/usr/local/lib/python3.7/dist-packages/ipykernel_launcher.py:1: DeprecationWarning: Call to deprecated `wv` (Attribute will be removed in 4.0.0, use self instead).\n",
            "  \"\"\"Entry point for launching an IPython kernel.\n"
          ]
        },
        {
          "output_type": "execute_result",
          "data": {
            "text/plain": [
              "array([ 0.38493338,  0.00855954,  0.01852161, -0.52313966, -0.2370894 ,\n",
              "        0.2564449 , -0.59877867, -0.18120138, -0.6809101 , -0.55886745,\n",
              "        1.1483443 , -0.28472978,  0.4958481 ,  0.5531861 ,  0.21994166,\n",
              "        0.19825035,  0.7875403 , -0.36873996,  0.09564371,  0.6542105 ,\n",
              "       -0.2663202 ,  0.8065923 , -0.33940908, -0.7147623 ,  0.26904863,\n",
              "       -0.18254223, -0.04284564,  0.12670635, -0.11694975,  0.3568904 ,\n",
              "        0.33890498,  0.07402655,  0.11137327,  0.8514843 , -0.3063707 ,\n",
              "        0.033937  ,  0.6166703 ,  0.6321248 ,  0.11346196,  0.6145625 ,\n",
              "        0.44197637,  0.29546458, -0.5318821 , -1.15666   , -0.0599479 ,\n",
              "       -0.502578  , -1.1031543 , -0.12985788,  0.4112276 ,  0.24597315,\n",
              "        0.25811794, -0.08101126,  0.11337087, -0.30728036, -0.31156227,\n",
              "        0.19460903,  0.44580588,  0.15587048, -0.30018836,  0.83306056,\n",
              "        0.5266765 , -1.1770133 ,  0.01513233, -0.84063286,  0.9908059 ,\n",
              "       -0.29194644,  0.3333145 , -0.59882295,  0.7299533 ,  0.053081  ,\n",
              "       -0.58172977, -0.125536  ,  0.328784  , -0.15296851,  0.49341616,\n",
              "        0.26706713, -0.08877109,  0.48424345,  0.05736481, -0.542143  ,\n",
              "       -0.29716367, -0.2801053 ,  0.3006478 , -0.35833168,  0.05900919,\n",
              "        0.15918468,  0.69723946,  0.02821859, -0.31145778, -0.66346115,\n",
              "        0.7226328 , -0.6259174 ,  0.458423  ,  0.61682105, -0.72076577,\n",
              "       -0.20258452,  1.3379433 , -0.93071896,  0.9149505 ,  0.646828  ],\n",
              "      dtype=float32)"
            ]
          },
          "metadata": {},
          "execution_count": 24
        }
      ]
    },
    {
      "cell_type": "code",
      "source": [
        "from gensim.models import KeyedVectors\n",
        "\n",
        "embeddings_dictionary = KeyedVectors.load('models/word_embeddings/w2v/w2v')"
      ],
      "metadata": {
        "id": "hKJ1erYIsH_Y"
      },
      "execution_count": 25,
      "outputs": []
    },
    {
      "cell_type": "code",
      "source": [
        "embedding_matrix = np.zeros((len(token2idx) + 1, 100))\n",
        "for word, i in token2idx.items():\n",
        "  try:\n",
        "    embedding_vector = embeddings_dictionary[word]\n",
        "  except:\n",
        "    continue\n",
        "  if embedding_vector is not None:\n",
        "    embedding_matrix[i] = embedding_vector"
      ],
      "metadata": {
        "colab": {
          "base_uri": "https://localhost:8080/"
        },
        "id": "_F4VPMrVs9wR",
        "outputId": "c19d7fd3-c53a-47a1-8c8f-6809e3cc8850"
      },
      "execution_count": 26,
      "outputs": [
        {
          "output_type": "stream",
          "name": "stderr",
          "text": [
            "/usr/local/lib/python3.7/dist-packages/ipykernel_launcher.py:4: DeprecationWarning: Call to deprecated `__getitem__` (Method will be removed in 4.0.0, use self.wv.__getitem__() instead).\n",
            "  after removing the cwd from sys.path.\n"
          ]
        }
      ]
    },
    {
      "cell_type": "code",
      "source": [
        "embedding_matrix.shape"
      ],
      "metadata": {
        "colab": {
          "base_uri": "https://localhost:8080/"
        },
        "id": "uJ9VIMJRwgY1",
        "outputId": "cd5c17fb-1ac7-431f-fcf5-5c415c1813ca"
      },
      "execution_count": 27,
      "outputs": [
        {
          "output_type": "execute_result",
          "data": {
            "text/plain": [
              "(8543, 100)"
            ]
          },
          "metadata": {},
          "execution_count": 27
        }
      ]
    },
    {
      "cell_type": "code",
      "source": [
        "embedding_layer = Embedding(input_we,\n",
        "                            embedding_matrix.shape[1],\n",
        "                            weights=[embedding_matrix],\n",
        "                            input_length=maxlen_merged,\n",
        "                            trainable=False)"
      ],
      "metadata": {
        "id": "r3Zu2aMIxRwS"
      },
      "execution_count": 28,
      "outputs": []
    },
    {
      "cell_type": "code",
      "source": [
        "def get_cnn_model():\n",
        "    # seq_input = tf.keras.Input(shape=(maxlen_merged,), dtype='float32')\n",
        "    # embedded_seq = embedding_layer(seq_input)\n",
        "    # conv1 = Conv1D(num_filter, 3, padding='same', activation='relu')(embedded_seq)\n",
        "    # pool1 = MaxPooling1D(5)(conv1)\n",
        "    # flat = Flatten()(pool1)\n",
        "    # dense = Dropout(0.5)(flat)\n",
        "    # preds = Dense(n_tags, activation=\"softmax\")(dense)\n",
        "    model = Sequential()\n",
        "    model.add(embedding_layer)\n",
        "    # model.add(Embedding(len(token2idx) +1, 100, input_length=maxlen_merged))\n",
        "    model.add(Conv1D(num_filter, 3, activation='relu',padding='same'))\n",
        "    # model.add(MaxPooling1D(5))\n",
        "    # model.add(Conv1D(num_filter, 3, activation='relu',padding='same'))\n",
        "    # model.add(MaxPooling1D(5))\n",
        "    # model.add(Conv1D(num_filter, 3, activation='relu',padding='same'))\n",
        "    # model.add(MaxPooling1D(4))\n",
        "    # model.add(Flatten())\n",
        "    model.add(Dropout(0.5))\n",
        "    model.add((Dense(64, activation=\"sigmoid\")))\n",
        "    model.add((Dense(n_tags, activation=\"softmax\")))\n",
        "\n",
        "    # model = Model(seq_input, preds)\n",
        "    opt = keras.optimizers.Adam(learning_rate=0.01)\n",
        "    model.compile(loss='sparse_categorical_crossentropy', optimizer=opt, metrics=['accuracy'])\n",
        "    model.summary()\n",
        "    \n",
        "    return model"
      ],
      "metadata": {
        "id": "1dHsEL2WxT8M"
      },
      "execution_count": 58,
      "outputs": []
    },
    {
      "cell_type": "code",
      "source": [
        "maj_index = tag2idx['O']\n",
        "\n",
        "''' Change it More for Better Fine-Tuning '''\n",
        "\n",
        "# class_weight_dict[maj_index] = 28.5277954105731576 \n",
        "print(class_weight_dict)\n",
        "sample_weights = np.ones(shape=(len(train_label), train_label.shape[-1]))\n",
        "for i in range(17):\n",
        "    sample_weights[train_label == i] = class_weight_dict.get(i)\n",
        "print(sample_weights.shape)"
      ],
      "metadata": {
        "id": "36QdRVpL3iea",
        "outputId": "a3e07379-643f-48e0-9f24-58c5ca1f22bf",
        "colab": {
          "base_uri": "https://localhost:8080/"
        }
      },
      "execution_count": 32,
      "outputs": [
        {
          "output_type": "stream",
          "name": "stdout",
          "text": [
            "{0: 32.488210818307905, 1: 0.17441678642432185, 2: 26.142857142857142, 3: 40.596187175043326, 4: 0.876384316073032, 5: 48.19753086419753, 6: 89.74712643678161}\n",
            "(1464, 112)\n"
          ]
        }
      ]
    },
    {
      "cell_type": "code",
      "source": [
        "import tensorflow as tf\n",
        "from tensorflow.keras.utils import plot_model\n",
        "\n",
        "nlp_model = get_cnn_model()\n",
        "plot_model(nlp_model)\n",
        "his = nlp_model.fit(train_tokens, train_label , batch_size = 64, epochs=25, validation_split=0.2, sample_weight = sample_weights) "
      ],
      "metadata": {
        "colab": {
          "base_uri": "https://localhost:8080/"
        },
        "id": "RnFb-e0i1J37",
        "outputId": "8b1dfa19-3afa-4eba-9430-df5eff789d35"
      },
      "execution_count": 59,
      "outputs": [
        {
          "output_type": "stream",
          "name": "stdout",
          "text": [
            "Model: \"sequential_10\"\n",
            "_________________________________________________________________\n",
            " Layer (type)                Output Shape              Param #   \n",
            "=================================================================\n",
            " embedding (Embedding)       (None, 112, 100)          854300    \n",
            "                                                                 \n",
            " conv1d_18 (Conv1D)          (None, 112, 128)          38528     \n",
            "                                                                 \n",
            " dropout_10 (Dropout)        (None, 112, 128)          0         \n",
            "                                                                 \n",
            " dense_19 (Dense)            (None, 112, 64)           8256      \n",
            "                                                                 \n",
            " dense_20 (Dense)            (None, 112, 7)            455       \n",
            "                                                                 \n",
            "=================================================================\n",
            "Total params: 901,539\n",
            "Trainable params: 47,239\n",
            "Non-trainable params: 854,300\n",
            "_________________________________________________________________\n",
            "Epoch 1/25\n",
            "19/19 [==============================] - 2s 76ms/step - loss: 1.7710 - accuracy: 0.7174 - val_loss: 1.6418 - val_accuracy: 0.8287\n",
            "Epoch 2/25\n",
            "19/19 [==============================] - 1s 63ms/step - loss: 1.5880 - accuracy: 0.8535 - val_loss: 1.5700 - val_accuracy: 0.8494\n",
            "Epoch 3/25\n",
            "19/19 [==============================] - 1s 62ms/step - loss: 1.4896 - accuracy: 0.8600 - val_loss: 1.5219 - val_accuracy: 0.8541\n",
            "Epoch 4/25\n",
            "19/19 [==============================] - 1s 63ms/step - loss: 1.4174 - accuracy: 0.8627 - val_loss: 1.5407 - val_accuracy: 0.8561\n",
            "Epoch 5/25\n",
            "19/19 [==============================] - 1s 62ms/step - loss: 1.3534 - accuracy: 0.8664 - val_loss: 1.5305 - val_accuracy: 0.8684\n",
            "Epoch 6/25\n",
            "19/19 [==============================] - 1s 62ms/step - loss: 1.3238 - accuracy: 0.8710 - val_loss: 1.5101 - val_accuracy: 0.8650\n",
            "Epoch 7/25\n",
            "19/19 [==============================] - 1s 61ms/step - loss: 1.2718 - accuracy: 0.8728 - val_loss: 1.5445 - val_accuracy: 0.8718\n",
            "Epoch 8/25\n",
            "19/19 [==============================] - 1s 63ms/step - loss: 1.2287 - accuracy: 0.8756 - val_loss: 1.5334 - val_accuracy: 0.8722\n",
            "Epoch 9/25\n",
            "19/19 [==============================] - 1s 62ms/step - loss: 1.1975 - accuracy: 0.8775 - val_loss: 1.5539 - val_accuracy: 0.8817\n",
            "Epoch 10/25\n",
            "19/19 [==============================] - 1s 62ms/step - loss: 1.2039 - accuracy: 0.8782 - val_loss: 1.5462 - val_accuracy: 0.8765\n",
            "Epoch 11/25\n",
            "19/19 [==============================] - 1s 61ms/step - loss: 1.1521 - accuracy: 0.8821 - val_loss: 1.5860 - val_accuracy: 0.8782\n",
            "Epoch 12/25\n",
            "19/19 [==============================] - 1s 62ms/step - loss: 1.1587 - accuracy: 0.8817 - val_loss: 1.5992 - val_accuracy: 0.8822\n",
            "Epoch 13/25\n",
            "19/19 [==============================] - 1s 63ms/step - loss: 1.1350 - accuracy: 0.8861 - val_loss: 1.5782 - val_accuracy: 0.8805\n",
            "Epoch 14/25\n",
            "19/19 [==============================] - 1s 62ms/step - loss: 1.1260 - accuracy: 0.8818 - val_loss: 1.6045 - val_accuracy: 0.8856\n",
            "Epoch 15/25\n",
            "19/19 [==============================] - 1s 62ms/step - loss: 1.1372 - accuracy: 0.8858 - val_loss: 1.6226 - val_accuracy: 0.8827\n",
            "Epoch 16/25\n",
            "19/19 [==============================] - 1s 62ms/step - loss: 1.1153 - accuracy: 0.8865 - val_loss: 1.6052 - val_accuracy: 0.8838\n",
            "Epoch 17/25\n",
            "19/19 [==============================] - 1s 63ms/step - loss: 1.0921 - accuracy: 0.8871 - val_loss: 1.6373 - val_accuracy: 0.8813\n",
            "Epoch 18/25\n",
            "19/19 [==============================] - 1s 62ms/step - loss: 1.0939 - accuracy: 0.8872 - val_loss: 1.6349 - val_accuracy: 0.8872\n",
            "Epoch 19/25\n",
            "19/19 [==============================] - 1s 62ms/step - loss: 1.0930 - accuracy: 0.8887 - val_loss: 1.6503 - val_accuracy: 0.8870\n",
            "Epoch 20/25\n",
            "19/19 [==============================] - 1s 62ms/step - loss: 1.0951 - accuracy: 0.8892 - val_loss: 1.6535 - val_accuracy: 0.8863\n",
            "Epoch 21/25\n",
            "19/19 [==============================] - 1s 64ms/step - loss: 1.0877 - accuracy: 0.8888 - val_loss: 1.6532 - val_accuracy: 0.8870\n",
            "Epoch 22/25\n",
            "19/19 [==============================] - 1s 62ms/step - loss: 1.0798 - accuracy: 0.8912 - val_loss: 1.6533 - val_accuracy: 0.8856\n",
            "Epoch 23/25\n",
            "19/19 [==============================] - 1s 61ms/step - loss: 1.0566 - accuracy: 0.8898 - val_loss: 1.6888 - val_accuracy: 0.8903\n",
            "Epoch 24/25\n",
            "19/19 [==============================] - 1s 63ms/step - loss: 1.0651 - accuracy: 0.8928 - val_loss: 1.6858 - val_accuracy: 0.8891\n",
            "Epoch 25/25\n",
            "19/19 [==============================] - 1s 63ms/step - loss: 1.0362 - accuracy: 0.8923 - val_loss: 1.7260 - val_accuracy: 0.8948\n"
          ]
        }
      ]
    },
    {
      "cell_type": "code",
      "source": [
        "# Plot results\n",
        "import matplotlib.pyplot as plt\n",
        "\n",
        "accuracy = his.history['accuracy']\n",
        "val_acc = his.history['val_accuracy']\n",
        "loss = his.history['loss']\n",
        "val_loss = his.history['val_loss']\n",
        "\n",
        "epochs = range(1, len(accuracy)+1)\n",
        "\n",
        "plt.plot(epochs, accuracy, 'g', label='Training accuracy')\n",
        "plt.plot(epochs, val_acc, 'r', label='Validation accuracy')\n",
        "plt.title('Training and validation accuracy')\n",
        "plt.legend()\n",
        "\n",
        "plt.figure()\n",
        "\n",
        "plt.plot(epochs, loss, 'g', label='Training loss')\n",
        "plt.plot(epochs, val_loss, 'r', label='Validation loss')\n",
        "plt.title('Training and validation loss')\n",
        "plt.legend()\n",
        "\n",
        "plt.show()"
      ],
      "metadata": {
        "id": "mqNX6YXi1vZc",
        "colab": {
          "base_uri": "https://localhost:8080/",
          "height": 545
        },
        "outputId": "677499bd-14ee-41d9-ee09-718d8e53001a"
      },
      "execution_count": 60,
      "outputs": [
        {
          "output_type": "display_data",
          "data": {
            "image/png": "[encoded data removed]",
            "text/plain": [
              "<Figure size 432x288 with 1 Axes>"
            ]
          },
          "metadata": {}
        },
        {
          "output_type": "display_data",
          "data": {
            "image/png": "[encoded data removed]",
            "text/plain": [
              "<Figure size 432x288 with 1 Axes>"
            ]
          },
          "metadata": {}
        }
      ]
    },
    {
      "cell_type": "code",
      "source": [
        "y_pred = nlp_model.predict(test_tokens)\n",
        "y_pred = np.argmax(y_pred, axis=-1)"
      ],
      "metadata": {
        "id": "kIzqrC6z42vn"
      },
      "execution_count": 61,
      "outputs": []
    },
    {
      "cell_type": "code",
      "source": [
        "y_test = np.argmax(test_tags, axis=-1)\n",
        "print(test_tokens.shape,y_test.shape)\n",
        "nlp_model.evaluate(test_tokens, y_test)"
      ],
      "metadata": {
        "colab": {
          "base_uri": "https://localhost:8080/"
        },
        "id": "6ILkvrAa5KJw",
        "outputId": "007cbe0a-84df-4478-81b7-2629b1ce8dac"
      },
      "execution_count": 62,
      "outputs": [
        {
          "output_type": "stream",
          "name": "stdout",
          "text": [
            "(509, 112) (509, 112)\n",
            "16/16 [==============================] - 0s 13ms/step - loss: 1.0606 - accuracy: 0.8281\n"
          ]
        },
        {
          "output_type": "execute_result",
          "data": {
            "text/plain": [
              "[1.060571551322937, 0.8281294107437134]"
            ]
          },
          "metadata": {},
          "execution_count": 62
        }
      ]
    },
    {
      "cell_type": "code",
      "source": [
        "y_test_list = []\n",
        "y_pred_list = []\n",
        "for row in range(0, y_test.shape[0]):\n",
        "  y_pred_list = np.concatenate((y_pred_list, y_pred[row]), axis=0)\n",
        "  y_test_list = np.concatenate((y_test_list, y_test[row]), axis=0)\n",
        "  # y_test_list = y_test_list + y_test[row]"
      ],
      "metadata": {
        "id": "dYqT4Edm49P_"
      },
      "execution_count": 63,
      "outputs": []
    },
    {
      "cell_type": "code",
      "source": [
        "data_prediction = pd.DataFrame({'actual_class': y_test_list, 'predicted_class': y_pred_list})\n",
        "data_prediction['actual_class'] = data_prediction['actual_class'].map(idx2tag)\n",
        "data_prediction['predicted_class'] = data_prediction['predicted_class'].map(idx2tag)"
      ],
      "metadata": {
        "id": "4p9vTLF45BUf"
      },
      "execution_count": 64,
      "outputs": []
    },
    {
      "cell_type": "code",
      "source": [
        "data_prediction"
      ],
      "metadata": {
        "colab": {
          "base_uri": "https://localhost:8080/",
          "height": 424
        },
        "id": "CXSHxyVs5PNe",
        "outputId": "dfa885f5-f623-46c4-decb-b288c13933b0"
      },
      "execution_count": 65,
      "outputs": [
        {
          "output_type": "execute_result",
          "data": {
            "text/html": [
              "<div>\n",
              "<style scoped>\n",
              "    .dataframe tbody tr th:only-of-type {\n",
              "        vertical-align: middle;\n",
              "    }\n",
              "\n",
              "    .dataframe tbody tr th {\n",
              "        vertical-align: top;\n",
              "    }\n",
              "\n",
              "    .dataframe thead th {\n",
              "        text-align: right;\n",
              "    }\n",
              "</style>\n",
              "<table border=\"1\" class=\"dataframe\">\n",
              "  <thead>\n",
              "    <tr style=\"text-align: right;\">\n",
              "      <th></th>\n",
              "      <th>actual_class</th>\n",
              "      <th>predicted_class</th>\n",
              "    </tr>\n",
              "  </thead>\n",
              "  <tbody>\n",
              "    <tr>\n",
              "      <th>0</th>\n",
              "      <td>B-ORG</td>\n",
              "      <td>B-ORG</td>\n",
              "    </tr>\n",
              "    <tr>\n",
              "      <th>1</th>\n",
              "      <td>B-ORG</td>\n",
              "      <td>B-ORG</td>\n",
              "    </tr>\n",
              "    <tr>\n",
              "      <th>2</th>\n",
              "      <td>B-PER</td>\n",
              "      <td>B-PER</td>\n",
              "    </tr>\n",
              "    <tr>\n",
              "      <th>3</th>\n",
              "      <td>B-LOC</td>\n",
              "      <td>O</td>\n",
              "    </tr>\n",
              "    <tr>\n",
              "      <th>4</th>\n",
              "      <td>B-ORG</td>\n",
              "      <td>O</td>\n",
              "    </tr>\n",
              "    <tr>\n",
              "      <th>...</th>\n",
              "      <td>...</td>\n",
              "      <td>...</td>\n",
              "    </tr>\n",
              "    <tr>\n",
              "      <th>57003</th>\n",
              "      <td>O</td>\n",
              "      <td>O</td>\n",
              "    </tr>\n",
              "    <tr>\n",
              "      <th>57004</th>\n",
              "      <td>O</td>\n",
              "      <td>O</td>\n",
              "    </tr>\n",
              "    <tr>\n",
              "      <th>57005</th>\n",
              "      <td>O</td>\n",
              "      <td>O</td>\n",
              "    </tr>\n",
              "    <tr>\n",
              "      <th>57006</th>\n",
              "      <td>O</td>\n",
              "      <td>O</td>\n",
              "    </tr>\n",
              "    <tr>\n",
              "      <th>57007</th>\n",
              "      <td>O</td>\n",
              "      <td>O</td>\n",
              "    </tr>\n",
              "  </tbody>\n",
              "</table>\n",
              "<p>57008 rows × 2 columns</p>\n",
              "</div>"
            ],
            "text/plain": [
              "      actual_class predicted_class\n",
              "0            B-ORG           B-ORG\n",
              "1            B-ORG           B-ORG\n",
              "2            B-PER           B-PER\n",
              "3            B-LOC               O\n",
              "4            B-ORG               O\n",
              "...            ...             ...\n",
              "57003            O               O\n",
              "57004            O               O\n",
              "57005            O               O\n",
              "57006            O               O\n",
              "57007            O               O\n",
              "\n",
              "[57008 rows x 2 columns]"
            ]
          },
          "metadata": {},
          "execution_count": 65
        }
      ]
    },
    {
      "cell_type": "code",
      "source": [
        "confusion_matrix = pd.crosstab(data_prediction['predicted_class'], data_prediction['actual_class'])\n",
        "confusion_matrix"
      ],
      "metadata": {
        "colab": {
          "base_uri": "https://localhost:8080/",
          "height": 300
        },
        "id": "WsRUnd225QZ_",
        "outputId": "d1be13b1-1aae-4304-ffb5-8ee107c1b601"
      },
      "execution_count": 66,
      "outputs": [
        {
          "output_type": "execute_result",
          "data": {
            "text/html": [
              "<div>\n",
              "<style scoped>\n",
              "    .dataframe tbody tr th:only-of-type {\n",
              "        vertical-align: middle;\n",
              "    }\n",
              "\n",
              "    .dataframe tbody tr th {\n",
              "        vertical-align: top;\n",
              "    }\n",
              "\n",
              "    .dataframe thead th {\n",
              "        text-align: right;\n",
              "    }\n",
              "</style>\n",
              "<table border=\"1\" class=\"dataframe\">\n",
              "  <thead>\n",
              "    <tr style=\"text-align: right;\">\n",
              "      <th>actual_class</th>\n",
              "      <th>B-LOC</th>\n",
              "      <th>B-ORG</th>\n",
              "      <th>B-PER</th>\n",
              "      <th>I-LOC</th>\n",
              "      <th>I-ORG</th>\n",
              "      <th>I-PER</th>\n",
              "      <th>O</th>\n",
              "    </tr>\n",
              "    <tr>\n",
              "      <th>predicted_class</th>\n",
              "      <th></th>\n",
              "      <th></th>\n",
              "      <th></th>\n",
              "      <th></th>\n",
              "      <th></th>\n",
              "      <th></th>\n",
              "      <th></th>\n",
              "    </tr>\n",
              "  </thead>\n",
              "  <tbody>\n",
              "    <tr>\n",
              "      <th>B-LOC</th>\n",
              "      <td>106</td>\n",
              "      <td>339</td>\n",
              "      <td>51</td>\n",
              "      <td>5</td>\n",
              "      <td>9</td>\n",
              "      <td>4</td>\n",
              "      <td>2</td>\n",
              "    </tr>\n",
              "    <tr>\n",
              "      <th>B-ORG</th>\n",
              "      <td>75</td>\n",
              "      <td>7625</td>\n",
              "      <td>115</td>\n",
              "      <td>44</td>\n",
              "      <td>17</td>\n",
              "      <td>68</td>\n",
              "      <td>36</td>\n",
              "    </tr>\n",
              "    <tr>\n",
              "      <th>B-PER</th>\n",
              "      <td>18</td>\n",
              "      <td>1510</td>\n",
              "      <td>283</td>\n",
              "      <td>5</td>\n",
              "      <td>3</td>\n",
              "      <td>53</td>\n",
              "      <td>39</td>\n",
              "    </tr>\n",
              "    <tr>\n",
              "      <th>I-LOC</th>\n",
              "      <td>2</td>\n",
              "      <td>493</td>\n",
              "      <td>11</td>\n",
              "      <td>202</td>\n",
              "      <td>11</td>\n",
              "      <td>14</td>\n",
              "      <td>34</td>\n",
              "    </tr>\n",
              "    <tr>\n",
              "      <th>I-ORG</th>\n",
              "      <td>37</td>\n",
              "      <td>746</td>\n",
              "      <td>53</td>\n",
              "      <td>41</td>\n",
              "      <td>80</td>\n",
              "      <td>35</td>\n",
              "      <td>24</td>\n",
              "    </tr>\n",
              "    <tr>\n",
              "      <th>I-PER</th>\n",
              "      <td>4</td>\n",
              "      <td>454</td>\n",
              "      <td>22</td>\n",
              "      <td>4</td>\n",
              "      <td>4</td>\n",
              "      <td>286</td>\n",
              "      <td>49</td>\n",
              "    </tr>\n",
              "    <tr>\n",
              "      <th>O</th>\n",
              "      <td>90</td>\n",
              "      <td>4801</td>\n",
              "      <td>201</td>\n",
              "      <td>110</td>\n",
              "      <td>35</td>\n",
              "      <td>130</td>\n",
              "      <td>38628</td>\n",
              "    </tr>\n",
              "  </tbody>\n",
              "</table>\n",
              "</div>"
            ],
            "text/plain": [
              "actual_class     B-LOC  B-ORG  B-PER  I-LOC  I-ORG  I-PER      O\n",
              "predicted_class                                                 \n",
              "B-LOC              106    339     51      5      9      4      2\n",
              "B-ORG               75   7625    115     44     17     68     36\n",
              "B-PER               18   1510    283      5      3     53     39\n",
              "I-LOC                2    493     11    202     11     14     34\n",
              "I-ORG               37    746     53     41     80     35     24\n",
              "I-PER                4    454     22      4      4    286     49\n",
              "O                   90   4801    201    110     35    130  38628"
            ]
          },
          "metadata": {},
          "execution_count": 66
        }
      ]
    },
    {
      "cell_type": "code",
      "source": [
        "from sklearn.metrics import classification_report\n",
        "pd.DataFrame(classification_report(data_prediction['actual_class'], data_prediction['predicted_class'], output_dict=True)).T"
      ],
      "metadata": {
        "colab": {
          "base_uri": "https://localhost:8080/",
          "height": 363
        },
        "id": "2NQCkytZ5W9f",
        "outputId": "eba8d9e0-a142-4fa0-fe95-8e518224d212"
      },
      "execution_count": 67,
      "outputs": [
        {
          "output_type": "execute_result",
          "data": {
            "text/html": [
              "<div>\n",
              "<style scoped>\n",
              "    .dataframe tbody tr th:only-of-type {\n",
              "        vertical-align: middle;\n",
              "    }\n",
              "\n",
              "    .dataframe tbody tr th {\n",
              "        vertical-align: top;\n",
              "    }\n",
              "\n",
              "    .dataframe thead th {\n",
              "        text-align: right;\n",
              "    }\n",
              "</style>\n",
              "<table border=\"1\" class=\"dataframe\">\n",
              "  <thead>\n",
              "    <tr style=\"text-align: right;\">\n",
              "      <th></th>\n",
              "      <th>precision</th>\n",
              "      <th>recall</th>\n",
              "      <th>f1-score</th>\n",
              "      <th>support</th>\n",
              "    </tr>\n",
              "  </thead>\n",
              "  <tbody>\n",
              "    <tr>\n",
              "      <th>B-LOC</th>\n",
              "      <td>0.205426</td>\n",
              "      <td>0.319277</td>\n",
              "      <td>0.250000</td>\n",
              "      <td>332.000000</td>\n",
              "    </tr>\n",
              "    <tr>\n",
              "      <th>B-ORG</th>\n",
              "      <td>0.955514</td>\n",
              "      <td>0.477518</td>\n",
              "      <td>0.636796</td>\n",
              "      <td>15968.000000</td>\n",
              "    </tr>\n",
              "    <tr>\n",
              "      <th>B-PER</th>\n",
              "      <td>0.148090</td>\n",
              "      <td>0.384511</td>\n",
              "      <td>0.213827</td>\n",
              "      <td>736.000000</td>\n",
              "    </tr>\n",
              "    <tr>\n",
              "      <th>I-LOC</th>\n",
              "      <td>0.263364</td>\n",
              "      <td>0.491484</td>\n",
              "      <td>0.342954</td>\n",
              "      <td>411.000000</td>\n",
              "    </tr>\n",
              "    <tr>\n",
              "      <th>I-ORG</th>\n",
              "      <td>0.078740</td>\n",
              "      <td>0.503145</td>\n",
              "      <td>0.136170</td>\n",
              "      <td>159.000000</td>\n",
              "    </tr>\n",
              "    <tr>\n",
              "      <th>I-PER</th>\n",
              "      <td>0.347509</td>\n",
              "      <td>0.484746</td>\n",
              "      <td>0.404812</td>\n",
              "      <td>590.000000</td>\n",
              "    </tr>\n",
              "    <tr>\n",
              "      <th>O</th>\n",
              "      <td>0.878009</td>\n",
              "      <td>0.995259</td>\n",
              "      <td>0.932965</td>\n",
              "      <td>38812.000000</td>\n",
              "    </tr>\n",
              "    <tr>\n",
              "      <th>accuracy</th>\n",
              "      <td>0.828129</td>\n",
              "      <td>0.828129</td>\n",
              "      <td>0.828129</td>\n",
              "      <td>0.828129</td>\n",
              "    </tr>\n",
              "    <tr>\n",
              "      <th>macro avg</th>\n",
              "      <td>0.410950</td>\n",
              "      <td>0.522277</td>\n",
              "      <td>0.416789</td>\n",
              "      <td>57008.000000</td>\n",
              "    </tr>\n",
              "    <tr>\n",
              "      <th>weighted avg</th>\n",
              "      <td>0.874227</td>\n",
              "      <td>0.828129</td>\n",
              "      <td>0.824804</td>\n",
              "      <td>57008.000000</td>\n",
              "    </tr>\n",
              "  </tbody>\n",
              "</table>\n",
              "</div>"
            ],
            "text/plain": [
              "              precision    recall  f1-score       support\n",
              "B-LOC          0.205426  0.319277  0.250000    332.000000\n",
              "B-ORG          0.955514  0.477518  0.636796  15968.000000\n",
              "B-PER          0.148090  0.384511  0.213827    736.000000\n",
              "I-LOC          0.263364  0.491484  0.342954    411.000000\n",
              "I-ORG          0.078740  0.503145  0.136170    159.000000\n",
              "I-PER          0.347509  0.484746  0.404812    590.000000\n",
              "O              0.878009  0.995259  0.932965  38812.000000\n",
              "accuracy       0.828129  0.828129  0.828129      0.828129\n",
              "macro avg      0.410950  0.522277  0.416789  57008.000000\n",
              "weighted avg   0.874227  0.828129  0.824804  57008.000000"
            ]
          },
          "metadata": {},
          "execution_count": 67
        }
      ]
    },
    {
      "cell_type": "code",
      "source": [
        ""
      ],
      "metadata": {
        "id": "2EHwM6Jif5wL"
      },
      "execution_count": null,
      "outputs": []
    }
  ]
}