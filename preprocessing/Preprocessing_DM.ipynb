{
  "nbformat": 4,
  "nbformat_minor": 0,
  "metadata": {
    "colab": {
      "name": "Preprocessing_DM.ipynb",
      "provenance": []
    },
    "kernelspec": {
      "name": "python3",
      "display_name": "Python 3"
    },
    "language_info": {
      "name": "python"
    }
  },
  "cells": [
    {
      "cell_type": "code",
      "execution_count": 2,
      "metadata": {
        "id": "w2LtEn1YNSq3"
      },
      "outputs": [],
      "source": [
        "import tensorflow as tf\n",
        "import pandas as pd\n",
        "import numpy as np"
      ]
    },
    {
      "cell_type": "code",
      "source": [
        "from google.colab import drive\n",
        "drive.mount('/content/drive')"
      ],
      "metadata": {
        "colab": {
          "base_uri": "https://localhost:8080/"
        },
        "id": "UyXHJ4cJ9Vqc",
        "outputId": "73a623a2-3194-4595-f3c3-db08e3189a17"
      },
      "execution_count": 1,
      "outputs": [
        {
          "output_type": "stream",
          "name": "stdout",
          "text": [
            "Mounted at /content/drive\n"
          ]
        }
      ]
    },
    {
      "cell_type": "code",
      "source": [
        "train_path = '/content/drive/MyDrive/Colab Notebooks/FP-DM/dataset/train.txt'\n",
        "dev_path = '/content/drive/MyDrive/Colab Notebooks/FP-DM/dataset/dev.txt'\n",
        "test_path = '/content/drive/MyDrive/Colab Notebooks/FP-DM/dataset/test.txt'\n",
        "\n",
        "data_train = []\n",
        "with open(train_path) as fp:\n",
        "  sentence = 1\n",
        "  lines = fp.readlines()\n",
        "  for line in lines:\n",
        "    if (not line in [\"\\n\", \"\\r\\n\"]):\n",
        "      line_arr = line.split(' ')\n",
        "      word = line_arr[0]\n",
        "      pos = line_arr[1]\n",
        "      tag = line_arr[2].strip()\n",
        "      data_train.append([sentence, word, pos, tag])\n",
        "    else:\n",
        "      sentence += 1"
      ],
      "metadata": {
        "id": "u_kjQId69lU6"
      },
      "execution_count": 3,
      "outputs": []
    },
    {
      "cell_type": "code",
      "source": [
        "data_dev = []\n",
        "with open(dev_path) as fp:\n",
        "  sentence = 1\n",
        "  lines = fp.readlines()\n",
        "  for line in lines:\n",
        "    if (not line in [\"\\n\", \"\\r\\n\"]):\n",
        "      line_arr = line.split(' ')\n",
        "      word = line_arr[0]\n",
        "      pos = line_arr[1]\n",
        "      tag = line_arr[2].strip()\n",
        "      data_dev.append([sentence, word, pos, tag])\n",
        "    else:\n",
        "      sentence += 1"
      ],
      "metadata": {
        "id": "aWf-CwJ89y2N"
      },
      "execution_count": 5,
      "outputs": []
    },
    {
      "cell_type": "code",
      "source": [
        "data_test = []\n",
        "with open(test_path) as fp:\n",
        "  sentence = 1\n",
        "  lines = fp.readlines()\n",
        "  for line in lines:\n",
        "    if (not line in [\"\\n\", \"\\r\\n\"]):\n",
        "      line_arr = line.split(' ')\n",
        "      word = line_arr[0]\n",
        "      pos = line_arr[1]\n",
        "      tag = line_arr[2].strip()\n",
        "      data_test.append([sentence, word, pos, tag])\n",
        "    else:\n",
        "      sentence += 1"
      ],
      "metadata": {
        "id": "9Iw470o493Cw"
      },
      "execution_count": 7,
      "outputs": []
    },
    {
      "cell_type": "code",
      "source": [
        "data_traindf = pd.DataFrame(np.array(data_train), columns=[\"sentence #\", \"word\", \"pos\", \"tag\"])\n",
        "data_devndf = pd.DataFrame(np.array(data_dev), columns=[\"sentence #\", \"word\", \"pos\", \"tag\"])\n",
        "data_testdf = pd.DataFrame(np.array(data_test), columns=[\"sentence #\", \"word\", \"pos\", \"tag\"])\n",
        "data_merged = data_traindf.append([data_devndf, data_testdf])\n",
        "data_testdf = data_devndf.append([data_testdf])"
      ],
      "metadata": {
        "id": "0l8EjZSI-ESb"
      },
      "execution_count": 8,
      "outputs": []
    },
    {
      "cell_type": "code",
      "source": [
        "print(\"Train Shape : \", data_traindf.shape)\n",
        "print(\"Test Shape : \", data_testdf.shape)\n",
        "print(\"Merged Shape : \", data_merged.shape)"
      ],
      "metadata": {
        "colab": {
          "base_uri": "https://localhost:8080/"
        },
        "id": "zphQ9Ps0-rzU",
        "outputId": "69dab13d-a4c0-40a2-e2cf-c0950335442d"
      },
      "execution_count": 9,
      "outputs": [
        {
          "output_type": "stream",
          "name": "stdout",
          "text": [
            "Train Shape :  (30248, 4)\n",
            "Test Shape :  (18451, 4)\n",
            "Merged Shape :  (48699, 4)\n"
          ]
        }
      ]
    },
    {
      "cell_type": "code",
      "source": [
        "data_traindf.head()"
      ],
      "metadata": {
        "colab": {
          "base_uri": "https://localhost:8080/",
          "height": 206
        },
        "id": "Whc6JCZf-yzg",
        "outputId": "d9a73a27-ec06-4882-bd3c-529f0ef5c0ca"
      },
      "execution_count": 10,
      "outputs": [
        {
          "output_type": "execute_result",
          "data": {
            "text/html": [
              "<div>\n",
              "<style scoped>\n",
              "    .dataframe tbody tr th:only-of-type {\n",
              "        vertical-align: middle;\n",
              "    }\n",
              "\n",
              "    .dataframe tbody tr th {\n",
              "        vertical-align: top;\n",
              "    }\n",
              "\n",
              "    .dataframe thead th {\n",
              "        text-align: right;\n",
              "    }\n",
              "</style>\n",
              "<table border=\"1\" class=\"dataframe\">\n",
              "  <thead>\n",
              "    <tr style=\"text-align: right;\">\n",
              "      <th></th>\n",
              "      <th>sentence #</th>\n",
              "      <th>word</th>\n",
              "      <th>pos</th>\n",
              "      <th>tag</th>\n",
              "    </tr>\n",
              "  </thead>\n",
              "  <tbody>\n",
              "    <tr>\n",
              "      <th>0</th>\n",
              "      <td>1</td>\n",
              "      <td>Berikut</td>\n",
              "      <td>PROPN</td>\n",
              "      <td>O</td>\n",
              "    </tr>\n",
              "    <tr>\n",
              "      <th>1</th>\n",
              "      <td>1</td>\n",
              "      <td>adalah</td>\n",
              "      <td>AUX</td>\n",
              "      <td>O</td>\n",
              "    </tr>\n",
              "    <tr>\n",
              "      <th>2</th>\n",
              "      <td>1</td>\n",
              "      <td>tujuh</td>\n",
              "      <td>NUM</td>\n",
              "      <td>O</td>\n",
              "    </tr>\n",
              "    <tr>\n",
              "      <th>3</th>\n",
              "      <td>1</td>\n",
              "      <td>kota</td>\n",
              "      <td>NOUN</td>\n",
              "      <td>O</td>\n",
              "    </tr>\n",
              "    <tr>\n",
              "      <th>4</th>\n",
              "      <td>1</td>\n",
              "      <td>di</td>\n",
              "      <td>ADP</td>\n",
              "      <td>O</td>\n",
              "    </tr>\n",
              "  </tbody>\n",
              "</table>\n",
              "</div>"
            ],
            "text/plain": [
              "  sentence #     word    pos tag\n",
              "0          1  Berikut  PROPN   O\n",
              "1          1   adalah    AUX   O\n",
              "2          1    tujuh    NUM   O\n",
              "3          1     kota   NOUN   O\n",
              "4          1       di    ADP   O"
            ]
          },
          "metadata": {},
          "execution_count": 10
        }
      ]
    },
    {
      "cell_type": "code",
      "source": [
        "data_traindf.drop(['pos'], inplace=True, axis=1)\n",
        "data_testdf.drop(['pos'], inplace=True, axis=1)"
      ],
      "metadata": {
        "id": "q2DiQbKP-4El"
      },
      "execution_count": 11,
      "outputs": []
    },
    {
      "cell_type": "code",
      "source": [
        "data_merged[\"tag\"].value_counts()"
      ],
      "metadata": {
        "colab": {
          "base_uri": "https://localhost:8080/"
        },
        "id": "Um2Q6XBW_SXU",
        "outputId": "d37f12c2-cb48-4ea7-c0f8-d13e6e6e4620"
      },
      "execution_count": 13,
      "outputs": [
        {
          "output_type": "execute_result",
          "data": {
            "text/plain": [
              "O        42696\n",
              "B-PER     1632\n",
              "B-ORG     1311\n",
              "I-ORG      988\n",
              "B-LOC      834\n",
              "I-PER      818\n",
              "I-LOC      420\n",
              "Name: tag, dtype: int64"
            ]
          },
          "metadata": {},
          "execution_count": 13
        }
      ]
    },
    {
      "cell_type": "code",
      "source": [
        "import matplotlib.pyplot as plt\n",
        "import seaborn as sns\n",
        "\n",
        "plt.figure(figsize = (16,8))\n",
        "sns.set_style('darkgrid')\n",
        "sns.histplot(data_merged['tag'])\n",
        "plt.tight_layout(pad=2)\n",
        "plt.show()"
      ],
      "metadata": {
        "colab": {
          "base_uri": "https://localhost:8080/",
          "height": 425
        },
        "id": "fzIA_7rO_b71",
        "outputId": "40771b64-641c-481f-dae4-cc2cf362373d"
      },
      "execution_count": 14,
      "outputs": [
        {
          "output_type": "display_data",
          "data": {
            "image/png": "[encoded data removed]",
            "text/plain": [
              "<Figure size 1152x576 with 1 Axes>"
            ]
          },
          "metadata": {
            "needs_background": "light"
          }
        }
      ]
    },
    {
      "cell_type": "code",
      "source": [
        "from itertools import chain\n",
        "def get_dict_map(dataset, token_or_tag):\n",
        "    tok2idx = {}\n",
        "    idx2tok = {}\n",
        "    \n",
        "    if token_or_tag == 'token':\n",
        "        vocab = list(set(dataset['word'].to_list()))\n",
        "    else:\n",
        "        vocab = list(set(dataset['tag'].to_list()))\n",
        "    \n",
        "    idx2tok = {idx:tok for  idx, tok in enumerate(vocab)}\n",
        "    tok2idx = {tok:idx for  idx, tok in enumerate(vocab)}\n",
        "    return tok2idx, idx2tok, vocab"
      ],
      "metadata": {
        "id": "xVKwgv3L_nMQ"
      },
      "execution_count": 15,
      "outputs": []
    },
    {
      "cell_type": "code",
      "source": [
        "token2idx, idx2token, word_vocab = get_dict_map(data_merged, 'token')\n",
        "tag2idx, idx2tag, tag_vocab = get_dict_map(data_merged, 'tag')\n",
        "idx2tag"
      ],
      "metadata": {
        "colab": {
          "base_uri": "https://localhost:8080/"
        },
        "id": "n8Q8H8kTAXDV",
        "outputId": "dc9272f3-90fb-4ec2-e2c9-26e25db4b828"
      },
      "execution_count": 16,
      "outputs": [
        {
          "output_type": "execute_result",
          "data": {
            "text/plain": [
              "{0: 'O',\n",
              " 1: 'I-LOC',\n",
              " 2: 'B-ORG',\n",
              " 3: 'I-PER',\n",
              " 4: 'B-PER',\n",
              " 5: 'I-ORG',\n",
              " 6: 'B-LOC'}"
            ]
          },
          "metadata": {},
          "execution_count": 16
        }
      ]
    },
    {
      "cell_type": "markdown",
      "source": [
        "Memastikan `idx2tag[0] =` **`\"O\"`** dan `idx2token[0] =` **`\"ENDPAD\"`**"
      ],
      "metadata": {
        "id": "84vtITfZAozb"
      }
    },
    {
      "cell_type": "code",
      "source": [
        "print(idx2token[0])\n",
        "print(idx2tag[0])"
      ],
      "metadata": {
        "colab": {
          "base_uri": "https://localhost:8080/"
        },
        "id": "hsdqevXcA98k",
        "outputId": "1cc9472e-e41e-4b43-d1ec-12902662266c"
      },
      "execution_count": 18,
      "outputs": [
        {
          "output_type": "stream",
          "name": "stdout",
          "text": [
            "bersyarat\n",
            "O\n"
          ]
        }
      ]
    },
    {
      "cell_type": "code",
      "source": [
        "print(len(token2idx))\n",
        "print(idx2token[8541])\n",
        "\n",
        "idx2token[0] = \"ENDPAD\"\n",
        "idx2token[8542] = \"bersyarat\"\n",
        "\n",
        "token2idx[\"ENDPAD\"] = 0\n",
        "token2idx[\"bersyarat\"] = 8542\n",
        "\n",
        "print(idx2token[0])\n",
        "print(token2idx[\"ENDPAD\"])"
      ],
      "metadata": {
        "colab": {
          "base_uri": "https://localhost:8080/"
        },
        "id": "yxo_jNzwBRvD",
        "outputId": "2861f56e-1fe3-4879-b521-5e65cae03b20"
      },
      "execution_count": 23,
      "outputs": [
        {
          "output_type": "stream",
          "name": "stdout",
          "text": [
            "8542\n",
            "produk\n",
            "ENDPAD\n",
            "0\n"
          ]
        }
      ]
    },
    {
      "cell_type": "code",
      "source": [
        "print(len(token2idx))\n",
        "print(idx2token[8542])\n",
        "print(token2idx[\"bersyarat\"])"
      ],
      "metadata": {
        "colab": {
          "base_uri": "https://localhost:8080/"
        },
        "id": "OtjV-6PaB_Nb",
        "outputId": "f77595da-c038-4caf-dbbc-404d099fb5c8"
      },
      "execution_count": 25,
      "outputs": [
        {
          "output_type": "stream",
          "name": "stdout",
          "text": [
            "8543\n",
            "bersyarat\n",
            "8542\n"
          ]
        }
      ]
    },
    {
      "cell_type": "markdown",
      "source": [
        "Export dictionary ke dalam file JSON"
      ],
      "metadata": {
        "id": "2u2JK_JVCJx3"
      }
    },
    {
      "cell_type": "code",
      "source": [
        "# importing the module\n",
        "import json\n",
        "\n",
        "# Write dict to JSON file\n",
        "with open(\"/content/drive/MyDrive/Colab Notebooks/FP-DM/output/token2idx.json\", \"w\") as outfile:\n",
        "    json.dump(token2idx, outfile)\n",
        "with open(\"/content/drive/MyDrive/Colab Notebooks/FP-DM/output/idx2token.json\", \"w\") as outfile:\n",
        "    json.dump(idx2token, outfile)\n",
        "with open(\"/content/drive/MyDrive/Colab Notebooks/FP-DM/output/tag2idx.json\", \"w\") as outfile:\n",
        "    json.dump(tag2idx, outfile)\n",
        "with open(\"/content/drive/MyDrive/Colab Notebooks/FP-DM/output/idx2tag.json\", \"w\") as outfile:\n",
        "    json.dump(idx2tag, outfile)"
      ],
      "metadata": {
        "id": "dbPwo2rHCNZW"
      },
      "execution_count": 27,
      "outputs": []
    },
    {
      "cell_type": "markdown",
      "source": [
        "Generate Kolom **`word_idx`** dan **`tag_idx`** sebagai representasi numerik dari data text"
      ],
      "metadata": {
        "id": "NRO2xwzkDIPg"
      }
    },
    {
      "cell_type": "code",
      "source": [
        "data_traindf['word_idx'] = data_traindf['word'].map(token2idx)\n",
        "data_traindf['tag_idx'] = data_traindf['tag'].map(tag2idx)\n",
        "\n",
        "data_testdf['word_idx'] = data_testdf['word'].map(token2idx)\n",
        "data_testdf['tag_idx'] = data_testdf['tag'].map(tag2idx)"
      ],
      "metadata": {
        "id": "RdIYEJCVCUbt"
      },
      "execution_count": 28,
      "outputs": []
    },
    {
      "cell_type": "code",
      "source": [
        "data_traindf"
      ],
      "metadata": {
        "colab": {
          "base_uri": "https://localhost:8080/",
          "height": 424
        },
        "id": "mhyhiZljD0Bn",
        "outputId": "3d6b76f4-773f-4068-ef49-b0e4996f9eee"
      },
      "execution_count": 29,
      "outputs": [
        {
          "output_type": "execute_result",
          "data": {
            "text/html": [
              "<div>\n",
              "<style scoped>\n",
              "    .dataframe tbody tr th:only-of-type {\n",
              "        vertical-align: middle;\n",
              "    }\n",
              "\n",
              "    .dataframe tbody tr th {\n",
              "        vertical-align: top;\n",
              "    }\n",
              "\n",
              "    .dataframe thead th {\n",
              "        text-align: right;\n",
              "    }\n",
              "</style>\n",
              "<table border=\"1\" class=\"dataframe\">\n",
              "  <thead>\n",
              "    <tr style=\"text-align: right;\">\n",
              "      <th></th>\n",
              "      <th>sentence #</th>\n",
              "      <th>word</th>\n",
              "      <th>tag</th>\n",
              "      <th>word_idx</th>\n",
              "      <th>tag_idx</th>\n",
              "    </tr>\n",
              "  </thead>\n",
              "  <tbody>\n",
              "    <tr>\n",
              "      <th>0</th>\n",
              "      <td>1</td>\n",
              "      <td>Berikut</td>\n",
              "      <td>O</td>\n",
              "      <td>7983</td>\n",
              "      <td>0</td>\n",
              "    </tr>\n",
              "    <tr>\n",
              "      <th>1</th>\n",
              "      <td>1</td>\n",
              "      <td>adalah</td>\n",
              "      <td>O</td>\n",
              "      <td>2039</td>\n",
              "      <td>0</td>\n",
              "    </tr>\n",
              "    <tr>\n",
              "      <th>2</th>\n",
              "      <td>1</td>\n",
              "      <td>tujuh</td>\n",
              "      <td>O</td>\n",
              "      <td>4980</td>\n",
              "      <td>0</td>\n",
              "    </tr>\n",
              "    <tr>\n",
              "      <th>3</th>\n",
              "      <td>1</td>\n",
              "      <td>kota</td>\n",
              "      <td>O</td>\n",
              "      <td>41</td>\n",
              "      <td>0</td>\n",
              "    </tr>\n",
              "    <tr>\n",
              "      <th>4</th>\n",
              "      <td>1</td>\n",
              "      <td>di</td>\n",
              "      <td>O</td>\n",
              "      <td>4961</td>\n",
              "      <td>0</td>\n",
              "    </tr>\n",
              "    <tr>\n",
              "      <th>...</th>\n",
              "      <td>...</td>\n",
              "      <td>...</td>\n",
              "      <td>...</td>\n",
              "      <td>...</td>\n",
              "      <td>...</td>\n",
              "    </tr>\n",
              "    <tr>\n",
              "      <th>30243</th>\n",
              "      <td>1464</td>\n",
              "      <td>kita</td>\n",
              "      <td>O</td>\n",
              "      <td>4705</td>\n",
              "      <td>0</td>\n",
              "    </tr>\n",
              "    <tr>\n",
              "      <th>30244</th>\n",
              "      <td>1464</td>\n",
              "      <td>,</td>\n",
              "      <td>O</td>\n",
              "      <td>7275</td>\n",
              "      <td>0</td>\n",
              "    </tr>\n",
              "    <tr>\n",
              "      <th>30245</th>\n",
              "      <td>1464</td>\n",
              "      <td>ucap</td>\n",
              "      <td>O</td>\n",
              "      <td>7791</td>\n",
              "      <td>0</td>\n",
              "    </tr>\n",
              "    <tr>\n",
              "      <th>30246</th>\n",
              "      <td>1464</td>\n",
              "      <td>Fadli</td>\n",
              "      <td>B-PER</td>\n",
              "      <td>855</td>\n",
              "      <td>4</td>\n",
              "    </tr>\n",
              "    <tr>\n",
              "      <th>30247</th>\n",
              "      <td>1464</td>\n",
              "      <td>.</td>\n",
              "      <td>O</td>\n",
              "      <td>6215</td>\n",
              "      <td>0</td>\n",
              "    </tr>\n",
              "  </tbody>\n",
              "</table>\n",
              "<p>30248 rows × 5 columns</p>\n",
              "</div>"
            ],
            "text/plain": [
              "      sentence #     word    tag  word_idx  tag_idx\n",
              "0              1  Berikut      O      7983        0\n",
              "1              1   adalah      O      2039        0\n",
              "2              1    tujuh      O      4980        0\n",
              "3              1     kota      O        41        0\n",
              "4              1       di      O      4961        0\n",
              "...          ...      ...    ...       ...      ...\n",
              "30243       1464     kita      O      4705        0\n",
              "30244       1464        ,      O      7275        0\n",
              "30245       1464     ucap      O      7791        0\n",
              "30246       1464    Fadli  B-PER       855        4\n",
              "30247       1464        .      O      6215        0\n",
              "\n",
              "[30248 rows x 5 columns]"
            ]
          },
          "metadata": {},
          "execution_count": 29
        }
      ]
    },
    {
      "cell_type": "code",
      "source": [
        "data_testdf"
      ],
      "metadata": {
        "colab": {
          "base_uri": "https://localhost:8080/",
          "height": 424
        },
        "id": "AafmMrE4D6iY",
        "outputId": "9cb507bb-f91f-4caf-96d8-7321acede4ea"
      },
      "execution_count": 30,
      "outputs": [
        {
          "output_type": "execute_result",
          "data": {
            "text/html": [
              "<div>\n",
              "<style scoped>\n",
              "    .dataframe tbody tr th:only-of-type {\n",
              "        vertical-align: middle;\n",
              "    }\n",
              "\n",
              "    .dataframe tbody tr th {\n",
              "        vertical-align: top;\n",
              "    }\n",
              "\n",
              "    .dataframe thead th {\n",
              "        text-align: right;\n",
              "    }\n",
              "</style>\n",
              "<table border=\"1\" class=\"dataframe\">\n",
              "  <thead>\n",
              "    <tr style=\"text-align: right;\">\n",
              "      <th></th>\n",
              "      <th>sentence #</th>\n",
              "      <th>word</th>\n",
              "      <th>tag</th>\n",
              "      <th>word_idx</th>\n",
              "      <th>tag_idx</th>\n",
              "    </tr>\n",
              "  </thead>\n",
              "  <tbody>\n",
              "    <tr>\n",
              "      <th>0</th>\n",
              "      <td>1</td>\n",
              "      <td>Meski</td>\n",
              "      <td>O</td>\n",
              "      <td>4549</td>\n",
              "      <td>0</td>\n",
              "    </tr>\n",
              "    <tr>\n",
              "      <th>1</th>\n",
              "      <td>1</td>\n",
              "      <td>demikian</td>\n",
              "      <td>O</td>\n",
              "      <td>4487</td>\n",
              "      <td>0</td>\n",
              "    </tr>\n",
              "    <tr>\n",
              "      <th>2</th>\n",
              "      <td>1</td>\n",
              "      <td>,</td>\n",
              "      <td>O</td>\n",
              "      <td>7275</td>\n",
              "      <td>0</td>\n",
              "    </tr>\n",
              "    <tr>\n",
              "      <th>3</th>\n",
              "      <td>1</td>\n",
              "      <td>ia</td>\n",
              "      <td>O</td>\n",
              "      <td>5670</td>\n",
              "      <td>0</td>\n",
              "    </tr>\n",
              "    <tr>\n",
              "      <th>4</th>\n",
              "      <td>1</td>\n",
              "      <td>menegaskan</td>\n",
              "      <td>O</td>\n",
              "      <td>5148</td>\n",
              "      <td>0</td>\n",
              "    </tr>\n",
              "    <tr>\n",
              "      <th>...</th>\n",
              "      <td>...</td>\n",
              "      <td>...</td>\n",
              "      <td>...</td>\n",
              "      <td>...</td>\n",
              "      <td>...</td>\n",
              "    </tr>\n",
              "    <tr>\n",
              "      <th>10583</th>\n",
              "      <td>509</td>\n",
              "      <td>keluarga</td>\n",
              "      <td>O</td>\n",
              "      <td>3747</td>\n",
              "      <td>0</td>\n",
              "    </tr>\n",
              "    <tr>\n",
              "      <th>10584</th>\n",
              "      <td>509</td>\n",
              "      <td>-lah</td>\n",
              "      <td>O</td>\n",
              "      <td>2169</td>\n",
              "      <td>0</td>\n",
              "    </tr>\n",
              "    <tr>\n",
              "      <th>10585</th>\n",
              "      <td>509</td>\n",
              "      <td>,</td>\n",
              "      <td>O</td>\n",
              "      <td>7275</td>\n",
              "      <td>0</td>\n",
              "    </tr>\n",
              "    <tr>\n",
              "      <th>10586</th>\n",
              "      <td>509</td>\n",
              "      <td>ujarnya</td>\n",
              "      <td>O</td>\n",
              "      <td>3526</td>\n",
              "      <td>0</td>\n",
              "    </tr>\n",
              "    <tr>\n",
              "      <th>10587</th>\n",
              "      <td>509</td>\n",
              "      <td>.</td>\n",
              "      <td>O</td>\n",
              "      <td>6215</td>\n",
              "      <td>0</td>\n",
              "    </tr>\n",
              "  </tbody>\n",
              "</table>\n",
              "<p>18451 rows × 5 columns</p>\n",
              "</div>"
            ],
            "text/plain": [
              "      sentence #        word tag  word_idx  tag_idx\n",
              "0              1       Meski   O      4549        0\n",
              "1              1    demikian   O      4487        0\n",
              "2              1           ,   O      7275        0\n",
              "3              1          ia   O      5670        0\n",
              "4              1  menegaskan   O      5148        0\n",
              "...          ...         ...  ..       ...      ...\n",
              "10583        509    keluarga   O      3747        0\n",
              "10584        509        -lah   O      2169        0\n",
              "10585        509           ,   O      7275        0\n",
              "10586        509     ujarnya   O      3526        0\n",
              "10587        509           .   O      6215        0\n",
              "\n",
              "[18451 rows x 5 columns]"
            ]
          },
          "metadata": {},
          "execution_count": 30
        }
      ]
    },
    {
      "cell_type": "markdown",
      "source": [
        "Export data train dan data test ke CSV untuk digunakan saat membangun model Word Embedding dan Klasifikasi"
      ],
      "metadata": {
        "id": "pLn6brNQEBpu"
      }
    },
    {
      "cell_type": "code",
      "source": [
        "data_traindf.to_csv('/content/drive/MyDrive/Colab Notebooks/FP-DM/dataset/train_baseline_fix_index.csv')"
      ],
      "metadata": {
        "id": "lmc4V4VeEJFS"
      },
      "execution_count": 31,
      "outputs": []
    },
    {
      "cell_type": "code",
      "source": [
        "data_testdf.to_csv('/content/drive/MyDrive/Colab Notebooks/FP-DM/dataset/test_baseline_fix_index.csv')"
      ],
      "metadata": {
        "id": "SFERzKfmERGd"
      },
      "execution_count": 32,
      "outputs": []
    }
  ]
}