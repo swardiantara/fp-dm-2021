{
  "nbformat": 4,
  "nbformat_minor": 0,
  "metadata": {
    "colab": {
      "name": "Preprocessing_DM.ipynb",
      "provenance": []
    },
    "kernelspec": {
      "name": "python3",
      "display_name": "Python 3"
    },
    "language_info": {
      "name": "python"
    }
  },
  "cells": [
    {
      "cell_type": "code",
      "execution_count": 1,
      "metadata": {
        "id": "w2LtEn1YNSq3"
      },
      "outputs": [],
      "source": [
        "import tensorflow as tf\n",
        "import pandas as pd\n",
        "import numpy as np"
      ]
    },
    {
      "cell_type": "code",
      "source": [
        "from google.colab import drive\n",
        "drive.mount('/content/drive')"
      ],
      "metadata": {
        "colab": {
          "base_uri": "https://localhost:8080/"
        },
        "id": "UyXHJ4cJ9Vqc",
        "outputId": "914a3b56-32b2-460f-bc59-92861e214643"
      },
      "execution_count": 2,
      "outputs": [
        {
          "output_type": "stream",
          "name": "stdout",
          "text": [
            "Mounted at /content/drive\n"
          ]
        }
      ]
    },
    {
      "cell_type": "code",
      "source": [
        "train_path = '/content/drive/MyDrive/Colab Notebooks/FP-DM/dataset/train.txt'\n",
        "dev_path = '/content/drive/MyDrive/Colab Notebooks/FP-DM/dataset/dev.txt'\n",
        "test_path = '/content/drive/MyDrive/Colab Notebooks/FP-DM/dataset/test.txt'\n",
        "\n",
        "data_train = []\n",
        "with open(train_path) as fp:\n",
        "  sentence = 1\n",
        "  lines = fp.readlines()\n",
        "  for line in lines:\n",
        "    if (not line in [\"\\n\", \"\\r\\n\"]):\n",
        "      line_arr = line.split(' ')\n",
        "      word = line_arr[0]\n",
        "      pos = line_arr[1]\n",
        "      tag = line_arr[2].strip()\n",
        "      data_train.append([sentence, word, pos, tag])\n",
        "    else:\n",
        "      sentence += 1"
      ],
      "metadata": {
        "id": "u_kjQId69lU6"
      },
      "execution_count": 3,
      "outputs": []
    },
    {
      "cell_type": "code",
      "source": [
        "data_dev = []\n",
        "with open(dev_path) as fp:\n",
        "  sentence = 1\n",
        "  lines = fp.readlines()\n",
        "  for line in lines:\n",
        "    if (not line in [\"\\n\", \"\\r\\n\"]):\n",
        "      line_arr = line.split(' ')\n",
        "      word = line_arr[0]\n",
        "      pos = line_arr[1]\n",
        "      tag = line_arr[2].strip()\n",
        "      data_dev.append([sentence, word, pos, tag])\n",
        "    else:\n",
        "      sentence += 1"
      ],
      "metadata": {
        "id": "aWf-CwJ89y2N"
      },
      "execution_count": 4,
      "outputs": []
    },
    {
      "cell_type": "code",
      "source": [
        "data_test = []\n",
        "with open(test_path) as fp:\n",
        "  sentence = 1\n",
        "  lines = fp.readlines()\n",
        "  for line in lines:\n",
        "    if (not line in [\"\\n\", \"\\r\\n\"]):\n",
        "      line_arr = line.split(' ')\n",
        "      word = line_arr[0]\n",
        "      pos = line_arr[1]\n",
        "      tag = line_arr[2].strip()\n",
        "      data_test.append([sentence, word, pos, tag])\n",
        "    else:\n",
        "      sentence += 1"
      ],
      "metadata": {
        "id": "9Iw470o493Cw"
      },
      "execution_count": 5,
      "outputs": []
    },
    {
      "cell_type": "code",
      "source": [
        "data_traindf = pd.DataFrame(np.array(data_train), columns=[\"sentence #\", \"word\", \"pos\", \"tag\"])\n",
        "data_devndf = pd.DataFrame(np.array(data_dev), columns=[\"sentence #\", \"word\", \"pos\", \"tag\"])\n",
        "data_testdf = pd.DataFrame(np.array(data_test), columns=[\"sentence #\", \"word\", \"pos\", \"tag\"])\n",
        "data_merged = data_traindf.append([data_devndf, data_testdf])\n",
        "data_testdf = data_devndf.append([data_testdf])"
      ],
      "metadata": {
        "id": "0l8EjZSI-ESb"
      },
      "execution_count": 6,
      "outputs": []
    },
    {
      "cell_type": "code",
      "source": [
        "print(\"Train Shape : \", data_traindf.shape)\n",
        "print(\"Test Shape : \", data_testdf.shape)\n",
        "print(\"Merged Shape : \", data_merged.shape)"
      ],
      "metadata": {
        "colab": {
          "base_uri": "https://localhost:8080/"
        },
        "id": "zphQ9Ps0-rzU",
        "outputId": "959876d8-45fd-409b-d60c-2b4c3db1bc83"
      },
      "execution_count": 13,
      "outputs": [
        {
          "output_type": "stream",
          "name": "stdout",
          "text": [
            "Train Shape :  (30248, 4)\n",
            "Test Shape :  (18451, 4)\n",
            "Merged Shape :  (48699, 4)\n"
          ]
        }
      ]
    },
    {
      "cell_type": "code",
      "source": [
        "data_traindf.head()"
      ],
      "metadata": {
        "colab": {
          "base_uri": "https://localhost:8080/",
          "height": 206
        },
        "id": "Whc6JCZf-yzg",
        "outputId": "d9a73a27-ec06-4882-bd3c-529f0ef5c0ca"
      },
      "execution_count": 10,
      "outputs": [
        {
          "output_type": "execute_result",
          "data": {
            "text/html": [
              "<div>\n",
              "<style scoped>\n",
              "    .dataframe tbody tr th:only-of-type {\n",
              "        vertical-align: middle;\n",
              "    }\n",
              "\n",
              "    .dataframe tbody tr th {\n",
              "        vertical-align: top;\n",
              "    }\n",
              "\n",
              "    .dataframe thead th {\n",
              "        text-align: right;\n",
              "    }\n",
              "</style>\n",
              "<table border=\"1\" class=\"dataframe\">\n",
              "  <thead>\n",
              "    <tr style=\"text-align: right;\">\n",
              "      <th></th>\n",
              "      <th>sentence #</th>\n",
              "      <th>word</th>\n",
              "      <th>pos</th>\n",
              "      <th>tag</th>\n",
              "    </tr>\n",
              "  </thead>\n",
              "  <tbody>\n",
              "    <tr>\n",
              "      <th>0</th>\n",
              "      <td>1</td>\n",
              "      <td>Berikut</td>\n",
              "      <td>PROPN</td>\n",
              "      <td>O</td>\n",
              "    </tr>\n",
              "    <tr>\n",
              "      <th>1</th>\n",
              "      <td>1</td>\n",
              "      <td>adalah</td>\n",
              "      <td>AUX</td>\n",
              "      <td>O</td>\n",
              "    </tr>\n",
              "    <tr>\n",
              "      <th>2</th>\n",
              "      <td>1</td>\n",
              "      <td>tujuh</td>\n",
              "      <td>NUM</td>\n",
              "      <td>O</td>\n",
              "    </tr>\n",
              "    <tr>\n",
              "      <th>3</th>\n",
              "      <td>1</td>\n",
              "      <td>kota</td>\n",
              "      <td>NOUN</td>\n",
              "      <td>O</td>\n",
              "    </tr>\n",
              "    <tr>\n",
              "      <th>4</th>\n",
              "      <td>1</td>\n",
              "      <td>di</td>\n",
              "      <td>ADP</td>\n",
              "      <td>O</td>\n",
              "    </tr>\n",
              "  </tbody>\n",
              "</table>\n",
              "</div>"
            ],
            "text/plain": [
              "  sentence #     word    pos tag\n",
              "0          1  Berikut  PROPN   O\n",
              "1          1   adalah    AUX   O\n",
              "2          1    tujuh    NUM   O\n",
              "3          1     kota   NOUN   O\n",
              "4          1       di    ADP   O"
            ]
          },
          "metadata": {},
          "execution_count": 10
        }
      ]
    },
    {
      "cell_type": "code",
      "source": [
        "data_traindf.drop(['pos'], inplace=True, axis=1)\n",
        "data_testdf.drop(['pos'], inplace=True, axis=1)"
      ],
      "metadata": {
        "id": "q2DiQbKP-4El"
      },
      "execution_count": 11,
      "outputs": []
    },
    {
      "cell_type": "code",
      "source": [
        "data_merged[\"tag\"].value_counts()"
      ],
      "metadata": {
        "colab": {
          "base_uri": "https://localhost:8080/"
        },
        "id": "Um2Q6XBW_SXU",
        "outputId": "d37f12c2-cb48-4ea7-c0f8-d13e6e6e4620"
      },
      "execution_count": 13,
      "outputs": [
        {
          "output_type": "execute_result",
          "data": {
            "text/plain": [
              "O        42696\n",
              "B-PER     1632\n",
              "B-ORG     1311\n",
              "I-ORG      988\n",
              "B-LOC      834\n",
              "I-PER      818\n",
              "I-LOC      420\n",
              "Name: tag, dtype: int64"
            ]
          },
          "metadata": {},
          "execution_count": 13
        }
      ]
    },
    {
      "cell_type": "code",
      "source": [
        "import matplotlib.pyplot as plt\n",
        "import seaborn as sns\n",
        "\n",
        "plt.figure(figsize = (16,8))\n",
        "sns.set_style('darkgrid')\n",
        "sns.histplot(data_merged['tag'])\n",
        "plt.tight_layout(pad=2)\n",
        "plt.show()"
      ],
      "metadata": {
        "colab": {
          "base_uri": "https://localhost:8080/",
          "height": 425
        },
        "id": "fzIA_7rO_b71",
        "outputId": "40771b64-641c-481f-dae4-cc2cf362373d"
      },
      "execution_count": 14,
      "outputs": [
        {
          "output_type": "display_data",
          "data": {
            "image/png": "[encoded data removed]",
            "text/plain": [
              "<Figure size 1152x576 with 1 Axes>"
            ]
          },
          "metadata": {
            "needs_background": "light"
          }
        }
      ]
    },
    {
      "cell_type": "code",
      "source": [
        "from itertools import chain\n",
        "def get_dict_map(dataset, token_or_tag):\n",
        "    tok2idx = {}\n",
        "    idx2tok = {}\n",
        "    \n",
        "    if token_or_tag == 'token':\n",
        "        vocab = list(set(dataset['word'].to_list()))\n",
        "    else:\n",
        "        vocab = list(set(dataset['tag'].to_list()))\n",
        "    \n",
        "    idx2tok = {idx:tok for  idx, tok in enumerate(vocab)}\n",
        "    tok2idx = {tok:idx for  idx, tok in enumerate(vocab)}\n",
        "    return tok2idx, idx2tok, vocab"
      ],
      "metadata": {
        "id": "xVKwgv3L_nMQ"
      },
      "execution_count": 15,
      "outputs": []
    },
    {
      "cell_type": "code",
      "source": [
        "token2idx, idx2token, word_vocab = get_dict_map(data_merged, 'token')\n",
        "tag2idx, idx2tag, tag_vocab = get_dict_map(data_merged, 'tag')\n",
        "idx2tag"
      ],
      "metadata": {
        "colab": {
          "base_uri": "https://localhost:8080/"
        },
        "id": "n8Q8H8kTAXDV",
        "outputId": "dc9272f3-90fb-4ec2-e2c9-26e25db4b828"
      },
      "execution_count": 16,
      "outputs": [
        {
          "output_type": "execute_result",
          "data": {
            "text/plain": [
              "{0: 'O',\n",
              " 1: 'I-LOC',\n",
              " 2: 'B-ORG',\n",
              " 3: 'I-PER',\n",
              " 4: 'B-PER',\n",
              " 5: 'I-ORG',\n",
              " 6: 'B-LOC'}"
            ]
          },
          "metadata": {},
          "execution_count": 16
        }
      ]
    },
    {
      "cell_type": "markdown",
      "source": [
        "Memastikan `idx2tag[0] =` **`\"O\"`** dan `idx2token[0] =` **`\"ENDPAD\"`**"
      ],
      "metadata": {
        "id": "84vtITfZAozb"
      }
    },
    {
      "cell_type": "code",
      "source": [
        "print(idx2token[0])\n",
        "print(idx2tag[0])"
      ],
      "metadata": {
        "colab": {
          "base_uri": "https://localhost:8080/"
        },
        "id": "hsdqevXcA98k",
        "outputId": "1cc9472e-e41e-4b43-d1ec-12902662266c"
      },
      "execution_count": 18,
      "outputs": [
        {
          "output_type": "stream",
          "name": "stdout",
          "text": [
            "bersyarat\n",
            "O\n"
          ]
        }
      ]
    },
    {
      "cell_type": "code",
      "source": [
        "print(len(token2idx))\n",
        "print(idx2token[8541])\n",
        "\n",
        "idx2token[0] = \"ENDPAD\"\n",
        "idx2token[8542] = \"bersyarat\"\n",
        "\n",
        "token2idx[\"ENDPAD\"] = 0\n",
        "token2idx[\"bersyarat\"] = 8542\n",
        "\n",
        "print(idx2token[0])\n",
        "print(token2idx[\"ENDPAD\"])"
      ],
      "metadata": {
        "colab": {
          "base_uri": "https://localhost:8080/"
        },
        "id": "yxo_jNzwBRvD",
        "outputId": "2861f56e-1fe3-4879-b521-5e65cae03b20"
      },
      "execution_count": 23,
      "outputs": [
        {
          "output_type": "stream",
          "name": "stdout",
          "text": [
            "8542\n",
            "produk\n",
            "ENDPAD\n",
            "0\n"
          ]
        }
      ]
    },
    {
      "cell_type": "code",
      "source": [
        "print(len(token2idx))\n",
        "print(idx2token[8542])\n",
        "print(token2idx[\"bersyarat\"])"
      ],
      "metadata": {
        "colab": {
          "base_uri": "https://localhost:8080/"
        },
        "id": "OtjV-6PaB_Nb",
        "outputId": "f77595da-c038-4caf-dbbc-404d099fb5c8"
      },
      "execution_count": 25,
      "outputs": [
        {
          "output_type": "stream",
          "name": "stdout",
          "text": [
            "8543\n",
            "bersyarat\n",
            "8542\n"
          ]
        }
      ]
    },
    {
      "cell_type": "markdown",
      "source": [
        "Export dictionary ke dalam file JSON"
      ],
      "metadata": {
        "id": "2u2JK_JVCJx3"
      }
    },
    {
      "cell_type": "code",
      "source": [
        "# importing the module\n",
        "import json\n",
        "\n",
        "# Write dict to JSON file\n",
        "with open(\"/content/drive/MyDrive/Colab Notebooks/FP-DM/output/token2idx.json\", \"w\") as outfile:\n",
        "    json.dump(token2idx, outfile)\n",
        "with open(\"/content/drive/MyDrive/Colab Notebooks/FP-DM/output/idx2token.json\", \"w\") as outfile:\n",
        "    json.dump(idx2token, outfile)\n",
        "with open(\"/content/drive/MyDrive/Colab Notebooks/FP-DM/output/tag2idx.json\", \"w\") as outfile:\n",
        "    json.dump(tag2idx, outfile)\n",
        "with open(\"/content/drive/MyDrive/Colab Notebooks/FP-DM/output/idx2tag.json\", \"w\") as outfile:\n",
        "    json.dump(idx2tag, outfile)"
      ],
      "metadata": {
        "id": "dbPwo2rHCNZW"
      },
      "execution_count": 27,
      "outputs": []
    },
    {
      "cell_type": "markdown",
      "source": [
        "Generate Kolom **`word_idx`** dan **`tag_idx`** sebagai representasi numerik dari data text"
      ],
      "metadata": {
        "id": "NRO2xwzkDIPg"
      }
    },
    {
      "cell_type": "code",
      "source": [
        "data_traindf['word_idx'] = data_traindf['word'].map(token2idx)\n",
        "data_traindf['tag_idx'] = data_traindf['tag'].map(tag2idx)\n",
        "\n",
        "data_testdf['word_idx'] = data_testdf['word'].map(token2idx)\n",
        "data_testdf['tag_idx'] = data_testdf['tag'].map(tag2idx)"
      ],
      "metadata": {
        "id": "RdIYEJCVCUbt"
      },
      "execution_count": 28,
      "outputs": []
    },
    {
      "cell_type": "code",
      "source": [
        "data_traindf"
      ],
      "metadata": {
        "colab": {
          "base_uri": "https://localhost:8080/",
          "height": 424
        },
        "id": "mhyhiZljD0Bn",
        "outputId": "3d6b76f4-773f-4068-ef49-b0e4996f9eee"
      },
      "execution_count": 29,
      "outputs": [
        {
          "output_type": "execute_result",
          "data": {
            "text/html": [
              "<div>\n",
              "<style scoped>\n",
              "    .dataframe tbody tr th:only-of-type {\n",
              "        vertical-align: middle;\n",
              "    }\n",
              "\n",
              "    .dataframe tbody tr th {\n",
              "        vertical-align: top;\n",
              "    }\n",
              "\n",
              "    .dataframe thead th {\n",
              "        text-align: right;\n",
              "    }\n",
              "</style>\n",
              "<table border=\"1\" class=\"dataframe\">\n",
              "  <thead>\n",
              "    <tr style=\"text-align: right;\">\n",
              "      <th></th>\n",
              "      <th>sentence #</th>\n",
              "      <th>word</th>\n",
              "      <th>tag</th>\n",
              "      <th>word_idx</th>\n",
              "      <th>tag_idx</th>\n",
              "    </tr>\n",
              "  </thead>\n",
              "  <tbody>\n",
              "    <tr>\n",
              "      <th>0</th>\n",
              "      <td>1</td>\n",
              "      <td>Berikut</td>\n",
              "      <td>O</td>\n",
              "      <td>7983</td>\n",
              "      <td>0</td>\n",
              "    </tr>\n",
              "    <tr>\n",
              "      <th>1</th>\n",
              "      <td>1</td>\n",
              "      <td>adalah</td>\n",
              "      <td>O</td>\n",
              "      <td>2039</td>\n",
              "      <td>0</td>\n",
              "    </tr>\n",
              "    <tr>\n",
              "      <th>2</th>\n",
              "      <td>1</td>\n",
              "      <td>tujuh</td>\n",
              "      <td>O</td>\n",
              "      <td>4980</td>\n",
              "      <td>0</td>\n",
              "    </tr>\n",
              "    <tr>\n",
              "      <th>3</th>\n",
              "      <td>1</td>\n",
              "      <td>kota</td>\n",
              "      <td>O</td>\n",
              "      <td>41</td>\n",
              "      <td>0</td>\n",
              "    </tr>\n",
              "    <tr>\n",
              "      <th>4</th>\n",
              "      <td>1</td>\n",
              "      <td>di</td>\n",
              "      <td>O</td>\n",
              "      <td>4961</td>\n",
              "      <td>0</td>\n",
              "    </tr>\n",
              "    <tr>\n",
              "      <th>...</th>\n",
              "      <td>...</td>\n",
              "      <td>...</td>\n",
              "      <td>...</td>\n",
              "      <td>...</td>\n",
              "      <td>...</td>\n",
              "    </tr>\n",
              "    <tr>\n",
              "      <th>30243</th>\n",
              "      <td>1464</td>\n",
              "      <td>kita</td>\n",
              "      <td>O</td>\n",
              "      <td>4705</td>\n",
              "      <td>0</td>\n",
              "    </tr>\n",
              "    <tr>\n",
              "      <th>30244</th>\n",
              "      <td>1464</td>\n",
              "      <td>,</td>\n",
              "      <td>O</td>\n",
              "      <td>7275</td>\n",
              "      <td>0</td>\n",
              "    </tr>\n",
              "    <tr>\n",
              "      <th>30245</th>\n",
              "      <td>1464</td>\n",
              "      <td>ucap</td>\n",
              "      <td>O</td>\n",
              "      <td>7791</td>\n",
              "      <td>0</td>\n",
              "    </tr>\n",
              "    <tr>\n",
              "      <th>30246</th>\n",
              "      <td>1464</td>\n",
              "      <td>Fadli</td>\n",
              "      <td>B-PER</td>\n",
              "      <td>855</td>\n",
              "      <td>4</td>\n",
              "    </tr>\n",
              "    <tr>\n",
              "      <th>30247</th>\n",
              "      <td>1464</td>\n",
              "      <td>.</td>\n",
              "      <td>O</td>\n",
              "      <td>6215</td>\n",
              "      <td>0</td>\n",
              "    </tr>\n",
              "  </tbody>\n",
              "</table>\n",
              "<p>30248 rows × 5 columns</p>\n",
              "</div>"
            ],
            "text/plain": [
              "      sentence #     word    tag  word_idx  tag_idx\n",
              "0              1  Berikut      O      7983        0\n",
              "1              1   adalah      O      2039        0\n",
              "2              1    tujuh      O      4980        0\n",
              "3              1     kota      O        41        0\n",
              "4              1       di      O      4961        0\n",
              "...          ...      ...    ...       ...      ...\n",
              "30243       1464     kita      O      4705        0\n",
              "30244       1464        ,      O      7275        0\n",
              "30245       1464     ucap      O      7791        0\n",
              "30246       1464    Fadli  B-PER       855        4\n",
              "30247       1464        .      O      6215        0\n",
              "\n",
              "[30248 rows x 5 columns]"
            ]
          },
          "metadata": {},
          "execution_count": 29
        }
      ]
    },
    {
      "cell_type": "code",
      "source": [
        "data_testdf"
      ],
      "metadata": {
        "colab": {
          "base_uri": "https://localhost:8080/",
          "height": 424
        },
        "id": "AafmMrE4D6iY",
        "outputId": "9cb507bb-f91f-4caf-96d8-7321acede4ea"
      },
      "execution_count": 30,
      "outputs": [
        {
          "output_type": "execute_result",
          "data": {
            "text/html": [
              "<div>\n",
              "<style scoped>\n",
              "    .dataframe tbody tr th:only-of-type {\n",
              "        vertical-align: middle;\n",
              "    }\n",
              "\n",
              "    .dataframe tbody tr th {\n",
              "        vertical-align: top;\n",
              "    }\n",
              "\n",
              "    .dataframe thead th {\n",
              "        text-align: right;\n",
              "    }\n",
              "</style>\n",
              "<table border=\"1\" class=\"dataframe\">\n",
              "  <thead>\n",
              "    <tr style=\"text-align: right;\">\n",
              "      <th></th>\n",
              "      <th>sentence #</th>\n",
              "      <th>word</th>\n",
              "      <th>tag</th>\n",
              "      <th>word_idx</th>\n",
              "      <th>tag_idx</th>\n",
              "    </tr>\n",
              "  </thead>\n",
              "  <tbody>\n",
              "    <tr>\n",
              "      <th>0</th>\n",
              "      <td>1</td>\n",
              "      <td>Meski</td>\n",
              "      <td>O</td>\n",
              "      <td>4549</td>\n",
              "      <td>0</td>\n",
              "    </tr>\n",
              "    <tr>\n",
              "      <th>1</th>\n",
              "      <td>1</td>\n",
              "      <td>demikian</td>\n",
              "      <td>O</td>\n",
              "      <td>4487</td>\n",
              "      <td>0</td>\n",
              "    </tr>\n",
              "    <tr>\n",
              "      <th>2</th>\n",
              "      <td>1</td>\n",
              "      <td>,</td>\n",
              "      <td>O</td>\n",
              "      <td>7275</td>\n",
              "      <td>0</td>\n",
              "    </tr>\n",
              "    <tr>\n",
              "      <th>3</th>\n",
              "      <td>1</td>\n",
              "      <td>ia</td>\n",
              "      <td>O</td>\n",
              "      <td>5670</td>\n",
              "      <td>0</td>\n",
              "    </tr>\n",
              "    <tr>\n",
              "      <th>4</th>\n",
              "      <td>1</td>\n",
              "      <td>menegaskan</td>\n",
              "      <td>O</td>\n",
              "      <td>5148</td>\n",
              "      <td>0</td>\n",
              "    </tr>\n",
              "    <tr>\n",
              "      <th>...</th>\n",
              "      <td>...</td>\n",
              "      <td>...</td>\n",
              "      <td>...</td>\n",
              "      <td>...</td>\n",
              "      <td>...</td>\n",
              "    </tr>\n",
              "    <tr>\n",
              "      <th>10583</th>\n",
              "      <td>509</td>\n",
              "      <td>keluarga</td>\n",
              "      <td>O</td>\n",
              "      <td>3747</td>\n",
              "      <td>0</td>\n",
              "    </tr>\n",
              "    <tr>\n",
              "      <th>10584</th>\n",
              "      <td>509</td>\n",
              "      <td>-lah</td>\n",
              "      <td>O</td>\n",
              "      <td>2169</td>\n",
              "      <td>0</td>\n",
              "    </tr>\n",
              "    <tr>\n",
              "      <th>10585</th>\n",
              "      <td>509</td>\n",
              "      <td>,</td>\n",
              "      <td>O</td>\n",
              "      <td>7275</td>\n",
              "      <td>0</td>\n",
              "    </tr>\n",
              "    <tr>\n",
              "      <th>10586</th>\n",
              "      <td>509</td>\n",
              "      <td>ujarnya</td>\n",
              "      <td>O</td>\n",
              "      <td>3526</td>\n",
              "      <td>0</td>\n",
              "    </tr>\n",
              "    <tr>\n",
              "      <th>10587</th>\n",
              "      <td>509</td>\n",
              "      <td>.</td>\n",
              "      <td>O</td>\n",
              "      <td>6215</td>\n",
              "      <td>0</td>\n",
              "    </tr>\n",
              "  </tbody>\n",
              "</table>\n",
              "<p>18451 rows × 5 columns</p>\n",
              "</div>"
            ],
            "text/plain": [
              "      sentence #        word tag  word_idx  tag_idx\n",
              "0              1       Meski   O      4549        0\n",
              "1              1    demikian   O      4487        0\n",
              "2              1           ,   O      7275        0\n",
              "3              1          ia   O      5670        0\n",
              "4              1  menegaskan   O      5148        0\n",
              "...          ...         ...  ..       ...      ...\n",
              "10583        509    keluarga   O      3747        0\n",
              "10584        509        -lah   O      2169        0\n",
              "10585        509           ,   O      7275        0\n",
              "10586        509     ujarnya   O      3526        0\n",
              "10587        509           .   O      6215        0\n",
              "\n",
              "[18451 rows x 5 columns]"
            ]
          },
          "metadata": {},
          "execution_count": 30
        }
      ]
    },
    {
      "cell_type": "markdown",
      "source": [
        "Export data train dan data test ke CSV untuk digunakan saat membangun model Word Embedding dan Klasifikasi"
      ],
      "metadata": {
        "id": "pLn6brNQEBpu"
      }
    },
    {
      "cell_type": "code",
      "source": [
        "data_traindf.to_csv('/content/drive/MyDrive/Colab Notebooks/FP-DM/dataset/train_baseline_fix_index.csv')"
      ],
      "metadata": {
        "id": "lmc4V4VeEJFS"
      },
      "execution_count": 31,
      "outputs": []
    },
    {
      "cell_type": "code",
      "source": [
        "data_testdf.to_csv('/content/drive/MyDrive/Colab Notebooks/FP-DM/dataset/test_baseline_fix_index.csv')"
      ],
      "metadata": {
        "id": "SFERzKfmERGd"
      },
      "execution_count": 32,
      "outputs": []
    },
    {
      "cell_type": "markdown",
      "source": [
        "Menghitung **`mean`** dan **`modus`** dari panjang kata setiap kalimat untuk mendapatkan **`max_len`** yang akan digunakan saat melakukan padding"
      ],
      "metadata": {
        "id": "qY6oZm-gFWp5"
      }
    },
    {
      "cell_type": "code",
      "source": [
        "data_merged_fillna = data_merged.fillna(method='ffill', axis=0)\n",
        "\n",
        "data_merged_group = data_merged_fillna.groupby(['sentence #'],as_index=False)['word', 'tag'].agg(lambda x: list(x))"
      ],
      "metadata": {
        "colab": {
          "base_uri": "https://localhost:8080/"
        },
        "id": "8dshxmLFFjsz",
        "outputId": "dd7af299-a083-49cb-d610-9248723a2c88"
      },
      "execution_count": 7,
      "outputs": [
        {
          "output_type": "stream",
          "name": "stderr",
          "text": [
            "/usr/local/lib/python3.7/dist-packages/ipykernel_launcher.py:3: FutureWarning: Indexing with multiple keys (implicitly converted to a tuple of keys) will be deprecated, use a list instead.\n",
            "  This is separate from the ipykernel package so we can avoid doing imports until\n"
          ]
        }
      ]
    },
    {
      "cell_type": "code",
      "source": [
        "data_merged_group"
      ],
      "metadata": {
        "colab": {
          "base_uri": "https://localhost:8080/",
          "height": 424
        },
        "id": "F56erVzJF5du",
        "outputId": "299f0916-c394-4606-be77-d90572b3cc71"
      },
      "execution_count": 8,
      "outputs": [
        {
          "output_type": "execute_result",
          "data": {
            "text/html": [
              "<div>\n",
              "<style scoped>\n",
              "    .dataframe tbody tr th:only-of-type {\n",
              "        vertical-align: middle;\n",
              "    }\n",
              "\n",
              "    .dataframe tbody tr th {\n",
              "        vertical-align: top;\n",
              "    }\n",
              "\n",
              "    .dataframe thead th {\n",
              "        text-align: right;\n",
              "    }\n",
              "</style>\n",
              "<table border=\"1\" class=\"dataframe\">\n",
              "  <thead>\n",
              "    <tr style=\"text-align: right;\">\n",
              "      <th></th>\n",
              "      <th>sentence #</th>\n",
              "      <th>word</th>\n",
              "      <th>tag</th>\n",
              "    </tr>\n",
              "  </thead>\n",
              "  <tbody>\n",
              "    <tr>\n",
              "      <th>0</th>\n",
              "      <td>1</td>\n",
              "      <td>[Berikut, adalah, tujuh, kota, di, Indonesia, ...</td>\n",
              "      <td>[O, O, O, O, O, B-LOC, O, O, O, O, O, O, O, O,...</td>\n",
              "    </tr>\n",
              "    <tr>\n",
              "      <th>1</th>\n",
              "      <td>10</td>\n",
              "      <td>[Siapapun, bisa, membantu, dengan, menyortir, ...</td>\n",
              "      <td>[O, O, O, O, O, O, O, O, O, O, O, O, O, O, O, ...</td>\n",
              "    </tr>\n",
              "    <tr>\n",
              "      <th>2</th>\n",
              "      <td>100</td>\n",
              "      <td>[Pak, Suhardi, berpantang, untuk, makan, gandu...</td>\n",
              "      <td>[O, B-PER, O, O, O, O, O, O, O, O, O, O, O, O,...</td>\n",
              "    </tr>\n",
              "    <tr>\n",
              "      <th>3</th>\n",
              "      <td>1000</td>\n",
              "      <td>[Menurut, Rofikoh, ,, penilian, efesiensi, ini...</td>\n",
              "      <td>[O, B-PER, O, O, O, O, O, O, O, O, O]</td>\n",
              "    </tr>\n",
              "    <tr>\n",
              "      <th>4</th>\n",
              "      <td>1001</td>\n",
              "      <td>[Ini, tertulis, ,, bukan, hanya, tersirat, ,, ...</td>\n",
              "      <td>[O, O, O, O, O, O, O, O, O]</td>\n",
              "    </tr>\n",
              "    <tr>\n",
              "      <th>...</th>\n",
              "      <td>...</td>\n",
              "      <td>...</td>\n",
              "      <td>...</td>\n",
              "    </tr>\n",
              "    <tr>\n",
              "      <th>1459</th>\n",
              "      <td>995</td>\n",
              "      <td>[Namun, mereka, kemudian, berpisah, dan, tahun...</td>\n",
              "      <td>[O, O, O, O, O, O, O, O, O, O, O, B-LOC, O, O,...</td>\n",
              "    </tr>\n",
              "    <tr>\n",
              "      <th>1460</th>\n",
              "      <td>996</td>\n",
              "      <td>[Anggaran, negara, sudah, terlalu, besar, .]</td>\n",
              "      <td>[O, O, O, O, O, O]</td>\n",
              "    </tr>\n",
              "    <tr>\n",
              "      <th>1461</th>\n",
              "      <td>997</td>\n",
              "      <td>[Semua, itu, memperkuat, bukti, bantuan, dan, ...</td>\n",
              "      <td>[O, O, O, O, O, O, O, B-ORG, O, O, O, O, O, O,...</td>\n",
              "    </tr>\n",
              "    <tr>\n",
              "      <th>1462</th>\n",
              "      <td>998</td>\n",
              "      <td>[Mereka, berharap, Jokowi, dapat, memberikan, ...</td>\n",
              "      <td>[O, O, B-PER, O, O, O, O, O, O, O, O, O, O, O,...</td>\n",
              "    </tr>\n",
              "    <tr>\n",
              "      <th>1463</th>\n",
              "      <td>999</td>\n",
              "      <td>[StatesWest, Airlines, ,, Phoenix, ,, Ariz, .]</td>\n",
              "      <td>[B-ORG, I-ORG, O, B-ORG, O, B-ORG, O]</td>\n",
              "    </tr>\n",
              "  </tbody>\n",
              "</table>\n",
              "<p>1464 rows × 3 columns</p>\n",
              "</div>"
            ],
            "text/plain": [
              "     sentence #  ...                                                tag\n",
              "0             1  ...  [O, O, O, O, O, B-LOC, O, O, O, O, O, O, O, O,...\n",
              "1            10  ...  [O, O, O, O, O, O, O, O, O, O, O, O, O, O, O, ...\n",
              "2           100  ...  [O, B-PER, O, O, O, O, O, O, O, O, O, O, O, O,...\n",
              "3          1000  ...              [O, B-PER, O, O, O, O, O, O, O, O, O]\n",
              "4          1001  ...                        [O, O, O, O, O, O, O, O, O]\n",
              "...         ...  ...                                                ...\n",
              "1459        995  ...  [O, O, O, O, O, O, O, O, O, O, O, B-LOC, O, O,...\n",
              "1460        996  ...                                 [O, O, O, O, O, O]\n",
              "1461        997  ...  [O, O, O, O, O, O, O, B-ORG, O, O, O, O, O, O,...\n",
              "1462        998  ...  [O, O, B-PER, O, O, O, O, O, O, O, O, O, O, O,...\n",
              "1463        999  ...              [B-ORG, I-ORG, O, B-ORG, O, B-ORG, O]\n",
              "\n",
              "[1464 rows x 3 columns]"
            ]
          },
          "metadata": {},
          "execution_count": 8
        }
      ]
    },
    {
      "cell_type": "code",
      "source": [
        "data_merged_group[\"word_freq\"] = data_merged_group[\"word\"].str.len()"
      ],
      "metadata": {
        "id": "spEApYSsGA-I"
      },
      "execution_count": 9,
      "outputs": []
    },
    {
      "cell_type": "code",
      "source": [
        "data_merged_group"
      ],
      "metadata": {
        "colab": {
          "base_uri": "https://localhost:8080/",
          "height": 424
        },
        "id": "QDbTW5LnG2VW",
        "outputId": "104edb92-196f-4e17-9d92-a6d8cc17e9e2"
      },
      "execution_count": 10,
      "outputs": [
        {
          "output_type": "execute_result",
          "data": {
            "text/html": [
              "<div>\n",
              "<style scoped>\n",
              "    .dataframe tbody tr th:only-of-type {\n",
              "        vertical-align: middle;\n",
              "    }\n",
              "\n",
              "    .dataframe tbody tr th {\n",
              "        vertical-align: top;\n",
              "    }\n",
              "\n",
              "    .dataframe thead th {\n",
              "        text-align: right;\n",
              "    }\n",
              "</style>\n",
              "<table border=\"1\" class=\"dataframe\">\n",
              "  <thead>\n",
              "    <tr style=\"text-align: right;\">\n",
              "      <th></th>\n",
              "      <th>sentence #</th>\n",
              "      <th>word</th>\n",
              "      <th>tag</th>\n",
              "      <th>word_freq</th>\n",
              "    </tr>\n",
              "  </thead>\n",
              "  <tbody>\n",
              "    <tr>\n",
              "      <th>0</th>\n",
              "      <td>1</td>\n",
              "      <td>[Berikut, adalah, tujuh, kota, di, Indonesia, ...</td>\n",
              "      <td>[O, O, O, O, O, B-LOC, O, O, O, O, O, O, O, O,...</td>\n",
              "      <td>54</td>\n",
              "    </tr>\n",
              "    <tr>\n",
              "      <th>1</th>\n",
              "      <td>10</td>\n",
              "      <td>[Siapapun, bisa, membantu, dengan, menyortir, ...</td>\n",
              "      <td>[O, O, O, O, O, O, O, O, O, O, O, O, O, O, O, ...</td>\n",
              "      <td>55</td>\n",
              "    </tr>\n",
              "    <tr>\n",
              "      <th>2</th>\n",
              "      <td>100</td>\n",
              "      <td>[Pak, Suhardi, berpantang, untuk, makan, gandu...</td>\n",
              "      <td>[O, B-PER, O, O, O, O, O, O, O, O, O, O, O, O,...</td>\n",
              "      <td>82</td>\n",
              "    </tr>\n",
              "    <tr>\n",
              "      <th>3</th>\n",
              "      <td>1000</td>\n",
              "      <td>[Menurut, Rofikoh, ,, penilian, efesiensi, ini...</td>\n",
              "      <td>[O, B-PER, O, O, O, O, O, O, O, O, O]</td>\n",
              "      <td>11</td>\n",
              "    </tr>\n",
              "    <tr>\n",
              "      <th>4</th>\n",
              "      <td>1001</td>\n",
              "      <td>[Ini, tertulis, ,, bukan, hanya, tersirat, ,, ...</td>\n",
              "      <td>[O, O, O, O, O, O, O, O, O]</td>\n",
              "      <td>9</td>\n",
              "    </tr>\n",
              "    <tr>\n",
              "      <th>...</th>\n",
              "      <td>...</td>\n",
              "      <td>...</td>\n",
              "      <td>...</td>\n",
              "      <td>...</td>\n",
              "    </tr>\n",
              "    <tr>\n",
              "      <th>1459</th>\n",
              "      <td>995</td>\n",
              "      <td>[Namun, mereka, kemudian, berpisah, dan, tahun...</td>\n",
              "      <td>[O, O, O, O, O, O, O, O, O, O, O, B-LOC, O, O,...</td>\n",
              "      <td>16</td>\n",
              "    </tr>\n",
              "    <tr>\n",
              "      <th>1460</th>\n",
              "      <td>996</td>\n",
              "      <td>[Anggaran, negara, sudah, terlalu, besar, .]</td>\n",
              "      <td>[O, O, O, O, O, O]</td>\n",
              "      <td>6</td>\n",
              "    </tr>\n",
              "    <tr>\n",
              "      <th>1461</th>\n",
              "      <td>997</td>\n",
              "      <td>[Semua, itu, memperkuat, bukti, bantuan, dan, ...</td>\n",
              "      <td>[O, O, O, O, O, O, O, B-ORG, O, O, O, O, O, O,...</td>\n",
              "      <td>31</td>\n",
              "    </tr>\n",
              "    <tr>\n",
              "      <th>1462</th>\n",
              "      <td>998</td>\n",
              "      <td>[Mereka, berharap, Jokowi, dapat, memberikan, ...</td>\n",
              "      <td>[O, O, B-PER, O, O, O, O, O, O, O, O, O, O, O,...</td>\n",
              "      <td>17</td>\n",
              "    </tr>\n",
              "    <tr>\n",
              "      <th>1463</th>\n",
              "      <td>999</td>\n",
              "      <td>[StatesWest, Airlines, ,, Phoenix, ,, Ariz, .]</td>\n",
              "      <td>[B-ORG, I-ORG, O, B-ORG, O, B-ORG, O]</td>\n",
              "      <td>7</td>\n",
              "    </tr>\n",
              "  </tbody>\n",
              "</table>\n",
              "<p>1464 rows × 4 columns</p>\n",
              "</div>"
            ],
            "text/plain": [
              "     sentence #  ... word_freq\n",
              "0             1  ...        54\n",
              "1            10  ...        55\n",
              "2           100  ...        82\n",
              "3          1000  ...        11\n",
              "4          1001  ...         9\n",
              "...         ...  ...       ...\n",
              "1459        995  ...        16\n",
              "1460        996  ...         6\n",
              "1461        997  ...        31\n",
              "1462        998  ...        17\n",
              "1463        999  ...         7\n",
              "\n",
              "[1464 rows x 4 columns]"
            ]
          },
          "metadata": {},
          "execution_count": 10
        }
      ]
    },
    {
      "cell_type": "code",
      "source": [
        "data_merged_group.describe().transpose()"
      ],
      "metadata": {
        "colab": {
          "base_uri": "https://localhost:8080/",
          "height": 81
        },
        "id": "znHaJSdXHHjy",
        "outputId": "ac288487-d331-4a39-f88b-bad4dd229d82"
      },
      "execution_count": 11,
      "outputs": [
        {
          "output_type": "execute_result",
          "data": {
            "text/html": [
              "<div>\n",
              "<style scoped>\n",
              "    .dataframe tbody tr th:only-of-type {\n",
              "        vertical-align: middle;\n",
              "    }\n",
              "\n",
              "    .dataframe tbody tr th {\n",
              "        vertical-align: top;\n",
              "    }\n",
              "\n",
              "    .dataframe thead th {\n",
              "        text-align: right;\n",
              "    }\n",
              "</style>\n",
              "<table border=\"1\" class=\"dataframe\">\n",
              "  <thead>\n",
              "    <tr style=\"text-align: right;\">\n",
              "      <th></th>\n",
              "      <th>count</th>\n",
              "      <th>mean</th>\n",
              "      <th>std</th>\n",
              "      <th>min</th>\n",
              "      <th>25%</th>\n",
              "      <th>50%</th>\n",
              "      <th>75%</th>\n",
              "      <th>max</th>\n",
              "    </tr>\n",
              "  </thead>\n",
              "  <tbody>\n",
              "    <tr>\n",
              "      <th>word_freq</th>\n",
              "      <td>1464.0</td>\n",
              "      <td>33.264344</td>\n",
              "      <td>21.704136</td>\n",
              "      <td>3.0</td>\n",
              "      <td>17.0</td>\n",
              "      <td>27.0</td>\n",
              "      <td>46.0</td>\n",
              "      <td>112.0</td>\n",
              "    </tr>\n",
              "  </tbody>\n",
              "</table>\n",
              "</div>"
            ],
            "text/plain": [
              "            count       mean        std  min   25%   50%   75%    max\n",
              "word_freq  1464.0  33.264344  21.704136  3.0  17.0  27.0  46.0  112.0"
            ]
          },
          "metadata": {},
          "execution_count": 11
        }
      ]
    },
    {
      "cell_type": "code",
      "source": [
        "data_merged_group.mode(numeric_only=True)"
      ],
      "metadata": {
        "colab": {
          "base_uri": "https://localhost:8080/",
          "height": 81
        },
        "id": "u5W4Vy0vHbm-",
        "outputId": "1e6db128-0c1f-488c-ed4d-fa357be82b7f"
      },
      "execution_count": 14,
      "outputs": [
        {
          "output_type": "execute_result",
          "data": {
            "text/html": [
              "<div>\n",
              "<style scoped>\n",
              "    .dataframe tbody tr th:only-of-type {\n",
              "        vertical-align: middle;\n",
              "    }\n",
              "\n",
              "    .dataframe tbody tr th {\n",
              "        vertical-align: top;\n",
              "    }\n",
              "\n",
              "    .dataframe thead th {\n",
              "        text-align: right;\n",
              "    }\n",
              "</style>\n",
              "<table border=\"1\" class=\"dataframe\">\n",
              "  <thead>\n",
              "    <tr style=\"text-align: right;\">\n",
              "      <th></th>\n",
              "      <th>word_freq</th>\n",
              "    </tr>\n",
              "  </thead>\n",
              "  <tbody>\n",
              "    <tr>\n",
              "      <th>0</th>\n",
              "      <td>16</td>\n",
              "    </tr>\n",
              "  </tbody>\n",
              "</table>\n",
              "</div>"
            ],
            "text/plain": [
              "   word_freq\n",
              "0         16"
            ]
          },
          "metadata": {},
          "execution_count": 14
        }
      ]
    },
    {
      "cell_type": "code",
      "source": [
        "data_modus = data_merged_group.loc[data_merged_group['word_freq'] == 16]\n",
        "data_modus"
      ],
      "metadata": {
        "colab": {
          "base_uri": "https://localhost:8080/",
          "height": 1000
        },
        "id": "DiB5AQxdJNB4",
        "outputId": "4aaad563-4dc5-481c-d853-6a5170f92abb"
      },
      "execution_count": 15,
      "outputs": [
        {
          "output_type": "execute_result",
          "data": {
            "text/html": [
              "<div>\n",
              "<style scoped>\n",
              "    .dataframe tbody tr th:only-of-type {\n",
              "        vertical-align: middle;\n",
              "    }\n",
              "\n",
              "    .dataframe tbody tr th {\n",
              "        vertical-align: top;\n",
              "    }\n",
              "\n",
              "    .dataframe thead th {\n",
              "        text-align: right;\n",
              "    }\n",
              "</style>\n",
              "<table border=\"1\" class=\"dataframe\">\n",
              "  <thead>\n",
              "    <tr style=\"text-align: right;\">\n",
              "      <th></th>\n",
              "      <th>sentence #</th>\n",
              "      <th>word</th>\n",
              "      <th>tag</th>\n",
              "      <th>word_freq</th>\n",
              "    </tr>\n",
              "  </thead>\n",
              "  <tbody>\n",
              "    <tr>\n",
              "      <th>21</th>\n",
              "      <td>1017</td>\n",
              "      <td>[Juga, ditemukan, bahwa, mereka, naik, jauh, l...</td>\n",
              "      <td>[O, O, O, O, O, O, O, O, O, O, O, O, O, O, O, O]</td>\n",
              "      <td>16</td>\n",
              "    </tr>\n",
              "    <tr>\n",
              "      <th>27</th>\n",
              "      <td>1022</td>\n",
              "      <td>[Partai, Amanat, Nasional, (PAN), Sulawesi, Se...</td>\n",
              "      <td>[B-ORG, I-ORG, I-ORG, I-ORG, B-LOC, I-LOC, O, ...</td>\n",
              "      <td>16</td>\n",
              "    </tr>\n",
              "    <tr>\n",
              "      <th>40</th>\n",
              "      <td>1034</td>\n",
              "      <td>[Ini, sangat, berkaitan, dengan, kualitas, per...</td>\n",
              "      <td>[O, O, O, O, O, O, O, O, O, O, O, O, O, O, O, O]</td>\n",
              "      <td>16</td>\n",
              "    </tr>\n",
              "    <tr>\n",
              "      <th>43</th>\n",
              "      <td>1037</td>\n",
              "      <td>[Hal, ini, ditegaskan, Ketua, Fraksi, PDIP, Tj...</td>\n",
              "      <td>[O, O, O, O, O, B-ORG, B-PER, I-PER, O, B-ORG,...</td>\n",
              "      <td>16</td>\n",
              "    </tr>\n",
              "    <tr>\n",
              "      <th>45</th>\n",
              "      <td>1039</td>\n",
              "      <td>[Negatif, foto, dikubur, di, tanah, dekat, seb...</td>\n",
              "      <td>[O, O, O, O, O, O, O, O, O, O, O, B-LOC, I-LOC...</td>\n",
              "      <td>16</td>\n",
              "    </tr>\n",
              "    <tr>\n",
              "      <th>64</th>\n",
              "      <td>1056</td>\n",
              "      <td>[Apalagi, ,, saya, sudah, kenal, dengan, Om, R...</td>\n",
              "      <td>[O, O, O, O, O, O, O, B-PER, O, O, O, B-LOC, O...</td>\n",
              "      <td>16</td>\n",
              "    </tr>\n",
              "    <tr>\n",
              "      <th>85</th>\n",
              "      <td>1075</td>\n",
              "      <td>[DPD, Partai, Demokrat, Bali, pun, sudah, meng...</td>\n",
              "      <td>[O, B-ORG, I-ORG, O, O, O, O, O, O, O, O, O, O...</td>\n",
              "      <td>16</td>\n",
              "    </tr>\n",
              "    <tr>\n",
              "      <th>88</th>\n",
              "      <td>1078</td>\n",
              "      <td>[Uniknya, ,, radio, ini, disiarkan, dalam, dua...</td>\n",
              "      <td>[O, O, O, O, O, O, O, O, O, O, O, O, O, O, O, O]</td>\n",
              "      <td>16</td>\n",
              "    </tr>\n",
              "    <tr>\n",
              "      <th>142</th>\n",
              "      <td>1126</td>\n",
              "      <td>[Mesir, menyeru, Israel, dan, Palestina, ,, Mi...</td>\n",
              "      <td>[O, O, O, O, O, O, O, O, O, O, O, O, O, O, O, O]</td>\n",
              "      <td>16</td>\n",
              "    </tr>\n",
              "    <tr>\n",
              "      <th>148</th>\n",
              "      <td>1131</td>\n",
              "      <td>[TB, menyebutkan, ,, Jawa, Barat, menjadi, sal...</td>\n",
              "      <td>[B-PER, O, O, O, O, O, O, O, O, O, O, O, O, O,...</td>\n",
              "      <td>16</td>\n",
              "    </tr>\n",
              "    <tr>\n",
              "      <th>150</th>\n",
              "      <td>1133</td>\n",
              "      <td>[Gambar, itu, juga, menunjukkan, serangan, di,...</td>\n",
              "      <td>[O, O, O, O, O, O, B-LOC, O, O, O, O, O, O, O,...</td>\n",
              "      <td>16</td>\n",
              "    </tr>\n",
              "    <tr>\n",
              "      <th>160</th>\n",
              "      <td>1142</td>\n",
              "      <td>[Jadi, ,, tidak, boleh, diberi, tahu, data, na...</td>\n",
              "      <td>[O, O, O, O, O, O, O, O, O, O, O, O, O, O, O, O]</td>\n",
              "      <td>16</td>\n",
              "    </tr>\n",
              "    <tr>\n",
              "      <th>192</th>\n",
              "      <td>1171</td>\n",
              "      <td>[Tanpa, foto, karya, Frans, Mendur, ,, maka, p...</td>\n",
              "      <td>[O, O, O, B-PER, I-PER, O, O, O, O, O, O, O, O...</td>\n",
              "      <td>16</td>\n",
              "    </tr>\n",
              "    <tr>\n",
              "      <th>194</th>\n",
              "      <td>1173</td>\n",
              "      <td>[Namun, ,, ia, menilai, seluruh, proses, Pemil...</td>\n",
              "      <td>[O, O, O, O, O, O, O, O, O, O, O, O, O, O, O, O]</td>\n",
              "      <td>16</td>\n",
              "    </tr>\n",
              "    <tr>\n",
              "      <th>206</th>\n",
              "      <td>1184</td>\n",
              "      <td>[Ia, mengharapkan, gambaran, awal, tahun, yang...</td>\n",
              "      <td>[O, O, O, O, O, O, O, O, O, O, O, O, O, O, O, O]</td>\n",
              "      <td>16</td>\n",
              "    </tr>\n",
              "    <tr>\n",
              "      <th>213</th>\n",
              "      <td>1190</td>\n",
              "      <td>[Menurut, dia, ,, hasil, Muktamar, menyatakan,...</td>\n",
              "      <td>[O, O, O, O, O, O, B-ORG, O, O, O, O, O, O, O,...</td>\n",
              "      <td>16</td>\n",
              "    </tr>\n",
              "    <tr>\n",
              "      <th>216</th>\n",
              "      <td>1193</td>\n",
              "      <td>[Pemangkasan, ini, karena, jatah, BBM, subsidi...</td>\n",
              "      <td>[O, O, O, O, O, O, O, O, O, O, O, O, O, O, O, O]</td>\n",
              "      <td>16</td>\n",
              "    </tr>\n",
              "    <tr>\n",
              "      <th>263</th>\n",
              "      <td>1235</td>\n",
              "      <td>[Seorang, pekerja, kesehatan, Inggris, terinfe...</td>\n",
              "      <td>[O, O, O, O, O, O, O, B-LOC, I-LOC, O, O, O, O...</td>\n",
              "      <td>16</td>\n",
              "    </tr>\n",
              "    <tr>\n",
              "      <th>289</th>\n",
              "      <td>1259</td>\n",
              "      <td>[Termasuk, mengundang, salah, satu, kader, PDI...</td>\n",
              "      <td>[O, O, O, O, O, B-ORG, I-ORG, O, O, O, O, O, O...</td>\n",
              "      <td>16</td>\n",
              "    </tr>\n",
              "    <tr>\n",
              "      <th>300</th>\n",
              "      <td>1269</td>\n",
              "      <td>[Tritium, juga, dapat, diproduksi, dengan, mud...</td>\n",
              "      <td>[O, O, O, O, O, O, O, O, O, O, O, O, O, O, O, O]</td>\n",
              "      <td>16</td>\n",
              "    </tr>\n",
              "    <tr>\n",
              "      <th>367</th>\n",
              "      <td>1329</td>\n",
              "      <td>[Kedua, Mendur, Bersaudara, ini, lantas, memba...</td>\n",
              "      <td>[O, B-PER, O, O, O, O, O, O, O, O, O, O, O, B-...</td>\n",
              "      <td>16</td>\n",
              "    </tr>\n",
              "    <tr>\n",
              "      <th>396</th>\n",
              "      <td>1355</td>\n",
              "      <td>[Sebelum, bergabung, di, Partai, Gerindra, dan...</td>\n",
              "      <td>[O, O, O, B-ORG, I-ORG, O, O, O, O, O, O, B-PE...</td>\n",
              "      <td>16</td>\n",
              "    </tr>\n",
              "    <tr>\n",
              "      <th>404</th>\n",
              "      <td>1362</td>\n",
              "      <td>[Hotel, itu, pun, difungsikan, sebagai, pengin...</td>\n",
              "      <td>[O, O, O, O, O, O, O, O, O, O, O, O, O, O, B-L...</td>\n",
              "      <td>16</td>\n",
              "    </tr>\n",
              "    <tr>\n",
              "      <th>425</th>\n",
              "      <td>1381</td>\n",
              "      <td>[Komputer, desktop, modern, berisikan, banyak,...</td>\n",
              "      <td>[O, O, O, O, O, O, O, O, O, O, O, O, O, O, O, O]</td>\n",
              "      <td>16</td>\n",
              "    </tr>\n",
              "    <tr>\n",
              "      <th>447</th>\n",
              "      <td>1400</td>\n",
              "      <td>[Perjalanan, penerbangan, dari, Afrika, barat,...</td>\n",
              "      <td>[O, O, O, B-LOC, I-LOC, O, B-LOC, O, O, O, O, ...</td>\n",
              "      <td>16</td>\n",
              "    </tr>\n",
              "    <tr>\n",
              "      <th>464</th>\n",
              "      <td>1416</td>\n",
              "      <td>[Harga, budaya, di, Roma, dan, Wina, juga, tur...</td>\n",
              "      <td>[O, O, O, B-LOC, O, B-LOC, O, O, O, O, O, O, O...</td>\n",
              "      <td>16</td>\n",
              "    </tr>\n",
              "    <tr>\n",
              "      <th>481</th>\n",
              "      <td>1431</td>\n",
              "      <td>[Namun, ,, pelanggaran, etika, yang, dilakukan...</td>\n",
              "      <td>[O, O, O, O, O, O, O, O, O, O, O, O, O, O, O, O]</td>\n",
              "      <td>16</td>\n",
              "    </tr>\n",
              "    <tr>\n",
              "      <th>484</th>\n",
              "      <td>1434</td>\n",
              "      <td>[Tujuan, lain, dari, proyek, pemilahan, foto, ...</td>\n",
              "      <td>[O, O, O, O, O, O, B-ORG, O, O, O, O, O, O, O,...</td>\n",
              "      <td>16</td>\n",
              "    </tr>\n",
              "    <tr>\n",
              "      <th>495</th>\n",
              "      <td>1444</td>\n",
              "      <td>[Romahurmuziy, juga, membantah, isu, yang, men...</td>\n",
              "      <td>[B-PER, O, O, O, O, O, O, O, B-ORG, O, O, O, O...</td>\n",
              "      <td>16</td>\n",
              "    </tr>\n",
              "    <tr>\n",
              "      <th>498</th>\n",
              "      <td>1447</td>\n",
              "      <td>[Mereka, mengatakan, bahwa, kekebalan, terbata...</td>\n",
              "      <td>[O, O, O, O, O, O, O, O, O, O, O, O, O, O, O, O]</td>\n",
              "      <td>16</td>\n",
              "    </tr>\n",
              "    <tr>\n",
              "      <th>508</th>\n",
              "      <td>1456</td>\n",
              "      <td>[Total, korban, tewas, dari, pihak, Palestina,...</td>\n",
              "      <td>[O, O, O, O, O, O, O, O, O, O, O, O, O, O, O, O]</td>\n",
              "      <td>16</td>\n",
              "    </tr>\n",
              "    <tr>\n",
              "      <th>927</th>\n",
              "      <td>515</td>\n",
              "      <td>[Prajurit-prajurit, Inggris, itu, ditahan, set...</td>\n",
              "      <td>[O, O, O, O, O, O, O, O, O, B-LOC, I-LOC, I-LO...</td>\n",
              "      <td>16</td>\n",
              "    </tr>\n",
              "    <tr>\n",
              "      <th>988</th>\n",
              "      <td>570</td>\n",
              "      <td>[Untuk, mengolah, silika, ,, ujar, Nurul, ,, p...</td>\n",
              "      <td>[O, O, O, O, O, B-PER, O, O, O, O, O, O, O, O,...</td>\n",
              "      <td>16</td>\n",
              "    </tr>\n",
              "    <tr>\n",
              "      <th>997</th>\n",
              "      <td>579</td>\n",
              "      <td>[Kabar, baiknya, adalah, dampak, itu, dapat, d...</td>\n",
              "      <td>[O, O, O, O, O, O, O, O, O, O, O, O, O, O, O, O]</td>\n",
              "      <td>16</td>\n",
              "    </tr>\n",
              "    <tr>\n",
              "      <th>1016</th>\n",
              "      <td>596</td>\n",
              "      <td>[Selain, itu, ,, Badan, Kehormatan, juga, meni...</td>\n",
              "      <td>[O, O, O, B-ORG, I-ORG, O, O, O, O, O, B-PER, ...</td>\n",
              "      <td>16</td>\n",
              "    </tr>\n",
              "    <tr>\n",
              "      <th>1046</th>\n",
              "      <td>622</td>\n",
              "      <td>[Partai, Persatuan, Pembangunan, (PPP), akhirn...</td>\n",
              "      <td>[B-ORG, I-ORG, I-ORG, I-ORG, O, O, O, B-ORG, I...</td>\n",
              "      <td>16</td>\n",
              "    </tr>\n",
              "    <tr>\n",
              "      <th>1075</th>\n",
              "      <td>649</td>\n",
              "      <td>[Padahal, ,, literasi, masyarakat, juga, akan,...</td>\n",
              "      <td>[O, O, O, O, O, O, O, O, O, O, O, O, O, O, O, O]</td>\n",
              "      <td>16</td>\n",
              "    </tr>\n",
              "    <tr>\n",
              "      <th>1095</th>\n",
              "      <td>667</td>\n",
              "      <td>[Ilmuwan, NASA, William, Stefanov, menyebut, g...</td>\n",
              "      <td>[O, B-ORG, B-PER, I-PER, O, O, O, O, B-ORG, O,...</td>\n",
              "      <td>16</td>\n",
              "    </tr>\n",
              "    <tr>\n",
              "      <th>1118</th>\n",
              "      <td>688</td>\n",
              "      <td>[Selain, kumuh, dan, penuh, dengan, sampah-sam...</td>\n",
              "      <td>[O, O, O, O, O, O, O, O, O, O, O, O, O, O, B-L...</td>\n",
              "      <td>16</td>\n",
              "    </tr>\n",
              "    <tr>\n",
              "      <th>1151</th>\n",
              "      <td>717</td>\n",
              "      <td>[Selain, itu, ,, ada, pula, sejumlah, undang-u...</td>\n",
              "      <td>[O, O, O, O, O, O, O, O, O, O, O, O, O, O, O, O]</td>\n",
              "      <td>16</td>\n",
              "    </tr>\n",
              "    <tr>\n",
              "      <th>1155</th>\n",
              "      <td>720</td>\n",
              "      <td>[Kalau, presiden, baru, mempertimbangkan, untu...</td>\n",
              "      <td>[O, O, O, O, O, O, O, O, O, O, O, O, O, O, O, O]</td>\n",
              "      <td>16</td>\n",
              "    </tr>\n",
              "    <tr>\n",
              "      <th>1167</th>\n",
              "      <td>731</td>\n",
              "      <td>[Dewan, juri, berpendapat, sudah, saatnya, ,, ...</td>\n",
              "      <td>[O, O, O, O, O, O, O, O, O, O, O, O, O, O, B-P...</td>\n",
              "      <td>16</td>\n",
              "    </tr>\n",
              "    <tr>\n",
              "      <th>1299</th>\n",
              "      <td>850</td>\n",
              "      <td>[Firman, berharap, temuan, dugaan, pelanggaran...</td>\n",
              "      <td>[B-PER, O, O, O, O, O, O, O, O, O, O, O, B-ORG...</td>\n",
              "      <td>16</td>\n",
              "    </tr>\n",
              "    <tr>\n",
              "      <th>1322</th>\n",
              "      <td>871</td>\n",
              "      <td>[Sedangkan, untuk, kategori, bank, BPD, Bank, ...</td>\n",
              "      <td>[O, O, O, O, O, B-ORG, I-ORG, I-ORG, O, O, B-O...</td>\n",
              "      <td>16</td>\n",
              "    </tr>\n",
              "    <tr>\n",
              "      <th>1374</th>\n",
              "      <td>918</td>\n",
              "      <td>[Fraksi, PDI, Perjuangan, mendesak, pemerintah...</td>\n",
              "      <td>[O, B-ORG, I-ORG, O, O, O, O, O, O, O, O, O, O...</td>\n",
              "      <td>16</td>\n",
              "    </tr>\n",
              "    <tr>\n",
              "      <th>1384</th>\n",
              "      <td>927</td>\n",
              "      <td>[Tim, hukum, Prabowo-Hatta, menuntut, KPU, mem...</td>\n",
              "      <td>[O, O, O, O, B-ORG, O, O, O, O, O, O, O, O, O,...</td>\n",
              "      <td>16</td>\n",
              "    </tr>\n",
              "    <tr>\n",
              "      <th>1385</th>\n",
              "      <td>928</td>\n",
              "      <td>[Realisasi, kerja, sama, ini, masih, dalam, pr...</td>\n",
              "      <td>[O, O, O, O, O, O, O, O, O, O, O, O, O, O, O, O]</td>\n",
              "      <td>16</td>\n",
              "    </tr>\n",
              "    <tr>\n",
              "      <th>1425</th>\n",
              "      <td>964</td>\n",
              "      <td>[Berdasarkan, hasil, hitung, cepat, ,, pasanga...</td>\n",
              "      <td>[O, O, O, O, O, O, O, O, O, O, O, O, O, O, O, O]</td>\n",
              "      <td>16</td>\n",
              "    </tr>\n",
              "    <tr>\n",
              "      <th>1452</th>\n",
              "      <td>989</td>\n",
              "      <td>[Dalam, kampanye, untuk, menggulingkan, Khadaf...</td>\n",
              "      <td>[O, O, O, O, B-PER, O, O, O, O, B-LOC, O, B-LO...</td>\n",
              "      <td>16</td>\n",
              "    </tr>\n",
              "    <tr>\n",
              "      <th>1459</th>\n",
              "      <td>995</td>\n",
              "      <td>[Namun, mereka, kemudian, berpisah, dan, tahun...</td>\n",
              "      <td>[O, O, O, O, O, O, O, O, O, O, O, B-LOC, O, O,...</td>\n",
              "      <td>16</td>\n",
              "    </tr>\n",
              "  </tbody>\n",
              "</table>\n",
              "</div>"
            ],
            "text/plain": [
              "     sentence #  ... word_freq\n",
              "21         1017  ...        16\n",
              "27         1022  ...        16\n",
              "40         1034  ...        16\n",
              "43         1037  ...        16\n",
              "45         1039  ...        16\n",
              "64         1056  ...        16\n",
              "85         1075  ...        16\n",
              "88         1078  ...        16\n",
              "142        1126  ...        16\n",
              "148        1131  ...        16\n",
              "150        1133  ...        16\n",
              "160        1142  ...        16\n",
              "192        1171  ...        16\n",
              "194        1173  ...        16\n",
              "206        1184  ...        16\n",
              "213        1190  ...        16\n",
              "216        1193  ...        16\n",
              "263        1235  ...        16\n",
              "289        1259  ...        16\n",
              "300        1269  ...        16\n",
              "367        1329  ...        16\n",
              "396        1355  ...        16\n",
              "404        1362  ...        16\n",
              "425        1381  ...        16\n",
              "447        1400  ...        16\n",
              "464        1416  ...        16\n",
              "481        1431  ...        16\n",
              "484        1434  ...        16\n",
              "495        1444  ...        16\n",
              "498        1447  ...        16\n",
              "508        1456  ...        16\n",
              "927         515  ...        16\n",
              "988         570  ...        16\n",
              "997         579  ...        16\n",
              "1016        596  ...        16\n",
              "1046        622  ...        16\n",
              "1075        649  ...        16\n",
              "1095        667  ...        16\n",
              "1118        688  ...        16\n",
              "1151        717  ...        16\n",
              "1155        720  ...        16\n",
              "1167        731  ...        16\n",
              "1299        850  ...        16\n",
              "1322        871  ...        16\n",
              "1374        918  ...        16\n",
              "1384        927  ...        16\n",
              "1385        928  ...        16\n",
              "1425        964  ...        16\n",
              "1452        989  ...        16\n",
              "1459        995  ...        16\n",
              "\n",
              "[50 rows x 4 columns]"
            ]
          },
          "metadata": {},
          "execution_count": 15
        }
      ]
    },
    {
      "cell_type": "code",
      "source": [
        "data_merged_group.hist(column=\"word_freq\")"
      ],
      "metadata": {
        "colab": {
          "base_uri": "https://localhost:8080/",
          "height": 316
        },
        "id": "BQHfMEjwJ-nA",
        "outputId": "f9d1b7a1-8b1f-4cee-ca0f-cb785cc4b4a9"
      },
      "execution_count": 16,
      "outputs": [
        {
          "output_type": "execute_result",
          "data": {
            "text/plain": [
              "array([[<matplotlib.axes._subplots.AxesSubplot object at 0x7f9bde30e890>]],\n",
              "      dtype=object)"
            ]
          },
          "metadata": {},
          "execution_count": 16
        },
        {
          "output_type": "display_data",
          "data": {
            "image/png": "[encoded data removed]",
            "text/plain": [
              "<Figure size 432x288 with 1 Axes>"
            ]
          },
          "metadata": {
            "needs_background": "light"
          }
        }
      ]
    }
  ]
}