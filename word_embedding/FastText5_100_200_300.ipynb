{
  "nbformat": 4,
  "nbformat_minor": 0,
  "metadata": {
    "colab": {
      "name": "FastText5_100_200_300.ipynb",
      "provenance": []
    },
    "kernelspec": {
      "name": "python3",
      "display_name": "Python 3"
    },
    "language_info": {
      "name": "python"
    }
  },
  "cells": [
    {
      "cell_type": "code",
      "execution_count": null,
      "metadata": {
        "id": "qoRcXP_z1g1F"
      },
      "outputs": [],
      "source": [
        "import numpy as np\n",
        "import pandas as pd"
      ]
    },
    {
      "cell_type": "code",
      "source": [
        "#Mount the G Drive to access the data set\n",
        "from google.colab import drive\n",
        "drive.mount('/content/drive', force_remount=True)"
      ],
      "metadata": {
        "colab": {
          "base_uri": "https://localhost:8080/"
        },
        "id": "Lr4q4lU_8rsX",
        "outputId": "7840f519-e474-4c37-a6a6-46eaa4454a29"
      },
      "execution_count": null,
      "outputs": [
        {
          "output_type": "stream",
          "name": "stdout",
          "text": [
            "Mounted at /content/drive\n"
          ]
        }
      ]
    },
    {
      "cell_type": "code",
      "source": [
        "train_path = '/content/drive/MyDrive/Colab Notebooks/FP-DM/dataset/train_baseline_fix_index.csv'\n",
        "test_path = '/content/drive/MyDrive/Colab Notebooks/FP-DM/dataset/test_baseline_fix_index.csv'\n",
        "train_df = pd.read_csv(train_path, encoding= 'unicode_escape')\n",
        "test_df = pd.read_csv(test_path, encoding= 'unicode_escape')\n",
        "merged_df = train_df.append([test_df])"
      ],
      "metadata": {
        "id": "6cNdzyKn8u7K"
      },
      "execution_count": null,
      "outputs": []
    },
    {
      "cell_type": "code",
      "source": [
        "train_df"
      ],
      "metadata": {
        "colab": {
          "base_uri": "https://localhost:8080/",
          "height": 424
        },
        "id": "ryCEjbm28xBb",
        "outputId": "e4a56eeb-ab1e-4e5e-eb29-f841900c022d"
      },
      "execution_count": null,
      "outputs": [
        {
          "output_type": "execute_result",
          "data": {
            "text/html": [
              "<div>\n",
              "<style scoped>\n",
              "    .dataframe tbody tr th:only-of-type {\n",
              "        vertical-align: middle;\n",
              "    }\n",
              "\n",
              "    .dataframe tbody tr th {\n",
              "        vertical-align: top;\n",
              "    }\n",
              "\n",
              "    .dataframe thead th {\n",
              "        text-align: right;\n",
              "    }\n",
              "</style>\n",
              "<table border=\"1\" class=\"dataframe\">\n",
              "  <thead>\n",
              "    <tr style=\"text-align: right;\">\n",
              "      <th></th>\n",
              "      <th>Unnamed: 0</th>\n",
              "      <th>sentence #</th>\n",
              "      <th>word</th>\n",
              "      <th>tag</th>\n",
              "      <th>word_idx</th>\n",
              "      <th>tag_idx</th>\n",
              "    </tr>\n",
              "  </thead>\n",
              "  <tbody>\n",
              "    <tr>\n",
              "      <th>0</th>\n",
              "      <td>0</td>\n",
              "      <td>1</td>\n",
              "      <td>Berikut</td>\n",
              "      <td>O</td>\n",
              "      <td>7983</td>\n",
              "      <td>0</td>\n",
              "    </tr>\n",
              "    <tr>\n",
              "      <th>1</th>\n",
              "      <td>1</td>\n",
              "      <td>1</td>\n",
              "      <td>adalah</td>\n",
              "      <td>O</td>\n",
              "      <td>2039</td>\n",
              "      <td>0</td>\n",
              "    </tr>\n",
              "    <tr>\n",
              "      <th>2</th>\n",
              "      <td>2</td>\n",
              "      <td>1</td>\n",
              "      <td>tujuh</td>\n",
              "      <td>O</td>\n",
              "      <td>4980</td>\n",
              "      <td>0</td>\n",
              "    </tr>\n",
              "    <tr>\n",
              "      <th>3</th>\n",
              "      <td>3</td>\n",
              "      <td>1</td>\n",
              "      <td>kota</td>\n",
              "      <td>O</td>\n",
              "      <td>41</td>\n",
              "      <td>0</td>\n",
              "    </tr>\n",
              "    <tr>\n",
              "      <th>4</th>\n",
              "      <td>4</td>\n",
              "      <td>1</td>\n",
              "      <td>di</td>\n",
              "      <td>O</td>\n",
              "      <td>4961</td>\n",
              "      <td>0</td>\n",
              "    </tr>\n",
              "    <tr>\n",
              "      <th>...</th>\n",
              "      <td>...</td>\n",
              "      <td>...</td>\n",
              "      <td>...</td>\n",
              "      <td>...</td>\n",
              "      <td>...</td>\n",
              "      <td>...</td>\n",
              "    </tr>\n",
              "    <tr>\n",
              "      <th>30243</th>\n",
              "      <td>30243</td>\n",
              "      <td>1464</td>\n",
              "      <td>kita</td>\n",
              "      <td>O</td>\n",
              "      <td>4705</td>\n",
              "      <td>0</td>\n",
              "    </tr>\n",
              "    <tr>\n",
              "      <th>30244</th>\n",
              "      <td>30244</td>\n",
              "      <td>1464</td>\n",
              "      <td>,</td>\n",
              "      <td>O</td>\n",
              "      <td>7275</td>\n",
              "      <td>0</td>\n",
              "    </tr>\n",
              "    <tr>\n",
              "      <th>30245</th>\n",
              "      <td>30245</td>\n",
              "      <td>1464</td>\n",
              "      <td>ucap</td>\n",
              "      <td>O</td>\n",
              "      <td>7791</td>\n",
              "      <td>0</td>\n",
              "    </tr>\n",
              "    <tr>\n",
              "      <th>30246</th>\n",
              "      <td>30246</td>\n",
              "      <td>1464</td>\n",
              "      <td>Fadli</td>\n",
              "      <td>B-PER</td>\n",
              "      <td>855</td>\n",
              "      <td>4</td>\n",
              "    </tr>\n",
              "    <tr>\n",
              "      <th>30247</th>\n",
              "      <td>30247</td>\n",
              "      <td>1464</td>\n",
              "      <td>.</td>\n",
              "      <td>O</td>\n",
              "      <td>6215</td>\n",
              "      <td>0</td>\n",
              "    </tr>\n",
              "  </tbody>\n",
              "</table>\n",
              "<p>30248 rows × 6 columns</p>\n",
              "</div>"
            ],
            "text/plain": [
              "       Unnamed: 0  sentence #     word    tag  word_idx  tag_idx\n",
              "0               0           1  Berikut      O      7983        0\n",
              "1               1           1   adalah      O      2039        0\n",
              "2               2           1    tujuh      O      4980        0\n",
              "3               3           1     kota      O        41        0\n",
              "4               4           1       di      O      4961        0\n",
              "...           ...         ...      ...    ...       ...      ...\n",
              "30243       30243        1464     kita      O      4705        0\n",
              "30244       30244        1464        ,      O      7275        0\n",
              "30245       30245        1464     ucap      O      7791        0\n",
              "30246       30246        1464    Fadli  B-PER       855        4\n",
              "30247       30247        1464        .      O      6215        0\n",
              "\n",
              "[30248 rows x 6 columns]"
            ]
          },
          "metadata": {},
          "execution_count": 19
        }
      ]
    },
    {
      "cell_type": "code",
      "source": [
        "test_df"
      ],
      "metadata": {
        "colab": {
          "base_uri": "https://localhost:8080/",
          "height": 424
        },
        "id": "qARa7IVe8y8d",
        "outputId": "c20621d5-988c-463a-bfd3-53b2adf06765"
      },
      "execution_count": null,
      "outputs": [
        {
          "output_type": "execute_result",
          "data": {
            "text/html": [
              "<div>\n",
              "<style scoped>\n",
              "    .dataframe tbody tr th:only-of-type {\n",
              "        vertical-align: middle;\n",
              "    }\n",
              "\n",
              "    .dataframe tbody tr th {\n",
              "        vertical-align: top;\n",
              "    }\n",
              "\n",
              "    .dataframe thead th {\n",
              "        text-align: right;\n",
              "    }\n",
              "</style>\n",
              "<table border=\"1\" class=\"dataframe\">\n",
              "  <thead>\n",
              "    <tr style=\"text-align: right;\">\n",
              "      <th></th>\n",
              "      <th>Unnamed: 0</th>\n",
              "      <th>sentence #</th>\n",
              "      <th>word</th>\n",
              "      <th>tag</th>\n",
              "      <th>word_idx</th>\n",
              "      <th>tag_idx</th>\n",
              "    </tr>\n",
              "  </thead>\n",
              "  <tbody>\n",
              "    <tr>\n",
              "      <th>0</th>\n",
              "      <td>0</td>\n",
              "      <td>1</td>\n",
              "      <td>Meski</td>\n",
              "      <td>O</td>\n",
              "      <td>4549</td>\n",
              "      <td>0</td>\n",
              "    </tr>\n",
              "    <tr>\n",
              "      <th>1</th>\n",
              "      <td>1</td>\n",
              "      <td>1</td>\n",
              "      <td>demikian</td>\n",
              "      <td>O</td>\n",
              "      <td>4487</td>\n",
              "      <td>0</td>\n",
              "    </tr>\n",
              "    <tr>\n",
              "      <th>2</th>\n",
              "      <td>2</td>\n",
              "      <td>1</td>\n",
              "      <td>,</td>\n",
              "      <td>O</td>\n",
              "      <td>7275</td>\n",
              "      <td>0</td>\n",
              "    </tr>\n",
              "    <tr>\n",
              "      <th>3</th>\n",
              "      <td>3</td>\n",
              "      <td>1</td>\n",
              "      <td>ia</td>\n",
              "      <td>O</td>\n",
              "      <td>5670</td>\n",
              "      <td>0</td>\n",
              "    </tr>\n",
              "    <tr>\n",
              "      <th>4</th>\n",
              "      <td>4</td>\n",
              "      <td>1</td>\n",
              "      <td>menegaskan</td>\n",
              "      <td>O</td>\n",
              "      <td>5148</td>\n",
              "      <td>0</td>\n",
              "    </tr>\n",
              "    <tr>\n",
              "      <th>...</th>\n",
              "      <td>...</td>\n",
              "      <td>...</td>\n",
              "      <td>...</td>\n",
              "      <td>...</td>\n",
              "      <td>...</td>\n",
              "      <td>...</td>\n",
              "    </tr>\n",
              "    <tr>\n",
              "      <th>18446</th>\n",
              "      <td>10583</td>\n",
              "      <td>509</td>\n",
              "      <td>keluarga</td>\n",
              "      <td>O</td>\n",
              "      <td>3747</td>\n",
              "      <td>0</td>\n",
              "    </tr>\n",
              "    <tr>\n",
              "      <th>18447</th>\n",
              "      <td>10584</td>\n",
              "      <td>509</td>\n",
              "      <td>-lah</td>\n",
              "      <td>O</td>\n",
              "      <td>2169</td>\n",
              "      <td>0</td>\n",
              "    </tr>\n",
              "    <tr>\n",
              "      <th>18448</th>\n",
              "      <td>10585</td>\n",
              "      <td>509</td>\n",
              "      <td>,</td>\n",
              "      <td>O</td>\n",
              "      <td>7275</td>\n",
              "      <td>0</td>\n",
              "    </tr>\n",
              "    <tr>\n",
              "      <th>18449</th>\n",
              "      <td>10586</td>\n",
              "      <td>509</td>\n",
              "      <td>ujarnya</td>\n",
              "      <td>O</td>\n",
              "      <td>3526</td>\n",
              "      <td>0</td>\n",
              "    </tr>\n",
              "    <tr>\n",
              "      <th>18450</th>\n",
              "      <td>10587</td>\n",
              "      <td>509</td>\n",
              "      <td>.</td>\n",
              "      <td>O</td>\n",
              "      <td>6215</td>\n",
              "      <td>0</td>\n",
              "    </tr>\n",
              "  </tbody>\n",
              "</table>\n",
              "<p>18451 rows × 6 columns</p>\n",
              "</div>"
            ],
            "text/plain": [
              "       Unnamed: 0  sentence #        word tag  word_idx  tag_idx\n",
              "0               0           1       Meski   O      4549        0\n",
              "1               1           1    demikian   O      4487        0\n",
              "2               2           1           ,   O      7275        0\n",
              "3               3           1          ia   O      5670        0\n",
              "4               4           1  menegaskan   O      5148        0\n",
              "...           ...         ...         ...  ..       ...      ...\n",
              "18446       10583         509    keluarga   O      3747        0\n",
              "18447       10584         509        -lah   O      2169        0\n",
              "18448       10585         509           ,   O      7275        0\n",
              "18449       10586         509     ujarnya   O      3526        0\n",
              "18450       10587         509           .   O      6215        0\n",
              "\n",
              "[18451 rows x 6 columns]"
            ]
          },
          "metadata": {},
          "execution_count": 20
        }
      ]
    },
    {
      "cell_type": "code",
      "source": [
        "data_merged_fillna = merged_df.fillna(method='ffill', axis=0)\n",
        "\n",
        "data_merged_group = data_merged_fillna.groupby(['sentence #'],as_index=False)['word', 'tag', 'word_idx', 'tag_idx'].agg(lambda x: list(x))"
      ],
      "metadata": {
        "colab": {
          "base_uri": "https://localhost:8080/"
        },
        "id": "Af-2N8if82iE",
        "outputId": "605115c5-3c68-447d-fda6-7adcf3fe5fee"
      },
      "execution_count": null,
      "outputs": [
        {
          "output_type": "stream",
          "name": "stderr",
          "text": [
            "/usr/local/lib/python3.7/dist-packages/ipykernel_launcher.py:3: FutureWarning: Indexing with multiple keys (implicitly converted to a tuple of keys) will be deprecated, use a list instead.\n",
            "  This is separate from the ipykernel package so we can avoid doing imports until\n"
          ]
        }
      ]
    },
    {
      "cell_type": "code",
      "source": [
        "data_merged_group"
      ],
      "metadata": {
        "colab": {
          "base_uri": "https://localhost:8080/",
          "height": 632
        },
        "id": "BHEpzESQ85T5",
        "outputId": "d6d42651-fe93-4e4b-bf7b-78a11bc203a1"
      },
      "execution_count": null,
      "outputs": [
        {
          "output_type": "execute_result",
          "data": {
            "text/html": [
              "<div>\n",
              "<style scoped>\n",
              "    .dataframe tbody tr th:only-of-type {\n",
              "        vertical-align: middle;\n",
              "    }\n",
              "\n",
              "    .dataframe tbody tr th {\n",
              "        vertical-align: top;\n",
              "    }\n",
              "\n",
              "    .dataframe thead th {\n",
              "        text-align: right;\n",
              "    }\n",
              "</style>\n",
              "<table border=\"1\" class=\"dataframe\">\n",
              "  <thead>\n",
              "    <tr style=\"text-align: right;\">\n",
              "      <th></th>\n",
              "      <th>sentence #</th>\n",
              "      <th>word</th>\n",
              "      <th>tag</th>\n",
              "      <th>word_idx</th>\n",
              "      <th>tag_idx</th>\n",
              "    </tr>\n",
              "  </thead>\n",
              "  <tbody>\n",
              "    <tr>\n",
              "      <th>0</th>\n",
              "      <td>1</td>\n",
              "      <td>[Berikut, adalah, tujuh, kota, di, Indonesia, ...</td>\n",
              "      <td>[O, O, O, O, O, B-LOC, O, O, O, O, O, O, O, O,...</td>\n",
              "      <td>[7983, 2039, 4980, 41, 4961, 1745, 5214, 5262,...</td>\n",
              "      <td>[0, 0, 0, 0, 0, 6, 0, 0, 0, 0, 0, 0, 0, 0, 0, ...</td>\n",
              "    </tr>\n",
              "    <tr>\n",
              "      <th>1</th>\n",
              "      <td>2</td>\n",
              "      <td>[Soal, calon, presiden, itu, urusan, nanti, ,,...</td>\n",
              "      <td>[O, O, O, O, O, O, O, O, O, O, O, O, O, O, B-P...</td>\n",
              "      <td>[3711, 8327, 3000, 5216, 4847, 865, 7275, 5214...</td>\n",
              "      <td>[0, 0, 0, 0, 0, 0, 0, 0, 0, 0, 0, 0, 0, 0, 4, ...</td>\n",
              "    </tr>\n",
              "    <tr>\n",
              "      <th>2</th>\n",
              "      <td>3</td>\n",
              "      <td>[Kalau, itu, tanya, PPP, saja, ,, ujar, Nasir,...</td>\n",
              "      <td>[O, O, O, B-ORG, O, O, O, B-PER, O, O, O, O, O...</td>\n",
              "      <td>[5035, 5216, 5722, 7446, 5829, 7275, 5990, 108...</td>\n",
              "      <td>[0, 0, 0, 2, 0, 0, 0, 4, 0, 0, 0, 0, 0, 0, 0, ...</td>\n",
              "    </tr>\n",
              "    <tr>\n",
              "      <th>3</th>\n",
              "      <td>4</td>\n",
              "      <td>[Jokowi, bisa, mengatakan, mencabut, pengaduan...</td>\n",
              "      <td>[B-PER, O, O, O, O, O, O, O, O, O, O, O, O, O,...</td>\n",
              "      <td>[8234, 3106, 3220, 2834, 4775, 652, 3257, 2096...</td>\n",
              "      <td>[4, 0, 0, 0, 0, 0, 0, 0, 0, 0, 0, 0, 0, 0, 0, ...</td>\n",
              "    </tr>\n",
              "    <tr>\n",
              "      <th>4</th>\n",
              "      <td>5</td>\n",
              "      <td>[Akbar, menyebutkan, pemerintahan, Jokowi-JK, ...</td>\n",
              "      <td>[B-PER, O, O, O, O, O, O, O, O, O, O, O, O, O,...</td>\n",
              "      <td>[4662, 5284, 5706, 3052, 6288, 2366, 7513, 268...</td>\n",
              "      <td>[4, 0, 0, 0, 0, 0, 0, 0, 0, 0, 0, 0, 0, 0, 0, ...</td>\n",
              "    </tr>\n",
              "    <tr>\n",
              "      <th>...</th>\n",
              "      <td>...</td>\n",
              "      <td>...</td>\n",
              "      <td>...</td>\n",
              "      <td>...</td>\n",
              "      <td>...</td>\n",
              "    </tr>\n",
              "    <tr>\n",
              "      <th>1459</th>\n",
              "      <td>1460</td>\n",
              "      <td>[Dia, menggantikan, Ian, Campbell, ,, yang, di...</td>\n",
              "      <td>[O, O, B-PER, I-PER, O, O, O, O, O, O, O, O, O...</td>\n",
              "      <td>[7122, 3901, 2733, 1094, 7275, 5214, 5571, 445...</td>\n",
              "      <td>[0, 0, 4, 3, 0, 0, 0, 0, 0, 0, 0, 0, 0, 0, 0, ...</td>\n",
              "    </tr>\n",
              "    <tr>\n",
              "      <th>1460</th>\n",
              "      <td>1461</td>\n",
              "      <td>[Kita, siapkan, strategi, baru, ,, bukan, gant...</td>\n",
              "      <td>[O, O, O, O, O, O, O, O, O, O, O]</td>\n",
              "      <td>[5581, 5206, 2338, 7187, 7275, 3022, 7872, 527...</td>\n",
              "      <td>[0, 0, 0, 0, 0, 0, 0, 0, 0, 0, 0]</td>\n",
              "    </tr>\n",
              "    <tr>\n",
              "      <th>1461</th>\n",
              "      <td>1462</td>\n",
              "      <td>[September, 2007, PTBA, akan, mensosialisasika...</td>\n",
              "      <td>[O, O, B-ORG, O, O, O, O, O, O, O, O, O, O, O,...</td>\n",
              "      <td>[1820, 9, 8170, 607, 1804, 5973, 1372, 2594, 4...</td>\n",
              "      <td>[0, 0, 2, 0, 0, 0, 0, 0, 0, 0, 0, 0, 0, 0, 0, ...</td>\n",
              "    </tr>\n",
              "    <tr>\n",
              "      <th>1462</th>\n",
              "      <td>1463</td>\n",
              "      <td>[Sedang, infeksi, virus, ebola, ini, berlangsu...</td>\n",
              "      <td>[O, O, O, O, O, O, O, O, O, O, O, O, O]</td>\n",
              "      <td>[2118, 8069, 1844, 4255, 452, 3596, 7595, 652,...</td>\n",
              "      <td>[0, 0, 0, 0, 0, 0, 0, 0, 0, 0, 0, 0, 0]</td>\n",
              "    </tr>\n",
              "    <tr>\n",
              "      <th>1463</th>\n",
              "      <td>1464</td>\n",
              "      <td>[Kita, melihat, negara, yang, selama, ini, ber...</td>\n",
              "      <td>[O, O, O, O, O, O, O, O, O, O, O, O, O, O, O, ...</td>\n",
              "      <td>[5581, 5690, 6491, 5214, 6582, 452, 1417, 7275...</td>\n",
              "      <td>[0, 0, 0, 0, 0, 0, 0, 0, 0, 0, 0, 0, 0, 0, 0, ...</td>\n",
              "    </tr>\n",
              "  </tbody>\n",
              "</table>\n",
              "<p>1464 rows × 5 columns</p>\n",
              "</div>"
            ],
            "text/plain": [
              "      sentence #  ...                                            tag_idx\n",
              "0              1  ...  [0, 0, 0, 0, 0, 6, 0, 0, 0, 0, 0, 0, 0, 0, 0, ...\n",
              "1              2  ...  [0, 0, 0, 0, 0, 0, 0, 0, 0, 0, 0, 0, 0, 0, 4, ...\n",
              "2              3  ...  [0, 0, 0, 2, 0, 0, 0, 4, 0, 0, 0, 0, 0, 0, 0, ...\n",
              "3              4  ...  [4, 0, 0, 0, 0, 0, 0, 0, 0, 0, 0, 0, 0, 0, 0, ...\n",
              "4              5  ...  [4, 0, 0, 0, 0, 0, 0, 0, 0, 0, 0, 0, 0, 0, 0, ...\n",
              "...          ...  ...                                                ...\n",
              "1459        1460  ...  [0, 0, 4, 3, 0, 0, 0, 0, 0, 0, 0, 0, 0, 0, 0, ...\n",
              "1460        1461  ...                  [0, 0, 0, 0, 0, 0, 0, 0, 0, 0, 0]\n",
              "1461        1462  ...  [0, 0, 2, 0, 0, 0, 0, 0, 0, 0, 0, 0, 0, 0, 0, ...\n",
              "1462        1463  ...            [0, 0, 0, 0, 0, 0, 0, 0, 0, 0, 0, 0, 0]\n",
              "1463        1464  ...  [0, 0, 0, 0, 0, 0, 0, 0, 0, 0, 0, 0, 0, 0, 0, ...\n",
              "\n",
              "[1464 rows x 5 columns]"
            ]
          },
          "metadata": {},
          "execution_count": 22
        }
      ]
    },
    {
      "cell_type": "code",
      "source": [
        "word_list = data_merged_group['word'].to_list()"
      ],
      "metadata": {
        "id": "J7SNnKcv87WX"
      },
      "execution_count": null,
      "outputs": []
    },
    {
      "cell_type": "markdown",
      "source": [
        "Import Dictionary yang sudah dibangun pada saat preprocessing"
      ],
      "metadata": {
        "id": "6q9Ous6U9LgY"
      }
    },
    {
      "cell_type": "code",
      "source": [
        "# importing the module\n",
        "import json\n",
        " \n",
        "# Opening JSON file\n",
        "def loadJSON(filename):\n",
        "  data = {}\n",
        "  with open(filename) as json_file:\n",
        "      data = json.load(json_file)\n",
        "  return data"
      ],
      "metadata": {
        "id": "M7LxVkKk9N-O"
      },
      "execution_count": null,
      "outputs": []
    },
    {
      "cell_type": "code",
      "source": [
        "idx2tag = loadJSON('/content/drive/MyDrive/Colab Notebooks/FP-DM/output/idx2tag.json')\n",
        "tag2idx = loadJSON('/content/drive/MyDrive/Colab Notebooks/FP-DM/output/tag2idx.json')\n",
        "token2idx = loadJSON('/content/drive/MyDrive/Colab Notebooks/FP-DM/output/token2idx.json')\n",
        "idx2token = loadJSON('/content/drive/MyDrive/Colab Notebooks/FP-DM/output/idx2token.json')\n",
        "print(idx2tag)"
      ],
      "metadata": {
        "colab": {
          "base_uri": "https://localhost:8080/"
        },
        "id": "DdDa-sRX9RDM",
        "outputId": "797cc5ba-9629-4365-fc2b-e14127078f02"
      },
      "execution_count": null,
      "outputs": [
        {
          "output_type": "stream",
          "name": "stdout",
          "text": [
            "{'0': 'O', '1': 'I-LOC', '2': 'B-ORG', '3': 'I-PER', '4': 'B-PER', '5': 'I-ORG', '6': 'B-LOC'}\n"
          ]
        }
      ]
    },
    {
      "cell_type": "code",
      "source": [
        "tag2idx = dict([key, int(value)] for key, value in tag2idx.items())\n",
        "token2idx = dict([key, int(value)] for key, value in token2idx.items())\n",
        "idx2tag = dict([int(key), value] for key, value in idx2tag.items())\n",
        "idx2token = dict([int(key), value] for key, value in idx2token.items())\n",
        "tag2idx"
      ],
      "metadata": {
        "colab": {
          "base_uri": "https://localhost:8080/"
        },
        "id": "AhIy2YxQ9SyL",
        "outputId": "e333089d-a3ce-4636-83e2-fb8d40b139c7"
      },
      "execution_count": null,
      "outputs": [
        {
          "output_type": "execute_result",
          "data": {
            "text/plain": [
              "{'B-LOC': 6,\n",
              " 'B-ORG': 2,\n",
              " 'B-PER': 4,\n",
              " 'I-LOC': 1,\n",
              " 'I-ORG': 5,\n",
              " 'I-PER': 3,\n",
              " 'O': 0}"
            ]
          },
          "metadata": {},
          "execution_count": 26
        }
      ]
    },
    {
      "cell_type": "markdown",
      "source": [
        "FastText Model training using Gensim"
      ],
      "metadata": {
        "id": "aTw5Y41b9Vsb"
      }
    },
    {
      "cell_type": "code",
      "source": [
        "from gensim.models.fasttext import FastText\n",
        "\n",
        "# Set values for various parameters\n",
        "feature_size = 100    # Word vector dimensionality  \n",
        "window_context = 5    # Context window size                                                                                    \n",
        "min_word_count = 1    # Minimum word count                        \n",
        "iter = 100\n",
        "\n",
        "# sg decides whether to use the skip-gram model (1) or CBOW (0)\n",
        "ft_model100 = FastText(word_list, size=feature_size, window=window_context, \n",
        "                    min_count=min_word_count, sg=1, iter=iter)\n",
        "ft_model100.save('/content/drive/MyDrive/Colab Notebooks/FP-DM/models/word_embeddings/FastText5_100_100.bin')"
      ],
      "metadata": {
        "id": "q8S5vhyKOiQD"
      },
      "execution_count": null,
      "outputs": []
    },
    {
      "cell_type": "code",
      "source": [
        "ft_model200 = FastText(word_list, size=feature_size, window=window_context, \n",
        "                    min_count=min_word_count, sg=1, iter=iter)\n",
        "ft_model200.save('/content/drive/MyDrive/Colab Notebooks/FP-DM/models/word_embeddings/FastText5_200_100.bin')"
      ],
      "metadata": {
        "id": "Km4h9GeHQgZh"
      },
      "execution_count": null,
      "outputs": []
    },
    {
      "cell_type": "code",
      "source": [
        "ft_model300 = Word2Vec(word_list, size=300, window=5, min_count=1, iter=100, sg=1)\n",
        "ft_model300.save('/content/drive/MyDrive/Colab Notebooks/FP-DM/models/word_embeddings/FastText5_300_100.bin')"
      ],
      "metadata": {
        "id": "ASNEtdzyQjUo"
      },
      "execution_count": null,
      "outputs": []
    }
  ]
}