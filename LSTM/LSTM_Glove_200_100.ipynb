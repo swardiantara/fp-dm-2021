{
  "nbformat": 4,
  "nbformat_minor": 0,
  "metadata": {
    "colab": {
      "name": "LSTM_Glove_200_100.ipynb",
      "provenance": [],
      "collapsed_sections": []
    },
    "kernelspec": {
      "name": "python3",
      "display_name": "Python 3"
    },
    "language_info": {
      "name": "python"
    }
  },
  "cells": [
    {
      "cell_type": "code",
      "execution_count": 1,
      "metadata": {
        "id": "VpIurlx3Z7tE"
      },
      "outputs": [],
      "source": [
        "import numpy as np\n",
        "import pandas as pd"
      ]
    },
    {
      "cell_type": "code",
      "source": [
        "#Mount the G Drive to access the data set\n",
        "from google.colab import drive\n",
        "drive.mount('/content/drive', force_remount=True)"
      ],
      "metadata": {
        "colab": {
          "base_uri": "https://localhost:8080/"
        },
        "id": "jzE0y3-7qeIh",
        "outputId": "02643dc8-139a-486e-88d8-0a208236a503"
      },
      "execution_count": 2,
      "outputs": [
        {
          "output_type": "stream",
          "name": "stdout",
          "text": [
            "Mounted at /content/drive\n"
          ]
        }
      ]
    },
    {
      "cell_type": "code",
      "source": [
        "train_path = '/content/drive/MyDrive/Colab Notebooks/FP-DM/dataset/train_baseline_fix_index.csv'\n",
        "test_path = '/content/drive/MyDrive/Colab Notebooks/FP-DM/dataset/test_baseline_fix_index.csv'\n",
        "train_df = pd.read_csv(train_path, encoding= 'unicode_escape')\n",
        "test_df = pd.read_csv(test_path, encoding= 'unicode_escape')\n",
        "merged_df = train_df.append([test_df])"
      ],
      "metadata": {
        "id": "DlFSVQRTq1Fh"
      },
      "execution_count": 3,
      "outputs": []
    },
    {
      "cell_type": "code",
      "source": [
        "train_df.drop(['Unnamed: 0'], inplace=True, axis=1)\n",
        "train_df"
      ],
      "metadata": {
        "colab": {
          "base_uri": "https://localhost:8080/",
          "height": 424
        },
        "id": "0BaKyIlmrRO4",
        "outputId": "51aa6b2b-cde6-41a9-bc7b-c8906c9ccbfb"
      },
      "execution_count": 4,
      "outputs": [
        {
          "output_type": "execute_result",
          "data": {
            "text/html": [
              "<div>\n",
              "<style scoped>\n",
              "    .dataframe tbody tr th:only-of-type {\n",
              "        vertical-align: middle;\n",
              "    }\n",
              "\n",
              "    .dataframe tbody tr th {\n",
              "        vertical-align: top;\n",
              "    }\n",
              "\n",
              "    .dataframe thead th {\n",
              "        text-align: right;\n",
              "    }\n",
              "</style>\n",
              "<table border=\"1\" class=\"dataframe\">\n",
              "  <thead>\n",
              "    <tr style=\"text-align: right;\">\n",
              "      <th></th>\n",
              "      <th>sentence #</th>\n",
              "      <th>word</th>\n",
              "      <th>tag</th>\n",
              "      <th>word_idx</th>\n",
              "      <th>tag_idx</th>\n",
              "    </tr>\n",
              "  </thead>\n",
              "  <tbody>\n",
              "    <tr>\n",
              "      <th>0</th>\n",
              "      <td>1</td>\n",
              "      <td>Berikut</td>\n",
              "      <td>O</td>\n",
              "      <td>7983</td>\n",
              "      <td>0</td>\n",
              "    </tr>\n",
              "    <tr>\n",
              "      <th>1</th>\n",
              "      <td>1</td>\n",
              "      <td>adalah</td>\n",
              "      <td>O</td>\n",
              "      <td>2039</td>\n",
              "      <td>0</td>\n",
              "    </tr>\n",
              "    <tr>\n",
              "      <th>2</th>\n",
              "      <td>1</td>\n",
              "      <td>tujuh</td>\n",
              "      <td>O</td>\n",
              "      <td>4980</td>\n",
              "      <td>0</td>\n",
              "    </tr>\n",
              "    <tr>\n",
              "      <th>3</th>\n",
              "      <td>1</td>\n",
              "      <td>kota</td>\n",
              "      <td>O</td>\n",
              "      <td>41</td>\n",
              "      <td>0</td>\n",
              "    </tr>\n",
              "    <tr>\n",
              "      <th>4</th>\n",
              "      <td>1</td>\n",
              "      <td>di</td>\n",
              "      <td>O</td>\n",
              "      <td>4961</td>\n",
              "      <td>0</td>\n",
              "    </tr>\n",
              "    <tr>\n",
              "      <th>...</th>\n",
              "      <td>...</td>\n",
              "      <td>...</td>\n",
              "      <td>...</td>\n",
              "      <td>...</td>\n",
              "      <td>...</td>\n",
              "    </tr>\n",
              "    <tr>\n",
              "      <th>30243</th>\n",
              "      <td>1464</td>\n",
              "      <td>kita</td>\n",
              "      <td>O</td>\n",
              "      <td>4705</td>\n",
              "      <td>0</td>\n",
              "    </tr>\n",
              "    <tr>\n",
              "      <th>30244</th>\n",
              "      <td>1464</td>\n",
              "      <td>,</td>\n",
              "      <td>O</td>\n",
              "      <td>7275</td>\n",
              "      <td>0</td>\n",
              "    </tr>\n",
              "    <tr>\n",
              "      <th>30245</th>\n",
              "      <td>1464</td>\n",
              "      <td>ucap</td>\n",
              "      <td>O</td>\n",
              "      <td>7791</td>\n",
              "      <td>0</td>\n",
              "    </tr>\n",
              "    <tr>\n",
              "      <th>30246</th>\n",
              "      <td>1464</td>\n",
              "      <td>Fadli</td>\n",
              "      <td>B-PER</td>\n",
              "      <td>855</td>\n",
              "      <td>4</td>\n",
              "    </tr>\n",
              "    <tr>\n",
              "      <th>30247</th>\n",
              "      <td>1464</td>\n",
              "      <td>.</td>\n",
              "      <td>O</td>\n",
              "      <td>6215</td>\n",
              "      <td>0</td>\n",
              "    </tr>\n",
              "  </tbody>\n",
              "</table>\n",
              "<p>30248 rows × 5 columns</p>\n",
              "</div>"
            ],
            "text/plain": [
              "       sentence #     word    tag  word_idx  tag_idx\n",
              "0               1  Berikut      O      7983        0\n",
              "1               1   adalah      O      2039        0\n",
              "2               1    tujuh      O      4980        0\n",
              "3               1     kota      O        41        0\n",
              "4               1       di      O      4961        0\n",
              "...           ...      ...    ...       ...      ...\n",
              "30243        1464     kita      O      4705        0\n",
              "30244        1464        ,      O      7275        0\n",
              "30245        1464     ucap      O      7791        0\n",
              "30246        1464    Fadli  B-PER       855        4\n",
              "30247        1464        .      O      6215        0\n",
              "\n",
              "[30248 rows x 5 columns]"
            ]
          },
          "metadata": {},
          "execution_count": 4
        }
      ]
    },
    {
      "cell_type": "code",
      "source": [
        "test_df.drop(['Unnamed: 0'], inplace=True, axis=1)\n",
        "test_df"
      ],
      "metadata": {
        "colab": {
          "base_uri": "https://localhost:8080/",
          "height": 424
        },
        "id": "bing0rhHraWE",
        "outputId": "f92fe097-c3f2-4a00-e542-fc1ae1376986"
      },
      "execution_count": 5,
      "outputs": [
        {
          "output_type": "execute_result",
          "data": {
            "text/html": [
              "<div>\n",
              "<style scoped>\n",
              "    .dataframe tbody tr th:only-of-type {\n",
              "        vertical-align: middle;\n",
              "    }\n",
              "\n",
              "    .dataframe tbody tr th {\n",
              "        vertical-align: top;\n",
              "    }\n",
              "\n",
              "    .dataframe thead th {\n",
              "        text-align: right;\n",
              "    }\n",
              "</style>\n",
              "<table border=\"1\" class=\"dataframe\">\n",
              "  <thead>\n",
              "    <tr style=\"text-align: right;\">\n",
              "      <th></th>\n",
              "      <th>sentence #</th>\n",
              "      <th>word</th>\n",
              "      <th>tag</th>\n",
              "      <th>word_idx</th>\n",
              "      <th>tag_idx</th>\n",
              "    </tr>\n",
              "  </thead>\n",
              "  <tbody>\n",
              "    <tr>\n",
              "      <th>0</th>\n",
              "      <td>1</td>\n",
              "      <td>Meski</td>\n",
              "      <td>O</td>\n",
              "      <td>4549</td>\n",
              "      <td>0</td>\n",
              "    </tr>\n",
              "    <tr>\n",
              "      <th>1</th>\n",
              "      <td>1</td>\n",
              "      <td>demikian</td>\n",
              "      <td>O</td>\n",
              "      <td>4487</td>\n",
              "      <td>0</td>\n",
              "    </tr>\n",
              "    <tr>\n",
              "      <th>2</th>\n",
              "      <td>1</td>\n",
              "      <td>,</td>\n",
              "      <td>O</td>\n",
              "      <td>7275</td>\n",
              "      <td>0</td>\n",
              "    </tr>\n",
              "    <tr>\n",
              "      <th>3</th>\n",
              "      <td>1</td>\n",
              "      <td>ia</td>\n",
              "      <td>O</td>\n",
              "      <td>5670</td>\n",
              "      <td>0</td>\n",
              "    </tr>\n",
              "    <tr>\n",
              "      <th>4</th>\n",
              "      <td>1</td>\n",
              "      <td>menegaskan</td>\n",
              "      <td>O</td>\n",
              "      <td>5148</td>\n",
              "      <td>0</td>\n",
              "    </tr>\n",
              "    <tr>\n",
              "      <th>...</th>\n",
              "      <td>...</td>\n",
              "      <td>...</td>\n",
              "      <td>...</td>\n",
              "      <td>...</td>\n",
              "      <td>...</td>\n",
              "    </tr>\n",
              "    <tr>\n",
              "      <th>18446</th>\n",
              "      <td>509</td>\n",
              "      <td>keluarga</td>\n",
              "      <td>O</td>\n",
              "      <td>3747</td>\n",
              "      <td>0</td>\n",
              "    </tr>\n",
              "    <tr>\n",
              "      <th>18447</th>\n",
              "      <td>509</td>\n",
              "      <td>-lah</td>\n",
              "      <td>O</td>\n",
              "      <td>2169</td>\n",
              "      <td>0</td>\n",
              "    </tr>\n",
              "    <tr>\n",
              "      <th>18448</th>\n",
              "      <td>509</td>\n",
              "      <td>,</td>\n",
              "      <td>O</td>\n",
              "      <td>7275</td>\n",
              "      <td>0</td>\n",
              "    </tr>\n",
              "    <tr>\n",
              "      <th>18449</th>\n",
              "      <td>509</td>\n",
              "      <td>ujarnya</td>\n",
              "      <td>O</td>\n",
              "      <td>3526</td>\n",
              "      <td>0</td>\n",
              "    </tr>\n",
              "    <tr>\n",
              "      <th>18450</th>\n",
              "      <td>509</td>\n",
              "      <td>.</td>\n",
              "      <td>O</td>\n",
              "      <td>6215</td>\n",
              "      <td>0</td>\n",
              "    </tr>\n",
              "  </tbody>\n",
              "</table>\n",
              "<p>18451 rows × 5 columns</p>\n",
              "</div>"
            ],
            "text/plain": [
              "       sentence #        word tag  word_idx  tag_idx\n",
              "0               1       Meski   O      4549        0\n",
              "1               1    demikian   O      4487        0\n",
              "2               1           ,   O      7275        0\n",
              "3               1          ia   O      5670        0\n",
              "4               1  menegaskan   O      5148        0\n",
              "...           ...         ...  ..       ...      ...\n",
              "18446         509    keluarga   O      3747        0\n",
              "18447         509        -lah   O      2169        0\n",
              "18448         509           ,   O      7275        0\n",
              "18449         509     ujarnya   O      3526        0\n",
              "18450         509           .   O      6215        0\n",
              "\n",
              "[18451 rows x 5 columns]"
            ]
          },
          "metadata": {},
          "execution_count": 5
        }
      ]
    },
    {
      "cell_type": "code",
      "source": [
        "merged_df.drop(['Unnamed: 0'], inplace=True, axis=1)\n",
        "merged_df"
      ],
      "metadata": {
        "colab": {
          "base_uri": "https://localhost:8080/",
          "height": 424
        },
        "id": "wGzDcpkCrcl8",
        "outputId": "6bc49f41-4594-46cb-913d-dd3e2a714615"
      },
      "execution_count": 6,
      "outputs": [
        {
          "output_type": "execute_result",
          "data": {
            "text/html": [
              "<div>\n",
              "<style scoped>\n",
              "    .dataframe tbody tr th:only-of-type {\n",
              "        vertical-align: middle;\n",
              "    }\n",
              "\n",
              "    .dataframe tbody tr th {\n",
              "        vertical-align: top;\n",
              "    }\n",
              "\n",
              "    .dataframe thead th {\n",
              "        text-align: right;\n",
              "    }\n",
              "</style>\n",
              "<table border=\"1\" class=\"dataframe\">\n",
              "  <thead>\n",
              "    <tr style=\"text-align: right;\">\n",
              "      <th></th>\n",
              "      <th>sentence #</th>\n",
              "      <th>word</th>\n",
              "      <th>tag</th>\n",
              "      <th>word_idx</th>\n",
              "      <th>tag_idx</th>\n",
              "    </tr>\n",
              "  </thead>\n",
              "  <tbody>\n",
              "    <tr>\n",
              "      <th>0</th>\n",
              "      <td>1</td>\n",
              "      <td>Berikut</td>\n",
              "      <td>O</td>\n",
              "      <td>7983</td>\n",
              "      <td>0</td>\n",
              "    </tr>\n",
              "    <tr>\n",
              "      <th>1</th>\n",
              "      <td>1</td>\n",
              "      <td>adalah</td>\n",
              "      <td>O</td>\n",
              "      <td>2039</td>\n",
              "      <td>0</td>\n",
              "    </tr>\n",
              "    <tr>\n",
              "      <th>2</th>\n",
              "      <td>1</td>\n",
              "      <td>tujuh</td>\n",
              "      <td>O</td>\n",
              "      <td>4980</td>\n",
              "      <td>0</td>\n",
              "    </tr>\n",
              "    <tr>\n",
              "      <th>3</th>\n",
              "      <td>1</td>\n",
              "      <td>kota</td>\n",
              "      <td>O</td>\n",
              "      <td>41</td>\n",
              "      <td>0</td>\n",
              "    </tr>\n",
              "    <tr>\n",
              "      <th>4</th>\n",
              "      <td>1</td>\n",
              "      <td>di</td>\n",
              "      <td>O</td>\n",
              "      <td>4961</td>\n",
              "      <td>0</td>\n",
              "    </tr>\n",
              "    <tr>\n",
              "      <th>...</th>\n",
              "      <td>...</td>\n",
              "      <td>...</td>\n",
              "      <td>...</td>\n",
              "      <td>...</td>\n",
              "      <td>...</td>\n",
              "    </tr>\n",
              "    <tr>\n",
              "      <th>18446</th>\n",
              "      <td>509</td>\n",
              "      <td>keluarga</td>\n",
              "      <td>O</td>\n",
              "      <td>3747</td>\n",
              "      <td>0</td>\n",
              "    </tr>\n",
              "    <tr>\n",
              "      <th>18447</th>\n",
              "      <td>509</td>\n",
              "      <td>-lah</td>\n",
              "      <td>O</td>\n",
              "      <td>2169</td>\n",
              "      <td>0</td>\n",
              "    </tr>\n",
              "    <tr>\n",
              "      <th>18448</th>\n",
              "      <td>509</td>\n",
              "      <td>,</td>\n",
              "      <td>O</td>\n",
              "      <td>7275</td>\n",
              "      <td>0</td>\n",
              "    </tr>\n",
              "    <tr>\n",
              "      <th>18449</th>\n",
              "      <td>509</td>\n",
              "      <td>ujarnya</td>\n",
              "      <td>O</td>\n",
              "      <td>3526</td>\n",
              "      <td>0</td>\n",
              "    </tr>\n",
              "    <tr>\n",
              "      <th>18450</th>\n",
              "      <td>509</td>\n",
              "      <td>.</td>\n",
              "      <td>O</td>\n",
              "      <td>6215</td>\n",
              "      <td>0</td>\n",
              "    </tr>\n",
              "  </tbody>\n",
              "</table>\n",
              "<p>48699 rows × 5 columns</p>\n",
              "</div>"
            ],
            "text/plain": [
              "       sentence #      word tag  word_idx  tag_idx\n",
              "0               1   Berikut   O      7983        0\n",
              "1               1    adalah   O      2039        0\n",
              "2               1     tujuh   O      4980        0\n",
              "3               1      kota   O        41        0\n",
              "4               1        di   O      4961        0\n",
              "...           ...       ...  ..       ...      ...\n",
              "18446         509  keluarga   O      3747        0\n",
              "18447         509      -lah   O      2169        0\n",
              "18448         509         ,   O      7275        0\n",
              "18449         509   ujarnya   O      3526        0\n",
              "18450         509         .   O      6215        0\n",
              "\n",
              "[48699 rows x 5 columns]"
            ]
          },
          "metadata": {},
          "execution_count": 6
        }
      ]
    },
    {
      "cell_type": "code",
      "source": [
        "# importing the module\n",
        "import json\n",
        " \n",
        "# Opening JSON file\n",
        "def loadJSON(filename):\n",
        "  data = {}\n",
        "  with open(filename) as json_file:\n",
        "      data = json.load(json_file)\n",
        "  return data"
      ],
      "metadata": {
        "id": "tKhofdHjrf6C"
      },
      "execution_count": 7,
      "outputs": []
    },
    {
      "cell_type": "code",
      "source": [
        "idx2tag = loadJSON('/content/drive/MyDrive/Colab Notebooks/FP-DM/output/idx2tag.json')\n",
        "tag2idx = loadJSON('/content/drive/MyDrive/Colab Notebooks/FP-DM/output/tag2idx.json')\n",
        "token2idx = loadJSON('/content/drive/MyDrive/Colab Notebooks/FP-DM/output/token2idx.json')\n",
        "idx2token = loadJSON('/content/drive/MyDrive/Colab Notebooks/FP-DM/output/idx2token.json')\n",
        "print(idx2tag)"
      ],
      "metadata": {
        "colab": {
          "base_uri": "https://localhost:8080/"
        },
        "id": "wuwScbIkrhyg",
        "outputId": "cbd4d5fe-9561-4316-b871-cbe48aaadeea"
      },
      "execution_count": 8,
      "outputs": [
        {
          "output_type": "stream",
          "name": "stdout",
          "text": [
            "{'0': 'O', '1': 'I-LOC', '2': 'B-ORG', '3': 'I-PER', '4': 'B-PER', '5': 'I-ORG', '6': 'B-LOC'}\n"
          ]
        }
      ]
    },
    {
      "cell_type": "code",
      "source": [
        "tag2idx = dict([key, int(value)] for key, value in tag2idx.items())\n",
        "token2idx = dict([key, int(value)] for key, value in token2idx.items())\n",
        "idx2tag = dict([int(key), value] for key, value in idx2tag.items())\n",
        "idx2token = dict([int(key), value] for key, value in idx2token.items())\n",
        "tag2idx"
      ],
      "metadata": {
        "colab": {
          "base_uri": "https://localhost:8080/"
        },
        "id": "qqKYGgJSrpSM",
        "outputId": "fb5c836d-4a77-4bde-8e48-8caecd9e176d"
      },
      "execution_count": 9,
      "outputs": [
        {
          "output_type": "execute_result",
          "data": {
            "text/plain": [
              "{'B-LOC': 6,\n",
              " 'B-ORG': 2,\n",
              " 'B-PER': 4,\n",
              " 'I-LOC': 1,\n",
              " 'I-ORG': 5,\n",
              " 'I-PER': 3,\n",
              " 'O': 0}"
            ]
          },
          "metadata": {},
          "execution_count": 9
        }
      ]
    },
    {
      "cell_type": "code",
      "source": [
        "# Groupby and collect columns\n",
        "train_group = train_df.groupby(['sentence #'], as_index=False)['word', 'tag', 'word_idx', 'tag_idx'].agg(lambda x: list(x))\n",
        "test_group = test_df.groupby(['sentence #'], as_index=False)['word', 'tag', 'word_idx', 'tag_idx'].agg(lambda x: list(x))\n",
        "merged_group = merged_df.groupby(['sentence #'], as_index=False)['word', 'tag', 'word_idx', 'tag_idx'].agg(lambda x: list(x))"
      ],
      "metadata": {
        "colab": {
          "base_uri": "https://localhost:8080/"
        },
        "id": "NvjCgwIyrsas",
        "outputId": "797aaac3-21aa-4515-c83b-2984eb9dcd20"
      },
      "execution_count": 10,
      "outputs": [
        {
          "output_type": "stream",
          "name": "stderr",
          "text": [
            "/usr/local/lib/python3.7/dist-packages/ipykernel_launcher.py:2: FutureWarning: Indexing with multiple keys (implicitly converted to a tuple of keys) will be deprecated, use a list instead.\n",
            "  \n",
            "/usr/local/lib/python3.7/dist-packages/ipykernel_launcher.py:3: FutureWarning: Indexing with multiple keys (implicitly converted to a tuple of keys) will be deprecated, use a list instead.\n",
            "  This is separate from the ipykernel package so we can avoid doing imports until\n",
            "/usr/local/lib/python3.7/dist-packages/ipykernel_launcher.py:4: FutureWarning: Indexing with multiple keys (implicitly converted to a tuple of keys) will be deprecated, use a list instead.\n",
            "  after removing the cwd from sys.path.\n"
          ]
        }
      ]
    },
    {
      "cell_type": "code",
      "source": [
        "train_group"
      ],
      "metadata": {
        "colab": {
          "base_uri": "https://localhost:8080/",
          "height": 424
        },
        "id": "ilkCdUU8r6DC",
        "outputId": "c65c3a12-d780-4e06-ada7-e3561ddd5d01"
      },
      "execution_count": 11,
      "outputs": [
        {
          "output_type": "execute_result",
          "data": {
            "text/html": [
              "<div>\n",
              "<style scoped>\n",
              "    .dataframe tbody tr th:only-of-type {\n",
              "        vertical-align: middle;\n",
              "    }\n",
              "\n",
              "    .dataframe tbody tr th {\n",
              "        vertical-align: top;\n",
              "    }\n",
              "\n",
              "    .dataframe thead th {\n",
              "        text-align: right;\n",
              "    }\n",
              "</style>\n",
              "<table border=\"1\" class=\"dataframe\">\n",
              "  <thead>\n",
              "    <tr style=\"text-align: right;\">\n",
              "      <th></th>\n",
              "      <th>sentence #</th>\n",
              "      <th>word</th>\n",
              "      <th>tag</th>\n",
              "      <th>word_idx</th>\n",
              "      <th>tag_idx</th>\n",
              "    </tr>\n",
              "  </thead>\n",
              "  <tbody>\n",
              "    <tr>\n",
              "      <th>0</th>\n",
              "      <td>1</td>\n",
              "      <td>[Berikut, adalah, tujuh, kota, di, Indonesia, ...</td>\n",
              "      <td>[O, O, O, O, O, B-LOC, O, O, O, O, O, O, O]</td>\n",
              "      <td>[7983, 2039, 4980, 41, 4961, 1745, 5214, 5262,...</td>\n",
              "      <td>[0, 0, 0, 0, 0, 6, 0, 0, 0, 0, 0, 0, 0]</td>\n",
              "    </tr>\n",
              "    <tr>\n",
              "      <th>1</th>\n",
              "      <td>2</td>\n",
              "      <td>[Soal, calon, presiden, itu, urusan, nanti, ,,...</td>\n",
              "      <td>[O, O, O, O, O, O, O, O, O, O, O, O, O, O, B-P...</td>\n",
              "      <td>[3711, 8327, 3000, 5216, 4847, 865, 7275, 5214...</td>\n",
              "      <td>[0, 0, 0, 0, 0, 0, 0, 0, 0, 0, 0, 0, 0, 0, 4, ...</td>\n",
              "    </tr>\n",
              "    <tr>\n",
              "      <th>2</th>\n",
              "      <td>3</td>\n",
              "      <td>[Kalau, itu, tanya, PPP, saja, ,, ujar, Nasir,...</td>\n",
              "      <td>[O, O, O, B-ORG, O, O, O, B-PER, O, O, O, O, O...</td>\n",
              "      <td>[5035, 5216, 5722, 7446, 5829, 7275, 5990, 108...</td>\n",
              "      <td>[0, 0, 0, 2, 0, 0, 0, 4, 0, 0, 0, 0, 0, 0, 0, ...</td>\n",
              "    </tr>\n",
              "    <tr>\n",
              "      <th>3</th>\n",
              "      <td>4</td>\n",
              "      <td>[Jokowi, bisa, mengatakan, mencabut, pengaduan...</td>\n",
              "      <td>[B-PER, O, O, O, O, O, O, O, O, O, O]</td>\n",
              "      <td>[8234, 3106, 3220, 2834, 4775, 652, 3257, 2096...</td>\n",
              "      <td>[4, 0, 0, 0, 0, 0, 0, 0, 0, 0, 0]</td>\n",
              "    </tr>\n",
              "    <tr>\n",
              "      <th>4</th>\n",
              "      <td>5</td>\n",
              "      <td>[Akbar, menyebutkan, pemerintahan, Jokowi-JK, ...</td>\n",
              "      <td>[B-PER, O, O, O, O, O, O, O, O, O, O, O, O, O,...</td>\n",
              "      <td>[4662, 5284, 5706, 3052, 6288, 2366, 7513, 268...</td>\n",
              "      <td>[4, 0, 0, 0, 0, 0, 0, 0, 0, 0, 0, 0, 0, 0, 0, ...</td>\n",
              "    </tr>\n",
              "    <tr>\n",
              "      <th>...</th>\n",
              "      <td>...</td>\n",
              "      <td>...</td>\n",
              "      <td>...</td>\n",
              "      <td>...</td>\n",
              "      <td>...</td>\n",
              "    </tr>\n",
              "    <tr>\n",
              "      <th>1459</th>\n",
              "      <td>1460</td>\n",
              "      <td>[Dia, menggantikan, Ian, Campbell, ,, yang, di...</td>\n",
              "      <td>[O, O, B-PER, I-PER, O, O, O, O, O, O, O, O, O...</td>\n",
              "      <td>[7122, 3901, 2733, 1094, 7275, 5214, 5571, 445...</td>\n",
              "      <td>[0, 0, 4, 3, 0, 0, 0, 0, 0, 0, 0, 0, 0, 0, 0, ...</td>\n",
              "    </tr>\n",
              "    <tr>\n",
              "      <th>1460</th>\n",
              "      <td>1461</td>\n",
              "      <td>[Kita, siapkan, strategi, baru, ,, bukan, gant...</td>\n",
              "      <td>[O, O, O, O, O, O, O, O, O, O, O]</td>\n",
              "      <td>[5581, 5206, 2338, 7187, 7275, 3022, 7872, 527...</td>\n",
              "      <td>[0, 0, 0, 0, 0, 0, 0, 0, 0, 0, 0]</td>\n",
              "    </tr>\n",
              "    <tr>\n",
              "      <th>1461</th>\n",
              "      <td>1462</td>\n",
              "      <td>[September, 2007, PTBA, akan, mensosialisasika...</td>\n",
              "      <td>[O, O, B-ORG, O, O, O, O, O, O, O, O, O, O, O,...</td>\n",
              "      <td>[1820, 9, 8170, 607, 1804, 5973, 1372, 2594, 4...</td>\n",
              "      <td>[0, 0, 2, 0, 0, 0, 0, 0, 0, 0, 0, 0, 0, 0, 0, ...</td>\n",
              "    </tr>\n",
              "    <tr>\n",
              "      <th>1462</th>\n",
              "      <td>1463</td>\n",
              "      <td>[Sedang, infeksi, virus, ebola, ini, berlangsu...</td>\n",
              "      <td>[O, O, O, O, O, O, O, O, O, O, O, O, O]</td>\n",
              "      <td>[2118, 8069, 1844, 4255, 452, 3596, 7595, 652,...</td>\n",
              "      <td>[0, 0, 0, 0, 0, 0, 0, 0, 0, 0, 0, 0, 0]</td>\n",
              "    </tr>\n",
              "    <tr>\n",
              "      <th>1463</th>\n",
              "      <td>1464</td>\n",
              "      <td>[Kita, melihat, negara, yang, selama, ini, ber...</td>\n",
              "      <td>[O, O, O, O, O, O, O, O, O, O, O, O, O, O, O, ...</td>\n",
              "      <td>[5581, 5690, 6491, 5214, 6582, 452, 1417, 7275...</td>\n",
              "      <td>[0, 0, 0, 0, 0, 0, 0, 0, 0, 0, 0, 0, 0, 0, 0, ...</td>\n",
              "    </tr>\n",
              "  </tbody>\n",
              "</table>\n",
              "<p>1464 rows × 5 columns</p>\n",
              "</div>"
            ],
            "text/plain": [
              "      sentence #  ...                                            tag_idx\n",
              "0              1  ...            [0, 0, 0, 0, 0, 6, 0, 0, 0, 0, 0, 0, 0]\n",
              "1              2  ...  [0, 0, 0, 0, 0, 0, 0, 0, 0, 0, 0, 0, 0, 0, 4, ...\n",
              "2              3  ...  [0, 0, 0, 2, 0, 0, 0, 4, 0, 0, 0, 0, 0, 0, 0, ...\n",
              "3              4  ...                  [4, 0, 0, 0, 0, 0, 0, 0, 0, 0, 0]\n",
              "4              5  ...  [4, 0, 0, 0, 0, 0, 0, 0, 0, 0, 0, 0, 0, 0, 0, ...\n",
              "...          ...  ...                                                ...\n",
              "1459        1460  ...  [0, 0, 4, 3, 0, 0, 0, 0, 0, 0, 0, 0, 0, 0, 0, ...\n",
              "1460        1461  ...                  [0, 0, 0, 0, 0, 0, 0, 0, 0, 0, 0]\n",
              "1461        1462  ...  [0, 0, 2, 0, 0, 0, 0, 0, 0, 0, 0, 0, 0, 0, 0, ...\n",
              "1462        1463  ...            [0, 0, 0, 0, 0, 0, 0, 0, 0, 0, 0, 0, 0]\n",
              "1463        1464  ...  [0, 0, 0, 0, 0, 0, 0, 0, 0, 0, 0, 0, 0, 0, 0, ...\n",
              "\n",
              "[1464 rows x 5 columns]"
            ]
          },
          "metadata": {},
          "execution_count": 11
        }
      ]
    },
    {
      "cell_type": "code",
      "source": [
        "import numpy as np\n",
        "from sklearn.model_selection import train_test_split\n",
        "from tensorflow.keras.preprocessing.sequence import pad_sequences\n",
        "from tensorflow.keras.utils import to_categorical"
      ],
      "metadata": {
        "id": "fgQH_JYNsEId"
      },
      "execution_count": 12,
      "outputs": []
    },
    {
      "cell_type": "code",
      "source": [
        "def get_pad(dataset_grouped, merged_data, maxlen):\n",
        "\n",
        "    #get max token and tag length\n",
        "    n_token = len(list(set(merged_data['word'].to_list())))\n",
        "    n_tags = len(list(set(merged_data['tag'].to_list())))\n",
        "\n",
        "    #Pad tokens (X var)    \n",
        "    tokens = dataset_grouped['word_idx'].tolist()\n",
        "    # maxlen = max([len(s) for s in tokens])\n",
        "    pad_tokens = pad_sequences(tokens, maxlen=maxlen, dtype='int32', padding='post', value= token2idx[\"ENDPAD\"])\n",
        "\n",
        "    #Pad Tags (y var) and convert it into one hot encoding\n",
        "    tags = dataset_grouped['tag_idx'].tolist()\n",
        "    pad_tags = pad_sequences(tags, maxlen=maxlen, dtype='int32', padding='post', value= tag2idx[\"O\"])\n",
        "    pad_tags = [to_categorical(i, num_classes=n_tags) for i in pad_tags]\n",
        "\n",
        "    return pad_tokens, pad_tags, n_token"
      ],
      "metadata": {
        "id": "YG5P8YnfsI_c"
      },
      "execution_count": 13,
      "outputs": []
    },
    {
      "cell_type": "code",
      "source": [
        "train_tokens, train_tags, n_token = get_pad(train_group, merged_df, 60)\n",
        "test_tokens,  test_tags, _ = get_pad(test_group, merged_df, 60)\n",
        "train_tags = np.array(train_tags)\n",
        "test_tags = np.array(test_tags)\n",
        "print('train_tags: ',train_tags.shape,'test_tags: ',test_tags.shape)"
      ],
      "metadata": {
        "colab": {
          "base_uri": "https://localhost:8080/"
        },
        "id": "VZj3gdKWsTRB",
        "outputId": "fec807a9-c527-4621-ecfa-be09af2976e9"
      },
      "execution_count": 14,
      "outputs": [
        {
          "output_type": "stream",
          "name": "stdout",
          "text": [
            "train_tags:  (1464, 60, 7) test_tags:  (509, 60, 7)\n"
          ]
        }
      ]
    },
    {
      "cell_type": "code",
      "source": [
        "from sklearn.utils import class_weight\n",
        "\n",
        "train_temp_tags = np.ravel(np.argmax(train_tags, axis=-1))\n",
        "print(len(train_temp_tags))"
      ],
      "metadata": {
        "colab": {
          "base_uri": "https://localhost:8080/"
        },
        "id": "qB5QWhibsaZL",
        "outputId": "7a14ddb7-de02-40a7-ff5b-43fe9e988fa7"
      },
      "execution_count": 15,
      "outputs": [
        {
          "output_type": "stream",
          "name": "stdout",
          "text": [
            "87840\n"
          ]
        }
      ]
    },
    {
      "cell_type": "code",
      "source": [
        "class_weights = class_weight.compute_class_weight(\n",
        "    class_weight ='balanced', \n",
        "    classes = np.unique(train_temp_tags), \n",
        "    y = train_temp_tags\n",
        "    )\n",
        "class_weight_dict = dict(enumerate(class_weights))\n",
        "print(class_weight_dict)\n",
        "\n",
        "train_label = np.argmax(train_tags, axis=-1)\n",
        "print(train_tokens.shape)\n",
        "print(train_label.shape)"
      ],
      "metadata": {
        "colab": {
          "base_uri": "https://localhost:8080/"
        },
        "id": "CxdB0FKasezK",
        "outputId": "e129126e-76ab-4fff-9855-3ab554026ebb"
      },
      "execution_count": 16,
      "outputs": [
        {
          "output_type": "stream",
          "name": "stdout",
          "text": [
            "{0: 0.1488172888281994, 1: 48.07881773399015, 2: 17.428571428571427, 3: 25.82010582010582, 4: 14.005102040816327, 5: 21.785714285714285, 6: 21.672834937083643}\n",
            "(1464, 60)\n",
            "(1464, 60)\n"
          ]
        }
      ]
    },
    {
      "cell_type": "code",
      "source": [
        "import numpy as np\n",
        "import tensorflow as tf\n",
        "from tensorflow.keras.models import Sequential, Model\n",
        "from tensorflow.keras.layers import LSTM, Embedding, Dense, TimeDistributed, Dropout, Bidirectional, Input, SpatialDropout1D\n",
        "from tensorflow.keras.utils import plot_model\n",
        "from tensorflow import keras"
      ],
      "metadata": {
        "id": "MNRPqB1sshlO"
      },
      "execution_count": 17,
      "outputs": []
    },
    {
      "cell_type": "code",
      "source": [
        "input_dim = len(token2idx) + 1\n",
        "output_dim = 200\n",
        "input_length = 60\n",
        "n_tags = 7"
      ],
      "metadata": {
        "id": "LifBKL1BskNd"
      },
      "execution_count": 18,
      "outputs": []
    },
    {
      "cell_type": "markdown",
      "source": [
        "Import Glove Model yang sudah dilatih sebelumnya"
      ],
      "metadata": {
        "id": "744ARazxE4Py"
      }
    },
    {
      "cell_type": "code",
      "source": [
        "! pip install glove-python-binary"
      ],
      "metadata": {
        "colab": {
          "base_uri": "https://localhost:8080/"
        },
        "id": "WanySAO5E7pa",
        "outputId": "f2b1e788-4855-4c1a-f3f5-6de66a57c7f0"
      },
      "execution_count": 19,
      "outputs": [
        {
          "output_type": "stream",
          "name": "stdout",
          "text": [
            "Requirement already satisfied: glove-python-binary in /usr/local/lib/python3.7/dist-packages (0.2.0)\n",
            "Requirement already satisfied: scipy in /usr/local/lib/python3.7/dist-packages (from glove-python-binary) (1.4.1)\n",
            "Requirement already satisfied: numpy in /usr/local/lib/python3.7/dist-packages (from glove-python-binary) (1.19.5)\n"
          ]
        }
      ]
    },
    {
      "cell_type": "code",
      "source": [
        "from glove import Corpus, Glove\n",
        "glove_model = Glove.load('/content/drive/MyDrive/Colab Notebooks/FP-DM/models/word_embeddings/glove5_200_100.txt')"
      ],
      "metadata": {
        "id": "vlR4-v7QE-3c"
      },
      "execution_count": 20,
      "outputs": []
    },
    {
      "cell_type": "code",
      "source": [
        "# Get the embedding matrix from Glove Model\n",
        "embedding_matrix = np.zeros((len(token2idx) + 1, 200))\n",
        "for word, i in token2idx.items():\n",
        "  embedding_vector = glove_model.word_vectors[glove_model.dictionary[word]]\n",
        "  if embedding_vector is not None:\n",
        "    embedding_matrix[i] = embedding_vector"
      ],
      "metadata": {
        "id": "CTsVFPsrFPsr"
      },
      "execution_count": 22,
      "outputs": []
    },
    {
      "cell_type": "code",
      "source": [
        "embedding_matrix.shape"
      ],
      "metadata": {
        "colab": {
          "base_uri": "https://localhost:8080/"
        },
        "id": "97OIvqAdFfDE",
        "outputId": "410c09f9-bfab-42c8-b3d6-596559bba7b7"
      },
      "execution_count": 23,
      "outputs": [
        {
          "output_type": "execute_result",
          "data": {
            "text/plain": [
              "(8544, 200)"
            ]
          },
          "metadata": {},
          "execution_count": 23
        }
      ]
    },
    {
      "cell_type": "code",
      "source": [
        "embedding_layer = Embedding(input_dim=input_dim,\n",
        "                            output_dim=output_dim,\n",
        "                            input_length=input_length,\n",
        "                            weights=[embedding_matrix],\n",
        "                            trainable=False)"
      ],
      "metadata": {
        "id": "xbyXwIGAFhMj"
      },
      "execution_count": 24,
      "outputs": []
    },
    {
      "cell_type": "code",
      "source": [
        "def get_lstm_model():\n",
        "    model = Sequential()\n",
        "    model.add(embedding_layer)\n",
        "    model.add(LSTM(units=output_dim, return_sequences=True, dropout=0.5, recurrent_dropout=0.5))\n",
        "    model.add(Dropout(0.5))\n",
        "    model.add(Dense(n_tags, activation=\"softmax\"))\n",
        "\n",
        "    opt = keras.optimizers.Adam(learning_rate=0.01)\n",
        "    model.compile(loss='sparse_categorical_crossentropy', optimizer=opt, metrics=['accuracy'])\n",
        "    model.summary()\n",
        "    \n",
        "    return model"
      ],
      "metadata": {
        "id": "7i7hQTXGsotQ"
      },
      "execution_count": 25,
      "outputs": []
    },
    {
      "cell_type": "code",
      "source": [
        "print(class_weight_dict)\n",
        "sample_weights = np.ones(shape=(len(train_label), train_label.shape[-1]))\n",
        "for i in range(17):\n",
        "    sample_weights[train_label == i] = class_weight_dict.get(i)\n",
        "print(sample_weights.shape)"
      ],
      "metadata": {
        "colab": {
          "base_uri": "https://localhost:8080/"
        },
        "id": "sj4xM5axwlJJ",
        "outputId": "87c709d1-14bb-4215-f940-9c00566f2683"
      },
      "execution_count": 26,
      "outputs": [
        {
          "output_type": "stream",
          "name": "stdout",
          "text": [
            "{0: 0.1488172888281994, 1: 48.07881773399015, 2: 17.428571428571427, 3: 25.82010582010582, 4: 14.005102040816327, 5: 21.785714285714285, 6: 21.672834937083643}\n",
            "(1464, 60)\n"
          ]
        }
      ]
    },
    {
      "cell_type": "code",
      "source": [
        "nlp_model = get_lstm_model()\n",
        "plot_model(nlp_model)\n",
        "his = nlp_model.fit(train_tokens, train_label , batch_size = 64, epochs=25, validation_split=0.2, sample_weight = sample_weights)\n",
        "tf.keras.models.save_model(nlp_model, filepath  = '/content/drive/MyDrive/Colab Notebooks/FP-DM/model/LSTM_glove_200_100.h5')"
      ],
      "metadata": {
        "colab": {
          "base_uri": "https://localhost:8080/"
        },
        "id": "WAFbCjaNwoDL",
        "outputId": "5806fbe2-e7af-43e6-8a87-3aace6f62df0"
      },
      "execution_count": 27,
      "outputs": [
        {
          "output_type": "stream",
          "name": "stdout",
          "text": [
            "Model: \"sequential\"\n",
            "_________________________________________________________________\n",
            " Layer (type)                Output Shape              Param #   \n",
            "=================================================================\n",
            " embedding (Embedding)       (None, 60, 200)           1708800   \n",
            "                                                                 \n",
            " lstm (LSTM)                 (None, 60, 200)           320800    \n",
            "                                                                 \n",
            " dropout (Dropout)           (None, 60, 200)           0         \n",
            "                                                                 \n",
            " dense (Dense)               (None, 60, 7)             1407      \n",
            "                                                                 \n",
            "=================================================================\n",
            "Total params: 2,031,007\n",
            "Trainable params: 322,207\n",
            "Non-trainable params: 1,708,800\n",
            "_________________________________________________________________\n",
            "Epoch 1/25\n",
            "19/19 [==============================] - 12s 475ms/step - loss: 1.4607 - accuracy: 0.6344 - val_loss: 1.1015 - val_accuracy: 0.6994\n",
            "Epoch 2/25\n",
            "19/19 [==============================] - 8s 444ms/step - loss: 1.0612 - accuracy: 0.7445 - val_loss: 0.9431 - val_accuracy: 0.7683\n",
            "Epoch 3/25\n",
            "19/19 [==============================] - 8s 440ms/step - loss: 0.9462 - accuracy: 0.7803 - val_loss: 0.8609 - val_accuracy: 0.7840\n",
            "Epoch 4/25\n",
            "19/19 [==============================] - 8s 446ms/step - loss: 0.8911 - accuracy: 0.7855 - val_loss: 0.8313 - val_accuracy: 0.7836\n",
            "Epoch 5/25\n",
            "19/19 [==============================] - 9s 448ms/step - loss: 0.8387 - accuracy: 0.7971 - val_loss: 0.7976 - val_accuracy: 0.7991\n",
            "Epoch 6/25\n",
            "19/19 [==============================] - 9s 450ms/step - loss: 0.8145 - accuracy: 0.8106 - val_loss: 0.8381 - val_accuracy: 0.7953\n",
            "Epoch 7/25\n",
            "19/19 [==============================] - 9s 451ms/step - loss: 0.7781 - accuracy: 0.8054 - val_loss: 0.7975 - val_accuracy: 0.7974\n",
            "Epoch 8/25\n",
            "19/19 [==============================] - 9s 451ms/step - loss: 0.7456 - accuracy: 0.8156 - val_loss: 0.8028 - val_accuracy: 0.8056\n",
            "Epoch 9/25\n",
            "19/19 [==============================] - 9s 449ms/step - loss: 0.7325 - accuracy: 0.8057 - val_loss: 0.7894 - val_accuracy: 0.8125\n",
            "Epoch 10/25\n",
            "19/19 [==============================] - 9s 454ms/step - loss: 0.7008 - accuracy: 0.8155 - val_loss: 0.7951 - val_accuracy: 0.8057\n",
            "Epoch 11/25\n",
            "19/19 [==============================] - 9s 448ms/step - loss: 0.6907 - accuracy: 0.8157 - val_loss: 0.7976 - val_accuracy: 0.8085\n",
            "Epoch 12/25\n",
            "19/19 [==============================] - 9s 448ms/step - loss: 0.6616 - accuracy: 0.8212 - val_loss: 0.7964 - val_accuracy: 0.8129\n",
            "Epoch 13/25\n",
            "19/19 [==============================] - 8s 447ms/step - loss: 0.6620 - accuracy: 0.8205 - val_loss: 0.8113 - val_accuracy: 0.8080\n",
            "Epoch 14/25\n",
            "19/19 [==============================] - 8s 443ms/step - loss: 0.6152 - accuracy: 0.8162 - val_loss: 0.7832 - val_accuracy: 0.8152\n",
            "Epoch 15/25\n",
            "19/19 [==============================] - 9s 449ms/step - loss: 0.6044 - accuracy: 0.8222 - val_loss: 0.8069 - val_accuracy: 0.8222\n",
            "Epoch 16/25\n",
            "19/19 [==============================] - 9s 454ms/step - loss: 0.5953 - accuracy: 0.8234 - val_loss: 0.7673 - val_accuracy: 0.8181\n",
            "Epoch 17/25\n",
            "19/19 [==============================] - 9s 450ms/step - loss: 0.5607 - accuracy: 0.8251 - val_loss: 0.7866 - val_accuracy: 0.8111\n",
            "Epoch 18/25\n",
            "19/19 [==============================] - 8s 447ms/step - loss: 0.5670 - accuracy: 0.8231 - val_loss: 0.7987 - val_accuracy: 0.8157\n",
            "Epoch 19/25\n",
            "19/19 [==============================] - 8s 445ms/step - loss: 0.5591 - accuracy: 0.8284 - val_loss: 0.7866 - val_accuracy: 0.8346\n",
            "Epoch 20/25\n",
            "19/19 [==============================] - 8s 442ms/step - loss: 0.5352 - accuracy: 0.8259 - val_loss: 0.7981 - val_accuracy: 0.8154\n",
            "Epoch 21/25\n",
            "19/19 [==============================] - 8s 444ms/step - loss: 0.5209 - accuracy: 0.8289 - val_loss: 0.7652 - val_accuracy: 0.8267\n",
            "Epoch 22/25\n",
            "19/19 [==============================] - 8s 443ms/step - loss: 0.5132 - accuracy: 0.8350 - val_loss: 0.8143 - val_accuracy: 0.8373\n",
            "Epoch 23/25\n",
            "19/19 [==============================] - 9s 449ms/step - loss: 0.4991 - accuracy: 0.8381 - val_loss: 0.7981 - val_accuracy: 0.8364\n",
            "Epoch 24/25\n",
            "19/19 [==============================] - 8s 444ms/step - loss: 0.5027 - accuracy: 0.8354 - val_loss: 0.7793 - val_accuracy: 0.8372\n",
            "Epoch 25/25\n",
            "19/19 [==============================] - 8s 447ms/step - loss: 0.4775 - accuracy: 0.8320 - val_loss: 0.7732 - val_accuracy: 0.8283\n"
          ]
        }
      ]
    },
    {
      "cell_type": "code",
      "source": [
        "# Plot results\n",
        "import matplotlib.pyplot as plt\n",
        "\n",
        "accuracy = his.history['accuracy']\n",
        "val_acc = his.history['val_accuracy']\n",
        "loss = his.history['loss']\n",
        "val_loss = his.history['val_loss']\n",
        "\n",
        "epochs = range(1, len(accuracy)+1)\n",
        "\n",
        "plt.plot(epochs, accuracy, 'g', label='Training accuracy')\n",
        "plt.plot(epochs, val_acc, 'r', label='Validation accuracy')\n",
        "plt.title('Training and validation accuracy')\n",
        "plt.legend()\n",
        "\n",
        "plt.figure()\n",
        "\n",
        "plt.plot(epochs, loss, 'g', label='Training loss')\n",
        "plt.plot(epochs, val_loss, 'r', label='Validation loss')\n",
        "plt.title('Training and validation loss')\n",
        "plt.legend()\n",
        "\n",
        "plt.show()"
      ],
      "metadata": {
        "colab": {
          "base_uri": "https://localhost:8080/",
          "height": 545
        },
        "id": "c8-oIbSp81Tu",
        "outputId": "43181cd5-5b66-44a9-e45f-cf88f8038859"
      },
      "execution_count": 28,
      "outputs": [
        {
          "output_type": "display_data",
          "data": {
            "image/png": "[encoded data removed]",
            "text/plain": [
              "<Figure size 432x288 with 1 Axes>"
            ]
          },
          "metadata": {
            "needs_background": "light"
          }
        },
        {
          "output_type": "display_data",
          "data": {
            "image/png": "[encoded data removed]",
            "text/plain": [
              "<Figure size 432x288 with 1 Axes>"
            ]
          },
          "metadata": {
            "needs_background": "light"
          }
        }
      ]
    },
    {
      "cell_type": "code",
      "source": [
        "nlp_model = tf.keras.models.load_model('/content/drive/MyDrive/Colab Notebooks/FP-DM/model/LSTM_glove_200_100.h5')\n",
        "\n",
        "y_test = np.argmax(test_tags, axis=-1)\n",
        "print(test_tokens.shape,y_test.shape)\n",
        "nlp_model.evaluate(test_tokens, y_test)"
      ],
      "metadata": {
        "colab": {
          "base_uri": "https://localhost:8080/"
        },
        "id": "F0bXVaVk8-vd",
        "outputId": "2afa6507-3650-446c-d318-1ffe1778baff"
      },
      "execution_count": 29,
      "outputs": [
        {
          "output_type": "stream",
          "name": "stdout",
          "text": [
            "(509, 60) (509, 60)\n",
            "16/16 [==============================] - 1s 56ms/step - loss: 0.7756 - accuracy: 0.7568\n"
          ]
        },
        {
          "output_type": "execute_result",
          "data": {
            "text/plain": [
              "[0.7756419777870178, 0.7568435072898865]"
            ]
          },
          "metadata": {},
          "execution_count": 29
        }
      ]
    },
    {
      "cell_type": "code",
      "source": [
        "y_pred = nlp_model.predict(test_tokens)\n",
        "y_pred = np.argmax(y_pred, axis= -1)"
      ],
      "metadata": {
        "id": "Uc7T56Tw9NH5"
      },
      "execution_count": 30,
      "outputs": []
    },
    {
      "cell_type": "code",
      "source": [
        "y_test_list = []\n",
        "y_pred_list = []\n",
        "for row in range(0, y_test.shape[0]):\n",
        "  y_pred_list = np.concatenate((y_pred_list, y_pred[row]), axis=0)\n",
        "  y_test_list = np.concatenate((y_test_list, y_test[row]), axis=0)"
      ],
      "metadata": {
        "id": "LsZZp8T19YZ6"
      },
      "execution_count": 31,
      "outputs": []
    },
    {
      "cell_type": "code",
      "source": [
        "data_prediction = pd.DataFrame({'actual_class': y_test_list, 'predicted_class': y_pred_list})\n",
        "data_prediction['actual_class'] = data_prediction['actual_class'].map(idx2tag)\n",
        "data_prediction['predicted_class'] = data_prediction['predicted_class'].map(idx2tag)\n",
        "data_prediction"
      ],
      "metadata": {
        "colab": {
          "base_uri": "https://localhost:8080/",
          "height": 424
        },
        "id": "-fckwrKJ9a5l",
        "outputId": "9d458fd8-465b-4db6-924b-c12f20ba7cd2"
      },
      "execution_count": 32,
      "outputs": [
        {
          "output_type": "execute_result",
          "data": {
            "text/html": [
              "<div>\n",
              "<style scoped>\n",
              "    .dataframe tbody tr th:only-of-type {\n",
              "        vertical-align: middle;\n",
              "    }\n",
              "\n",
              "    .dataframe tbody tr th {\n",
              "        vertical-align: top;\n",
              "    }\n",
              "\n",
              "    .dataframe thead th {\n",
              "        text-align: right;\n",
              "    }\n",
              "</style>\n",
              "<table border=\"1\" class=\"dataframe\">\n",
              "  <thead>\n",
              "    <tr style=\"text-align: right;\">\n",
              "      <th></th>\n",
              "      <th>actual_class</th>\n",
              "      <th>predicted_class</th>\n",
              "    </tr>\n",
              "  </thead>\n",
              "  <tbody>\n",
              "    <tr>\n",
              "      <th>0</th>\n",
              "      <td>O</td>\n",
              "      <td>B-PER</td>\n",
              "    </tr>\n",
              "    <tr>\n",
              "      <th>1</th>\n",
              "      <td>O</td>\n",
              "      <td>B-PER</td>\n",
              "    </tr>\n",
              "    <tr>\n",
              "      <th>2</th>\n",
              "      <td>O</td>\n",
              "      <td>O</td>\n",
              "    </tr>\n",
              "    <tr>\n",
              "      <th>3</th>\n",
              "      <td>O</td>\n",
              "      <td>O</td>\n",
              "    </tr>\n",
              "    <tr>\n",
              "      <th>4</th>\n",
              "      <td>O</td>\n",
              "      <td>B-ORG</td>\n",
              "    </tr>\n",
              "    <tr>\n",
              "      <th>...</th>\n",
              "      <td>...</td>\n",
              "      <td>...</td>\n",
              "    </tr>\n",
              "    <tr>\n",
              "      <th>30535</th>\n",
              "      <td>O</td>\n",
              "      <td>O</td>\n",
              "    </tr>\n",
              "    <tr>\n",
              "      <th>30536</th>\n",
              "      <td>O</td>\n",
              "      <td>O</td>\n",
              "    </tr>\n",
              "    <tr>\n",
              "      <th>30537</th>\n",
              "      <td>O</td>\n",
              "      <td>O</td>\n",
              "    </tr>\n",
              "    <tr>\n",
              "      <th>30538</th>\n",
              "      <td>O</td>\n",
              "      <td>O</td>\n",
              "    </tr>\n",
              "    <tr>\n",
              "      <th>30539</th>\n",
              "      <td>O</td>\n",
              "      <td>O</td>\n",
              "    </tr>\n",
              "  </tbody>\n",
              "</table>\n",
              "<p>30540 rows × 2 columns</p>\n",
              "</div>"
            ],
            "text/plain": [
              "      actual_class predicted_class\n",
              "0                O           B-PER\n",
              "1                O           B-PER\n",
              "2                O               O\n",
              "3                O               O\n",
              "4                O           B-ORG\n",
              "...            ...             ...\n",
              "30535            O               O\n",
              "30536            O               O\n",
              "30537            O               O\n",
              "30538            O               O\n",
              "30539            O               O\n",
              "\n",
              "[30540 rows x 2 columns]"
            ]
          },
          "metadata": {},
          "execution_count": 32
        }
      ]
    },
    {
      "cell_type": "code",
      "source": [
        "confusion_matrix = pd.crosstab(data_prediction['predicted_class'], data_prediction['actual_class'])\n",
        "confusion_matrix"
      ],
      "metadata": {
        "colab": {
          "base_uri": "https://localhost:8080/",
          "height": 300
        },
        "id": "51Elzni_9fKT",
        "outputId": "9fa40620-6ff0-4b85-fab1-7fe9a2a25030"
      },
      "execution_count": 33,
      "outputs": [
        {
          "output_type": "execute_result",
          "data": {
            "text/html": [
              "<div>\n",
              "<style scoped>\n",
              "    .dataframe tbody tr th:only-of-type {\n",
              "        vertical-align: middle;\n",
              "    }\n",
              "\n",
              "    .dataframe tbody tr th {\n",
              "        vertical-align: top;\n",
              "    }\n",
              "\n",
              "    .dataframe thead th {\n",
              "        text-align: right;\n",
              "    }\n",
              "</style>\n",
              "<table border=\"1\" class=\"dataframe\">\n",
              "  <thead>\n",
              "    <tr style=\"text-align: right;\">\n",
              "      <th>actual_class</th>\n",
              "      <th>B-LOC</th>\n",
              "      <th>B-ORG</th>\n",
              "      <th>B-PER</th>\n",
              "      <th>I-LOC</th>\n",
              "      <th>I-ORG</th>\n",
              "      <th>I-PER</th>\n",
              "      <th>O</th>\n",
              "    </tr>\n",
              "    <tr>\n",
              "      <th>predicted_class</th>\n",
              "      <th></th>\n",
              "      <th></th>\n",
              "      <th></th>\n",
              "      <th></th>\n",
              "      <th></th>\n",
              "      <th></th>\n",
              "      <th></th>\n",
              "    </tr>\n",
              "  </thead>\n",
              "  <tbody>\n",
              "    <tr>\n",
              "      <th>B-LOC</th>\n",
              "      <td>210</td>\n",
              "      <td>23</td>\n",
              "      <td>7</td>\n",
              "      <td>6</td>\n",
              "      <td>2</td>\n",
              "      <td>0</td>\n",
              "      <td>448</td>\n",
              "    </tr>\n",
              "    <tr>\n",
              "      <th>B-ORG</th>\n",
              "      <td>11</td>\n",
              "      <td>425</td>\n",
              "      <td>75</td>\n",
              "      <td>3</td>\n",
              "      <td>19</td>\n",
              "      <td>3</td>\n",
              "      <td>2985</td>\n",
              "    </tr>\n",
              "    <tr>\n",
              "      <th>B-PER</th>\n",
              "      <td>14</td>\n",
              "      <td>39</td>\n",
              "      <td>500</td>\n",
              "      <td>4</td>\n",
              "      <td>21</td>\n",
              "      <td>23</td>\n",
              "      <td>1655</td>\n",
              "    </tr>\n",
              "    <tr>\n",
              "      <th>I-LOC</th>\n",
              "      <td>15</td>\n",
              "      <td>3</td>\n",
              "      <td>7</td>\n",
              "      <td>131</td>\n",
              "      <td>11</td>\n",
              "      <td>3</td>\n",
              "      <td>203</td>\n",
              "    </tr>\n",
              "    <tr>\n",
              "      <th>I-ORG</th>\n",
              "      <td>3</td>\n",
              "      <td>41</td>\n",
              "      <td>15</td>\n",
              "      <td>7</td>\n",
              "      <td>284</td>\n",
              "      <td>18</td>\n",
              "      <td>784</td>\n",
              "    </tr>\n",
              "    <tr>\n",
              "      <th>I-PER</th>\n",
              "      <td>0</td>\n",
              "      <td>11</td>\n",
              "      <td>57</td>\n",
              "      <td>8</td>\n",
              "      <td>52</td>\n",
              "      <td>270</td>\n",
              "      <td>725</td>\n",
              "    </tr>\n",
              "    <tr>\n",
              "      <th>O</th>\n",
              "      <td>0</td>\n",
              "      <td>38</td>\n",
              "      <td>59</td>\n",
              "      <td>0</td>\n",
              "      <td>19</td>\n",
              "      <td>9</td>\n",
              "      <td>21294</td>\n",
              "    </tr>\n",
              "  </tbody>\n",
              "</table>\n",
              "</div>"
            ],
            "text/plain": [
              "actual_class     B-LOC  B-ORG  B-PER  I-LOC  I-ORG  I-PER      O\n",
              "predicted_class                                                 \n",
              "B-LOC              210     23      7      6      2      0    448\n",
              "B-ORG               11    425     75      3     19      3   2985\n",
              "B-PER               14     39    500      4     21     23   1655\n",
              "I-LOC               15      3      7    131     11      3    203\n",
              "I-ORG                3     41     15      7    284     18    784\n",
              "I-PER                0     11     57      8     52    270    725\n",
              "O                    0     38     59      0     19      9  21294"
            ]
          },
          "metadata": {},
          "execution_count": 33
        }
      ]
    },
    {
      "cell_type": "code",
      "source": [
        "from sklearn.metrics import classification_report\n",
        "pd.DataFrame(classification_report(data_prediction['actual_class'], data_prediction['predicted_class'], labels=['O', 'I-LOC', 'B-ORG', 'I-PER', 'B-PER', 'I-ORG', 'B-LOC'], output_dict=True)).T"
      ],
      "metadata": {
        "colab": {
          "base_uri": "https://localhost:8080/",
          "height": 363
        },
        "id": "txg37RkYBMq9",
        "outputId": "0fe57fe7-9086-4ec8-8d5e-643f4fc447d6"
      },
      "execution_count": 34,
      "outputs": [
        {
          "output_type": "execute_result",
          "data": {
            "text/html": [
              "<div>\n",
              "<style scoped>\n",
              "    .dataframe tbody tr th:only-of-type {\n",
              "        vertical-align: middle;\n",
              "    }\n",
              "\n",
              "    .dataframe tbody tr th {\n",
              "        vertical-align: top;\n",
              "    }\n",
              "\n",
              "    .dataframe thead th {\n",
              "        text-align: right;\n",
              "    }\n",
              "</style>\n",
              "<table border=\"1\" class=\"dataframe\">\n",
              "  <thead>\n",
              "    <tr style=\"text-align: right;\">\n",
              "      <th></th>\n",
              "      <th>precision</th>\n",
              "      <th>recall</th>\n",
              "      <th>f1-score</th>\n",
              "      <th>support</th>\n",
              "    </tr>\n",
              "  </thead>\n",
              "  <tbody>\n",
              "    <tr>\n",
              "      <th>O</th>\n",
              "      <td>0.994164</td>\n",
              "      <td>0.757955</td>\n",
              "      <td>0.860138</td>\n",
              "      <td>28094.000000</td>\n",
              "    </tr>\n",
              "    <tr>\n",
              "      <th>I-LOC</th>\n",
              "      <td>0.351206</td>\n",
              "      <td>0.823899</td>\n",
              "      <td>0.492481</td>\n",
              "      <td>159.000000</td>\n",
              "    </tr>\n",
              "    <tr>\n",
              "      <th>B-ORG</th>\n",
              "      <td>0.120704</td>\n",
              "      <td>0.732759</td>\n",
              "      <td>0.207267</td>\n",
              "      <td>580.000000</td>\n",
              "    </tr>\n",
              "    <tr>\n",
              "      <th>I-PER</th>\n",
              "      <td>0.240427</td>\n",
              "      <td>0.828221</td>\n",
              "      <td>0.372671</td>\n",
              "      <td>326.000000</td>\n",
              "    </tr>\n",
              "    <tr>\n",
              "      <th>B-PER</th>\n",
              "      <td>0.221631</td>\n",
              "      <td>0.694444</td>\n",
              "      <td>0.336022</td>\n",
              "      <td>720.000000</td>\n",
              "    </tr>\n",
              "    <tr>\n",
              "      <th>I-ORG</th>\n",
              "      <td>0.246528</td>\n",
              "      <td>0.696078</td>\n",
              "      <td>0.364103</td>\n",
              "      <td>408.000000</td>\n",
              "    </tr>\n",
              "    <tr>\n",
              "      <th>B-LOC</th>\n",
              "      <td>0.301724</td>\n",
              "      <td>0.830040</td>\n",
              "      <td>0.442571</td>\n",
              "      <td>253.000000</td>\n",
              "    </tr>\n",
              "    <tr>\n",
              "      <th>accuracy</th>\n",
              "      <td>0.756843</td>\n",
              "      <td>0.756843</td>\n",
              "      <td>0.756843</td>\n",
              "      <td>0.756843</td>\n",
              "    </tr>\n",
              "    <tr>\n",
              "      <th>macro avg</th>\n",
              "      <td>0.353769</td>\n",
              "      <td>0.766200</td>\n",
              "      <td>0.439322</td>\n",
              "      <td>30540.000000</td>\n",
              "    </tr>\n",
              "    <tr>\n",
              "      <th>weighted avg</th>\n",
              "      <td>0.932245</td>\n",
              "      <td>0.756843</td>\n",
              "      <td>0.818179</td>\n",
              "      <td>30540.000000</td>\n",
              "    </tr>\n",
              "  </tbody>\n",
              "</table>\n",
              "</div>"
            ],
            "text/plain": [
              "              precision    recall  f1-score       support\n",
              "O              0.994164  0.757955  0.860138  28094.000000\n",
              "I-LOC          0.351206  0.823899  0.492481    159.000000\n",
              "B-ORG          0.120704  0.732759  0.207267    580.000000\n",
              "I-PER          0.240427  0.828221  0.372671    326.000000\n",
              "B-PER          0.221631  0.694444  0.336022    720.000000\n",
              "I-ORG          0.246528  0.696078  0.364103    408.000000\n",
              "B-LOC          0.301724  0.830040  0.442571    253.000000\n",
              "accuracy       0.756843  0.756843  0.756843      0.756843\n",
              "macro avg      0.353769  0.766200  0.439322  30540.000000\n",
              "weighted avg   0.932245  0.756843  0.818179  30540.000000"
            ]
          },
          "metadata": {},
          "execution_count": 34
        }
      ]
    },
    {
      "cell_type": "markdown",
      "source": [
        "Bagaimana jika data padding diabaikan saat menghitung confusion matrix?"
      ],
      "metadata": {
        "id": "cmFbwc6z-gEk"
      }
    },
    {
      "cell_type": "code",
      "source": [
        "y_pred_list = y_pred.tolist()\n",
        "y_test_list = y_test.tolist()"
      ],
      "metadata": {
        "id": "ZtKm2GgZ-wRz"
      },
      "execution_count": 35,
      "outputs": []
    },
    {
      "cell_type": "code",
      "source": [
        "# Clean the test and pred data from padding data\n",
        "clean_pred = []\n",
        "clean_test = []\n",
        "for row in range(0, test_tokens.shape[0]):\n",
        "  # print(row, test_tokens[row])\n",
        "  pad_list = []\n",
        "  for i in range(0, len(test_tokens[row])):\n",
        "    if(test_tokens[row][i] == token2idx['ENDPAD']):\n",
        "      pad_list.append(i)\n",
        "\n",
        "  pad_list.sort(reverse=True)\n",
        "  for idx in pad_list:\n",
        "  #   clean_pred[row] = clean_pred[row] + np.delete(y_pred[row], idx)\n",
        "  #   clean_test[row] = clean_test[row] + np.delete(y_test[row], idx)\n",
        "    y_pred_list[row].pop(idx)\n",
        "    y_test_list[row].pop(idx)"
      ],
      "metadata": {
        "id": "Ceei5lBx-6l7"
      },
      "execution_count": 36,
      "outputs": []
    },
    {
      "cell_type": "code",
      "source": [
        "y_test_rows = []\n",
        "y_pred_rows = []\n",
        "for row in range(0, y_test.shape[0]):\n",
        "  # y_pred_list = y_pred_list + y_pred[row]\n",
        "  y_test_rows = np.concatenate((y_test_rows, y_test_list[row]), axis=0)\n",
        "  y_pred_rows = np.concatenate((y_pred_rows, y_pred_list[row]), axis=0)"
      ],
      "metadata": {
        "id": "gCZ5QaxW---v"
      },
      "execution_count": 37,
      "outputs": []
    },
    {
      "cell_type": "code",
      "source": [
        "data_prediction = pd.DataFrame({'actual_class': y_test_rows, 'predicted_class': y_pred_rows})\n",
        "data_prediction['actual_class'] = data_prediction['actual_class'].map(idx2tag)\n",
        "data_prediction['predicted_class'] = data_prediction['predicted_class'].map(idx2tag)\n",
        "data_prediction"
      ],
      "metadata": {
        "colab": {
          "base_uri": "https://localhost:8080/",
          "height": 424
        },
        "id": "YiRWeaZX_KMN",
        "outputId": "b5e67cd9-cb61-43ba-c237-ff8c3cf4cb5c"
      },
      "execution_count": 38,
      "outputs": [
        {
          "output_type": "execute_result",
          "data": {
            "text/html": [
              "<div>\n",
              "<style scoped>\n",
              "    .dataframe tbody tr th:only-of-type {\n",
              "        vertical-align: middle;\n",
              "    }\n",
              "\n",
              "    .dataframe tbody tr th {\n",
              "        vertical-align: top;\n",
              "    }\n",
              "\n",
              "    .dataframe thead th {\n",
              "        text-align: right;\n",
              "    }\n",
              "</style>\n",
              "<table border=\"1\" class=\"dataframe\">\n",
              "  <thead>\n",
              "    <tr style=\"text-align: right;\">\n",
              "      <th></th>\n",
              "      <th>actual_class</th>\n",
              "      <th>predicted_class</th>\n",
              "    </tr>\n",
              "  </thead>\n",
              "  <tbody>\n",
              "    <tr>\n",
              "      <th>0</th>\n",
              "      <td>O</td>\n",
              "      <td>B-PER</td>\n",
              "    </tr>\n",
              "    <tr>\n",
              "      <th>1</th>\n",
              "      <td>O</td>\n",
              "      <td>B-PER</td>\n",
              "    </tr>\n",
              "    <tr>\n",
              "      <th>2</th>\n",
              "      <td>O</td>\n",
              "      <td>O</td>\n",
              "    </tr>\n",
              "    <tr>\n",
              "      <th>3</th>\n",
              "      <td>O</td>\n",
              "      <td>O</td>\n",
              "    </tr>\n",
              "    <tr>\n",
              "      <th>4</th>\n",
              "      <td>O</td>\n",
              "      <td>B-ORG</td>\n",
              "    </tr>\n",
              "    <tr>\n",
              "      <th>...</th>\n",
              "      <td>...</td>\n",
              "      <td>...</td>\n",
              "    </tr>\n",
              "    <tr>\n",
              "      <th>17985</th>\n",
              "      <td>O</td>\n",
              "      <td>B-ORG</td>\n",
              "    </tr>\n",
              "    <tr>\n",
              "      <th>17986</th>\n",
              "      <td>O</td>\n",
              "      <td>I-ORG</td>\n",
              "    </tr>\n",
              "    <tr>\n",
              "      <th>17987</th>\n",
              "      <td>O</td>\n",
              "      <td>O</td>\n",
              "    </tr>\n",
              "    <tr>\n",
              "      <th>17988</th>\n",
              "      <td>O</td>\n",
              "      <td>O</td>\n",
              "    </tr>\n",
              "    <tr>\n",
              "      <th>17989</th>\n",
              "      <td>O</td>\n",
              "      <td>O</td>\n",
              "    </tr>\n",
              "  </tbody>\n",
              "</table>\n",
              "<p>17990 rows × 2 columns</p>\n",
              "</div>"
            ],
            "text/plain": [
              "      actual_class predicted_class\n",
              "0                O           B-PER\n",
              "1                O           B-PER\n",
              "2                O               O\n",
              "3                O               O\n",
              "4                O           B-ORG\n",
              "...            ...             ...\n",
              "17985            O           B-ORG\n",
              "17986            O           I-ORG\n",
              "17987            O               O\n",
              "17988            O               O\n",
              "17989            O               O\n",
              "\n",
              "[17990 rows x 2 columns]"
            ]
          },
          "metadata": {},
          "execution_count": 38
        }
      ]
    },
    {
      "cell_type": "code",
      "source": [
        "confusion_matrix = pd.crosstab(data_prediction['predicted_class'], data_prediction['actual_class'])\n",
        "confusion_matrix"
      ],
      "metadata": {
        "colab": {
          "base_uri": "https://localhost:8080/",
          "height": 300
        },
        "id": "4dhCSILe_Pbj",
        "outputId": "a9439bb8-5537-4f57-9519-4e2151390cdb"
      },
      "execution_count": 39,
      "outputs": [
        {
          "output_type": "execute_result",
          "data": {
            "text/html": [
              "<div>\n",
              "<style scoped>\n",
              "    .dataframe tbody tr th:only-of-type {\n",
              "        vertical-align: middle;\n",
              "    }\n",
              "\n",
              "    .dataframe tbody tr th {\n",
              "        vertical-align: top;\n",
              "    }\n",
              "\n",
              "    .dataframe thead th {\n",
              "        text-align: right;\n",
              "    }\n",
              "</style>\n",
              "<table border=\"1\" class=\"dataframe\">\n",
              "  <thead>\n",
              "    <tr style=\"text-align: right;\">\n",
              "      <th>actual_class</th>\n",
              "      <th>B-LOC</th>\n",
              "      <th>B-ORG</th>\n",
              "      <th>B-PER</th>\n",
              "      <th>I-LOC</th>\n",
              "      <th>I-ORG</th>\n",
              "      <th>I-PER</th>\n",
              "      <th>O</th>\n",
              "    </tr>\n",
              "    <tr>\n",
              "      <th>predicted_class</th>\n",
              "      <th></th>\n",
              "      <th></th>\n",
              "      <th></th>\n",
              "      <th></th>\n",
              "      <th></th>\n",
              "      <th></th>\n",
              "      <th></th>\n",
              "    </tr>\n",
              "  </thead>\n",
              "  <tbody>\n",
              "    <tr>\n",
              "      <th>B-LOC</th>\n",
              "      <td>210</td>\n",
              "      <td>23</td>\n",
              "      <td>7</td>\n",
              "      <td>6</td>\n",
              "      <td>2</td>\n",
              "      <td>0</td>\n",
              "      <td>448</td>\n",
              "    </tr>\n",
              "    <tr>\n",
              "      <th>B-ORG</th>\n",
              "      <td>11</td>\n",
              "      <td>425</td>\n",
              "      <td>75</td>\n",
              "      <td>3</td>\n",
              "      <td>19</td>\n",
              "      <td>3</td>\n",
              "      <td>2985</td>\n",
              "    </tr>\n",
              "    <tr>\n",
              "      <th>B-PER</th>\n",
              "      <td>14</td>\n",
              "      <td>39</td>\n",
              "      <td>500</td>\n",
              "      <td>4</td>\n",
              "      <td>21</td>\n",
              "      <td>23</td>\n",
              "      <td>1654</td>\n",
              "    </tr>\n",
              "    <tr>\n",
              "      <th>I-LOC</th>\n",
              "      <td>15</td>\n",
              "      <td>3</td>\n",
              "      <td>7</td>\n",
              "      <td>131</td>\n",
              "      <td>11</td>\n",
              "      <td>3</td>\n",
              "      <td>203</td>\n",
              "    </tr>\n",
              "    <tr>\n",
              "      <th>I-ORG</th>\n",
              "      <td>3</td>\n",
              "      <td>41</td>\n",
              "      <td>15</td>\n",
              "      <td>7</td>\n",
              "      <td>284</td>\n",
              "      <td>18</td>\n",
              "      <td>784</td>\n",
              "    </tr>\n",
              "    <tr>\n",
              "      <th>I-PER</th>\n",
              "      <td>0</td>\n",
              "      <td>11</td>\n",
              "      <td>57</td>\n",
              "      <td>8</td>\n",
              "      <td>52</td>\n",
              "      <td>270</td>\n",
              "      <td>713</td>\n",
              "    </tr>\n",
              "    <tr>\n",
              "      <th>O</th>\n",
              "      <td>0</td>\n",
              "      <td>38</td>\n",
              "      <td>59</td>\n",
              "      <td>0</td>\n",
              "      <td>19</td>\n",
              "      <td>9</td>\n",
              "      <td>8757</td>\n",
              "    </tr>\n",
              "  </tbody>\n",
              "</table>\n",
              "</div>"
            ],
            "text/plain": [
              "actual_class     B-LOC  B-ORG  B-PER  I-LOC  I-ORG  I-PER     O\n",
              "predicted_class                                                \n",
              "B-LOC              210     23      7      6      2      0   448\n",
              "B-ORG               11    425     75      3     19      3  2985\n",
              "B-PER               14     39    500      4     21     23  1654\n",
              "I-LOC               15      3      7    131     11      3   203\n",
              "I-ORG                3     41     15      7    284     18   784\n",
              "I-PER                0     11     57      8     52    270   713\n",
              "O                    0     38     59      0     19      9  8757"
            ]
          },
          "metadata": {},
          "execution_count": 39
        }
      ]
    },
    {
      "cell_type": "code",
      "source": [
        "pd.DataFrame(classification_report(data_prediction['actual_class'], data_prediction['predicted_class'], labels=['O', 'I-LOC', 'B-ORG', 'I-PER', 'B-PER', 'I-ORG', 'B-LOC'], output_dict=True)).T"
      ],
      "metadata": {
        "colab": {
          "base_uri": "https://localhost:8080/",
          "height": 363
        },
        "id": "bFITKrHM_TBV",
        "outputId": "015246b5-28a7-43d2-94e7-545c78d7b7b3"
      },
      "execution_count": 40,
      "outputs": [
        {
          "output_type": "execute_result",
          "data": {
            "text/html": [
              "<div>\n",
              "<style scoped>\n",
              "    .dataframe tbody tr th:only-of-type {\n",
              "        vertical-align: middle;\n",
              "    }\n",
              "\n",
              "    .dataframe tbody tr th {\n",
              "        vertical-align: top;\n",
              "    }\n",
              "\n",
              "    .dataframe thead th {\n",
              "        text-align: right;\n",
              "    }\n",
              "</style>\n",
              "<table border=\"1\" class=\"dataframe\">\n",
              "  <thead>\n",
              "    <tr style=\"text-align: right;\">\n",
              "      <th></th>\n",
              "      <th>precision</th>\n",
              "      <th>recall</th>\n",
              "      <th>f1-score</th>\n",
              "      <th>support</th>\n",
              "    </tr>\n",
              "  </thead>\n",
              "  <tbody>\n",
              "    <tr>\n",
              "      <th>O</th>\n",
              "      <td>0.985927</td>\n",
              "      <td>0.563369</td>\n",
              "      <td>0.717023</td>\n",
              "      <td>15544.000000</td>\n",
              "    </tr>\n",
              "    <tr>\n",
              "      <th>I-LOC</th>\n",
              "      <td>0.351206</td>\n",
              "      <td>0.823899</td>\n",
              "      <td>0.492481</td>\n",
              "      <td>159.000000</td>\n",
              "    </tr>\n",
              "    <tr>\n",
              "      <th>B-ORG</th>\n",
              "      <td>0.120704</td>\n",
              "      <td>0.732759</td>\n",
              "      <td>0.207267</td>\n",
              "      <td>580.000000</td>\n",
              "    </tr>\n",
              "    <tr>\n",
              "      <th>I-PER</th>\n",
              "      <td>0.243024</td>\n",
              "      <td>0.828221</td>\n",
              "      <td>0.375783</td>\n",
              "      <td>326.000000</td>\n",
              "    </tr>\n",
              "    <tr>\n",
              "      <th>B-PER</th>\n",
              "      <td>0.221729</td>\n",
              "      <td>0.694444</td>\n",
              "      <td>0.336134</td>\n",
              "      <td>720.000000</td>\n",
              "    </tr>\n",
              "    <tr>\n",
              "      <th>I-ORG</th>\n",
              "      <td>0.246528</td>\n",
              "      <td>0.696078</td>\n",
              "      <td>0.364103</td>\n",
              "      <td>408.000000</td>\n",
              "    </tr>\n",
              "    <tr>\n",
              "      <th>B-LOC</th>\n",
              "      <td>0.301724</td>\n",
              "      <td>0.830040</td>\n",
              "      <td>0.442571</td>\n",
              "      <td>253.000000</td>\n",
              "    </tr>\n",
              "    <tr>\n",
              "      <th>accuracy</th>\n",
              "      <td>0.587938</td>\n",
              "      <td>0.587938</td>\n",
              "      <td>0.587938</td>\n",
              "      <td>0.587938</td>\n",
              "    </tr>\n",
              "    <tr>\n",
              "      <th>macro avg</th>\n",
              "      <td>0.352978</td>\n",
              "      <td>0.738401</td>\n",
              "      <td>0.419337</td>\n",
              "      <td>17990.000000</td>\n",
              "    </tr>\n",
              "    <tr>\n",
              "      <th>weighted avg</th>\n",
              "      <td>0.881984</td>\n",
              "      <td>0.587938</td>\n",
              "      <td>0.665312</td>\n",
              "      <td>17990.000000</td>\n",
              "    </tr>\n",
              "  </tbody>\n",
              "</table>\n",
              "</div>"
            ],
            "text/plain": [
              "              precision    recall  f1-score       support\n",
              "O              0.985927  0.563369  0.717023  15544.000000\n",
              "I-LOC          0.351206  0.823899  0.492481    159.000000\n",
              "B-ORG          0.120704  0.732759  0.207267    580.000000\n",
              "I-PER          0.243024  0.828221  0.375783    326.000000\n",
              "B-PER          0.221729  0.694444  0.336134    720.000000\n",
              "I-ORG          0.246528  0.696078  0.364103    408.000000\n",
              "B-LOC          0.301724  0.830040  0.442571    253.000000\n",
              "accuracy       0.587938  0.587938  0.587938      0.587938\n",
              "macro avg      0.352978  0.738401  0.419337  17990.000000\n",
              "weighted avg   0.881984  0.587938  0.665312  17990.000000"
            ]
          },
          "metadata": {},
          "execution_count": 40
        }
      ]
    }
  ]
}