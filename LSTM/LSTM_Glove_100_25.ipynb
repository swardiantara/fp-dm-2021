{
  "nbformat": 4,
  "nbformat_minor": 0,
  "metadata": {
    "colab": {
      "name": "LSTM_Glove_100_25.ipynb",
      "provenance": [],
      "collapsed_sections": []
    },
    "kernelspec": {
      "name": "python3",
      "display_name": "Python 3"
    },
    "language_info": {
      "name": "python"
    }
  },
  "cells": [
    {
      "cell_type": "code",
      "execution_count": 1,
      "metadata": {
        "id": "VpIurlx3Z7tE"
      },
      "outputs": [],
      "source": [
        "import numpy as np\n",
        "import pandas as pd"
      ]
    },
    {
      "cell_type": "code",
      "source": [
        "#Mount the G Drive to access the data set\n",
        "from google.colab import drive\n",
        "drive.mount('/content/drive', force_remount=True)"
      ],
      "metadata": {
        "colab": {
          "base_uri": "https://localhost:8080/"
        },
        "id": "jzE0y3-7qeIh",
        "outputId": "e3e3f386-fafc-41e8-9228-98956368b08d"
      },
      "execution_count": 2,
      "outputs": [
        {
          "output_type": "stream",
          "name": "stdout",
          "text": [
            "Mounted at /content/drive\n"
          ]
        }
      ]
    },
    {
      "cell_type": "code",
      "source": [
        "train_path = '/content/drive/MyDrive/Colab Notebooks/FP-DM/dataset/train_baseline_fix_index.csv'\n",
        "test_path = '/content/drive/MyDrive/Colab Notebooks/FP-DM/dataset/test_baseline_fix_index.csv'\n",
        "train_df = pd.read_csv(train_path, encoding= 'unicode_escape')\n",
        "test_df = pd.read_csv(test_path, encoding= 'unicode_escape')\n",
        "merged_df = train_df.append([test_df])"
      ],
      "metadata": {
        "id": "DlFSVQRTq1Fh"
      },
      "execution_count": 3,
      "outputs": []
    },
    {
      "cell_type": "code",
      "source": [
        "train_df.drop(['Unnamed: 0'], inplace=True, axis=1)\n",
        "train_df"
      ],
      "metadata": {
        "colab": {
          "base_uri": "https://localhost:8080/",
          "height": 424
        },
        "id": "0BaKyIlmrRO4",
        "outputId": "b16c9f42-793f-40dd-b69d-15b8fa0a912c"
      },
      "execution_count": 4,
      "outputs": [
        {
          "output_type": "execute_result",
          "data": {
            "text/html": [
              "<div>\n",
              "<style scoped>\n",
              "    .dataframe tbody tr th:only-of-type {\n",
              "        vertical-align: middle;\n",
              "    }\n",
              "\n",
              "    .dataframe tbody tr th {\n",
              "        vertical-align: top;\n",
              "    }\n",
              "\n",
              "    .dataframe thead th {\n",
              "        text-align: right;\n",
              "    }\n",
              "</style>\n",
              "<table border=\"1\" class=\"dataframe\">\n",
              "  <thead>\n",
              "    <tr style=\"text-align: right;\">\n",
              "      <th></th>\n",
              "      <th>sentence #</th>\n",
              "      <th>word</th>\n",
              "      <th>tag</th>\n",
              "      <th>word_idx</th>\n",
              "      <th>tag_idx</th>\n",
              "    </tr>\n",
              "  </thead>\n",
              "  <tbody>\n",
              "    <tr>\n",
              "      <th>0</th>\n",
              "      <td>1</td>\n",
              "      <td>Berikut</td>\n",
              "      <td>O</td>\n",
              "      <td>7983</td>\n",
              "      <td>0</td>\n",
              "    </tr>\n",
              "    <tr>\n",
              "      <th>1</th>\n",
              "      <td>1</td>\n",
              "      <td>adalah</td>\n",
              "      <td>O</td>\n",
              "      <td>2039</td>\n",
              "      <td>0</td>\n",
              "    </tr>\n",
              "    <tr>\n",
              "      <th>2</th>\n",
              "      <td>1</td>\n",
              "      <td>tujuh</td>\n",
              "      <td>O</td>\n",
              "      <td>4980</td>\n",
              "      <td>0</td>\n",
              "    </tr>\n",
              "    <tr>\n",
              "      <th>3</th>\n",
              "      <td>1</td>\n",
              "      <td>kota</td>\n",
              "      <td>O</td>\n",
              "      <td>41</td>\n",
              "      <td>0</td>\n",
              "    </tr>\n",
              "    <tr>\n",
              "      <th>4</th>\n",
              "      <td>1</td>\n",
              "      <td>di</td>\n",
              "      <td>O</td>\n",
              "      <td>4961</td>\n",
              "      <td>0</td>\n",
              "    </tr>\n",
              "    <tr>\n",
              "      <th>...</th>\n",
              "      <td>...</td>\n",
              "      <td>...</td>\n",
              "      <td>...</td>\n",
              "      <td>...</td>\n",
              "      <td>...</td>\n",
              "    </tr>\n",
              "    <tr>\n",
              "      <th>30243</th>\n",
              "      <td>1464</td>\n",
              "      <td>kita</td>\n",
              "      <td>O</td>\n",
              "      <td>4705</td>\n",
              "      <td>0</td>\n",
              "    </tr>\n",
              "    <tr>\n",
              "      <th>30244</th>\n",
              "      <td>1464</td>\n",
              "      <td>,</td>\n",
              "      <td>O</td>\n",
              "      <td>7275</td>\n",
              "      <td>0</td>\n",
              "    </tr>\n",
              "    <tr>\n",
              "      <th>30245</th>\n",
              "      <td>1464</td>\n",
              "      <td>ucap</td>\n",
              "      <td>O</td>\n",
              "      <td>7791</td>\n",
              "      <td>0</td>\n",
              "    </tr>\n",
              "    <tr>\n",
              "      <th>30246</th>\n",
              "      <td>1464</td>\n",
              "      <td>Fadli</td>\n",
              "      <td>B-PER</td>\n",
              "      <td>855</td>\n",
              "      <td>4</td>\n",
              "    </tr>\n",
              "    <tr>\n",
              "      <th>30247</th>\n",
              "      <td>1464</td>\n",
              "      <td>.</td>\n",
              "      <td>O</td>\n",
              "      <td>6215</td>\n",
              "      <td>0</td>\n",
              "    </tr>\n",
              "  </tbody>\n",
              "</table>\n",
              "<p>30248 rows × 5 columns</p>\n",
              "</div>"
            ],
            "text/plain": [
              "       sentence #     word    tag  word_idx  tag_idx\n",
              "0               1  Berikut      O      7983        0\n",
              "1               1   adalah      O      2039        0\n",
              "2               1    tujuh      O      4980        0\n",
              "3               1     kota      O        41        0\n",
              "4               1       di      O      4961        0\n",
              "...           ...      ...    ...       ...      ...\n",
              "30243        1464     kita      O      4705        0\n",
              "30244        1464        ,      O      7275        0\n",
              "30245        1464     ucap      O      7791        0\n",
              "30246        1464    Fadli  B-PER       855        4\n",
              "30247        1464        .      O      6215        0\n",
              "\n",
              "[30248 rows x 5 columns]"
            ]
          },
          "metadata": {},
          "execution_count": 4
        }
      ]
    },
    {
      "cell_type": "code",
      "source": [
        "test_df.drop(['Unnamed: 0'], inplace=True, axis=1)\n",
        "test_df"
      ],
      "metadata": {
        "colab": {
          "base_uri": "https://localhost:8080/",
          "height": 424
        },
        "id": "bing0rhHraWE",
        "outputId": "3510f4c0-bf55-4bab-be8c-7b6d094456f2"
      },
      "execution_count": 5,
      "outputs": [
        {
          "output_type": "execute_result",
          "data": {
            "text/html": [
              "<div>\n",
              "<style scoped>\n",
              "    .dataframe tbody tr th:only-of-type {\n",
              "        vertical-align: middle;\n",
              "    }\n",
              "\n",
              "    .dataframe tbody tr th {\n",
              "        vertical-align: top;\n",
              "    }\n",
              "\n",
              "    .dataframe thead th {\n",
              "        text-align: right;\n",
              "    }\n",
              "</style>\n",
              "<table border=\"1\" class=\"dataframe\">\n",
              "  <thead>\n",
              "    <tr style=\"text-align: right;\">\n",
              "      <th></th>\n",
              "      <th>sentence #</th>\n",
              "      <th>word</th>\n",
              "      <th>tag</th>\n",
              "      <th>word_idx</th>\n",
              "      <th>tag_idx</th>\n",
              "    </tr>\n",
              "  </thead>\n",
              "  <tbody>\n",
              "    <tr>\n",
              "      <th>0</th>\n",
              "      <td>1</td>\n",
              "      <td>Meski</td>\n",
              "      <td>O</td>\n",
              "      <td>4549</td>\n",
              "      <td>0</td>\n",
              "    </tr>\n",
              "    <tr>\n",
              "      <th>1</th>\n",
              "      <td>1</td>\n",
              "      <td>demikian</td>\n",
              "      <td>O</td>\n",
              "      <td>4487</td>\n",
              "      <td>0</td>\n",
              "    </tr>\n",
              "    <tr>\n",
              "      <th>2</th>\n",
              "      <td>1</td>\n",
              "      <td>,</td>\n",
              "      <td>O</td>\n",
              "      <td>7275</td>\n",
              "      <td>0</td>\n",
              "    </tr>\n",
              "    <tr>\n",
              "      <th>3</th>\n",
              "      <td>1</td>\n",
              "      <td>ia</td>\n",
              "      <td>O</td>\n",
              "      <td>5670</td>\n",
              "      <td>0</td>\n",
              "    </tr>\n",
              "    <tr>\n",
              "      <th>4</th>\n",
              "      <td>1</td>\n",
              "      <td>menegaskan</td>\n",
              "      <td>O</td>\n",
              "      <td>5148</td>\n",
              "      <td>0</td>\n",
              "    </tr>\n",
              "    <tr>\n",
              "      <th>...</th>\n",
              "      <td>...</td>\n",
              "      <td>...</td>\n",
              "      <td>...</td>\n",
              "      <td>...</td>\n",
              "      <td>...</td>\n",
              "    </tr>\n",
              "    <tr>\n",
              "      <th>18446</th>\n",
              "      <td>509</td>\n",
              "      <td>keluarga</td>\n",
              "      <td>O</td>\n",
              "      <td>3747</td>\n",
              "      <td>0</td>\n",
              "    </tr>\n",
              "    <tr>\n",
              "      <th>18447</th>\n",
              "      <td>509</td>\n",
              "      <td>-lah</td>\n",
              "      <td>O</td>\n",
              "      <td>2169</td>\n",
              "      <td>0</td>\n",
              "    </tr>\n",
              "    <tr>\n",
              "      <th>18448</th>\n",
              "      <td>509</td>\n",
              "      <td>,</td>\n",
              "      <td>O</td>\n",
              "      <td>7275</td>\n",
              "      <td>0</td>\n",
              "    </tr>\n",
              "    <tr>\n",
              "      <th>18449</th>\n",
              "      <td>509</td>\n",
              "      <td>ujarnya</td>\n",
              "      <td>O</td>\n",
              "      <td>3526</td>\n",
              "      <td>0</td>\n",
              "    </tr>\n",
              "    <tr>\n",
              "      <th>18450</th>\n",
              "      <td>509</td>\n",
              "      <td>.</td>\n",
              "      <td>O</td>\n",
              "      <td>6215</td>\n",
              "      <td>0</td>\n",
              "    </tr>\n",
              "  </tbody>\n",
              "</table>\n",
              "<p>18451 rows × 5 columns</p>\n",
              "</div>"
            ],
            "text/plain": [
              "       sentence #        word tag  word_idx  tag_idx\n",
              "0               1       Meski   O      4549        0\n",
              "1               1    demikian   O      4487        0\n",
              "2               1           ,   O      7275        0\n",
              "3               1          ia   O      5670        0\n",
              "4               1  menegaskan   O      5148        0\n",
              "...           ...         ...  ..       ...      ...\n",
              "18446         509    keluarga   O      3747        0\n",
              "18447         509        -lah   O      2169        0\n",
              "18448         509           ,   O      7275        0\n",
              "18449         509     ujarnya   O      3526        0\n",
              "18450         509           .   O      6215        0\n",
              "\n",
              "[18451 rows x 5 columns]"
            ]
          },
          "metadata": {},
          "execution_count": 5
        }
      ]
    },
    {
      "cell_type": "code",
      "source": [
        "merged_df.drop(['Unnamed: 0'], inplace=True, axis=1)\n",
        "merged_df"
      ],
      "metadata": {
        "colab": {
          "base_uri": "https://localhost:8080/",
          "height": 424
        },
        "id": "wGzDcpkCrcl8",
        "outputId": "e4aae20d-a795-452c-b52b-86650d13a1de"
      },
      "execution_count": 6,
      "outputs": [
        {
          "output_type": "execute_result",
          "data": {
            "text/html": [
              "<div>\n",
              "<style scoped>\n",
              "    .dataframe tbody tr th:only-of-type {\n",
              "        vertical-align: middle;\n",
              "    }\n",
              "\n",
              "    .dataframe tbody tr th {\n",
              "        vertical-align: top;\n",
              "    }\n",
              "\n",
              "    .dataframe thead th {\n",
              "        text-align: right;\n",
              "    }\n",
              "</style>\n",
              "<table border=\"1\" class=\"dataframe\">\n",
              "  <thead>\n",
              "    <tr style=\"text-align: right;\">\n",
              "      <th></th>\n",
              "      <th>sentence #</th>\n",
              "      <th>word</th>\n",
              "      <th>tag</th>\n",
              "      <th>word_idx</th>\n",
              "      <th>tag_idx</th>\n",
              "    </tr>\n",
              "  </thead>\n",
              "  <tbody>\n",
              "    <tr>\n",
              "      <th>0</th>\n",
              "      <td>1</td>\n",
              "      <td>Berikut</td>\n",
              "      <td>O</td>\n",
              "      <td>7983</td>\n",
              "      <td>0</td>\n",
              "    </tr>\n",
              "    <tr>\n",
              "      <th>1</th>\n",
              "      <td>1</td>\n",
              "      <td>adalah</td>\n",
              "      <td>O</td>\n",
              "      <td>2039</td>\n",
              "      <td>0</td>\n",
              "    </tr>\n",
              "    <tr>\n",
              "      <th>2</th>\n",
              "      <td>1</td>\n",
              "      <td>tujuh</td>\n",
              "      <td>O</td>\n",
              "      <td>4980</td>\n",
              "      <td>0</td>\n",
              "    </tr>\n",
              "    <tr>\n",
              "      <th>3</th>\n",
              "      <td>1</td>\n",
              "      <td>kota</td>\n",
              "      <td>O</td>\n",
              "      <td>41</td>\n",
              "      <td>0</td>\n",
              "    </tr>\n",
              "    <tr>\n",
              "      <th>4</th>\n",
              "      <td>1</td>\n",
              "      <td>di</td>\n",
              "      <td>O</td>\n",
              "      <td>4961</td>\n",
              "      <td>0</td>\n",
              "    </tr>\n",
              "    <tr>\n",
              "      <th>...</th>\n",
              "      <td>...</td>\n",
              "      <td>...</td>\n",
              "      <td>...</td>\n",
              "      <td>...</td>\n",
              "      <td>...</td>\n",
              "    </tr>\n",
              "    <tr>\n",
              "      <th>18446</th>\n",
              "      <td>509</td>\n",
              "      <td>keluarga</td>\n",
              "      <td>O</td>\n",
              "      <td>3747</td>\n",
              "      <td>0</td>\n",
              "    </tr>\n",
              "    <tr>\n",
              "      <th>18447</th>\n",
              "      <td>509</td>\n",
              "      <td>-lah</td>\n",
              "      <td>O</td>\n",
              "      <td>2169</td>\n",
              "      <td>0</td>\n",
              "    </tr>\n",
              "    <tr>\n",
              "      <th>18448</th>\n",
              "      <td>509</td>\n",
              "      <td>,</td>\n",
              "      <td>O</td>\n",
              "      <td>7275</td>\n",
              "      <td>0</td>\n",
              "    </tr>\n",
              "    <tr>\n",
              "      <th>18449</th>\n",
              "      <td>509</td>\n",
              "      <td>ujarnya</td>\n",
              "      <td>O</td>\n",
              "      <td>3526</td>\n",
              "      <td>0</td>\n",
              "    </tr>\n",
              "    <tr>\n",
              "      <th>18450</th>\n",
              "      <td>509</td>\n",
              "      <td>.</td>\n",
              "      <td>O</td>\n",
              "      <td>6215</td>\n",
              "      <td>0</td>\n",
              "    </tr>\n",
              "  </tbody>\n",
              "</table>\n",
              "<p>48699 rows × 5 columns</p>\n",
              "</div>"
            ],
            "text/plain": [
              "       sentence #      word tag  word_idx  tag_idx\n",
              "0               1   Berikut   O      7983        0\n",
              "1               1    adalah   O      2039        0\n",
              "2               1     tujuh   O      4980        0\n",
              "3               1      kota   O        41        0\n",
              "4               1        di   O      4961        0\n",
              "...           ...       ...  ..       ...      ...\n",
              "18446         509  keluarga   O      3747        0\n",
              "18447         509      -lah   O      2169        0\n",
              "18448         509         ,   O      7275        0\n",
              "18449         509   ujarnya   O      3526        0\n",
              "18450         509         .   O      6215        0\n",
              "\n",
              "[48699 rows x 5 columns]"
            ]
          },
          "metadata": {},
          "execution_count": 6
        }
      ]
    },
    {
      "cell_type": "code",
      "source": [
        "# importing the module\n",
        "import json\n",
        " \n",
        "# Opening JSON file\n",
        "def loadJSON(filename):\n",
        "  data = {}\n",
        "  with open(filename) as json_file:\n",
        "      data = json.load(json_file)\n",
        "  return data"
      ],
      "metadata": {
        "id": "tKhofdHjrf6C"
      },
      "execution_count": 7,
      "outputs": []
    },
    {
      "cell_type": "code",
      "source": [
        "idx2tag = loadJSON('/content/drive/MyDrive/Colab Notebooks/FP-DM/output/idx2tag.json')\n",
        "tag2idx = loadJSON('/content/drive/MyDrive/Colab Notebooks/FP-DM/output/tag2idx.json')\n",
        "token2idx = loadJSON('/content/drive/MyDrive/Colab Notebooks/FP-DM/output/token2idx.json')\n",
        "idx2token = loadJSON('/content/drive/MyDrive/Colab Notebooks/FP-DM/output/idx2token.json')\n",
        "print(idx2tag)"
      ],
      "metadata": {
        "colab": {
          "base_uri": "https://localhost:8080/"
        },
        "id": "wuwScbIkrhyg",
        "outputId": "32043a5f-67a7-4a6e-fbfc-1df24b6b04a9"
      },
      "execution_count": 8,
      "outputs": [
        {
          "output_type": "stream",
          "name": "stdout",
          "text": [
            "{'0': 'O', '1': 'I-LOC', '2': 'B-ORG', '3': 'I-PER', '4': 'B-PER', '5': 'I-ORG', '6': 'B-LOC'}\n"
          ]
        }
      ]
    },
    {
      "cell_type": "code",
      "source": [
        "tag2idx = dict([key, int(value)] for key, value in tag2idx.items())\n",
        "token2idx = dict([key, int(value)] for key, value in token2idx.items())\n",
        "idx2tag = dict([int(key), value] for key, value in idx2tag.items())\n",
        "idx2token = dict([int(key), value] for key, value in idx2token.items())\n",
        "tag2idx"
      ],
      "metadata": {
        "colab": {
          "base_uri": "https://localhost:8080/"
        },
        "id": "qqKYGgJSrpSM",
        "outputId": "2484bab0-08c1-4d80-c1cc-af57931f185a"
      },
      "execution_count": 9,
      "outputs": [
        {
          "output_type": "execute_result",
          "data": {
            "text/plain": [
              "{'B-LOC': 6,\n",
              " 'B-ORG': 2,\n",
              " 'B-PER': 4,\n",
              " 'I-LOC': 1,\n",
              " 'I-ORG': 5,\n",
              " 'I-PER': 3,\n",
              " 'O': 0}"
            ]
          },
          "metadata": {},
          "execution_count": 9
        }
      ]
    },
    {
      "cell_type": "code",
      "source": [
        "# Groupby and collect columns\n",
        "train_group = train_df.groupby(['sentence #'], as_index=False)['word', 'tag', 'word_idx', 'tag_idx'].agg(lambda x: list(x))\n",
        "test_group = test_df.groupby(['sentence #'], as_index=False)['word', 'tag', 'word_idx', 'tag_idx'].agg(lambda x: list(x))\n",
        "merged_group = merged_df.groupby(['sentence #'], as_index=False)['word', 'tag', 'word_idx', 'tag_idx'].agg(lambda x: list(x))"
      ],
      "metadata": {
        "colab": {
          "base_uri": "https://localhost:8080/"
        },
        "id": "NvjCgwIyrsas",
        "outputId": "d75259d3-6782-49a4-f2f5-2068cdcc1ebe"
      },
      "execution_count": 10,
      "outputs": [
        {
          "output_type": "stream",
          "name": "stderr",
          "text": [
            "/usr/local/lib/python3.7/dist-packages/ipykernel_launcher.py:2: FutureWarning: Indexing with multiple keys (implicitly converted to a tuple of keys) will be deprecated, use a list instead.\n",
            "  \n",
            "/usr/local/lib/python3.7/dist-packages/ipykernel_launcher.py:3: FutureWarning: Indexing with multiple keys (implicitly converted to a tuple of keys) will be deprecated, use a list instead.\n",
            "  This is separate from the ipykernel package so we can avoid doing imports until\n",
            "/usr/local/lib/python3.7/dist-packages/ipykernel_launcher.py:4: FutureWarning: Indexing with multiple keys (implicitly converted to a tuple of keys) will be deprecated, use a list instead.\n",
            "  after removing the cwd from sys.path.\n"
          ]
        }
      ]
    },
    {
      "cell_type": "code",
      "source": [
        "train_group"
      ],
      "metadata": {
        "colab": {
          "base_uri": "https://localhost:8080/",
          "height": 424
        },
        "id": "ilkCdUU8r6DC",
        "outputId": "65e5bc86-b844-4aef-d046-9a4f883e39b5"
      },
      "execution_count": 11,
      "outputs": [
        {
          "output_type": "execute_result",
          "data": {
            "text/html": [
              "<div>\n",
              "<style scoped>\n",
              "    .dataframe tbody tr th:only-of-type {\n",
              "        vertical-align: middle;\n",
              "    }\n",
              "\n",
              "    .dataframe tbody tr th {\n",
              "        vertical-align: top;\n",
              "    }\n",
              "\n",
              "    .dataframe thead th {\n",
              "        text-align: right;\n",
              "    }\n",
              "</style>\n",
              "<table border=\"1\" class=\"dataframe\">\n",
              "  <thead>\n",
              "    <tr style=\"text-align: right;\">\n",
              "      <th></th>\n",
              "      <th>sentence #</th>\n",
              "      <th>word</th>\n",
              "      <th>tag</th>\n",
              "      <th>word_idx</th>\n",
              "      <th>tag_idx</th>\n",
              "    </tr>\n",
              "  </thead>\n",
              "  <tbody>\n",
              "    <tr>\n",
              "      <th>0</th>\n",
              "      <td>1</td>\n",
              "      <td>[Berikut, adalah, tujuh, kota, di, Indonesia, ...</td>\n",
              "      <td>[O, O, O, O, O, B-LOC, O, O, O, O, O, O, O]</td>\n",
              "      <td>[7983, 2039, 4980, 41, 4961, 1745, 5214, 5262,...</td>\n",
              "      <td>[0, 0, 0, 0, 0, 6, 0, 0, 0, 0, 0, 0, 0]</td>\n",
              "    </tr>\n",
              "    <tr>\n",
              "      <th>1</th>\n",
              "      <td>2</td>\n",
              "      <td>[Soal, calon, presiden, itu, urusan, nanti, ,,...</td>\n",
              "      <td>[O, O, O, O, O, O, O, O, O, O, O, O, O, O, B-P...</td>\n",
              "      <td>[3711, 8327, 3000, 5216, 4847, 865, 7275, 5214...</td>\n",
              "      <td>[0, 0, 0, 0, 0, 0, 0, 0, 0, 0, 0, 0, 0, 0, 4, ...</td>\n",
              "    </tr>\n",
              "    <tr>\n",
              "      <th>2</th>\n",
              "      <td>3</td>\n",
              "      <td>[Kalau, itu, tanya, PPP, saja, ,, ujar, Nasir,...</td>\n",
              "      <td>[O, O, O, B-ORG, O, O, O, B-PER, O, O, O, O, O...</td>\n",
              "      <td>[5035, 5216, 5722, 7446, 5829, 7275, 5990, 108...</td>\n",
              "      <td>[0, 0, 0, 2, 0, 0, 0, 4, 0, 0, 0, 0, 0, 0, 0, ...</td>\n",
              "    </tr>\n",
              "    <tr>\n",
              "      <th>3</th>\n",
              "      <td>4</td>\n",
              "      <td>[Jokowi, bisa, mengatakan, mencabut, pengaduan...</td>\n",
              "      <td>[B-PER, O, O, O, O, O, O, O, O, O, O]</td>\n",
              "      <td>[8234, 3106, 3220, 2834, 4775, 652, 3257, 2096...</td>\n",
              "      <td>[4, 0, 0, 0, 0, 0, 0, 0, 0, 0, 0]</td>\n",
              "    </tr>\n",
              "    <tr>\n",
              "      <th>4</th>\n",
              "      <td>5</td>\n",
              "      <td>[Akbar, menyebutkan, pemerintahan, Jokowi-JK, ...</td>\n",
              "      <td>[B-PER, O, O, O, O, O, O, O, O, O, O, O, O, O,...</td>\n",
              "      <td>[4662, 5284, 5706, 3052, 6288, 2366, 7513, 268...</td>\n",
              "      <td>[4, 0, 0, 0, 0, 0, 0, 0, 0, 0, 0, 0, 0, 0, 0, ...</td>\n",
              "    </tr>\n",
              "    <tr>\n",
              "      <th>...</th>\n",
              "      <td>...</td>\n",
              "      <td>...</td>\n",
              "      <td>...</td>\n",
              "      <td>...</td>\n",
              "      <td>...</td>\n",
              "    </tr>\n",
              "    <tr>\n",
              "      <th>1459</th>\n",
              "      <td>1460</td>\n",
              "      <td>[Dia, menggantikan, Ian, Campbell, ,, yang, di...</td>\n",
              "      <td>[O, O, B-PER, I-PER, O, O, O, O, O, O, O, O, O...</td>\n",
              "      <td>[7122, 3901, 2733, 1094, 7275, 5214, 5571, 445...</td>\n",
              "      <td>[0, 0, 4, 3, 0, 0, 0, 0, 0, 0, 0, 0, 0, 0, 0, ...</td>\n",
              "    </tr>\n",
              "    <tr>\n",
              "      <th>1460</th>\n",
              "      <td>1461</td>\n",
              "      <td>[Kita, siapkan, strategi, baru, ,, bukan, gant...</td>\n",
              "      <td>[O, O, O, O, O, O, O, O, O, O, O]</td>\n",
              "      <td>[5581, 5206, 2338, 7187, 7275, 3022, 7872, 527...</td>\n",
              "      <td>[0, 0, 0, 0, 0, 0, 0, 0, 0, 0, 0]</td>\n",
              "    </tr>\n",
              "    <tr>\n",
              "      <th>1461</th>\n",
              "      <td>1462</td>\n",
              "      <td>[September, 2007, PTBA, akan, mensosialisasika...</td>\n",
              "      <td>[O, O, B-ORG, O, O, O, O, O, O, O, O, O, O, O,...</td>\n",
              "      <td>[1820, 9, 8170, 607, 1804, 5973, 1372, 2594, 4...</td>\n",
              "      <td>[0, 0, 2, 0, 0, 0, 0, 0, 0, 0, 0, 0, 0, 0, 0, ...</td>\n",
              "    </tr>\n",
              "    <tr>\n",
              "      <th>1462</th>\n",
              "      <td>1463</td>\n",
              "      <td>[Sedang, infeksi, virus, ebola, ini, berlangsu...</td>\n",
              "      <td>[O, O, O, O, O, O, O, O, O, O, O, O, O]</td>\n",
              "      <td>[2118, 8069, 1844, 4255, 452, 3596, 7595, 652,...</td>\n",
              "      <td>[0, 0, 0, 0, 0, 0, 0, 0, 0, 0, 0, 0, 0]</td>\n",
              "    </tr>\n",
              "    <tr>\n",
              "      <th>1463</th>\n",
              "      <td>1464</td>\n",
              "      <td>[Kita, melihat, negara, yang, selama, ini, ber...</td>\n",
              "      <td>[O, O, O, O, O, O, O, O, O, O, O, O, O, O, O, ...</td>\n",
              "      <td>[5581, 5690, 6491, 5214, 6582, 452, 1417, 7275...</td>\n",
              "      <td>[0, 0, 0, 0, 0, 0, 0, 0, 0, 0, 0, 0, 0, 0, 0, ...</td>\n",
              "    </tr>\n",
              "  </tbody>\n",
              "</table>\n",
              "<p>1464 rows × 5 columns</p>\n",
              "</div>"
            ],
            "text/plain": [
              "      sentence #  ...                                            tag_idx\n",
              "0              1  ...            [0, 0, 0, 0, 0, 6, 0, 0, 0, 0, 0, 0, 0]\n",
              "1              2  ...  [0, 0, 0, 0, 0, 0, 0, 0, 0, 0, 0, 0, 0, 0, 4, ...\n",
              "2              3  ...  [0, 0, 0, 2, 0, 0, 0, 4, 0, 0, 0, 0, 0, 0, 0, ...\n",
              "3              4  ...                  [4, 0, 0, 0, 0, 0, 0, 0, 0, 0, 0]\n",
              "4              5  ...  [4, 0, 0, 0, 0, 0, 0, 0, 0, 0, 0, 0, 0, 0, 0, ...\n",
              "...          ...  ...                                                ...\n",
              "1459        1460  ...  [0, 0, 4, 3, 0, 0, 0, 0, 0, 0, 0, 0, 0, 0, 0, ...\n",
              "1460        1461  ...                  [0, 0, 0, 0, 0, 0, 0, 0, 0, 0, 0]\n",
              "1461        1462  ...  [0, 0, 2, 0, 0, 0, 0, 0, 0, 0, 0, 0, 0, 0, 0, ...\n",
              "1462        1463  ...            [0, 0, 0, 0, 0, 0, 0, 0, 0, 0, 0, 0, 0]\n",
              "1463        1464  ...  [0, 0, 0, 0, 0, 0, 0, 0, 0, 0, 0, 0, 0, 0, 0, ...\n",
              "\n",
              "[1464 rows x 5 columns]"
            ]
          },
          "metadata": {},
          "execution_count": 11
        }
      ]
    },
    {
      "cell_type": "code",
      "source": [
        "import numpy as np\n",
        "from sklearn.model_selection import train_test_split\n",
        "from tensorflow.keras.preprocessing.sequence import pad_sequences\n",
        "from tensorflow.keras.utils import to_categorical"
      ],
      "metadata": {
        "id": "fgQH_JYNsEId"
      },
      "execution_count": 12,
      "outputs": []
    },
    {
      "cell_type": "code",
      "source": [
        "def get_pad(dataset_grouped, merged_data, maxlen):\n",
        "\n",
        "    #get max token and tag length\n",
        "    n_token = len(list(set(merged_data['word'].to_list())))\n",
        "    n_tags = len(list(set(merged_data['tag'].to_list())))\n",
        "\n",
        "    #Pad tokens (X var)    \n",
        "    tokens = dataset_grouped['word_idx'].tolist()\n",
        "    # maxlen = max([len(s) for s in tokens])\n",
        "    pad_tokens = pad_sequences(tokens, maxlen=maxlen, dtype='int32', padding='post', value= token2idx[\"ENDPAD\"])\n",
        "\n",
        "    #Pad Tags (y var) and convert it into one hot encoding\n",
        "    tags = dataset_grouped['tag_idx'].tolist()\n",
        "    pad_tags = pad_sequences(tags, maxlen=maxlen, dtype='int32', padding='post', value= tag2idx[\"O\"])\n",
        "    pad_tags = [to_categorical(i, num_classes=n_tags) for i in pad_tags]\n",
        "\n",
        "    return pad_tokens, pad_tags, n_token"
      ],
      "metadata": {
        "id": "YG5P8YnfsI_c"
      },
      "execution_count": 13,
      "outputs": []
    },
    {
      "cell_type": "code",
      "source": [
        "train_tokens, train_tags, n_token = get_pad(train_group, merged_df, 60)\n",
        "test_tokens,  test_tags, _ = get_pad(test_group, merged_df, 60)\n",
        "train_tags = np.array(train_tags)\n",
        "test_tags = np.array(test_tags)\n",
        "print('train_tags: ',train_tags.shape,'test_tags: ',test_tags.shape)"
      ],
      "metadata": {
        "colab": {
          "base_uri": "https://localhost:8080/"
        },
        "id": "VZj3gdKWsTRB",
        "outputId": "197d1221-342f-4b30-f5b4-d8a09caf853a"
      },
      "execution_count": 14,
      "outputs": [
        {
          "output_type": "stream",
          "name": "stdout",
          "text": [
            "train_tags:  (1464, 60, 7) test_tags:  (509, 60, 7)\n"
          ]
        }
      ]
    },
    {
      "cell_type": "code",
      "source": [
        "from sklearn.utils import class_weight\n",
        "\n",
        "train_temp_tags = np.ravel(np.argmax(train_tags, axis=-1))\n",
        "print(len(train_temp_tags))"
      ],
      "metadata": {
        "colab": {
          "base_uri": "https://localhost:8080/"
        },
        "id": "qB5QWhibsaZL",
        "outputId": "31e6b50e-6717-4020-8895-4093fcbc2b78"
      },
      "execution_count": 15,
      "outputs": [
        {
          "output_type": "stream",
          "name": "stdout",
          "text": [
            "87840\n"
          ]
        }
      ]
    },
    {
      "cell_type": "code",
      "source": [
        "class_weights = class_weight.compute_class_weight(\n",
        "    class_weight ='balanced', \n",
        "    classes = np.unique(train_temp_tags), \n",
        "    y = train_temp_tags\n",
        "    )\n",
        "class_weight_dict = dict(enumerate(class_weights))\n",
        "print(class_weight_dict)\n",
        "\n",
        "train_label = np.argmax(train_tags, axis=-1)\n",
        "print(train_tokens.shape)\n",
        "print(train_label.shape)"
      ],
      "metadata": {
        "colab": {
          "base_uri": "https://localhost:8080/"
        },
        "id": "CxdB0FKasezK",
        "outputId": "bab4d59c-4a4b-48cb-f4eb-b726d47346a6"
      },
      "execution_count": 16,
      "outputs": [
        {
          "output_type": "stream",
          "name": "stdout",
          "text": [
            "{0: 0.1488172888281994, 1: 48.07881773399015, 2: 17.428571428571427, 3: 25.82010582010582, 4: 14.005102040816327, 5: 21.785714285714285, 6: 21.672834937083643}\n",
            "(1464, 60)\n",
            "(1464, 60)\n"
          ]
        }
      ]
    },
    {
      "cell_type": "code",
      "source": [
        "import numpy as np\n",
        "import tensorflow as tf\n",
        "from tensorflow.keras.models import Sequential, Model\n",
        "from tensorflow.keras.layers import LSTM, Embedding, Dense, TimeDistributed, Dropout, Bidirectional, Input, SpatialDropout1D\n",
        "from tensorflow.keras.utils import plot_model\n",
        "from tensorflow import keras"
      ],
      "metadata": {
        "id": "MNRPqB1sshlO"
      },
      "execution_count": 17,
      "outputs": []
    },
    {
      "cell_type": "code",
      "source": [
        "input_dim = len(token2idx) + 1\n",
        "output_dim = 100\n",
        "input_length = 60\n",
        "n_tags = 7"
      ],
      "metadata": {
        "id": "LifBKL1BskNd"
      },
      "execution_count": 27,
      "outputs": []
    },
    {
      "cell_type": "markdown",
      "source": [
        "Import Glove Model yang sudah dilatih sebelumnya"
      ],
      "metadata": {
        "id": "744ARazxE4Py"
      }
    },
    {
      "cell_type": "code",
      "source": [
        "! pip install glove-python-binary"
      ],
      "metadata": {
        "colab": {
          "base_uri": "https://localhost:8080/"
        },
        "id": "WanySAO5E7pa",
        "outputId": "3e803883-715d-4974-df5c-038ae8346d88"
      },
      "execution_count": 28,
      "outputs": [
        {
          "output_type": "stream",
          "name": "stdout",
          "text": [
            "Requirement already satisfied: glove-python-binary in /usr/local/lib/python3.7/dist-packages (0.2.0)\n",
            "Requirement already satisfied: scipy in /usr/local/lib/python3.7/dist-packages (from glove-python-binary) (1.4.1)\n",
            "Requirement already satisfied: numpy in /usr/local/lib/python3.7/dist-packages (from glove-python-binary) (1.19.5)\n"
          ]
        }
      ]
    },
    {
      "cell_type": "code",
      "source": [
        "from glove import Corpus, Glove\n",
        "glove_model = Glove.load('/content/drive/MyDrive/Colab Notebooks/FP-DM/models/word_embeddings/glove5_200_25.txt')"
      ],
      "metadata": {
        "id": "vlR4-v7QE-3c"
      },
      "execution_count": 29,
      "outputs": []
    },
    {
      "cell_type": "code",
      "source": [
        "# Get the embedding matrix from Glove Model\n",
        "embedding_matrix = np.zeros((len(token2idx) + 1, 100))\n",
        "for word, i in token2idx.items():\n",
        "  embedding_vector = glove_model.word_vectors[glove_model.dictionary[word]]\n",
        "  if embedding_vector is not None:\n",
        "    embedding_matrix[i] = embedding_vector"
      ],
      "metadata": {
        "id": "CTsVFPsrFPsr"
      },
      "execution_count": 30,
      "outputs": []
    },
    {
      "cell_type": "code",
      "source": [
        "embedding_matrix.shape"
      ],
      "metadata": {
        "colab": {
          "base_uri": "https://localhost:8080/"
        },
        "id": "97OIvqAdFfDE",
        "outputId": "bb82f77a-7870-4c3e-d690-bdbb3b1a1c6b"
      },
      "execution_count": 31,
      "outputs": [
        {
          "output_type": "execute_result",
          "data": {
            "text/plain": [
              "(8544, 100)"
            ]
          },
          "metadata": {},
          "execution_count": 31
        }
      ]
    },
    {
      "cell_type": "code",
      "source": [
        "embedding_layer = Embedding(input_dim=input_dim,\n",
        "                            output_dim=output_dim,\n",
        "                            input_length=input_length,\n",
        "                            weights=[embedding_matrix],\n",
        "                            trainable=False)"
      ],
      "metadata": {
        "id": "xbyXwIGAFhMj"
      },
      "execution_count": 32,
      "outputs": []
    },
    {
      "cell_type": "code",
      "source": [
        "def get_lstm_model():\n",
        "    model = Sequential()\n",
        "    model.add(embedding_layer)\n",
        "    model.add(LSTM(units=output_dim, return_sequences=True, dropout=0.5, recurrent_dropout=0.5))\n",
        "    model.add(Dropout(0.5))\n",
        "    model.add(Dense(n_tags, activation=\"softmax\"))\n",
        "\n",
        "    opt = keras.optimizers.Adam(learning_rate=0.01)\n",
        "    model.compile(loss='sparse_categorical_crossentropy', optimizer=opt, metrics=['accuracy'])\n",
        "    model.summary()\n",
        "    \n",
        "    return model"
      ],
      "metadata": {
        "id": "7i7hQTXGsotQ"
      },
      "execution_count": 33,
      "outputs": []
    },
    {
      "cell_type": "code",
      "source": [
        "print(class_weight_dict)\n",
        "sample_weights = np.ones(shape=(len(train_label), train_label.shape[-1]))\n",
        "for i in range(17):\n",
        "    sample_weights[train_label == i] = class_weight_dict.get(i)\n",
        "print(sample_weights.shape)"
      ],
      "metadata": {
        "colab": {
          "base_uri": "https://localhost:8080/"
        },
        "id": "sj4xM5axwlJJ",
        "outputId": "7ba300ec-7775-4548-9b4d-eae1168fa0a7"
      },
      "execution_count": 34,
      "outputs": [
        {
          "output_type": "stream",
          "name": "stdout",
          "text": [
            "{0: 0.1488172888281994, 1: 48.07881773399015, 2: 17.428571428571427, 3: 25.82010582010582, 4: 14.005102040816327, 5: 21.785714285714285, 6: 21.672834937083643}\n",
            "(1464, 60)\n"
          ]
        }
      ]
    },
    {
      "cell_type": "code",
      "source": [
        "nlp_model = get_lstm_model()\n",
        "plot_model(nlp_model)\n",
        "his = nlp_model.fit(train_tokens, train_label , batch_size = 64, epochs=25, validation_split=0.2, sample_weight = sample_weights)\n",
        "tf.keras.models.save_model(nlp_model, filepath  = '/content/drive/MyDrive/Colab Notebooks/FP-DM/model/LSTM_glove_200_25.h5')"
      ],
      "metadata": {
        "colab": {
          "base_uri": "https://localhost:8080/"
        },
        "id": "WAFbCjaNwoDL",
        "outputId": "758fd830-a134-472c-8541-c4760c6ec9fe"
      },
      "execution_count": 35,
      "outputs": [
        {
          "output_type": "stream",
          "name": "stdout",
          "text": [
            "Model: \"sequential_1\"\n",
            "_________________________________________________________________\n",
            " Layer (type)                Output Shape              Param #   \n",
            "=================================================================\n",
            " embedding_1 (Embedding)     (None, 60, 100)           854400    \n",
            "                                                                 \n",
            " lstm (LSTM)                 (None, 60, 100)           80400     \n",
            "                                                                 \n",
            " dropout (Dropout)           (None, 60, 100)           0         \n",
            "                                                                 \n",
            " dense (Dense)               (None, 60, 7)             707       \n",
            "                                                                 \n",
            "=================================================================\n",
            "Total params: 935,507\n",
            "Trainable params: 81,107\n",
            "Non-trainable params: 854,400\n",
            "_________________________________________________________________\n",
            "Epoch 1/25\n",
            "19/19 [==============================] - 6s 190ms/step - loss: 1.7901 - accuracy: 0.5219 - val_loss: 1.6403 - val_accuracy: 0.5724\n",
            "Epoch 2/25\n",
            "19/19 [==============================] - 3s 165ms/step - loss: 1.5488 - accuracy: 0.5886 - val_loss: 1.3746 - val_accuracy: 0.5904\n",
            "Epoch 3/25\n",
            "19/19 [==============================] - 3s 167ms/step - loss: 1.3972 - accuracy: 0.6640 - val_loss: 1.2708 - val_accuracy: 0.7258\n",
            "Epoch 4/25\n",
            "19/19 [==============================] - 3s 166ms/step - loss: 1.3112 - accuracy: 0.7180 - val_loss: 1.1711 - val_accuracy: 0.7323\n",
            "Epoch 5/25\n",
            "19/19 [==============================] - 3s 166ms/step - loss: 1.2274 - accuracy: 0.7292 - val_loss: 1.1529 - val_accuracy: 0.7435\n",
            "Epoch 6/25\n",
            "19/19 [==============================] - 3s 165ms/step - loss: 1.1953 - accuracy: 0.7407 - val_loss: 1.0971 - val_accuracy: 0.7601\n",
            "Epoch 7/25\n",
            "19/19 [==============================] - 3s 166ms/step - loss: 1.1542 - accuracy: 0.7399 - val_loss: 1.0520 - val_accuracy: 0.7402\n",
            "Epoch 8/25\n",
            "19/19 [==============================] - 3s 166ms/step - loss: 1.1308 - accuracy: 0.7358 - val_loss: 1.0466 - val_accuracy: 0.7597\n",
            "Epoch 9/25\n",
            "19/19 [==============================] - 3s 167ms/step - loss: 1.1213 - accuracy: 0.7414 - val_loss: 1.0346 - val_accuracy: 0.7576\n",
            "Epoch 10/25\n",
            "19/19 [==============================] - 3s 167ms/step - loss: 1.1169 - accuracy: 0.7444 - val_loss: 1.0359 - val_accuracy: 0.7415\n",
            "Epoch 11/25\n",
            "19/19 [==============================] - 3s 166ms/step - loss: 1.1107 - accuracy: 0.7113 - val_loss: 1.0794 - val_accuracy: 0.7608\n",
            "Epoch 12/25\n",
            "19/19 [==============================] - 3s 166ms/step - loss: 1.0924 - accuracy: 0.7399 - val_loss: 1.0130 - val_accuracy: 0.7483\n",
            "Epoch 13/25\n",
            "19/19 [==============================] - 3s 166ms/step - loss: 1.0754 - accuracy: 0.7403 - val_loss: 1.0402 - val_accuracy: 0.7407\n",
            "Epoch 14/25\n",
            "19/19 [==============================] - 3s 166ms/step - loss: 1.0469 - accuracy: 0.7423 - val_loss: 1.0107 - val_accuracy: 0.7611\n",
            "Epoch 15/25\n",
            "19/19 [==============================] - 3s 165ms/step - loss: 1.0384 - accuracy: 0.7578 - val_loss: 1.0097 - val_accuracy: 0.7519\n",
            "Epoch 16/25\n",
            "19/19 [==============================] - 3s 166ms/step - loss: 1.0372 - accuracy: 0.7559 - val_loss: 1.0141 - val_accuracy: 0.7576\n",
            "Epoch 17/25\n",
            "19/19 [==============================] - 3s 163ms/step - loss: 1.0245 - accuracy: 0.7524 - val_loss: 1.0873 - val_accuracy: 0.7424\n",
            "Epoch 18/25\n",
            "19/19 [==============================] - 3s 164ms/step - loss: 1.0127 - accuracy: 0.7543 - val_loss: 0.9927 - val_accuracy: 0.7565\n",
            "Epoch 19/25\n",
            "19/19 [==============================] - 3s 165ms/step - loss: 1.0070 - accuracy: 0.7538 - val_loss: 1.0082 - val_accuracy: 0.7561\n",
            "Epoch 20/25\n",
            "19/19 [==============================] - 3s 167ms/step - loss: 0.9914 - accuracy: 0.7474 - val_loss: 0.9968 - val_accuracy: 0.7502\n",
            "Epoch 21/25\n",
            "19/19 [==============================] - 3s 165ms/step - loss: 0.9906 - accuracy: 0.7524 - val_loss: 1.0217 - val_accuracy: 0.7549\n",
            "Epoch 22/25\n",
            "19/19 [==============================] - 3s 166ms/step - loss: 0.9790 - accuracy: 0.7602 - val_loss: 0.9996 - val_accuracy: 0.7593\n",
            "Epoch 23/25\n",
            "19/19 [==============================] - 3s 166ms/step - loss: 0.9619 - accuracy: 0.7616 - val_loss: 0.9799 - val_accuracy: 0.7623\n",
            "Epoch 24/25\n",
            "19/19 [==============================] - 3s 165ms/step - loss: 0.9761 - accuracy: 0.7586 - val_loss: 0.9999 - val_accuracy: 0.7433\n",
            "Epoch 25/25\n",
            "19/19 [==============================] - 3s 164ms/step - loss: 0.9587 - accuracy: 0.7529 - val_loss: 1.0080 - val_accuracy: 0.7592\n"
          ]
        }
      ]
    },
    {
      "cell_type": "code",
      "source": [
        "# Plot results\n",
        "import matplotlib.pyplot as plt\n",
        "\n",
        "accuracy = his.history['accuracy']\n",
        "val_acc = his.history['val_accuracy']\n",
        "loss = his.history['loss']\n",
        "val_loss = his.history['val_loss']\n",
        "\n",
        "epochs = range(1, len(accuracy)+1)\n",
        "\n",
        "plt.plot(epochs, accuracy, 'g', label='Training accuracy')\n",
        "plt.plot(epochs, val_acc, 'r', label='Validation accuracy')\n",
        "plt.title('Training and validation accuracy')\n",
        "plt.legend()\n",
        "\n",
        "plt.figure()\n",
        "\n",
        "plt.plot(epochs, loss, 'g', label='Training loss')\n",
        "plt.plot(epochs, val_loss, 'r', label='Validation loss')\n",
        "plt.title('Training and validation loss')\n",
        "plt.legend()\n",
        "\n",
        "plt.show()"
      ],
      "metadata": {
        "colab": {
          "base_uri": "https://localhost:8080/",
          "height": 545
        },
        "id": "c8-oIbSp81Tu",
        "outputId": "1b8c1b20-26ca-4d57-f7d2-90a6eeedb308"
      },
      "execution_count": 36,
      "outputs": [
        {
          "output_type": "display_data",
          "data": {
            "image/png": "[encoded data removed]",
            "text/plain": [
              "<Figure size 432x288 with 1 Axes>"
            ]
          },
          "metadata": {
            "needs_background": "light"
          }
        },
        {
          "output_type": "display_data",
          "data": {
            "image/png": "[encoded data removed]",
            "text/plain": [
              "<Figure size 432x288 with 1 Axes>"
            ]
          },
          "metadata": {
            "needs_background": "light"
          }
        }
      ]
    },
    {
      "cell_type": "code",
      "source": [
        "nlp_model = tf.keras.models.load_model('/content/drive/MyDrive/Colab Notebooks/FP-DM/model/LSTM_glove_200_100.h5')\n",
        "\n",
        "y_test = np.argmax(test_tags, axis=-1)\n",
        "print(test_tokens.shape,y_test.shape)\n",
        "nlp_model.evaluate(test_tokens, y_test)"
      ],
      "metadata": {
        "colab": {
          "base_uri": "https://localhost:8080/"
        },
        "id": "F0bXVaVk8-vd",
        "outputId": "e5edd786-96bd-497b-c2c6-2a7ae21fba02"
      },
      "execution_count": 37,
      "outputs": [
        {
          "output_type": "stream",
          "name": "stdout",
          "text": [
            "(509, 60) (509, 60)\n",
            "16/16 [==============================] - 1s 20ms/step - loss: 1.0987 - accuracy: 0.6463\n"
          ]
        },
        {
          "output_type": "execute_result",
          "data": {
            "text/plain": [
              "[1.0986937284469604, 0.6462999582290649]"
            ]
          },
          "metadata": {},
          "execution_count": 37
        }
      ]
    },
    {
      "cell_type": "code",
      "source": [
        "y_pred = nlp_model.predict(test_tokens)\n",
        "y_pred = np.argmax(y_pred, axis= -1)"
      ],
      "metadata": {
        "id": "Uc7T56Tw9NH5"
      },
      "execution_count": 38,
      "outputs": []
    },
    {
      "cell_type": "code",
      "source": [
        "y_test_list = []\n",
        "y_pred_list = []\n",
        "for row in range(0, y_test.shape[0]):\n",
        "  y_pred_list = np.concatenate((y_pred_list, y_pred[row]), axis=0)\n",
        "  y_test_list = np.concatenate((y_test_list, y_test[row]), axis=0)"
      ],
      "metadata": {
        "id": "LsZZp8T19YZ6"
      },
      "execution_count": 39,
      "outputs": []
    },
    {
      "cell_type": "code",
      "source": [
        "data_prediction = pd.DataFrame({'actual_class': y_test_list, 'predicted_class': y_pred_list})\n",
        "data_prediction['actual_class'] = data_prediction['actual_class'].map(idx2tag)\n",
        "data_prediction['predicted_class'] = data_prediction['predicted_class'].map(idx2tag)\n",
        "data_prediction"
      ],
      "metadata": {
        "colab": {
          "base_uri": "https://localhost:8080/",
          "height": 424
        },
        "id": "-fckwrKJ9a5l",
        "outputId": "00146d46-6a6d-41b2-f67d-c85369bf6fda"
      },
      "execution_count": 40,
      "outputs": [
        {
          "output_type": "execute_result",
          "data": {
            "text/html": [
              "<div>\n",
              "<style scoped>\n",
              "    .dataframe tbody tr th:only-of-type {\n",
              "        vertical-align: middle;\n",
              "    }\n",
              "\n",
              "    .dataframe tbody tr th {\n",
              "        vertical-align: top;\n",
              "    }\n",
              "\n",
              "    .dataframe thead th {\n",
              "        text-align: right;\n",
              "    }\n",
              "</style>\n",
              "<table border=\"1\" class=\"dataframe\">\n",
              "  <thead>\n",
              "    <tr style=\"text-align: right;\">\n",
              "      <th></th>\n",
              "      <th>actual_class</th>\n",
              "      <th>predicted_class</th>\n",
              "    </tr>\n",
              "  </thead>\n",
              "  <tbody>\n",
              "    <tr>\n",
              "      <th>0</th>\n",
              "      <td>O</td>\n",
              "      <td>B-ORG</td>\n",
              "    </tr>\n",
              "    <tr>\n",
              "      <th>1</th>\n",
              "      <td>O</td>\n",
              "      <td>B-PER</td>\n",
              "    </tr>\n",
              "    <tr>\n",
              "      <th>2</th>\n",
              "      <td>O</td>\n",
              "      <td>O</td>\n",
              "    </tr>\n",
              "    <tr>\n",
              "      <th>3</th>\n",
              "      <td>O</td>\n",
              "      <td>B-PER</td>\n",
              "    </tr>\n",
              "    <tr>\n",
              "      <th>4</th>\n",
              "      <td>O</td>\n",
              "      <td>B-PER</td>\n",
              "    </tr>\n",
              "    <tr>\n",
              "      <th>...</th>\n",
              "      <td>...</td>\n",
              "      <td>...</td>\n",
              "    </tr>\n",
              "    <tr>\n",
              "      <th>30535</th>\n",
              "      <td>O</td>\n",
              "      <td>O</td>\n",
              "    </tr>\n",
              "    <tr>\n",
              "      <th>30536</th>\n",
              "      <td>O</td>\n",
              "      <td>O</td>\n",
              "    </tr>\n",
              "    <tr>\n",
              "      <th>30537</th>\n",
              "      <td>O</td>\n",
              "      <td>O</td>\n",
              "    </tr>\n",
              "    <tr>\n",
              "      <th>30538</th>\n",
              "      <td>O</td>\n",
              "      <td>O</td>\n",
              "    </tr>\n",
              "    <tr>\n",
              "      <th>30539</th>\n",
              "      <td>O</td>\n",
              "      <td>O</td>\n",
              "    </tr>\n",
              "  </tbody>\n",
              "</table>\n",
              "<p>30540 rows × 2 columns</p>\n",
              "</div>"
            ],
            "text/plain": [
              "      actual_class predicted_class\n",
              "0                O           B-ORG\n",
              "1                O           B-PER\n",
              "2                O               O\n",
              "3                O           B-PER\n",
              "4                O           B-PER\n",
              "...            ...             ...\n",
              "30535            O               O\n",
              "30536            O               O\n",
              "30537            O               O\n",
              "30538            O               O\n",
              "30539            O               O\n",
              "\n",
              "[30540 rows x 2 columns]"
            ]
          },
          "metadata": {},
          "execution_count": 40
        }
      ]
    },
    {
      "cell_type": "code",
      "source": [
        "confusion_matrix = pd.crosstab(data_prediction['predicted_class'], data_prediction['actual_class'])\n",
        "confusion_matrix"
      ],
      "metadata": {
        "colab": {
          "base_uri": "https://localhost:8080/",
          "height": 300
        },
        "id": "51Elzni_9fKT",
        "outputId": "7e9db28a-573c-4339-ce7c-b1b8db0dc452"
      },
      "execution_count": 41,
      "outputs": [
        {
          "output_type": "execute_result",
          "data": {
            "text/html": [
              "<div>\n",
              "<style scoped>\n",
              "    .dataframe tbody tr th:only-of-type {\n",
              "        vertical-align: middle;\n",
              "    }\n",
              "\n",
              "    .dataframe tbody tr th {\n",
              "        vertical-align: top;\n",
              "    }\n",
              "\n",
              "    .dataframe thead th {\n",
              "        text-align: right;\n",
              "    }\n",
              "</style>\n",
              "<table border=\"1\" class=\"dataframe\">\n",
              "  <thead>\n",
              "    <tr style=\"text-align: right;\">\n",
              "      <th>actual_class</th>\n",
              "      <th>B-LOC</th>\n",
              "      <th>B-ORG</th>\n",
              "      <th>B-PER</th>\n",
              "      <th>I-LOC</th>\n",
              "      <th>I-ORG</th>\n",
              "      <th>I-PER</th>\n",
              "      <th>O</th>\n",
              "    </tr>\n",
              "    <tr>\n",
              "      <th>predicted_class</th>\n",
              "      <th></th>\n",
              "      <th></th>\n",
              "      <th></th>\n",
              "      <th></th>\n",
              "      <th></th>\n",
              "      <th></th>\n",
              "      <th></th>\n",
              "    </tr>\n",
              "  </thead>\n",
              "  <tbody>\n",
              "    <tr>\n",
              "      <th>B-LOC</th>\n",
              "      <td>195</td>\n",
              "      <td>51</td>\n",
              "      <td>50</td>\n",
              "      <td>7</td>\n",
              "      <td>13</td>\n",
              "      <td>0</td>\n",
              "      <td>2033</td>\n",
              "    </tr>\n",
              "    <tr>\n",
              "      <th>B-ORG</th>\n",
              "      <td>9</td>\n",
              "      <td>289</td>\n",
              "      <td>70</td>\n",
              "      <td>5</td>\n",
              "      <td>25</td>\n",
              "      <td>2</td>\n",
              "      <td>2384</td>\n",
              "    </tr>\n",
              "    <tr>\n",
              "      <th>B-PER</th>\n",
              "      <td>15</td>\n",
              "      <td>66</td>\n",
              "      <td>328</td>\n",
              "      <td>4</td>\n",
              "      <td>16</td>\n",
              "      <td>9</td>\n",
              "      <td>1867</td>\n",
              "    </tr>\n",
              "    <tr>\n",
              "      <th>I-LOC</th>\n",
              "      <td>25</td>\n",
              "      <td>29</td>\n",
              "      <td>44</td>\n",
              "      <td>128</td>\n",
              "      <td>25</td>\n",
              "      <td>14</td>\n",
              "      <td>868</td>\n",
              "    </tr>\n",
              "    <tr>\n",
              "      <th>I-ORG</th>\n",
              "      <td>4</td>\n",
              "      <td>58</td>\n",
              "      <td>52</td>\n",
              "      <td>4</td>\n",
              "      <td>221</td>\n",
              "      <td>30</td>\n",
              "      <td>1338</td>\n",
              "    </tr>\n",
              "    <tr>\n",
              "      <th>I-PER</th>\n",
              "      <td>4</td>\n",
              "      <td>34</td>\n",
              "      <td>97</td>\n",
              "      <td>10</td>\n",
              "      <td>74</td>\n",
              "      <td>251</td>\n",
              "      <td>1278</td>\n",
              "    </tr>\n",
              "    <tr>\n",
              "      <th>O</th>\n",
              "      <td>1</td>\n",
              "      <td>53</td>\n",
              "      <td>79</td>\n",
              "      <td>1</td>\n",
              "      <td>34</td>\n",
              "      <td>20</td>\n",
              "      <td>18326</td>\n",
              "    </tr>\n",
              "  </tbody>\n",
              "</table>\n",
              "</div>"
            ],
            "text/plain": [
              "actual_class     B-LOC  B-ORG  B-PER  I-LOC  I-ORG  I-PER      O\n",
              "predicted_class                                                 \n",
              "B-LOC              195     51     50      7     13      0   2033\n",
              "B-ORG                9    289     70      5     25      2   2384\n",
              "B-PER               15     66    328      4     16      9   1867\n",
              "I-LOC               25     29     44    128     25     14    868\n",
              "I-ORG                4     58     52      4    221     30   1338\n",
              "I-PER                4     34     97     10     74    251   1278\n",
              "O                    1     53     79      1     34     20  18326"
            ]
          },
          "metadata": {},
          "execution_count": 41
        }
      ]
    },
    {
      "cell_type": "code",
      "source": [
        "from sklearn.metrics import classification_report\n",
        "pd.DataFrame(classification_report(data_prediction['actual_class'], data_prediction['predicted_class'], labels=['O', 'I-LOC', 'B-ORG', 'I-PER', 'B-PER', 'I-ORG', 'B-LOC'], output_dict=True)).T"
      ],
      "metadata": {
        "colab": {
          "base_uri": "https://localhost:8080/",
          "height": 363
        },
        "id": "txg37RkYBMq9",
        "outputId": "bbfaa2c8-5855-49db-9044-56cf536347b1"
      },
      "execution_count": 42,
      "outputs": [
        {
          "output_type": "execute_result",
          "data": {
            "text/html": [
              "<div>\n",
              "<style scoped>\n",
              "    .dataframe tbody tr th:only-of-type {\n",
              "        vertical-align: middle;\n",
              "    }\n",
              "\n",
              "    .dataframe tbody tr th {\n",
              "        vertical-align: top;\n",
              "    }\n",
              "\n",
              "    .dataframe thead th {\n",
              "        text-align: right;\n",
              "    }\n",
              "</style>\n",
              "<table border=\"1\" class=\"dataframe\">\n",
              "  <thead>\n",
              "    <tr style=\"text-align: right;\">\n",
              "      <th></th>\n",
              "      <th>precision</th>\n",
              "      <th>recall</th>\n",
              "      <th>f1-score</th>\n",
              "      <th>support</th>\n",
              "    </tr>\n",
              "  </thead>\n",
              "  <tbody>\n",
              "    <tr>\n",
              "      <th>O</th>\n",
              "      <td>0.989846</td>\n",
              "      <td>0.652310</td>\n",
              "      <td>0.786389</td>\n",
              "      <td>28094.0000</td>\n",
              "    </tr>\n",
              "    <tr>\n",
              "      <th>I-LOC</th>\n",
              "      <td>0.112974</td>\n",
              "      <td>0.805031</td>\n",
              "      <td>0.198142</td>\n",
              "      <td>159.0000</td>\n",
              "    </tr>\n",
              "    <tr>\n",
              "      <th>B-ORG</th>\n",
              "      <td>0.103807</td>\n",
              "      <td>0.498276</td>\n",
              "      <td>0.171819</td>\n",
              "      <td>580.0000</td>\n",
              "    </tr>\n",
              "    <tr>\n",
              "      <th>I-PER</th>\n",
              "      <td>0.143593</td>\n",
              "      <td>0.769939</td>\n",
              "      <td>0.242044</td>\n",
              "      <td>326.0000</td>\n",
              "    </tr>\n",
              "    <tr>\n",
              "      <th>B-PER</th>\n",
              "      <td>0.142299</td>\n",
              "      <td>0.455556</td>\n",
              "      <td>0.216860</td>\n",
              "      <td>720.0000</td>\n",
              "    </tr>\n",
              "    <tr>\n",
              "      <th>I-ORG</th>\n",
              "      <td>0.129467</td>\n",
              "      <td>0.541667</td>\n",
              "      <td>0.208983</td>\n",
              "      <td>408.0000</td>\n",
              "    </tr>\n",
              "    <tr>\n",
              "      <th>B-LOC</th>\n",
              "      <td>0.083014</td>\n",
              "      <td>0.770751</td>\n",
              "      <td>0.149885</td>\n",
              "      <td>253.0000</td>\n",
              "    </tr>\n",
              "    <tr>\n",
              "      <th>accuracy</th>\n",
              "      <td>0.646300</td>\n",
              "      <td>0.646300</td>\n",
              "      <td>0.646300</td>\n",
              "      <td>0.6463</td>\n",
              "    </tr>\n",
              "    <tr>\n",
              "      <th>macro avg</th>\n",
              "      <td>0.243571</td>\n",
              "      <td>0.641933</td>\n",
              "      <td>0.282017</td>\n",
              "      <td>30540.0000</td>\n",
              "    </tr>\n",
              "    <tr>\n",
              "      <th>weighted avg</th>\n",
              "      <td>0.920432</td>\n",
              "      <td>0.646300</td>\n",
              "      <td>0.739430</td>\n",
              "      <td>30540.0000</td>\n",
              "    </tr>\n",
              "  </tbody>\n",
              "</table>\n",
              "</div>"
            ],
            "text/plain": [
              "              precision    recall  f1-score     support\n",
              "O              0.989846  0.652310  0.786389  28094.0000\n",
              "I-LOC          0.112974  0.805031  0.198142    159.0000\n",
              "B-ORG          0.103807  0.498276  0.171819    580.0000\n",
              "I-PER          0.143593  0.769939  0.242044    326.0000\n",
              "B-PER          0.142299  0.455556  0.216860    720.0000\n",
              "I-ORG          0.129467  0.541667  0.208983    408.0000\n",
              "B-LOC          0.083014  0.770751  0.149885    253.0000\n",
              "accuracy       0.646300  0.646300  0.646300      0.6463\n",
              "macro avg      0.243571  0.641933  0.282017  30540.0000\n",
              "weighted avg   0.920432  0.646300  0.739430  30540.0000"
            ]
          },
          "metadata": {},
          "execution_count": 42
        }
      ]
    },
    {
      "cell_type": "markdown",
      "source": [
        "Bagaimana jika data padding diabaikan saat menghitung confusion matrix?"
      ],
      "metadata": {
        "id": "cmFbwc6z-gEk"
      }
    },
    {
      "cell_type": "code",
      "source": [
        "y_pred_list = y_pred.tolist()\n",
        "y_test_list = y_test.tolist()"
      ],
      "metadata": {
        "id": "ZtKm2GgZ-wRz"
      },
      "execution_count": 43,
      "outputs": []
    },
    {
      "cell_type": "code",
      "source": [
        "# Clean the test and pred data from padding data\n",
        "clean_pred = []\n",
        "clean_test = []\n",
        "for row in range(0, test_tokens.shape[0]):\n",
        "  # print(row, test_tokens[row])\n",
        "  pad_list = []\n",
        "  for i in range(0, len(test_tokens[row])):\n",
        "    if(test_tokens[row][i] == token2idx['ENDPAD']):\n",
        "      pad_list.append(i)\n",
        "\n",
        "  pad_list.sort(reverse=True)\n",
        "  for idx in pad_list:\n",
        "  #   clean_pred[row] = clean_pred[row] + np.delete(y_pred[row], idx)\n",
        "  #   clean_test[row] = clean_test[row] + np.delete(y_test[row], idx)\n",
        "    y_pred_list[row].pop(idx)\n",
        "    y_test_list[row].pop(idx)"
      ],
      "metadata": {
        "id": "Ceei5lBx-6l7"
      },
      "execution_count": 44,
      "outputs": []
    },
    {
      "cell_type": "code",
      "source": [
        "y_test_rows = []\n",
        "y_pred_rows = []\n",
        "for row in range(0, y_test.shape[0]):\n",
        "  # y_pred_list = y_pred_list + y_pred[row]\n",
        "  y_test_rows = np.concatenate((y_test_rows, y_test_list[row]), axis=0)\n",
        "  y_pred_rows = np.concatenate((y_pred_rows, y_pred_list[row]), axis=0)"
      ],
      "metadata": {
        "id": "gCZ5QaxW---v"
      },
      "execution_count": 45,
      "outputs": []
    },
    {
      "cell_type": "code",
      "source": [
        "data_prediction = pd.DataFrame({'actual_class': y_test_rows, 'predicted_class': y_pred_rows})\n",
        "data_prediction['actual_class'] = data_prediction['actual_class'].map(idx2tag)\n",
        "data_prediction['predicted_class'] = data_prediction['predicted_class'].map(idx2tag)\n",
        "data_prediction"
      ],
      "metadata": {
        "colab": {
          "base_uri": "https://localhost:8080/",
          "height": 424
        },
        "id": "YiRWeaZX_KMN",
        "outputId": "d8aec880-abeb-4017-bb8d-410f5cfb9d56"
      },
      "execution_count": 46,
      "outputs": [
        {
          "output_type": "execute_result",
          "data": {
            "text/html": [
              "<div>\n",
              "<style scoped>\n",
              "    .dataframe tbody tr th:only-of-type {\n",
              "        vertical-align: middle;\n",
              "    }\n",
              "\n",
              "    .dataframe tbody tr th {\n",
              "        vertical-align: top;\n",
              "    }\n",
              "\n",
              "    .dataframe thead th {\n",
              "        text-align: right;\n",
              "    }\n",
              "</style>\n",
              "<table border=\"1\" class=\"dataframe\">\n",
              "  <thead>\n",
              "    <tr style=\"text-align: right;\">\n",
              "      <th></th>\n",
              "      <th>actual_class</th>\n",
              "      <th>predicted_class</th>\n",
              "    </tr>\n",
              "  </thead>\n",
              "  <tbody>\n",
              "    <tr>\n",
              "      <th>0</th>\n",
              "      <td>O</td>\n",
              "      <td>B-ORG</td>\n",
              "    </tr>\n",
              "    <tr>\n",
              "      <th>1</th>\n",
              "      <td>O</td>\n",
              "      <td>B-PER</td>\n",
              "    </tr>\n",
              "    <tr>\n",
              "      <th>2</th>\n",
              "      <td>O</td>\n",
              "      <td>O</td>\n",
              "    </tr>\n",
              "    <tr>\n",
              "      <th>3</th>\n",
              "      <td>O</td>\n",
              "      <td>B-PER</td>\n",
              "    </tr>\n",
              "    <tr>\n",
              "      <th>4</th>\n",
              "      <td>O</td>\n",
              "      <td>B-PER</td>\n",
              "    </tr>\n",
              "    <tr>\n",
              "      <th>...</th>\n",
              "      <td>...</td>\n",
              "      <td>...</td>\n",
              "    </tr>\n",
              "    <tr>\n",
              "      <th>17985</th>\n",
              "      <td>O</td>\n",
              "      <td>B-LOC</td>\n",
              "    </tr>\n",
              "    <tr>\n",
              "      <th>17986</th>\n",
              "      <td>O</td>\n",
              "      <td>B-PER</td>\n",
              "    </tr>\n",
              "    <tr>\n",
              "      <th>17987</th>\n",
              "      <td>O</td>\n",
              "      <td>O</td>\n",
              "    </tr>\n",
              "    <tr>\n",
              "      <th>17988</th>\n",
              "      <td>O</td>\n",
              "      <td>B-LOC</td>\n",
              "    </tr>\n",
              "    <tr>\n",
              "      <th>17989</th>\n",
              "      <td>O</td>\n",
              "      <td>O</td>\n",
              "    </tr>\n",
              "  </tbody>\n",
              "</table>\n",
              "<p>17990 rows × 2 columns</p>\n",
              "</div>"
            ],
            "text/plain": [
              "      actual_class predicted_class\n",
              "0                O           B-ORG\n",
              "1                O           B-PER\n",
              "2                O               O\n",
              "3                O           B-PER\n",
              "4                O           B-PER\n",
              "...            ...             ...\n",
              "17985            O           B-LOC\n",
              "17986            O           B-PER\n",
              "17987            O               O\n",
              "17988            O           B-LOC\n",
              "17989            O               O\n",
              "\n",
              "[17990 rows x 2 columns]"
            ]
          },
          "metadata": {},
          "execution_count": 46
        }
      ]
    },
    {
      "cell_type": "code",
      "source": [
        "confusion_matrix = pd.crosstab(data_prediction['predicted_class'], data_prediction['actual_class'])\n",
        "confusion_matrix"
      ],
      "metadata": {
        "colab": {
          "base_uri": "https://localhost:8080/",
          "height": 300
        },
        "id": "4dhCSILe_Pbj",
        "outputId": "bb0ab775-d652-4451-aa2a-9d2adfb31e65"
      },
      "execution_count": 47,
      "outputs": [
        {
          "output_type": "execute_result",
          "data": {
            "text/html": [
              "<div>\n",
              "<style scoped>\n",
              "    .dataframe tbody tr th:only-of-type {\n",
              "        vertical-align: middle;\n",
              "    }\n",
              "\n",
              "    .dataframe tbody tr th {\n",
              "        vertical-align: top;\n",
              "    }\n",
              "\n",
              "    .dataframe thead th {\n",
              "        text-align: right;\n",
              "    }\n",
              "</style>\n",
              "<table border=\"1\" class=\"dataframe\">\n",
              "  <thead>\n",
              "    <tr style=\"text-align: right;\">\n",
              "      <th>actual_class</th>\n",
              "      <th>B-LOC</th>\n",
              "      <th>B-ORG</th>\n",
              "      <th>B-PER</th>\n",
              "      <th>I-LOC</th>\n",
              "      <th>I-ORG</th>\n",
              "      <th>I-PER</th>\n",
              "      <th>O</th>\n",
              "    </tr>\n",
              "    <tr>\n",
              "      <th>predicted_class</th>\n",
              "      <th></th>\n",
              "      <th></th>\n",
              "      <th></th>\n",
              "      <th></th>\n",
              "      <th></th>\n",
              "      <th></th>\n",
              "      <th></th>\n",
              "    </tr>\n",
              "  </thead>\n",
              "  <tbody>\n",
              "    <tr>\n",
              "      <th>B-LOC</th>\n",
              "      <td>195</td>\n",
              "      <td>51</td>\n",
              "      <td>50</td>\n",
              "      <td>7</td>\n",
              "      <td>13</td>\n",
              "      <td>0</td>\n",
              "      <td>2033</td>\n",
              "    </tr>\n",
              "    <tr>\n",
              "      <th>B-ORG</th>\n",
              "      <td>9</td>\n",
              "      <td>289</td>\n",
              "      <td>70</td>\n",
              "      <td>5</td>\n",
              "      <td>25</td>\n",
              "      <td>2</td>\n",
              "      <td>2384</td>\n",
              "    </tr>\n",
              "    <tr>\n",
              "      <th>B-PER</th>\n",
              "      <td>15</td>\n",
              "      <td>66</td>\n",
              "      <td>328</td>\n",
              "      <td>4</td>\n",
              "      <td>16</td>\n",
              "      <td>9</td>\n",
              "      <td>1864</td>\n",
              "    </tr>\n",
              "    <tr>\n",
              "      <th>I-LOC</th>\n",
              "      <td>25</td>\n",
              "      <td>29</td>\n",
              "      <td>44</td>\n",
              "      <td>128</td>\n",
              "      <td>25</td>\n",
              "      <td>14</td>\n",
              "      <td>868</td>\n",
              "    </tr>\n",
              "    <tr>\n",
              "      <th>I-ORG</th>\n",
              "      <td>4</td>\n",
              "      <td>58</td>\n",
              "      <td>52</td>\n",
              "      <td>4</td>\n",
              "      <td>221</td>\n",
              "      <td>30</td>\n",
              "      <td>1338</td>\n",
              "    </tr>\n",
              "    <tr>\n",
              "      <th>I-PER</th>\n",
              "      <td>4</td>\n",
              "      <td>34</td>\n",
              "      <td>97</td>\n",
              "      <td>10</td>\n",
              "      <td>74</td>\n",
              "      <td>251</td>\n",
              "      <td>1278</td>\n",
              "    </tr>\n",
              "    <tr>\n",
              "      <th>O</th>\n",
              "      <td>1</td>\n",
              "      <td>53</td>\n",
              "      <td>79</td>\n",
              "      <td>1</td>\n",
              "      <td>34</td>\n",
              "      <td>20</td>\n",
              "      <td>5779</td>\n",
              "    </tr>\n",
              "  </tbody>\n",
              "</table>\n",
              "</div>"
            ],
            "text/plain": [
              "actual_class     B-LOC  B-ORG  B-PER  I-LOC  I-ORG  I-PER     O\n",
              "predicted_class                                                \n",
              "B-LOC              195     51     50      7     13      0  2033\n",
              "B-ORG                9    289     70      5     25      2  2384\n",
              "B-PER               15     66    328      4     16      9  1864\n",
              "I-LOC               25     29     44    128     25     14   868\n",
              "I-ORG                4     58     52      4    221     30  1338\n",
              "I-PER                4     34     97     10     74    251  1278\n",
              "O                    1     53     79      1     34     20  5779"
            ]
          },
          "metadata": {},
          "execution_count": 47
        }
      ]
    },
    {
      "cell_type": "code",
      "source": [
        "pd.DataFrame(classification_report(data_prediction['actual_class'], data_prediction['predicted_class'], labels=['O', 'I-LOC', 'B-ORG', 'I-PER', 'B-PER', 'I-ORG', 'B-LOC'], output_dict=True)).T"
      ],
      "metadata": {
        "colab": {
          "base_uri": "https://localhost:8080/",
          "height": 363
        },
        "id": "bFITKrHM_TBV",
        "outputId": "50fc0286-0f9e-40b6-bc28-b9ffef030bb6"
      },
      "execution_count": 48,
      "outputs": [
        {
          "output_type": "execute_result",
          "data": {
            "text/html": [
              "<div>\n",
              "<style scoped>\n",
              "    .dataframe tbody tr th:only-of-type {\n",
              "        vertical-align: middle;\n",
              "    }\n",
              "\n",
              "    .dataframe tbody tr th {\n",
              "        vertical-align: top;\n",
              "    }\n",
              "\n",
              "    .dataframe thead th {\n",
              "        text-align: right;\n",
              "    }\n",
              "</style>\n",
              "<table border=\"1\" class=\"dataframe\">\n",
              "  <thead>\n",
              "    <tr style=\"text-align: right;\">\n",
              "      <th></th>\n",
              "      <th>precision</th>\n",
              "      <th>recall</th>\n",
              "      <th>f1-score</th>\n",
              "      <th>support</th>\n",
              "    </tr>\n",
              "  </thead>\n",
              "  <tbody>\n",
              "    <tr>\n",
              "      <th>O</th>\n",
              "      <td>0.968493</td>\n",
              "      <td>0.371783</td>\n",
              "      <td>0.537306</td>\n",
              "      <td>15544.000000</td>\n",
              "    </tr>\n",
              "    <tr>\n",
              "      <th>I-LOC</th>\n",
              "      <td>0.112974</td>\n",
              "      <td>0.805031</td>\n",
              "      <td>0.198142</td>\n",
              "      <td>159.000000</td>\n",
              "    </tr>\n",
              "    <tr>\n",
              "      <th>B-ORG</th>\n",
              "      <td>0.103807</td>\n",
              "      <td>0.498276</td>\n",
              "      <td>0.171819</td>\n",
              "      <td>580.000000</td>\n",
              "    </tr>\n",
              "    <tr>\n",
              "      <th>I-PER</th>\n",
              "      <td>0.143593</td>\n",
              "      <td>0.769939</td>\n",
              "      <td>0.242044</td>\n",
              "      <td>326.000000</td>\n",
              "    </tr>\n",
              "    <tr>\n",
              "      <th>B-PER</th>\n",
              "      <td>0.142485</td>\n",
              "      <td>0.455556</td>\n",
              "      <td>0.217075</td>\n",
              "      <td>720.000000</td>\n",
              "    </tr>\n",
              "    <tr>\n",
              "      <th>I-ORG</th>\n",
              "      <td>0.129467</td>\n",
              "      <td>0.541667</td>\n",
              "      <td>0.208983</td>\n",
              "      <td>408.000000</td>\n",
              "    </tr>\n",
              "    <tr>\n",
              "      <th>B-LOC</th>\n",
              "      <td>0.083014</td>\n",
              "      <td>0.770751</td>\n",
              "      <td>0.149885</td>\n",
              "      <td>253.000000</td>\n",
              "    </tr>\n",
              "    <tr>\n",
              "      <th>accuracy</th>\n",
              "      <td>0.399722</td>\n",
              "      <td>0.399722</td>\n",
              "      <td>0.399722</td>\n",
              "      <td>0.399722</td>\n",
              "    </tr>\n",
              "    <tr>\n",
              "      <th>macro avg</th>\n",
              "      <td>0.240548</td>\n",
              "      <td>0.601857</td>\n",
              "      <td>0.246465</td>\n",
              "      <td>17990.000000</td>\n",
              "    </tr>\n",
              "    <tr>\n",
              "      <th>weighted avg</th>\n",
              "      <td>0.853566</td>\n",
              "      <td>0.399722</td>\n",
              "      <td>0.491464</td>\n",
              "      <td>17990.000000</td>\n",
              "    </tr>\n",
              "  </tbody>\n",
              "</table>\n",
              "</div>"
            ],
            "text/plain": [
              "              precision    recall  f1-score       support\n",
              "O              0.968493  0.371783  0.537306  15544.000000\n",
              "I-LOC          0.112974  0.805031  0.198142    159.000000\n",
              "B-ORG          0.103807  0.498276  0.171819    580.000000\n",
              "I-PER          0.143593  0.769939  0.242044    326.000000\n",
              "B-PER          0.142485  0.455556  0.217075    720.000000\n",
              "I-ORG          0.129467  0.541667  0.208983    408.000000\n",
              "B-LOC          0.083014  0.770751  0.149885    253.000000\n",
              "accuracy       0.399722  0.399722  0.399722      0.399722\n",
              "macro avg      0.240548  0.601857  0.246465  17990.000000\n",
              "weighted avg   0.853566  0.399722  0.491464  17990.000000"
            ]
          },
          "metadata": {},
          "execution_count": 48
        }
      ]
    }
  ]
}